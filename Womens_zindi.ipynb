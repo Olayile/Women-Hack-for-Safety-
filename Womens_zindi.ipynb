{
 "metadata": {
  "language_info": {
   "codemirror_mode": {
    "name": "ipython",
    "version": 3
   },
   "file_extension": ".py",
   "mimetype": "text/x-python",
   "name": "python",
   "nbconvert_exporter": "python",
   "pygments_lexer": "ipython3",
   "version": "3.7.4-final"
  },
  "orig_nbformat": 2,
  "kernelspec": {
   "name": "python3",
   "display_name": "Python 3.7.4 64-bit",
   "metadata": {
    "interpreter": {
     "hash": "e534e48711db4d1e1c48977d0d14ff85b1f16d41bcc4fdfd88268a329b3c9d66"
    }
   }
  }
 },
 "nbformat": 4,
 "nbformat_minor": 2,
 "cells": [
  {
   "cell_type": "code",
   "execution_count": 106,
   "metadata": {},
   "outputs": [],
   "source": [
    "import pandas as pd\n",
    "import seaborn as sns\n",
    "\n",
    "from sklearn.model_selection import train_test_split\n",
    "from sklearn.linear_model import LogisticRegression\n",
    "from sklearn.ensemble import RandomForestClassifier\n",
    "from sklearn.metrics import accuracy_score,  mean_squared_error, f1_score, roc_auc_score\n",
    "from sklearn.preprocessing import OneHotEncoder\n",
    "ohe = OneHotEncoder()\n",
    "from sklearn.preprocessing import LabelEncoder\n",
    "\n",
    "import numpy as np\n",
    "import pandas as pd\n",
    "from sklearn import preprocessing\n",
    "from sklearn.model_selection import train_test_split\n",
    "from sklearn.linear_model import LogisticRegression\n",
    "from sklearn.metrics import accuracy_score\n",
    "from sklearn.preprocessing import LabelEncoder\n",
    "from sklearn.preprocessing import MinMaxScaler\n",
    "from sklearn.metrics import roc_auc_score\n",
    "from sklearn.metrics import recall_score\n",
    "from sklearn.metrics import precision_score\n",
    "from sklearn.metrics import f1_score\n",
    "from sklearn.preprocessing import StandardScaler\n",
    "import delayed"
   ]
  },
  {
   "cell_type": "code",
   "execution_count": 107,
   "metadata": {},
   "outputs": [],
   "source": [
    "from imblearn.over_sampling import SMOTE"
   ]
  },
  {
   "cell_type": "code",
   "execution_count": 243,
   "metadata": {},
   "outputs": [],
   "source": [
    "train_df = pd.read_csv(\"Train.csv\")\n",
    "test_df = pd.read_csv(\"Test.csv\")\n"
   ]
  },
  {
   "cell_type": "code",
   "execution_count": 109,
   "metadata": {},
   "outputs": [],
   "source": [
    "sub_df = pd.read_csv('SampleSubmission (3).csv')\n"
   ]
  },
  {
   "cell_type": "code",
   "execution_count": 5,
   "metadata": {},
   "outputs": [
    {
     "output_type": "execute_result",
     "data": {
      "text/plain": [
       "(7736, 21)"
      ]
     },
     "metadata": {},
     "execution_count": 5
    }
   ],
   "source": [
    "train_df.shape"
   ]
  },
  {
   "cell_type": "code",
   "execution_count": 110,
   "metadata": {},
   "outputs": [
    {
     "output_type": "stream",
     "name": "stdout",
     "text": [
      "\n\nID 7736\nID ['ID_00008683' 'ID_00061163' 'ID_00071403' ... 'ID_99981803' 'ID_99983083'\n 'ID_99985643']\n\n\ngender 1\ngender ['Female']\n\n\nage 85\nage [ 20  42  86  26  45  21  75  23  17  33  52  78  34  79  41  66  64  43\n  29  61  47  59  22  19  46  25  28  54  49  40  69  57  51  81  60  31\n  39  48  63  27  36  30  76  53  88  18  38  32  65  73  35  24  37  70\n  55  50  56  74  67  89  44  58  62  16  77  68  80  72  83  71  84  85\n  90  82  87  98  92  91  96  93  95  94  99  97 102]\n\n\nrace 4\nrace ['Black African' 'Indian/Asian' 'White' 'Coloured']\n\n\ndwelling 13\ndwelling ['Dwelling/house or brick/concrete block structure on a separate stand or yard or farm'\n 'Town house (semi-detached house in complex)'\n 'Room/flat let on a property or a larger dwelling/servants quarters/granny flat'\n 'Informal dwelling/shack in backyard'\n 'Flat or apartment in a block of flats'\n 'Traditional dwelling/hut/structure made of traditional materials'\n 'Dwelling/house/flat/room in backyard'\n 'Informal dwelling/shack not in backyard, e.g in an informal/squatter settlement or on a farm.'\n 'Unspecified' 'Cluster house in complex' 'Other (specify)'\n 'Semi-Detached house' 'Caravan/tent']\n\n\ndwelling_type 3\ndwelling_type ['Formal' 'Informal' 'Unspecified']\n\n\nprovince_code 9\nprovince_code ['North West' 'Limpopo' 'Eastern Cape' 'KwaZulu-Natal' 'Gauteng'\n 'Free State' 'Mpumalanga' 'Western Cape' 'Northern Cape']\n\n\nmetro_code 17\nmetro_code ['NW - Non Metro' 'LP - Non Metro' 'EC - Non Metro' 'KZN - eThekwini'\n 'GP - City of Johannesburg' 'KZN - Non Metro' 'GP - Ekurhuleni'\n 'FS - Mangaung' 'MP - Non Metro' 'WC - City of Cape Town'\n 'GP - Non Metro' 'EC - Nelson Mandela Bay' 'GP - City of Tshwane'\n 'WC - Non Metro' 'NC - Non Metro' 'FS - Non Metro' 'EC - Buffalo City']\n\n\npsu 2877\npsu [66710095 98510279 29210321 ... 79914729 59913019 86810088]\n\n\nnationality 3\nnationality ['South Africa' 'Other' 'Unspecified']\n\n\nRTH 10\nRTH ['Son/daughter/stepchild/adopted child of person 01'\n 'Other relative (e.g. in-laws or aunt/uncle) of person 01'\n 'Father/mother/stepfather/stepmother of person 01' 'Head/acting head'\n 'Husband/wife/partner of person 01'\n 'Brother/sister/stepbrother/stepsister of person 01'\n 'Grandchild/great grandchild of person 01' 'Non-related persons'\n 'Grandparent/great grandparent of person 01' 'Unspecified']\n\n\nmarital_st 8\nmarital_st ['Single and have never been married/never lived together as husband/wife before'\n 'Living together like husband and wife' 'Widowed' 'Married' 'Divorced'\n 'Single; but have been living together with someone as husband/wife before'\n 'Separated; but still legally married' 'Unspecified']\n\n\nLang_inside 15\nLang_inside ['Xitsonga' 'Sepedi' 'IsiXhosa' 'IsiZulu' 'Setswana' 'English' 'Tshivenda'\n 'Other (Specify )' 'Sesotho' 'SiSwati' 'Afrikaans' 'IsiNdebele'\n 'Khoi, Nama and San languages' 'Unspecified' 'Sign language']\n\n\nLang_outside 14\nLang_outside ['Setswana' 'Sepedi' 'IsiXhosa' 'IsiZulu' 'English' 'Tshivenda'\n 'IsiNdebele' 'Sesotho' 'SiSwati' 'Afrikaans' 'Xitsonga' 'Unspecified'\n 'Other (Specify )' 'Khoi, Nama and San languages']\n\n\nEducation 33\nEducation ['Grade 11/Standard 9/Form 4'\n 'Grade 12/Standard 10/Form 5/Matric (No Exemption)' 'Unspecified'\n 'Bachelor�s Degree' 'Grade 1/Sub A/Class 1' 'Grade 8/Standard 6/Form 1'\n 'Grade 12/Standard 10/Form 5/Matric (Exemption *)'\n 'Diploma with Grade 12/Std 10' 'Grade 10/Standard 8/Form 3'\n 'Grade 2/Sub B/Class 2' 'Grade 7/Standard 5/AET 3'\n 'Grade 3/Standard 1/AET 1 (Kha Ri Gude; Sanli)' 'NTC 3/N3/NC (V)/Level 4'\n 'Grade 5/Standard 3/AET 2' 'Grade 6/Standard 4'\n 'Grade 9/Standard 7/Form 2/AET 4'\n \"Post-Higher Diploma (Technikon/University of Technology; Master's; Doctoral)\"\n 'Grade R/0' 'Certificate with Grade 12/Std 10' 'Do not know'\n 'Grade 4/Standard 2' 'N5/NTC 5'\n 'Higher Diploma (Technikon/University of Technology)' 'N4/NTC 4'\n 'Diploma with less than Grade 12/Std 10' 'Honours Degree'\n 'Bachelor�s Degree and post-graduate diploma'\n \"Higher degree (Master's; Doctorate)\" 'Other' 'N6/NTC 6'\n 'NTC 2/N2/NC (V)/Level 3' 'Certificate with less than Grade 12/Std 10'\n 'NTC 1/N1/NC (V) /Level 2']\n\n\nlw_work 4\nlw_work ['No' 'Yes' 'Unspecified' 'Do not know']\n\n\nlw_business 4\nlw_business ['No' 'Yes' 'Unspecified' 'Do not know']\n\n\nhelp_on_household 4\nhelp_on_household ['No' 'Unspecified' 'Yes' 'Do not know']\n\n\njob_or_business 5\njob_or_business ['No' 'Not applicable' 'Yes' 'Unspecified' 'Do not know']\n\n\nnature_of_work 8\nnature_of_work ['Not applicable' 'Permanent' 'Unspecified' 'A fixed period contract'\n 'Temporary' 'Casual' 'Seasonal' 'Do not know']\n\n\ntarget 2\ntarget [0 1]\n"
     ]
    }
   ],
   "source": [
    "for i in train_df.columns:\n",
    "  \n",
    "  print('\\n')\n",
    "  \n",
    "  print(i,train_df[i].nunique())\n",
    "\n",
    "  print(i,train_df[i].unique())"
   ]
  },
  {
   "cell_type": "code",
   "execution_count": 112,
   "metadata": {},
   "outputs": [
    {
     "output_type": "execute_result",
     "data": {
      "text/plain": [
       "['ID',\n",
       " 'gender',\n",
       " 'race',\n",
       " 'dwelling',\n",
       " 'dwelling_type',\n",
       " 'province_code',\n",
       " 'metro_code',\n",
       " 'nationality',\n",
       " 'RTH',\n",
       " 'marital_st',\n",
       " 'Lang_inside',\n",
       " 'Lang_outside',\n",
       " 'Education',\n",
       " 'lw_work',\n",
       " 'lw_business',\n",
       " 'help_on_household',\n",
       " 'job_or_business',\n",
       " 'nature_of_work']"
      ]
     },
     "metadata": {},
     "execution_count": 112
    }
   ],
   "source": [
    "selected_col = train_df.select_dtypes(include='object').columns.to_list()\n",
    "\n",
    "\n",
    "no_info = ['Not applicable', 'Unspecified', 'Do not know']\n",
    "\n",
    "selected_col"
   ]
  },
  {
   "cell_type": "code",
   "execution_count": 113,
   "metadata": {},
   "outputs": [
    {
     "output_type": "stream",
     "name": "stdout",
     "text": [
      "Answers with 'Not applicable', 'Unspecified', 'Do not know'\nID : 0\ngender : 0\nrace : 0\ndwelling : 98\ndwelling_type : 108\nprovince_code : 0\nmetro_code : 0\nnationality : 81\nRTH : 1\nmarital_st : 16\nLang_inside : 33\nLang_outside : 33\nEducation : 551\nlw_work : 12\nlw_business : 12\nhelp_on_household : 26\njob_or_business : 3209\nnature_of_work : 4687\n7736\n"
     ]
    }
   ],
   "source": [
    "print(\"Answers with 'Not applicable', 'Unspecified', 'Do not know'\")\n",
    "for col in selected_col:\n",
    "\n",
    "    print(col, ':', len(train_df[train_df[col].isin(no_info)]))\n",
    "print(len(train_df))"
   ]
  },
  {
   "source": [
    "- add unspecified, not applicable and do not know together\n",
    "- what to do with unspecified values"
   ],
   "cell_type": "markdown",
   "metadata": {}
  },
  {
   "cell_type": "code",
   "execution_count": 114,
   "metadata": {},
   "outputs": [
    {
     "output_type": "execute_result",
     "data": {
      "text/plain": [
       "target    1.000000\n",
       "psu      -0.046302\n",
       "age      -0.085340\n",
       "Name: target, dtype: float64"
      ]
     },
     "metadata": {},
     "execution_count": 114
    }
   ],
   "source": [
    "corr = train_df.corr()\n",
    "corr.sort_values(['target'], ascending = False, inplace = True)\n",
    "corr['target'].head()"
   ]
  },
  {
   "cell_type": "code",
   "execution_count": null,
   "metadata": {},
   "outputs": [],
   "source": [
    "train_df.dtypes"
   ]
  },
  {
   "cell_type": "code",
   "execution_count": 115,
   "metadata": {},
   "outputs": [
    {
     "output_type": "execute_result",
     "data": {
      "text/plain": [
       "['ID',\n",
       " 'gender',\n",
       " 'race',\n",
       " 'dwelling',\n",
       " 'dwelling_type',\n",
       " 'province_code',\n",
       " 'metro_code',\n",
       " 'nationality',\n",
       " 'RTH',\n",
       " 'marital_st',\n",
       " 'Lang_inside',\n",
       " 'Lang_outside',\n",
       " 'Education',\n",
       " 'lw_work',\n",
       " 'lw_business',\n",
       " 'help_on_household',\n",
       " 'job_or_business',\n",
       " 'nature_of_work']"
      ]
     },
     "metadata": {},
     "execution_count": 115
    }
   ],
   "source": [
    "# Categorical columns\n",
    "\n",
    "selected_col = train_df.select_dtypes(include='object').columns.to_list()\n",
    "selected_col"
   ]
  },
  {
   "cell_type": "code",
   "execution_count": 116,
   "metadata": {},
   "outputs": [],
   "source": [
    "data = pd.concat([train_df, test_df])"
   ]
  },
  {
   "cell_type": "code",
   "execution_count": 117,
   "metadata": {},
   "outputs": [],
   "source": [
    "# Change to no_info\n",
    "data.replace(no_info, 'no info', inplace = True)\n",
    "\n"
   ]
  },
  {
   "cell_type": "code",
   "execution_count": 119,
   "metadata": {},
   "outputs": [],
   "source": [
    "\n",
    "replace_colums=['dwelling',\n",
    " 'dwelling_type',\n",
    " 'nationality',\n",
    " 'RTH',\n",
    " 'marital_st',\n",
    " 'Lang_inside',\n",
    " 'Lang_outside',\n",
    " 'lw_work',\n",
    " 'help_on_household']\n",
    "\n",
    "for column in replace_colums:\n",
    "     data[column].replace(no_info, data[column].mode()[0], inplace = True)"
   ]
  },
  {
   "cell_type": "code",
   "execution_count": 121,
   "metadata": {},
   "outputs": [
    {
     "output_type": "stream",
     "name": "stdout",
     "text": [
      "Answers with 'Not applicable', 'Unspecified', 'Do not know'\nID : 0\ngender : 0\nrace : 0\ndwelling : 0\ndwelling_type : 0\nprovince_code : 0\nmetro_code : 0\nnationality : 0\nRTH : 0\nmarital_st : 0\nLang_inside : 0\nLang_outside : 0\nEducation : 0\nlw_work : 0\nlw_business : 0\nhelp_on_household : 0\njob_or_business : 0\nnature_of_work : 0\n11052\n"
     ]
    }
   ],
   "source": [
    "print(\"Answers with 'Not applicable', 'Unspecified', 'Do not know'\")\n",
    "for col in selected_col:\n",
    "\n",
    "    print(col, ':', len(data[data[col].isin(no_info)]))\n",
    "print(len(data))"
   ]
  },
  {
   "cell_type": "code",
   "execution_count": 122,
   "metadata": {},
   "outputs": [
    {
     "output_type": "execute_result",
     "data": {
      "text/plain": [
       "['gender',\n",
       " 'race',\n",
       " 'dwelling',\n",
       " 'dwelling_type',\n",
       " 'province_code',\n",
       " 'metro_code',\n",
       " 'nationality',\n",
       " 'RTH',\n",
       " 'marital_st',\n",
       " 'Lang_inside',\n",
       " 'Lang_outside',\n",
       " 'Education',\n",
       " 'lw_work',\n",
       " 'lw_business',\n",
       " 'help_on_household',\n",
       " 'job_or_business',\n",
       " 'nature_of_work']"
      ]
     },
     "metadata": {},
     "execution_count": 122
    }
   ],
   "source": [
    "selected_col.pop(0)\n",
    "selected_col"
   ]
  },
  {
   "cell_type": "code",
   "execution_count": 123,
   "metadata": {},
   "outputs": [],
   "source": [
    "\n",
    "data = pd.get_dummies(data, columns = selected_col)"
   ]
  },
  {
   "cell_type": "code",
   "execution_count": 124,
   "metadata": {},
   "outputs": [],
   "source": [
    "data.drop(['gender_Female'], axis=1, inplace = True)"
   ]
  },
  {
   "cell_type": "code",
   "execution_count": 125,
   "metadata": {},
   "outputs": [],
   "source": [
    "# SPLIT\n",
    "\n",
    "train = data[:len(train_df)]\n",
    "test = data[len(train_df):]"
   ]
  },
  {
   "cell_type": "code",
   "execution_count": 126,
   "metadata": {},
   "outputs": [
    {
     "output_type": "stream",
     "name": "stderr",
     "text": [
      "/Library/Frameworks/Python.framework/Versions/3.7/lib/python3.7/site-packages/pandas/core/frame.py:3997: SettingWithCopyWarning: \nA value is trying to be set on a copy of a slice from a DataFrame\n\nSee the caveats in the documentation: https://pandas.pydata.org/pandas-docs/stable/user_guide/indexing.html#returning-a-view-versus-a-copy\n  errors=errors,\n"
     ]
    }
   ],
   "source": [
    "test.drop(['target'], axis=1, inplace = True)\n"
   ]
  },
  {
   "cell_type": "code",
   "execution_count": 127,
   "metadata": {},
   "outputs": [],
   "source": [
    "test.drop(['ID'], axis=1, inplace = True)"
   ]
  },
  {
   "cell_type": "code",
   "execution_count": 128,
   "metadata": {},
   "outputs": [],
   "source": [
    "SEED = 42\n",
    "\n",
    "X_train, X_test, y_train, y_test = train_test_split(\n",
    "    train.drop(['ID', 'target'], axis=1),\n",
    "    train['target'],\n",
    "    test_size=0.3,\n",
    "    random_state=SEED)"
   ]
  },
  {
   "cell_type": "code",
   "execution_count": 129,
   "metadata": {},
   "outputs": [],
   "source": [
    "col_names = X_train.columns"
   ]
  },
  {
   "cell_type": "code",
   "execution_count": 130,
   "metadata": {},
   "outputs": [
    {
     "output_type": "execute_result",
     "data": {
      "text/plain": [
       "Index(['age', 'psu', 'race_Black African', 'race_Coloured',\n",
       "       'race_Indian/Asian', 'race_White', 'dwelling_Caravan/tent',\n",
       "       'dwelling_Cluster house in complex',\n",
       "       'dwelling_Dwelling/house or brick/concrete block structure on a separate stand or yard or farm',\n",
       "       'dwelling_Dwelling/house/flat/room in backyard',\n",
       "       ...\n",
       "       'help_on_household_no info', 'job_or_business_No',\n",
       "       'job_or_business_Yes', 'job_or_business_no info',\n",
       "       'nature_of_work_A fixed period contract', 'nature_of_work_Casual',\n",
       "       'nature_of_work_Permanent', 'nature_of_work_Seasonal',\n",
       "       'nature_of_work_Temporary', 'nature_of_work_no info'],\n",
       "      dtype='object', length=148)"
      ]
     },
     "metadata": {},
     "execution_count": 130
    }
   ],
   "source": [
    "col_names"
   ]
  },
  {
   "cell_type": "code",
   "execution_count": 131,
   "metadata": {},
   "outputs": [],
   "source": [
    "scaler = StandardScaler()\n",
    "scaler.fit(X_train)\n",
    "X_train_std = scaler.transform(X_train)\n",
    "X_test_std = scaler.transform(X_test)\n",
    "X_test_eg_std = scaler.transform(test)\n",
    "target = train['target']"
   ]
  },
  {
   "cell_type": "code",
   "execution_count": 132,
   "metadata": {},
   "outputs": [],
   "source": [
    "X_train_std_df = pd.DataFrame(X_train_std, columns=col_names)\n",
    "X_test_std_df = pd.DataFrame(X_test_std, columns=col_names)\n",
    "X_test_eg_std_df = pd.DataFrame(X_test_eg_std, columns=col_names)"
   ]
  },
  {
   "cell_type": "code",
   "execution_count": 65,
   "metadata": {},
   "outputs": [],
   "source": [
    "# Features = [c for c in train.columns if c not in ['ID', 'target']]\n",
    "# target = train['target']\n",
    "\n",
    "# min_max_scaler = MinMaxScaler()\n",
    "# x = min_max_scaler.fit_transform(train[Features])\n",
    "# x_test = min_max_scaler.fit_transform(test[Features])"
   ]
  },
  {
   "cell_type": "code",
   "execution_count": 133,
   "metadata": {},
   "outputs": [],
   "source": [
    "from sklearn.model_selection import train_test_split\n",
    "from sklearn.pipeline import Pipeline\n",
    "\n",
    "from sklearn.preprocessing import RobustScaler\n",
    "from imblearn.over_sampling import SMOTE\n",
    "from sklearn.model_selection import cross_val_score\n",
    "from sklearn.metrics import roc_auc_score\n",
    "from sklearn.metrics import roc_curve\n",
    "from sklearn.metrics import recall_score\n",
    "from sklearn.metrics import classification_report\n",
    "from sklearn.metrics import confusion_matrix\n",
    "from sklearn.model_selection import GridSearchCV\n",
    "from sklearn.ensemble import GradientBoostingClassifier\n",
    "from sklearn.linear_model import LogisticRegression\n",
    "from sklearn.ensemble import RandomForestClassifier\n",
    "from sklearn.neighbors import KNeighborsClassifier\n",
    "from sklearn.naive_bayes import GaussianNB\n",
    "from sklearn import svm\n",
    "from imblearn.pipeline import make_pipeline "
   ]
  },
  {
   "cell_type": "code",
   "execution_count": 89,
   "metadata": {},
   "outputs": [
    {
     "output_type": "stream",
     "name": "stdout",
     "text": [
      "[0. 0. 0. 0. 0.]\n",
      "log_reg: Avg CV recall using all features on training data: 0.0\n",
      "log_reg: Recall w/all features on test data 0.0:\n",
      "              precision    recall  f1-score   support\n",
      "\n",
      "         0.0       0.92      1.00      0.96      2129\n",
      "         1.0       0.00      0.00      0.00       192\n",
      "\n",
      "    accuracy                           0.92      2321\n",
      "   macro avg       0.46      0.50      0.48      2321\n",
      "weighted avg       0.84      0.92      0.88      2321\n",
      "\n",
      "[[2126    3]\n",
      " [ 192    0]]\n",
      "-------------------------------------------------------\n",
      "[0.         0.01204819 0.01204819 0.         0.        ]\n",
      "rf_classifer: Avg CV recall using all features on training data: 0.0048\n",
      "rf_classifer: Recall w/all features on test data 0.0052:\n",
      "              precision    recall  f1-score   support\n",
      "\n",
      "         0.0       0.92      1.00      0.96      2129\n",
      "         1.0       0.14      0.01      0.01       192\n",
      "\n",
      "    accuracy                           0.92      2321\n",
      "   macro avg       0.53      0.50      0.48      2321\n",
      "weighted avg       0.85      0.92      0.88      2321\n",
      "\n",
      "[[2123    6]\n",
      " [ 191    1]]\n",
      "-------------------------------------------------------\n",
      "[0.91566265 0.97590361 0.91566265 0.96341463 0.93902439]\n",
      "bayes: Avg CV recall using all features on training data: 0.9419\n",
      "bayes: Recall w/all features on test data 0.9531:\n",
      "              precision    recall  f1-score   support\n",
      "\n",
      "         0.0       0.95      0.07      0.14      2129\n",
      "         1.0       0.08      0.95      0.16       192\n",
      "\n",
      "    accuracy                           0.15      2321\n",
      "   macro avg       0.52      0.51      0.15      2321\n",
      "weighted avg       0.87      0.15      0.14      2321\n",
      "\n",
      "[[ 157 1972]\n",
      " [   9  183]]\n",
      "-------------------------------------------------------\n",
      "[0.02409639 0.01204819 0.         0.01219512 0.01219512]\n",
      "gbc: Avg CV recall using all features on training data: 0.0121\n",
      "gbc: Recall w/all features on test data 0.0:\n",
      "              precision    recall  f1-score   support\n",
      "\n",
      "         0.0       0.92      1.00      0.96      2129\n",
      "         1.0       0.00      0.00      0.00       192\n",
      "\n",
      "    accuracy                           0.92      2321\n",
      "   macro avg       0.46      0.50      0.48      2321\n",
      "weighted avg       0.84      0.92      0.88      2321\n",
      "\n",
      "[[2124    5]\n",
      " [ 192    0]]\n",
      "-------------------------------------------------------\n"
     ]
    }
   ],
   "source": [
    "models = []\n",
    "models.append(('log_reg', LogisticRegression(max_iter=10000, random_state=42)))\n",
    "models.append(('rf_classifer', RandomForestClassifier(random_state=42)))\n",
    "models.append(('bayes', GaussianNB()))\n",
    "models.append(('gbc', GradientBoostingClassifier()))\n",
    "base_model_train = []\n",
    "base_model_test = []\n",
    "for name, classifier in models:\n",
    "    scores = cross_val_score(classifier, X_train_std_df, y_train, cv=5, scoring='recall')\n",
    "    base_model_train.append(scores.mean().round(4))\n",
    "    print(scores)\n",
    "    print('{}: Avg CV recall using all features on training data: {}'.format(name, scores.mean().round(4)))\n",
    "    \n",
    "    classifier.fit(X_train_std_df, y_train)\n",
    "    y_preds = classifier.predict(X_test_std_df)\n",
    "    test_recall = recall_score(y_test, y_preds, average='binary')\n",
    "    test_class = classification_report(y_test, y_preds)\n",
    "    cnf_matrix = confusion_matrix(y_test, y_preds)\n",
    "    base_model_test.append(test_recall.round(4))\n",
    "    print('{}: Recall w/all features on test data {}:'.format(name, test_recall.round(4)))\n",
    "    print(test_class)\n",
    "    print(cnf_matrix)\n",
    "    print('-------------------------------------------------------')"
   ]
  },
  {
   "cell_type": "code",
   "execution_count": 134,
   "metadata": {},
   "outputs": [],
   "source": [
    "\n",
    "sm = SMOTE(sampling_strategy='auto', k_neighbors=5, random_state=42)\n",
    "X_train_std_sm, y_train_sm = sm.fit_resample(X_train_std_df, y_train)\n",
    "\n",
    "model1_train = []\n",
    "model1_test = []\n",
    "\n",
    "classifier = GradientBoostingClassifier()\n",
    "\n",
    "classifier.fit(X_train_std_sm, y_train_sm)\n",
    "\n",
    "y_preds_gbc = classifier.predict_proba(X_test_eg_std_df)\n"
   ]
  },
  {
   "cell_type": "code",
   "execution_count": 135,
   "metadata": {},
   "outputs": [],
   "source": [
    "sm = SMOTE(sampling_strategy='auto', k_neighbors=5, random_state=42)\n",
    "X_train_std_sm, y_train_sm = sm.fit_resample(X_train_std_df, y_train)\n",
    "\n",
    "model1_train = []\n",
    "model1_test = []\n",
    "\n",
    "classifier= GaussianNB()\n",
    "classifier.fit(X_train_std_sm, y_train_sm)\n",
    "\n",
    "y_preds_gnb = classifier.predict_proba(X_test_eg_std_df)"
   ]
  },
  {
   "cell_type": "code",
   "execution_count": 136,
   "metadata": {},
   "outputs": [],
   "source": [
    "sub_df['target'] = y_preds_gnb[:,1]\n",
    "sub_df.to_csv('submission_gnb.csv', index = False)"
   ]
  },
  {
   "cell_type": "code",
   "execution_count": 137,
   "metadata": {},
   "outputs": [],
   "source": [
    "sub_df['target'] = y_preds_gbc[:,1]\n",
    "sub_df.to_csv('submission_gbc.csv', index = False)"
   ]
  },
  {
   "cell_type": "code",
   "execution_count": 138,
   "metadata": {},
   "outputs": [],
   "source": [
    "models = []\n",
    "models.append(('log_reg', LogisticRegression(max_iter=10000, random_state=42)))\n",
    "models.append(('rf_classifer', RandomForestClassifier(random_state=42)))\n",
    "models.append(('bayes', GaussianNB()))\n",
    "models.append(('gbc', GradientBoostingClassifier()))\n",
    "\n",
    "models_x = []\n",
    "models.append(('log_reg', LogisticRegression(max_iter=10000, random_state=42)))\n",
    "\n",
    "sm = SMOTE(sampling_strategy='auto', k_neighbors=5, random_state=42)\n",
    "X_train_std_sm, y_train_sm = sm.fit_resample(X_train_std_df, y_train)\n",
    "\n",
    "model1_train = []\n",
    "model1_test = []\n",
    "classifier = LogisticRegression(max_iter=10000, random_state=42)\n",
    "pipeline = make_pipeline(sm, LogisticRegression(max_iter=10000, random_state=42))\n",
    "classifier.fit(X_train_std_sm, y_train_sm)\n",
    "\n",
    "y_preds = classifier.predict_proba(X_test_eg_std_df)\n",
    "\n"
   ]
  },
  {
   "cell_type": "code",
   "execution_count": null,
   "metadata": {},
   "outputs": [],
   "source": [
    "models = []\n",
    "models.append(('log_reg', LogisticRegression(max_iter=10000, random_state=42)))\n",
    "models.append(('rf_classifer', RandomForestClassifier(random_state=42)))\n",
    "models.append(('bayes', GaussianNB()))\n",
    "models.append(('gbc', GradientBoostingClassifier()))\n",
    "base_model_train = []\n",
    "base_model_test = []\n",
    "y_preds = {}\n",
    "\n",
    "model_x = []\n",
    "model_x.append(('log_reg', LogisticRegression(max_iter=10000, random_state=42)))\n",
    "for name, classifier in model_x:\n",
    "    scores = cross_val_score(classifier, X_train_std_df, y_train, cv=5, scoring='recall')\n",
    "    base_model_train.append(scores.mean().round(4))\n",
    "    print(scores)\n",
    "    print('{}: Avg CV recall using all features on training data: {}'.format(name, scores.mean().round(4)))\n",
    "    \n",
    "    classifier.fit(X_train_std_df, y_train)\n",
    "    y_preds = classifier.predict(X_test_eg_std_df)"
   ]
  },
  {
   "cell_type": "code",
   "execution_count": null,
   "metadata": {},
   "outputs": [],
   "source": []
  },
  {
   "cell_type": "code",
   "execution_count": 139,
   "metadata": {},
   "outputs": [],
   "source": [
    "y_preds_x = y_preds[:,1]"
   ]
  },
  {
   "cell_type": "code",
   "execution_count": 140,
   "metadata": {},
   "outputs": [],
   "source": [
    "sub_df['target'] = y_preds_x\n",
    "sub_df.to_csv('submission_smote.csv', index = False)"
   ]
  },
  {
   "cell_type": "code",
   "execution_count": 40,
   "metadata": {},
   "outputs": [
    {
     "output_type": "execute_result",
     "data": {
      "text/plain": [
       "age                                                                                              0.072853\n",
       "psu                                                                                              0.065326\n",
       "Education_Grade 12/Standard 10/Form 5/Matric (No Exemption)                                      0.053556\n",
       "dwelling_Dwelling/house or brick/concrete block structure on a separate stand or yard or farm    0.036934\n",
       "RTH_Head/acting head                                                                             0.035049\n",
       "marital_st_Single and have never been married/never lived together as husband/wife before        0.030660\n",
       "Education_Grade 11/Standard 9/Form 4                                                             0.028543\n",
       "Education_Grade 10/Standard 8/Form 3                                                             0.026013\n",
       "RTH_Son/daughter/stepchild/adopted child of person 01                                            0.023756\n",
       "marital_st_Married                                                                               0.023013\n",
       "marital_st_Widowed                                                                               0.020795\n",
       "RTH_Husband/wife/partner of person 01                                                            0.019561\n",
       "nature_of_work_Permanent                                                                         0.015287\n",
       "Education_Grade 9/Standard 7/Form 2/AET 4                                                        0.015258\n",
       "Lang_outside_English                                                                             0.015021\n",
       "Education_Grade 8/Standard 6/Form 1                                                              0.013702\n",
       "marital_st_Living together like husband and wife                                                 0.013584\n",
       "Education_no info                                                                                0.013533\n",
       "Education_Grade 7/Standard 5/AET 3                                                               0.010241\n",
       "RTH_Grandchild/great grandchild of person 01                                                     0.009822\n",
       "dwelling_Flat or apartment in a block of flats                                                   0.009733\n",
       "Lang_inside_IsiZulu                                                                              0.009545\n",
       "Lang_outside_IsiZulu                                                                             0.009541\n",
       "metro_code_KZN - Non Metro                                                                       0.008930\n",
       "RTH_Other relative (e.g. in-laws or aunt/uncle) of person 01                                     0.008212\n",
       "dwelling_type_Formal                                                                             0.008136\n",
       "RTH_Brother/sister/stepbrother/stepsister of person 01                                           0.008050\n",
       "province_code_Gauteng                                                                            0.008016\n",
       "metro_code_EC - Nelson Mandela Bay                                                               0.007729\n",
       "dwelling_Traditional dwelling/hut/structure made of traditional materials                        0.007499\n",
       "dtype: float64"
      ]
     },
     "metadata": {},
     "execution_count": 40
    }
   ],
   "source": [
    "rf_selector = RandomForestClassifier(n_estimators=100, random_state=SEED, n_jobs=-1)\n",
    "rf_selector.fit(X_train_std_sm, y_train_sm)\n",
    "feature_imp = pd.Series(rf_selector.feature_importances_, index=X_train_std_df.columns).sort_values(ascending=False)\n",
    "feature_imp[:30]"
   ]
  },
  {
   "cell_type": "code",
   "execution_count": null,
   "metadata": {},
   "outputs": [],
   "source": []
  },
  {
   "cell_type": "code",
   "execution_count": 82,
   "metadata": {},
   "outputs": [],
   "source": [
    "pred_y_rf = rf_selector.predict_proba(X_test_eg_std_df)\n",
    "y_preds_rf_x = pred_y_rf[:,1]"
   ]
  },
  {
   "cell_type": "code",
   "execution_count": 83,
   "metadata": {},
   "outputs": [],
   "source": [
    "sub_df['target'] = y_preds_rf_x\n",
    "sub_df.to_csv('submission_rf.csv', index = False)"
   ]
  },
  {
   "cell_type": "code",
   "execution_count": 141,
   "metadata": {
    "tags": [
     "outputPrepend"
    ]
   },
   "outputs": [
    {
     "output_type": "stream",
     "name": "stdout",
     "text": [
      "Versions/3.7/lib/python3.7/site-packages/imblearn/pipeline.py\", line 266, in fit\n",
      "    self._final_estimator.fit(Xt, yt, **fit_params_last_step)\n",
      "  File \"/Library/Frameworks/Python.framework/Versions/3.7/lib/python3.7/site-packages/sklearn/linear_model/_logistic.py\", line 1306, in fit\n",
      "    solver = _check_solver(self.solver, self.penalty, self.dual)\n",
      "  File \"/Library/Frameworks/Python.framework/Versions/3.7/lib/python3.7/site-packages/sklearn/linear_model/_logistic.py\", line 444, in _check_solver\n",
      "    \"got %s penalty.\" % (solver, penalty))\n",
      "ValueError: Solver lbfgs supports only 'l2' or 'none' penalties, got l1 penalty.\n",
      "\n",
      "  FitFailedWarning)\n",
      "/Library/Frameworks/Python.framework/Versions/3.7/lib/python3.7/site-packages/sklearn/model_selection/_validation.py:614: FitFailedWarning: Estimator fit failed. The score on this train-test partition for these parameters will be set to nan. Details: \n",
      "Traceback (most recent call last):\n",
      "  File \"/Library/Frameworks/Python.framework/Versions/3.7/lib/python3.7/site-packages/sklearn/model_selection/_validation.py\", line 593, in _fit_and_score\n",
      "    estimator.fit(X_train, y_train, **fit_params)\n",
      "  File \"/Library/Frameworks/Python.framework/Versions/3.7/lib/python3.7/site-packages/imblearn/pipeline.py\", line 266, in fit\n",
      "    self._final_estimator.fit(Xt, yt, **fit_params_last_step)\n",
      "  File \"/Library/Frameworks/Python.framework/Versions/3.7/lib/python3.7/site-packages/sklearn/linear_model/_logistic.py\", line 1306, in fit\n",
      "    solver = _check_solver(self.solver, self.penalty, self.dual)\n",
      "  File \"/Library/Frameworks/Python.framework/Versions/3.7/lib/python3.7/site-packages/sklearn/linear_model/_logistic.py\", line 444, in _check_solver\n",
      "    \"got %s penalty.\" % (solver, penalty))\n",
      "ValueError: Solver lbfgs supports only 'l2' or 'none' penalties, got l1 penalty.\n",
      "\n",
      "  FitFailedWarning)\n",
      "/Library/Frameworks/Python.framework/Versions/3.7/lib/python3.7/site-packages/sklearn/model_selection/_validation.py:614: FitFailedWarning: Estimator fit failed. The score on this train-test partition for these parameters will be set to nan. Details: \n",
      "Traceback (most recent call last):\n",
      "  File \"/Library/Frameworks/Python.framework/Versions/3.7/lib/python3.7/site-packages/sklearn/model_selection/_validation.py\", line 593, in _fit_and_score\n",
      "    estimator.fit(X_train, y_train, **fit_params)\n",
      "  File \"/Library/Frameworks/Python.framework/Versions/3.7/lib/python3.7/site-packages/imblearn/pipeline.py\", line 266, in fit\n",
      "    self._final_estimator.fit(Xt, yt, **fit_params_last_step)\n",
      "  File \"/Library/Frameworks/Python.framework/Versions/3.7/lib/python3.7/site-packages/sklearn/linear_model/_logistic.py\", line 1306, in fit\n",
      "    solver = _check_solver(self.solver, self.penalty, self.dual)\n",
      "  File \"/Library/Frameworks/Python.framework/Versions/3.7/lib/python3.7/site-packages/sklearn/linear_model/_logistic.py\", line 444, in _check_solver\n",
      "    \"got %s penalty.\" % (solver, penalty))\n",
      "ValueError: Solver lbfgs supports only 'l2' or 'none' penalties, got l1 penalty.\n",
      "\n",
      "  FitFailedWarning)\n",
      "/Library/Frameworks/Python.framework/Versions/3.7/lib/python3.7/site-packages/sklearn/model_selection/_validation.py:614: FitFailedWarning: Estimator fit failed. The score on this train-test partition for these parameters will be set to nan. Details: \n",
      "Traceback (most recent call last):\n",
      "  File \"/Library/Frameworks/Python.framework/Versions/3.7/lib/python3.7/site-packages/sklearn/model_selection/_validation.py\", line 593, in _fit_and_score\n",
      "    estimator.fit(X_train, y_train, **fit_params)\n",
      "  File \"/Library/Frameworks/Python.framework/Versions/3.7/lib/python3.7/site-packages/imblearn/pipeline.py\", line 266, in fit\n",
      "    self._final_estimator.fit(Xt, yt, **fit_params_last_step)\n",
      "  File \"/Library/Frameworks/Python.framework/Versions/3.7/lib/python3.7/site-packages/sklearn/linear_model/_logistic.py\", line 1306, in fit\n",
      "    solver = _check_solver(self.solver, self.penalty, self.dual)\n",
      "  File \"/Library/Frameworks/Python.framework/Versions/3.7/lib/python3.7/site-packages/sklearn/linear_model/_logistic.py\", line 444, in _check_solver\n",
      "    \"got %s penalty.\" % (solver, penalty))\n",
      "ValueError: Solver lbfgs supports only 'l2' or 'none' penalties, got l1 penalty.\n",
      "\n",
      "  FitFailedWarning)\n",
      "/Library/Frameworks/Python.framework/Versions/3.7/lib/python3.7/site-packages/sklearn/model_selection/_validation.py:614: FitFailedWarning: Estimator fit failed. The score on this train-test partition for these parameters will be set to nan. Details: \n",
      "Traceback (most recent call last):\n",
      "  File \"/Library/Frameworks/Python.framework/Versions/3.7/lib/python3.7/site-packages/sklearn/model_selection/_validation.py\", line 593, in _fit_and_score\n",
      "    estimator.fit(X_train, y_train, **fit_params)\n",
      "  File \"/Library/Frameworks/Python.framework/Versions/3.7/lib/python3.7/site-packages/imblearn/pipeline.py\", line 266, in fit\n",
      "    self._final_estimator.fit(Xt, yt, **fit_params_last_step)\n",
      "  File \"/Library/Frameworks/Python.framework/Versions/3.7/lib/python3.7/site-packages/sklearn/linear_model/_logistic.py\", line 1306, in fit\n",
      "    solver = _check_solver(self.solver, self.penalty, self.dual)\n",
      "  File \"/Library/Frameworks/Python.framework/Versions/3.7/lib/python3.7/site-packages/sklearn/linear_model/_logistic.py\", line 444, in _check_solver\n",
      "    \"got %s penalty.\" % (solver, penalty))\n",
      "ValueError: Solver lbfgs supports only 'l2' or 'none' penalties, got l1 penalty.\n",
      "\n",
      "  FitFailedWarning)\n",
      "/Library/Frameworks/Python.framework/Versions/3.7/lib/python3.7/site-packages/sklearn/model_selection/_validation.py:614: FitFailedWarning: Estimator fit failed. The score on this train-test partition for these parameters will be set to nan. Details: \n",
      "Traceback (most recent call last):\n",
      "  File \"/Library/Frameworks/Python.framework/Versions/3.7/lib/python3.7/site-packages/sklearn/model_selection/_validation.py\", line 593, in _fit_and_score\n",
      "    estimator.fit(X_train, y_train, **fit_params)\n",
      "  File \"/Library/Frameworks/Python.framework/Versions/3.7/lib/python3.7/site-packages/imblearn/pipeline.py\", line 266, in fit\n",
      "    self._final_estimator.fit(Xt, yt, **fit_params_last_step)\n",
      "  File \"/Library/Frameworks/Python.framework/Versions/3.7/lib/python3.7/site-packages/sklearn/linear_model/_logistic.py\", line 1306, in fit\n",
      "    solver = _check_solver(self.solver, self.penalty, self.dual)\n",
      "  File \"/Library/Frameworks/Python.framework/Versions/3.7/lib/python3.7/site-packages/sklearn/linear_model/_logistic.py\", line 444, in _check_solver\n",
      "    \"got %s penalty.\" % (solver, penalty))\n",
      "ValueError: Solver lbfgs supports only 'l2' or 'none' penalties, got l1 penalty.\n",
      "\n",
      "  FitFailedWarning)\n",
      "/Library/Frameworks/Python.framework/Versions/3.7/lib/python3.7/site-packages/sklearn/model_selection/_validation.py:614: FitFailedWarning: Estimator fit failed. The score on this train-test partition for these parameters will be set to nan. Details: \n",
      "Traceback (most recent call last):\n",
      "  File \"/Library/Frameworks/Python.framework/Versions/3.7/lib/python3.7/site-packages/sklearn/model_selection/_validation.py\", line 593, in _fit_and_score\n",
      "    estimator.fit(X_train, y_train, **fit_params)\n",
      "  File \"/Library/Frameworks/Python.framework/Versions/3.7/lib/python3.7/site-packages/imblearn/pipeline.py\", line 266, in fit\n",
      "    self._final_estimator.fit(Xt, yt, **fit_params_last_step)\n",
      "  File \"/Library/Frameworks/Python.framework/Versions/3.7/lib/python3.7/site-packages/sklearn/linear_model/_logistic.py\", line 1306, in fit\n",
      "    solver = _check_solver(self.solver, self.penalty, self.dual)\n",
      "  File \"/Library/Frameworks/Python.framework/Versions/3.7/lib/python3.7/site-packages/sklearn/linear_model/_logistic.py\", line 444, in _check_solver\n",
      "    \"got %s penalty.\" % (solver, penalty))\n",
      "ValueError: Solver lbfgs supports only 'l2' or 'none' penalties, got l1 penalty.\n",
      "\n",
      "  FitFailedWarning)\n",
      "/Library/Frameworks/Python.framework/Versions/3.7/lib/python3.7/site-packages/sklearn/model_selection/_validation.py:614: FitFailedWarning: Estimator fit failed. The score on this train-test partition for these parameters will be set to nan. Details: \n",
      "Traceback (most recent call last):\n",
      "  File \"/Library/Frameworks/Python.framework/Versions/3.7/lib/python3.7/site-packages/sklearn/model_selection/_validation.py\", line 593, in _fit_and_score\n",
      "    estimator.fit(X_train, y_train, **fit_params)\n",
      "  File \"/Library/Frameworks/Python.framework/Versions/3.7/lib/python3.7/site-packages/imblearn/pipeline.py\", line 266, in fit\n",
      "    self._final_estimator.fit(Xt, yt, **fit_params_last_step)\n",
      "  File \"/Library/Frameworks/Python.framework/Versions/3.7/lib/python3.7/site-packages/sklearn/linear_model/_logistic.py\", line 1306, in fit\n",
      "    solver = _check_solver(self.solver, self.penalty, self.dual)\n",
      "  File \"/Library/Frameworks/Python.framework/Versions/3.7/lib/python3.7/site-packages/sklearn/linear_model/_logistic.py\", line 444, in _check_solver\n",
      "    \"got %s penalty.\" % (solver, penalty))\n",
      "ValueError: Solver lbfgs supports only 'l2' or 'none' penalties, got l1 penalty.\n",
      "\n",
      "  FitFailedWarning)\n",
      "/Library/Frameworks/Python.framework/Versions/3.7/lib/python3.7/site-packages/sklearn/model_selection/_validation.py:614: FitFailedWarning: Estimator fit failed. The score on this train-test partition for these parameters will be set to nan. Details: \n",
      "Traceback (most recent call last):\n",
      "  File \"/Library/Frameworks/Python.framework/Versions/3.7/lib/python3.7/site-packages/sklearn/model_selection/_validation.py\", line 593, in _fit_and_score\n",
      "    estimator.fit(X_train, y_train, **fit_params)\n",
      "  File \"/Library/Frameworks/Python.framework/Versions/3.7/lib/python3.7/site-packages/imblearn/pipeline.py\", line 266, in fit\n",
      "    self._final_estimator.fit(Xt, yt, **fit_params_last_step)\n",
      "  File \"/Library/Frameworks/Python.framework/Versions/3.7/lib/python3.7/site-packages/sklearn/linear_model/_logistic.py\", line 1306, in fit\n",
      "    solver = _check_solver(self.solver, self.penalty, self.dual)\n",
      "  File \"/Library/Frameworks/Python.framework/Versions/3.7/lib/python3.7/site-packages/sklearn/linear_model/_logistic.py\", line 444, in _check_solver\n",
      "    \"got %s penalty.\" % (solver, penalty))\n",
      "ValueError: Solver lbfgs supports only 'l2' or 'none' penalties, got l1 penalty.\n",
      "\n",
      "  FitFailedWarning)\n",
      "/Library/Frameworks/Python.framework/Versions/3.7/lib/python3.7/site-packages/sklearn/model_selection/_validation.py:614: FitFailedWarning: Estimator fit failed. The score on this train-test partition for these parameters will be set to nan. Details: \n",
      "Traceback (most recent call last):\n",
      "  File \"/Library/Frameworks/Python.framework/Versions/3.7/lib/python3.7/site-packages/sklearn/model_selection/_validation.py\", line 593, in _fit_and_score\n",
      "    estimator.fit(X_train, y_train, **fit_params)\n",
      "  File \"/Library/Frameworks/Python.framework/Versions/3.7/lib/python3.7/site-packages/imblearn/pipeline.py\", line 266, in fit\n",
      "    self._final_estimator.fit(Xt, yt, **fit_params_last_step)\n",
      "  File \"/Library/Frameworks/Python.framework/Versions/3.7/lib/python3.7/site-packages/sklearn/linear_model/_logistic.py\", line 1306, in fit\n",
      "    solver = _check_solver(self.solver, self.penalty, self.dual)\n",
      "  File \"/Library/Frameworks/Python.framework/Versions/3.7/lib/python3.7/site-packages/sklearn/linear_model/_logistic.py\", line 444, in _check_solver\n",
      "    \"got %s penalty.\" % (solver, penalty))\n",
      "ValueError: Solver lbfgs supports only 'l2' or 'none' penalties, got l1 penalty.\n",
      "\n",
      "  FitFailedWarning)\n",
      "/Library/Frameworks/Python.framework/Versions/3.7/lib/python3.7/site-packages/sklearn/model_selection/_validation.py:614: FitFailedWarning: Estimator fit failed. The score on this train-test partition for these parameters will be set to nan. Details: \n",
      "Traceback (most recent call last):\n",
      "  File \"/Library/Frameworks/Python.framework/Versions/3.7/lib/python3.7/site-packages/sklearn/model_selection/_validation.py\", line 593, in _fit_and_score\n",
      "    estimator.fit(X_train, y_train, **fit_params)\n",
      "  File \"/Library/Frameworks/Python.framework/Versions/3.7/lib/python3.7/site-packages/imblearn/pipeline.py\", line 266, in fit\n",
      "    self._final_estimator.fit(Xt, yt, **fit_params_last_step)\n",
      "  File \"/Library/Frameworks/Python.framework/Versions/3.7/lib/python3.7/site-packages/sklearn/linear_model/_logistic.py\", line 1306, in fit\n",
      "    solver = _check_solver(self.solver, self.penalty, self.dual)\n",
      "  File \"/Library/Frameworks/Python.framework/Versions/3.7/lib/python3.7/site-packages/sklearn/linear_model/_logistic.py\", line 444, in _check_solver\n",
      "    \"got %s penalty.\" % (solver, penalty))\n",
      "ValueError: Solver lbfgs supports only 'l2' or 'none' penalties, got l1 penalty.\n",
      "\n",
      "  FitFailedWarning)\n",
      "/Library/Frameworks/Python.framework/Versions/3.7/lib/python3.7/site-packages/sklearn/model_selection/_validation.py:614: FitFailedWarning: Estimator fit failed. The score on this train-test partition for these parameters will be set to nan. Details: \n",
      "Traceback (most recent call last):\n",
      "  File \"/Library/Frameworks/Python.framework/Versions/3.7/lib/python3.7/site-packages/sklearn/model_selection/_validation.py\", line 593, in _fit_and_score\n",
      "    estimator.fit(X_train, y_train, **fit_params)\n",
      "  File \"/Library/Frameworks/Python.framework/Versions/3.7/lib/python3.7/site-packages/imblearn/pipeline.py\", line 266, in fit\n",
      "    self._final_estimator.fit(Xt, yt, **fit_params_last_step)\n",
      "  File \"/Library/Frameworks/Python.framework/Versions/3.7/lib/python3.7/site-packages/sklearn/linear_model/_logistic.py\", line 1306, in fit\n",
      "    solver = _check_solver(self.solver, self.penalty, self.dual)\n",
      "  File \"/Library/Frameworks/Python.framework/Versions/3.7/lib/python3.7/site-packages/sklearn/linear_model/_logistic.py\", line 444, in _check_solver\n",
      "    \"got %s penalty.\" % (solver, penalty))\n",
      "ValueError: Solver lbfgs supports only 'l2' or 'none' penalties, got l1 penalty.\n",
      "\n",
      "  FitFailedWarning)\n",
      "/Library/Frameworks/Python.framework/Versions/3.7/lib/python3.7/site-packages/sklearn/model_selection/_validation.py:614: FitFailedWarning: Estimator fit failed. The score on this train-test partition for these parameters will be set to nan. Details: \n",
      "Traceback (most recent call last):\n",
      "  File \"/Library/Frameworks/Python.framework/Versions/3.7/lib/python3.7/site-packages/sklearn/model_selection/_validation.py\", line 593, in _fit_and_score\n",
      "    estimator.fit(X_train, y_train, **fit_params)\n",
      "  File \"/Library/Frameworks/Python.framework/Versions/3.7/lib/python3.7/site-packages/imblearn/pipeline.py\", line 266, in fit\n",
      "    self._final_estimator.fit(Xt, yt, **fit_params_last_step)\n",
      "  File \"/Library/Frameworks/Python.framework/Versions/3.7/lib/python3.7/site-packages/sklearn/linear_model/_logistic.py\", line 1306, in fit\n",
      "    solver = _check_solver(self.solver, self.penalty, self.dual)\n",
      "  File \"/Library/Frameworks/Python.framework/Versions/3.7/lib/python3.7/site-packages/sklearn/linear_model/_logistic.py\", line 444, in _check_solver\n",
      "    \"got %s penalty.\" % (solver, penalty))\n",
      "ValueError: Solver lbfgs supports only 'l2' or 'none' penalties, got l1 penalty.\n",
      "\n",
      "  FitFailedWarning)\n",
      "/Library/Frameworks/Python.framework/Versions/3.7/lib/python3.7/site-packages/sklearn/model_selection/_validation.py:614: FitFailedWarning: Estimator fit failed. The score on this train-test partition for these parameters will be set to nan. Details: \n",
      "Traceback (most recent call last):\n",
      "  File \"/Library/Frameworks/Python.framework/Versions/3.7/lib/python3.7/site-packages/sklearn/model_selection/_validation.py\", line 593, in _fit_and_score\n",
      "    estimator.fit(X_train, y_train, **fit_params)\n",
      "  File \"/Library/Frameworks/Python.framework/Versions/3.7/lib/python3.7/site-packages/imblearn/pipeline.py\", line 266, in fit\n",
      "    self._final_estimator.fit(Xt, yt, **fit_params_last_step)\n",
      "  File \"/Library/Frameworks/Python.framework/Versions/3.7/lib/python3.7/site-packages/sklearn/linear_model/_logistic.py\", line 1306, in fit\n",
      "    solver = _check_solver(self.solver, self.penalty, self.dual)\n",
      "  File \"/Library/Frameworks/Python.framework/Versions/3.7/lib/python3.7/site-packages/sklearn/linear_model/_logistic.py\", line 444, in _check_solver\n",
      "    \"got %s penalty.\" % (solver, penalty))\n",
      "ValueError: Solver lbfgs supports only 'l2' or 'none' penalties, got l1 penalty.\n",
      "\n",
      "  FitFailedWarning)\n",
      "/Library/Frameworks/Python.framework/Versions/3.7/lib/python3.7/site-packages/sklearn/model_selection/_validation.py:614: FitFailedWarning: Estimator fit failed. The score on this train-test partition for these parameters will be set to nan. Details: \n",
      "Traceback (most recent call last):\n",
      "  File \"/Library/Frameworks/Python.framework/Versions/3.7/lib/python3.7/site-packages/sklearn/model_selection/_validation.py\", line 593, in _fit_and_score\n",
      "    estimator.fit(X_train, y_train, **fit_params)\n",
      "  File \"/Library/Frameworks/Python.framework/Versions/3.7/lib/python3.7/site-packages/imblearn/pipeline.py\", line 266, in fit\n",
      "    self._final_estimator.fit(Xt, yt, **fit_params_last_step)\n",
      "  File \"/Library/Frameworks/Python.framework/Versions/3.7/lib/python3.7/site-packages/sklearn/linear_model/_logistic.py\", line 1306, in fit\n",
      "    solver = _check_solver(self.solver, self.penalty, self.dual)\n",
      "  File \"/Library/Frameworks/Python.framework/Versions/3.7/lib/python3.7/site-packages/sklearn/linear_model/_logistic.py\", line 444, in _check_solver\n",
      "    \"got %s penalty.\" % (solver, penalty))\n",
      "ValueError: Solver lbfgs supports only 'l2' or 'none' penalties, got l1 penalty.\n",
      "\n",
      "  FitFailedWarning)\n",
      "/Library/Frameworks/Python.framework/Versions/3.7/lib/python3.7/site-packages/sklearn/model_selection/_validation.py:614: FitFailedWarning: Estimator fit failed. The score on this train-test partition for these parameters will be set to nan. Details: \n",
      "Traceback (most recent call last):\n",
      "  File \"/Library/Frameworks/Python.framework/Versions/3.7/lib/python3.7/site-packages/sklearn/model_selection/_validation.py\", line 593, in _fit_and_score\n",
      "    estimator.fit(X_train, y_train, **fit_params)\n",
      "  File \"/Library/Frameworks/Python.framework/Versions/3.7/lib/python3.7/site-packages/imblearn/pipeline.py\", line 266, in fit\n",
      "    self._final_estimator.fit(Xt, yt, **fit_params_last_step)\n",
      "  File \"/Library/Frameworks/Python.framework/Versions/3.7/lib/python3.7/site-packages/sklearn/linear_model/_logistic.py\", line 1306, in fit\n",
      "    solver = _check_solver(self.solver, self.penalty, self.dual)\n",
      "  File \"/Library/Frameworks/Python.framework/Versions/3.7/lib/python3.7/site-packages/sklearn/linear_model/_logistic.py\", line 444, in _check_solver\n",
      "    \"got %s penalty.\" % (solver, penalty))\n",
      "ValueError: Solver lbfgs supports only 'l2' or 'none' penalties, got l1 penalty.\n",
      "\n",
      "  FitFailedWarning)\n",
      "/Library/Frameworks/Python.framework/Versions/3.7/lib/python3.7/site-packages/sklearn/model_selection/_validation.py:614: FitFailedWarning: Estimator fit failed. The score on this train-test partition for these parameters will be set to nan. Details: \n",
      "Traceback (most recent call last):\n",
      "  File \"/Library/Frameworks/Python.framework/Versions/3.7/lib/python3.7/site-packages/sklearn/model_selection/_validation.py\", line 593, in _fit_and_score\n",
      "    estimator.fit(X_train, y_train, **fit_params)\n",
      "  File \"/Library/Frameworks/Python.framework/Versions/3.7/lib/python3.7/site-packages/imblearn/pipeline.py\", line 266, in fit\n",
      "    self._final_estimator.fit(Xt, yt, **fit_params_last_step)\n",
      "  File \"/Library/Frameworks/Python.framework/Versions/3.7/lib/python3.7/site-packages/sklearn/linear_model/_logistic.py\", line 1306, in fit\n",
      "    solver = _check_solver(self.solver, self.penalty, self.dual)\n",
      "  File \"/Library/Frameworks/Python.framework/Versions/3.7/lib/python3.7/site-packages/sklearn/linear_model/_logistic.py\", line 444, in _check_solver\n",
      "    \"got %s penalty.\" % (solver, penalty))\n",
      "ValueError: Solver lbfgs supports only 'l2' or 'none' penalties, got l1 penalty.\n",
      "\n",
      "  FitFailedWarning)\n",
      "/Library/Frameworks/Python.framework/Versions/3.7/lib/python3.7/site-packages/sklearn/model_selection/_search.py:921: UserWarning: One or more of the test scores are non-finite: [       nan 0.73071928        nan 0.73551708        nan 0.73711628\n",
      "        nan 0.74251309        nan 0.74931049        nan 0.74971049\n",
      "        nan 0.74931069        nan 0.74931069]\n",
      "  category=UserWarning\n",
      "Best Score:  0.7497104895104896\n",
      "Best Params:  {'logisticregression__C': 10, 'logisticregression__penalty': 'l2'}\n"
     ]
    }
   ],
   "source": [
    "clf_lr = LogisticRegression(max_iter=10000, random_state=SEED)\n",
    "penalty = ['l1','l2']\n",
    "C = [0.001,0.002,0.003,0.005,1,10,100,1000]\n",
    "skf = StratifiedKFold(n_splits=5)\n",
    "pipeline = make_pipeline(sm, clf_lr)\n",
    "param_grid = dict(logisticregression__penalty=penalty,\n",
    "                  logisticregression__C=C)\n",
    "grid = GridSearchCV(pipeline, \n",
    "                    param_grid=param_grid,\n",
    "                    scoring='recall', \n",
    "                    verbose=1, cv=skf)\n",
    "grid_results = grid.fit(X_train_std_sm, y_train_sm) \n",
    "y_pred_lr = grid.predict_proba(X_test_eg_std_df)\n",
    "print('Best Score: ', grid_results.best_score_)\n",
    "print('Best Params: ', grid_results.best_params_)"
   ]
  },
  {
   "cell_type": "code",
   "execution_count": 142,
   "metadata": {},
   "outputs": [],
   "source": [
    "y_pred_lr = y_pred_lr[:,1]"
   ]
  },
  {
   "cell_type": "code",
   "execution_count": 143,
   "metadata": {},
   "outputs": [],
   "source": [
    "sub_df['target'] = y_pred_lr\n",
    "sub_df.to_csv('submission_lr_cv.csv', index = False)"
   ]
  },
  {
   "cell_type": "code",
   "execution_count": 42,
   "metadata": {},
   "outputs": [
    {
     "output_type": "display_data",
     "data": {
      "text/plain": "<Figure size 864x576 with 1 Axes>",
      "image/svg+xml": "<?xml version=\"1.0\" encoding=\"utf-8\" standalone=\"no\"?>\n<!DOCTYPE svg PUBLIC \"-//W3C//DTD SVG 1.1//EN\"\n  \"http://www.w3.org/Graphics/SVG/1.1/DTD/svg11.dtd\">\n<!-- Created with matplotlib (https://matplotlib.org/) -->\n<svg height=\"494.754375pt\" version=\"1.1\" viewBox=\"0 0 1176.485937 494.754375\" width=\"1176.485937pt\" xmlns=\"http://www.w3.org/2000/svg\" xmlns:xlink=\"http://www.w3.org/1999/xlink\">\n <defs>\n  <style type=\"text/css\">\n*{stroke-linecap:butt;stroke-linejoin:round;}\n  </style>\n </defs>\n <g id=\"figure_1\">\n  <g id=\"patch_1\">\n   <path d=\"M 0 494.754375 \nL 1176.485937 494.754375 \nL 1176.485937 0 \nL 0 0 \nz\n\" style=\"fill:none;\"/>\n  </g>\n  <g id=\"axes_1\">\n   <g id=\"patch_2\">\n    <path d=\"M 499.685937 457.198125 \nL 1169.285938 457.198125 \nL 1169.285938 22.318125 \nL 499.685937 22.318125 \nz\n\" style=\"fill:#ffffff;\"/>\n   </g>\n   <g id=\"patch_3\">\n    <path clip-path=\"url(#p307786b5e3)\" d=\"M 499.685937 23.767725 \nL 1137.400223 23.767725 \nL 1137.400223 35.364525 \nL 499.685937 35.364525 \nz\n\" style=\"fill:#ea96a3;\"/>\n   </g>\n   <g id=\"patch_4\">\n    <path clip-path=\"url(#p307786b5e3)\" d=\"M 499.685937 38.263725 \nL 1071.509517 38.263725 \nL 1071.509517 49.860525 \nL 499.685937 49.860525 \nz\n\" style=\"fill:#e99791;\"/>\n   </g>\n   <g id=\"patch_5\">\n    <path clip-path=\"url(#p307786b5e3)\" d=\"M 499.685937 52.759725 \nL 968.486993 52.759725 \nL 968.486993 64.356525 \nL 499.685937 64.356525 \nz\n\" style=\"fill:#e59471;\"/>\n   </g>\n   <g id=\"patch_6\">\n    <path clip-path=\"url(#p307786b5e3)\" d=\"M 499.685937 67.255725 \nL 822.984769 67.255725 \nL 822.984769 78.852525 \nL 499.685937 78.852525 \nz\n\" style=\"fill:#d7944e;\"/>\n   </g>\n   <g id=\"patch_7\">\n    <path clip-path=\"url(#p307786b5e3)\" d=\"M 499.685937 81.751725 \nL 806.482997 81.751725 \nL 806.482997 93.348525 \nL 499.685937 93.348525 \nz\n\" style=\"fill:#c6994b;\"/>\n   </g>\n   <g id=\"patch_8\">\n    <path clip-path=\"url(#p307786b5e3)\" d=\"M 499.685937 96.247725 \nL 768.065112 96.247725 \nL 768.065112 107.844525 \nL 499.685937 107.844525 \nz\n\" style=\"fill:#b89c49;\"/>\n   </g>\n   <g id=\"patch_9\">\n    <path clip-path=\"url(#p307786b5e3)\" d=\"M 499.685937 110.743725 \nL 749.537329 110.743725 \nL 749.537329 122.340525 \nL 499.685937 122.340525 \nz\n\" style=\"fill:#ab9e47;\"/>\n   </g>\n   <g id=\"patch_10\">\n    <path clip-path=\"url(#p307786b5e3)\" d=\"M 499.685937 125.239725 \nL 727.389015 125.239725 \nL 727.389015 136.836525 \nL 499.685937 136.836525 \nz\n\" style=\"fill:#9ea045;\"/>\n   </g>\n   <g id=\"patch_11\">\n    <path clip-path=\"url(#p307786b5e3)\" d=\"M 499.685937 139.735725 \nL 707.628226 139.735725 \nL 707.628226 151.332525 \nL 499.685937 151.332525 \nz\n\" style=\"fill:#91a446;\"/>\n   </g>\n   <g id=\"patch_12\">\n    <path clip-path=\"url(#p307786b5e3)\" d=\"M 499.685937 154.231725 \nL 701.129496 154.231725 \nL 701.129496 165.828525 \nL 499.685937 165.828525 \nz\n\" style=\"fill:#7fa946;\"/>\n   </g>\n   <g id=\"patch_13\">\n    <path clip-path=\"url(#p307786b5e3)\" d=\"M 499.685937 168.727725 \nL 681.716509 168.727725 \nL 681.716509 180.324525 \nL 499.685937 180.324525 \nz\n\" style=\"fill:#60ae47;\"/>\n   </g>\n   <g id=\"patch_14\">\n    <path clip-path=\"url(#p307786b5e3)\" d=\"M 499.685937 183.223725 \nL 670.910681 183.223725 \nL 670.910681 194.820525 \nL 499.685937 194.820525 \nz\n\" style=\"fill:#48b06a;\"/>\n   </g>\n   <g id=\"patch_15\">\n    <path clip-path=\"url(#p307786b5e3)\" d=\"M 499.685937 197.719725 \nL 633.499334 197.719725 \nL 633.499334 209.316525 \nL 499.685937 209.316525 \nz\n\" style=\"fill:#49ae83;\"/>\n   </g>\n   <g id=\"patch_16\">\n    <path clip-path=\"url(#p307786b5e3)\" d=\"M 499.685937 212.215725 \nL 633.24467 212.215725 \nL 633.24467 223.812525 \nL 499.685937 223.812525 \nz\n\" style=\"fill:#4aad91;\"/>\n   </g>\n   <g id=\"patch_17\">\n    <path clip-path=\"url(#p307786b5e3)\" d=\"M 499.685937 226.711725 \nL 631.170719 226.711725 \nL 631.170719 238.308525 \nL 499.685937 238.308525 \nz\n\" style=\"fill:#4aac9b;\"/>\n   </g>\n   <g id=\"patch_18\">\n    <path clip-path=\"url(#p307786b5e3)\" d=\"M 499.685937 241.207725 \nL 619.621543 241.207725 \nL 619.621543 252.804525 \nL 499.685937 252.804525 \nz\n\" style=\"fill:#4baba4;\"/>\n   </g>\n   <g id=\"patch_19\">\n    <path clip-path=\"url(#p307786b5e3)\" d=\"M 499.685937 255.703725 \nL 618.589712 255.703725 \nL 618.589712 267.300525 \nL 499.685937 267.300525 \nz\n\" style=\"fill:#4cabad;\"/>\n   </g>\n   <g id=\"patch_20\">\n    <path clip-path=\"url(#p307786b5e3)\" d=\"M 499.685937 270.199725 \nL 618.148327 270.199725 \nL 618.148327 281.796525 \nL 499.685937 281.796525 \nz\n\" style=\"fill:#4eabb7;\"/>\n   </g>\n   <g id=\"patch_21\">\n    <path clip-path=\"url(#p307786b5e3)\" d=\"M 499.685937 284.695725 \nL 589.330708 284.695725 \nL 589.330708 296.292525 \nL 499.685937 296.292525 \nz\n\" style=\"fill:#50acc3;\"/>\n   </g>\n   <g id=\"patch_22\">\n    <path clip-path=\"url(#p307786b5e3)\" d=\"M 499.685937 299.191725 \nL 585.665879 299.191725 \nL 585.665879 310.788525 \nL 499.685937 310.788525 \nz\n\" style=\"fill:#54acd1;\"/>\n   </g>\n   <g id=\"patch_23\">\n    <path clip-path=\"url(#p307786b5e3)\" d=\"M 499.685937 313.687725 \nL 584.880713 313.687725 \nL 584.880713 325.284525 \nL 499.685937 325.284525 \nz\n\" style=\"fill:#6daee2;\"/>\n   </g>\n   <g id=\"patch_24\">\n    <path clip-path=\"url(#p307786b5e3)\" d=\"M 499.685937 328.183725 \nL 583.235283 328.183725 \nL 583.235283 339.780525 \nL 499.685937 339.780525 \nz\n\" style=\"fill:#94aee8;\"/>\n   </g>\n   <g id=\"patch_25\">\n    <path clip-path=\"url(#p307786b5e3)\" d=\"M 499.685937 342.679725 \nL 583.202269 342.679725 \nL 583.202269 354.276525 \nL 499.685937 354.276525 \nz\n\" style=\"fill:#adabeb;\"/>\n   </g>\n   <g id=\"patch_26\">\n    <path clip-path=\"url(#p307786b5e3)\" d=\"M 499.685937 357.175725 \nL 577.856603 357.175725 \nL 577.856603 368.772525 \nL 499.685937 368.772525 \nz\n\" style=\"fill:#bea4ea;\"/>\n   </g>\n   <g id=\"patch_27\">\n    <path clip-path=\"url(#p307786b5e3)\" d=\"M 499.685937 371.671725 \nL 571.568474 371.671725 \nL 571.568474 383.268525 \nL 499.685937 383.268525 \nz\n\" style=\"fill:#ce9be9;\"/>\n   </g>\n   <g id=\"patch_28\">\n    <path clip-path=\"url(#p307786b5e3)\" d=\"M 499.685937 386.167725 \nL 570.903207 386.167725 \nL 570.903207 397.764525 \nL 499.685937 397.764525 \nz\n\" style=\"fill:#df8fe7;\"/>\n   </g>\n   <g id=\"patch_29\">\n    <path clip-path=\"url(#p307786b5e3)\" d=\"M 499.685937 400.663725 \nL 570.153202 400.663725 \nL 570.153202 412.260525 \nL 499.685937 412.260525 \nz\n\" style=\"fill:#e78bdb;\"/>\n   </g>\n   <g id=\"patch_30\">\n    <path clip-path=\"url(#p307786b5e3)\" d=\"M 499.685937 415.159725 \nL 569.85089 415.159725 \nL 569.85089 426.756525 \nL 499.685937 426.756525 \nz\n\" style=\"fill:#e88fcc;\"/>\n   </g>\n   <g id=\"patch_31\">\n    <path clip-path=\"url(#p307786b5e3)\" d=\"M 499.685937 429.655725 \nL 567.338487 429.655725 \nL 567.338487 441.252525 \nL 499.685937 441.252525 \nz\n\" style=\"fill:#e891bf;\"/>\n   </g>\n   <g id=\"patch_32\">\n    <path clip-path=\"url(#p307786b5e3)\" d=\"M 499.685937 444.151725 \nL 565.325262 444.151725 \nL 565.325262 455.748525 \nL 499.685937 455.748525 \nz\n\" style=\"fill:#e994b2;\"/>\n   </g>\n   <g id=\"matplotlib.axis_1\">\n    <g id=\"xtick_1\">\n     <g id=\"line2d_1\">\n      <path clip-path=\"url(#p307786b5e3)\" d=\"M 499.685937 457.198125 \nL 499.685937 22.318125 \n\" style=\"fill:none;stroke:#666666;stroke-linecap:square;stroke-opacity:0.2;stroke-width:0.8;\"/>\n     </g>\n     <g id=\"line2d_2\">\n      <defs>\n       <path d=\"M 0 0 \nL 0 3.5 \n\" id=\"m7e7c466889\" style=\"stroke:#000000;stroke-width:0.8;\"/>\n      </defs>\n      <g>\n       <use style=\"stroke:#000000;stroke-width:0.8;\" x=\"499.685937\" xlink:href=\"#m7e7c466889\" y=\"457.198125\"/>\n      </g>\n     </g>\n     <g id=\"text_1\">\n      <!-- 0.00 -->\n      <defs>\n       <path d=\"M 31.78125 66.40625 \nQ 24.171875 66.40625 20.328125 58.90625 \nQ 16.5 51.421875 16.5 36.375 \nQ 16.5 21.390625 20.328125 13.890625 \nQ 24.171875 6.390625 31.78125 6.390625 \nQ 39.453125 6.390625 43.28125 13.890625 \nQ 47.125 21.390625 47.125 36.375 \nQ 47.125 51.421875 43.28125 58.90625 \nQ 39.453125 66.40625 31.78125 66.40625 \nz\nM 31.78125 74.21875 \nQ 44.046875 74.21875 50.515625 64.515625 \nQ 56.984375 54.828125 56.984375 36.375 \nQ 56.984375 17.96875 50.515625 8.265625 \nQ 44.046875 -1.421875 31.78125 -1.421875 \nQ 19.53125 -1.421875 13.0625 8.265625 \nQ 6.59375 17.96875 6.59375 36.375 \nQ 6.59375 54.828125 13.0625 64.515625 \nQ 19.53125 74.21875 31.78125 74.21875 \nz\n\" id=\"DejaVuSans-48\"/>\n       <path d=\"M 10.6875 12.40625 \nL 21 12.40625 \nL 21 0 \nL 10.6875 0 \nz\n\" id=\"DejaVuSans-46\"/>\n      </defs>\n      <g transform=\"translate(488.553125 471.796562)scale(0.1 -0.1)\">\n       <use xlink:href=\"#DejaVuSans-48\"/>\n       <use x=\"63.623047\" xlink:href=\"#DejaVuSans-46\"/>\n       <use x=\"95.410156\" xlink:href=\"#DejaVuSans-48\"/>\n       <use x=\"159.033203\" xlink:href=\"#DejaVuSans-48\"/>\n      </g>\n     </g>\n    </g>\n    <g id=\"xtick_2\">\n     <g id=\"line2d_3\">\n      <path clip-path=\"url(#p307786b5e3)\" d=\"M 587.220197 457.198125 \nL 587.220197 22.318125 \n\" style=\"fill:none;stroke:#666666;stroke-linecap:square;stroke-opacity:0.2;stroke-width:0.8;\"/>\n     </g>\n     <g id=\"line2d_4\">\n      <g>\n       <use style=\"stroke:#000000;stroke-width:0.8;\" x=\"587.220197\" xlink:href=\"#m7e7c466889\" y=\"457.198125\"/>\n      </g>\n     </g>\n     <g id=\"text_2\">\n      <!-- 0.01 -->\n      <defs>\n       <path d=\"M 12.40625 8.296875 \nL 28.515625 8.296875 \nL 28.515625 63.921875 \nL 10.984375 60.40625 \nL 10.984375 69.390625 \nL 28.421875 72.90625 \nL 38.28125 72.90625 \nL 38.28125 8.296875 \nL 54.390625 8.296875 \nL 54.390625 0 \nL 12.40625 0 \nz\n\" id=\"DejaVuSans-49\"/>\n      </defs>\n      <g transform=\"translate(576.087385 471.796562)scale(0.1 -0.1)\">\n       <use xlink:href=\"#DejaVuSans-48\"/>\n       <use x=\"63.623047\" xlink:href=\"#DejaVuSans-46\"/>\n       <use x=\"95.410156\" xlink:href=\"#DejaVuSans-48\"/>\n       <use x=\"159.033203\" xlink:href=\"#DejaVuSans-49\"/>\n      </g>\n     </g>\n    </g>\n    <g id=\"xtick_3\">\n     <g id=\"line2d_5\">\n      <path clip-path=\"url(#p307786b5e3)\" d=\"M 674.754457 457.198125 \nL 674.754457 22.318125 \n\" style=\"fill:none;stroke:#666666;stroke-linecap:square;stroke-opacity:0.2;stroke-width:0.8;\"/>\n     </g>\n     <g id=\"line2d_6\">\n      <g>\n       <use style=\"stroke:#000000;stroke-width:0.8;\" x=\"674.754457\" xlink:href=\"#m7e7c466889\" y=\"457.198125\"/>\n      </g>\n     </g>\n     <g id=\"text_3\">\n      <!-- 0.02 -->\n      <defs>\n       <path d=\"M 19.1875 8.296875 \nL 53.609375 8.296875 \nL 53.609375 0 \nL 7.328125 0 \nL 7.328125 8.296875 \nQ 12.9375 14.109375 22.625 23.890625 \nQ 32.328125 33.6875 34.8125 36.53125 \nQ 39.546875 41.84375 41.421875 45.53125 \nQ 43.3125 49.21875 43.3125 52.78125 \nQ 43.3125 58.59375 39.234375 62.25 \nQ 35.15625 65.921875 28.609375 65.921875 \nQ 23.96875 65.921875 18.8125 64.3125 \nQ 13.671875 62.703125 7.8125 59.421875 \nL 7.8125 69.390625 \nQ 13.765625 71.78125 18.9375 73 \nQ 24.125 74.21875 28.421875 74.21875 \nQ 39.75 74.21875 46.484375 68.546875 \nQ 53.21875 62.890625 53.21875 53.421875 \nQ 53.21875 48.921875 51.53125 44.890625 \nQ 49.859375 40.875 45.40625 35.40625 \nQ 44.1875 33.984375 37.640625 27.21875 \nQ 31.109375 20.453125 19.1875 8.296875 \nz\n\" id=\"DejaVuSans-50\"/>\n      </defs>\n      <g transform=\"translate(663.621645 471.796562)scale(0.1 -0.1)\">\n       <use xlink:href=\"#DejaVuSans-48\"/>\n       <use x=\"63.623047\" xlink:href=\"#DejaVuSans-46\"/>\n       <use x=\"95.410156\" xlink:href=\"#DejaVuSans-48\"/>\n       <use x=\"159.033203\" xlink:href=\"#DejaVuSans-50\"/>\n      </g>\n     </g>\n    </g>\n    <g id=\"xtick_4\">\n     <g id=\"line2d_7\">\n      <path clip-path=\"url(#p307786b5e3)\" d=\"M 762.288717 457.198125 \nL 762.288717 22.318125 \n\" style=\"fill:none;stroke:#666666;stroke-linecap:square;stroke-opacity:0.2;stroke-width:0.8;\"/>\n     </g>\n     <g id=\"line2d_8\">\n      <g>\n       <use style=\"stroke:#000000;stroke-width:0.8;\" x=\"762.288717\" xlink:href=\"#m7e7c466889\" y=\"457.198125\"/>\n      </g>\n     </g>\n     <g id=\"text_4\">\n      <!-- 0.03 -->\n      <defs>\n       <path d=\"M 40.578125 39.3125 \nQ 47.65625 37.796875 51.625 33 \nQ 55.609375 28.21875 55.609375 21.1875 \nQ 55.609375 10.40625 48.1875 4.484375 \nQ 40.765625 -1.421875 27.09375 -1.421875 \nQ 22.515625 -1.421875 17.65625 -0.515625 \nQ 12.796875 0.390625 7.625 2.203125 \nL 7.625 11.71875 \nQ 11.71875 9.328125 16.59375 8.109375 \nQ 21.484375 6.890625 26.8125 6.890625 \nQ 36.078125 6.890625 40.9375 10.546875 \nQ 45.796875 14.203125 45.796875 21.1875 \nQ 45.796875 27.640625 41.28125 31.265625 \nQ 36.765625 34.90625 28.71875 34.90625 \nL 20.21875 34.90625 \nL 20.21875 43.015625 \nL 29.109375 43.015625 \nQ 36.375 43.015625 40.234375 45.921875 \nQ 44.09375 48.828125 44.09375 54.296875 \nQ 44.09375 59.90625 40.109375 62.90625 \nQ 36.140625 65.921875 28.71875 65.921875 \nQ 24.65625 65.921875 20.015625 65.03125 \nQ 15.375 64.15625 9.8125 62.3125 \nL 9.8125 71.09375 \nQ 15.4375 72.65625 20.34375 73.4375 \nQ 25.25 74.21875 29.59375 74.21875 \nQ 40.828125 74.21875 47.359375 69.109375 \nQ 53.90625 64.015625 53.90625 55.328125 \nQ 53.90625 49.265625 50.4375 45.09375 \nQ 46.96875 40.921875 40.578125 39.3125 \nz\n\" id=\"DejaVuSans-51\"/>\n      </defs>\n      <g transform=\"translate(751.155905 471.796562)scale(0.1 -0.1)\">\n       <use xlink:href=\"#DejaVuSans-48\"/>\n       <use x=\"63.623047\" xlink:href=\"#DejaVuSans-46\"/>\n       <use x=\"95.410156\" xlink:href=\"#DejaVuSans-48\"/>\n       <use x=\"159.033203\" xlink:href=\"#DejaVuSans-51\"/>\n      </g>\n     </g>\n    </g>\n    <g id=\"xtick_5\">\n     <g id=\"line2d_9\">\n      <path clip-path=\"url(#p307786b5e3)\" d=\"M 849.822977 457.198125 \nL 849.822977 22.318125 \n\" style=\"fill:none;stroke:#666666;stroke-linecap:square;stroke-opacity:0.2;stroke-width:0.8;\"/>\n     </g>\n     <g id=\"line2d_10\">\n      <g>\n       <use style=\"stroke:#000000;stroke-width:0.8;\" x=\"849.822977\" xlink:href=\"#m7e7c466889\" y=\"457.198125\"/>\n      </g>\n     </g>\n     <g id=\"text_5\">\n      <!-- 0.04 -->\n      <defs>\n       <path d=\"M 37.796875 64.3125 \nL 12.890625 25.390625 \nL 37.796875 25.390625 \nz\nM 35.203125 72.90625 \nL 47.609375 72.90625 \nL 47.609375 25.390625 \nL 58.015625 25.390625 \nL 58.015625 17.1875 \nL 47.609375 17.1875 \nL 47.609375 0 \nL 37.796875 0 \nL 37.796875 17.1875 \nL 4.890625 17.1875 \nL 4.890625 26.703125 \nz\n\" id=\"DejaVuSans-52\"/>\n      </defs>\n      <g transform=\"translate(838.690165 471.796562)scale(0.1 -0.1)\">\n       <use xlink:href=\"#DejaVuSans-48\"/>\n       <use x=\"63.623047\" xlink:href=\"#DejaVuSans-46\"/>\n       <use x=\"95.410156\" xlink:href=\"#DejaVuSans-48\"/>\n       <use x=\"159.033203\" xlink:href=\"#DejaVuSans-52\"/>\n      </g>\n     </g>\n    </g>\n    <g id=\"xtick_6\">\n     <g id=\"line2d_11\">\n      <path clip-path=\"url(#p307786b5e3)\" d=\"M 937.357237 457.198125 \nL 937.357237 22.318125 \n\" style=\"fill:none;stroke:#666666;stroke-linecap:square;stroke-opacity:0.2;stroke-width:0.8;\"/>\n     </g>\n     <g id=\"line2d_12\">\n      <g>\n       <use style=\"stroke:#000000;stroke-width:0.8;\" x=\"937.357237\" xlink:href=\"#m7e7c466889\" y=\"457.198125\"/>\n      </g>\n     </g>\n     <g id=\"text_6\">\n      <!-- 0.05 -->\n      <defs>\n       <path d=\"M 10.796875 72.90625 \nL 49.515625 72.90625 \nL 49.515625 64.59375 \nL 19.828125 64.59375 \nL 19.828125 46.734375 \nQ 21.96875 47.46875 24.109375 47.828125 \nQ 26.265625 48.1875 28.421875 48.1875 \nQ 40.625 48.1875 47.75 41.5 \nQ 54.890625 34.8125 54.890625 23.390625 \nQ 54.890625 11.625 47.5625 5.09375 \nQ 40.234375 -1.421875 26.90625 -1.421875 \nQ 22.3125 -1.421875 17.546875 -0.640625 \nQ 12.796875 0.140625 7.71875 1.703125 \nL 7.71875 11.625 \nQ 12.109375 9.234375 16.796875 8.0625 \nQ 21.484375 6.890625 26.703125 6.890625 \nQ 35.15625 6.890625 40.078125 11.328125 \nQ 45.015625 15.765625 45.015625 23.390625 \nQ 45.015625 31 40.078125 35.4375 \nQ 35.15625 39.890625 26.703125 39.890625 \nQ 22.75 39.890625 18.8125 39.015625 \nQ 14.890625 38.140625 10.796875 36.28125 \nz\n\" id=\"DejaVuSans-53\"/>\n      </defs>\n      <g transform=\"translate(926.224424 471.796562)scale(0.1 -0.1)\">\n       <use xlink:href=\"#DejaVuSans-48\"/>\n       <use x=\"63.623047\" xlink:href=\"#DejaVuSans-46\"/>\n       <use x=\"95.410156\" xlink:href=\"#DejaVuSans-48\"/>\n       <use x=\"159.033203\" xlink:href=\"#DejaVuSans-53\"/>\n      </g>\n     </g>\n    </g>\n    <g id=\"xtick_7\">\n     <g id=\"line2d_13\">\n      <path clip-path=\"url(#p307786b5e3)\" d=\"M 1024.891497 457.198125 \nL 1024.891497 22.318125 \n\" style=\"fill:none;stroke:#666666;stroke-linecap:square;stroke-opacity:0.2;stroke-width:0.8;\"/>\n     </g>\n     <g id=\"line2d_14\">\n      <g>\n       <use style=\"stroke:#000000;stroke-width:0.8;\" x=\"1024.891497\" xlink:href=\"#m7e7c466889\" y=\"457.198125\"/>\n      </g>\n     </g>\n     <g id=\"text_7\">\n      <!-- 0.06 -->\n      <defs>\n       <path d=\"M 33.015625 40.375 \nQ 26.375 40.375 22.484375 35.828125 \nQ 18.609375 31.296875 18.609375 23.390625 \nQ 18.609375 15.53125 22.484375 10.953125 \nQ 26.375 6.390625 33.015625 6.390625 \nQ 39.65625 6.390625 43.53125 10.953125 \nQ 47.40625 15.53125 47.40625 23.390625 \nQ 47.40625 31.296875 43.53125 35.828125 \nQ 39.65625 40.375 33.015625 40.375 \nz\nM 52.59375 71.296875 \nL 52.59375 62.3125 \nQ 48.875 64.0625 45.09375 64.984375 \nQ 41.3125 65.921875 37.59375 65.921875 \nQ 27.828125 65.921875 22.671875 59.328125 \nQ 17.53125 52.734375 16.796875 39.40625 \nQ 19.671875 43.65625 24.015625 45.921875 \nQ 28.375 48.1875 33.59375 48.1875 \nQ 44.578125 48.1875 50.953125 41.515625 \nQ 57.328125 34.859375 57.328125 23.390625 \nQ 57.328125 12.15625 50.6875 5.359375 \nQ 44.046875 -1.421875 33.015625 -1.421875 \nQ 20.359375 -1.421875 13.671875 8.265625 \nQ 6.984375 17.96875 6.984375 36.375 \nQ 6.984375 53.65625 15.1875 63.9375 \nQ 23.390625 74.21875 37.203125 74.21875 \nQ 40.921875 74.21875 44.703125 73.484375 \nQ 48.484375 72.75 52.59375 71.296875 \nz\n\" id=\"DejaVuSans-54\"/>\n      </defs>\n      <g transform=\"translate(1013.758684 471.796562)scale(0.1 -0.1)\">\n       <use xlink:href=\"#DejaVuSans-48\"/>\n       <use x=\"63.623047\" xlink:href=\"#DejaVuSans-46\"/>\n       <use x=\"95.410156\" xlink:href=\"#DejaVuSans-48\"/>\n       <use x=\"159.033203\" xlink:href=\"#DejaVuSans-54\"/>\n      </g>\n     </g>\n    </g>\n    <g id=\"xtick_8\">\n     <g id=\"line2d_15\">\n      <path clip-path=\"url(#p307786b5e3)\" d=\"M 1112.425757 457.198125 \nL 1112.425757 22.318125 \n\" style=\"fill:none;stroke:#666666;stroke-linecap:square;stroke-opacity:0.2;stroke-width:0.8;\"/>\n     </g>\n     <g id=\"line2d_16\">\n      <g>\n       <use style=\"stroke:#000000;stroke-width:0.8;\" x=\"1112.425757\" xlink:href=\"#m7e7c466889\" y=\"457.198125\"/>\n      </g>\n     </g>\n     <g id=\"text_8\">\n      <!-- 0.07 -->\n      <defs>\n       <path d=\"M 8.203125 72.90625 \nL 55.078125 72.90625 \nL 55.078125 68.703125 \nL 28.609375 0 \nL 18.3125 0 \nL 43.21875 64.59375 \nL 8.203125 64.59375 \nz\n\" id=\"DejaVuSans-55\"/>\n      </defs>\n      <g transform=\"translate(1101.292944 471.796562)scale(0.1 -0.1)\">\n       <use xlink:href=\"#DejaVuSans-48\"/>\n       <use x=\"63.623047\" xlink:href=\"#DejaVuSans-46\"/>\n       <use x=\"95.410156\" xlink:href=\"#DejaVuSans-48\"/>\n       <use x=\"159.033203\" xlink:href=\"#DejaVuSans-55\"/>\n      </g>\n     </g>\n    </g>\n    <g id=\"text_9\">\n     <!-- Feature Importance Score -->\n     <defs>\n      <path d=\"M 9.8125 72.90625 \nL 51.703125 72.90625 \nL 51.703125 64.59375 \nL 19.671875 64.59375 \nL 19.671875 43.109375 \nL 48.578125 43.109375 \nL 48.578125 34.8125 \nL 19.671875 34.8125 \nL 19.671875 0 \nL 9.8125 0 \nz\n\" id=\"DejaVuSans-70\"/>\n      <path d=\"M 56.203125 29.59375 \nL 56.203125 25.203125 \nL 14.890625 25.203125 \nQ 15.484375 15.921875 20.484375 11.0625 \nQ 25.484375 6.203125 34.421875 6.203125 \nQ 39.59375 6.203125 44.453125 7.46875 \nQ 49.3125 8.734375 54.109375 11.28125 \nL 54.109375 2.78125 \nQ 49.265625 0.734375 44.1875 -0.34375 \nQ 39.109375 -1.421875 33.890625 -1.421875 \nQ 20.796875 -1.421875 13.15625 6.1875 \nQ 5.515625 13.8125 5.515625 26.8125 \nQ 5.515625 40.234375 12.765625 48.109375 \nQ 20.015625 56 32.328125 56 \nQ 43.359375 56 49.78125 48.890625 \nQ 56.203125 41.796875 56.203125 29.59375 \nz\nM 47.21875 32.234375 \nQ 47.125 39.59375 43.09375 43.984375 \nQ 39.0625 48.390625 32.421875 48.390625 \nQ 24.90625 48.390625 20.390625 44.140625 \nQ 15.875 39.890625 15.1875 32.171875 \nz\n\" id=\"DejaVuSans-101\"/>\n      <path d=\"M 34.28125 27.484375 \nQ 23.390625 27.484375 19.1875 25 \nQ 14.984375 22.515625 14.984375 16.5 \nQ 14.984375 11.71875 18.140625 8.90625 \nQ 21.296875 6.109375 26.703125 6.109375 \nQ 34.1875 6.109375 38.703125 11.40625 \nQ 43.21875 16.703125 43.21875 25.484375 \nL 43.21875 27.484375 \nz\nM 52.203125 31.203125 \nL 52.203125 0 \nL 43.21875 0 \nL 43.21875 8.296875 \nQ 40.140625 3.328125 35.546875 0.953125 \nQ 30.953125 -1.421875 24.3125 -1.421875 \nQ 15.921875 -1.421875 10.953125 3.296875 \nQ 6 8.015625 6 15.921875 \nQ 6 25.140625 12.171875 29.828125 \nQ 18.359375 34.515625 30.609375 34.515625 \nL 43.21875 34.515625 \nL 43.21875 35.40625 \nQ 43.21875 41.609375 39.140625 45 \nQ 35.0625 48.390625 27.6875 48.390625 \nQ 23 48.390625 18.546875 47.265625 \nQ 14.109375 46.140625 10.015625 43.890625 \nL 10.015625 52.203125 \nQ 14.9375 54.109375 19.578125 55.046875 \nQ 24.21875 56 28.609375 56 \nQ 40.484375 56 46.34375 49.84375 \nQ 52.203125 43.703125 52.203125 31.203125 \nz\n\" id=\"DejaVuSans-97\"/>\n      <path d=\"M 18.3125 70.21875 \nL 18.3125 54.6875 \nL 36.8125 54.6875 \nL 36.8125 47.703125 \nL 18.3125 47.703125 \nL 18.3125 18.015625 \nQ 18.3125 11.328125 20.140625 9.421875 \nQ 21.96875 7.515625 27.59375 7.515625 \nL 36.8125 7.515625 \nL 36.8125 0 \nL 27.59375 0 \nQ 17.1875 0 13.234375 3.875 \nQ 9.28125 7.765625 9.28125 18.015625 \nL 9.28125 47.703125 \nL 2.6875 47.703125 \nL 2.6875 54.6875 \nL 9.28125 54.6875 \nL 9.28125 70.21875 \nz\n\" id=\"DejaVuSans-116\"/>\n      <path d=\"M 8.5 21.578125 \nL 8.5 54.6875 \nL 17.484375 54.6875 \nL 17.484375 21.921875 \nQ 17.484375 14.15625 20.5 10.265625 \nQ 23.53125 6.390625 29.59375 6.390625 \nQ 36.859375 6.390625 41.078125 11.03125 \nQ 45.3125 15.671875 45.3125 23.6875 \nL 45.3125 54.6875 \nL 54.296875 54.6875 \nL 54.296875 0 \nL 45.3125 0 \nL 45.3125 8.40625 \nQ 42.046875 3.421875 37.71875 1 \nQ 33.40625 -1.421875 27.6875 -1.421875 \nQ 18.265625 -1.421875 13.375 4.4375 \nQ 8.5 10.296875 8.5 21.578125 \nz\nM 31.109375 56 \nz\n\" id=\"DejaVuSans-117\"/>\n      <path d=\"M 41.109375 46.296875 \nQ 39.59375 47.171875 37.8125 47.578125 \nQ 36.03125 48 33.890625 48 \nQ 26.265625 48 22.1875 43.046875 \nQ 18.109375 38.09375 18.109375 28.8125 \nL 18.109375 0 \nL 9.078125 0 \nL 9.078125 54.6875 \nL 18.109375 54.6875 \nL 18.109375 46.1875 \nQ 20.953125 51.171875 25.484375 53.578125 \nQ 30.03125 56 36.53125 56 \nQ 37.453125 56 38.578125 55.875 \nQ 39.703125 55.765625 41.0625 55.515625 \nz\n\" id=\"DejaVuSans-114\"/>\n      <path id=\"DejaVuSans-32\"/>\n      <path d=\"M 9.8125 72.90625 \nL 19.671875 72.90625 \nL 19.671875 0 \nL 9.8125 0 \nz\n\" id=\"DejaVuSans-73\"/>\n      <path d=\"M 52 44.1875 \nQ 55.375 50.25 60.0625 53.125 \nQ 64.75 56 71.09375 56 \nQ 79.640625 56 84.28125 50.015625 \nQ 88.921875 44.046875 88.921875 33.015625 \nL 88.921875 0 \nL 79.890625 0 \nL 79.890625 32.71875 \nQ 79.890625 40.578125 77.09375 44.375 \nQ 74.3125 48.1875 68.609375 48.1875 \nQ 61.625 48.1875 57.5625 43.546875 \nQ 53.515625 38.921875 53.515625 30.90625 \nL 53.515625 0 \nL 44.484375 0 \nL 44.484375 32.71875 \nQ 44.484375 40.625 41.703125 44.40625 \nQ 38.921875 48.1875 33.109375 48.1875 \nQ 26.21875 48.1875 22.15625 43.53125 \nQ 18.109375 38.875 18.109375 30.90625 \nL 18.109375 0 \nL 9.078125 0 \nL 9.078125 54.6875 \nL 18.109375 54.6875 \nL 18.109375 46.1875 \nQ 21.1875 51.21875 25.484375 53.609375 \nQ 29.78125 56 35.6875 56 \nQ 41.65625 56 45.828125 52.96875 \nQ 50 49.953125 52 44.1875 \nz\n\" id=\"DejaVuSans-109\"/>\n      <path d=\"M 18.109375 8.203125 \nL 18.109375 -20.796875 \nL 9.078125 -20.796875 \nL 9.078125 54.6875 \nL 18.109375 54.6875 \nL 18.109375 46.390625 \nQ 20.953125 51.265625 25.265625 53.625 \nQ 29.59375 56 35.59375 56 \nQ 45.5625 56 51.78125 48.09375 \nQ 58.015625 40.1875 58.015625 27.296875 \nQ 58.015625 14.40625 51.78125 6.484375 \nQ 45.5625 -1.421875 35.59375 -1.421875 \nQ 29.59375 -1.421875 25.265625 0.953125 \nQ 20.953125 3.328125 18.109375 8.203125 \nz\nM 48.6875 27.296875 \nQ 48.6875 37.203125 44.609375 42.84375 \nQ 40.53125 48.484375 33.40625 48.484375 \nQ 26.265625 48.484375 22.1875 42.84375 \nQ 18.109375 37.203125 18.109375 27.296875 \nQ 18.109375 17.390625 22.1875 11.75 \nQ 26.265625 6.109375 33.40625 6.109375 \nQ 40.53125 6.109375 44.609375 11.75 \nQ 48.6875 17.390625 48.6875 27.296875 \nz\n\" id=\"DejaVuSans-112\"/>\n      <path d=\"M 30.609375 48.390625 \nQ 23.390625 48.390625 19.1875 42.75 \nQ 14.984375 37.109375 14.984375 27.296875 \nQ 14.984375 17.484375 19.15625 11.84375 \nQ 23.34375 6.203125 30.609375 6.203125 \nQ 37.796875 6.203125 41.984375 11.859375 \nQ 46.1875 17.53125 46.1875 27.296875 \nQ 46.1875 37.015625 41.984375 42.703125 \nQ 37.796875 48.390625 30.609375 48.390625 \nz\nM 30.609375 56 \nQ 42.328125 56 49.015625 48.375 \nQ 55.71875 40.765625 55.71875 27.296875 \nQ 55.71875 13.875 49.015625 6.21875 \nQ 42.328125 -1.421875 30.609375 -1.421875 \nQ 18.84375 -1.421875 12.171875 6.21875 \nQ 5.515625 13.875 5.515625 27.296875 \nQ 5.515625 40.765625 12.171875 48.375 \nQ 18.84375 56 30.609375 56 \nz\n\" id=\"DejaVuSans-111\"/>\n      <path d=\"M 54.890625 33.015625 \nL 54.890625 0 \nL 45.90625 0 \nL 45.90625 32.71875 \nQ 45.90625 40.484375 42.875 44.328125 \nQ 39.84375 48.1875 33.796875 48.1875 \nQ 26.515625 48.1875 22.3125 43.546875 \nQ 18.109375 38.921875 18.109375 30.90625 \nL 18.109375 0 \nL 9.078125 0 \nL 9.078125 54.6875 \nL 18.109375 54.6875 \nL 18.109375 46.1875 \nQ 21.34375 51.125 25.703125 53.5625 \nQ 30.078125 56 35.796875 56 \nQ 45.21875 56 50.046875 50.171875 \nQ 54.890625 44.34375 54.890625 33.015625 \nz\n\" id=\"DejaVuSans-110\"/>\n      <path d=\"M 48.78125 52.59375 \nL 48.78125 44.1875 \nQ 44.96875 46.296875 41.140625 47.34375 \nQ 37.3125 48.390625 33.40625 48.390625 \nQ 24.65625 48.390625 19.8125 42.84375 \nQ 14.984375 37.3125 14.984375 27.296875 \nQ 14.984375 17.28125 19.8125 11.734375 \nQ 24.65625 6.203125 33.40625 6.203125 \nQ 37.3125 6.203125 41.140625 7.25 \nQ 44.96875 8.296875 48.78125 10.40625 \nL 48.78125 2.09375 \nQ 45.015625 0.34375 40.984375 -0.53125 \nQ 36.96875 -1.421875 32.421875 -1.421875 \nQ 20.0625 -1.421875 12.78125 6.34375 \nQ 5.515625 14.109375 5.515625 27.296875 \nQ 5.515625 40.671875 12.859375 48.328125 \nQ 20.21875 56 33.015625 56 \nQ 37.15625 56 41.109375 55.140625 \nQ 45.0625 54.296875 48.78125 52.59375 \nz\n\" id=\"DejaVuSans-99\"/>\n      <path d=\"M 53.515625 70.515625 \nL 53.515625 60.890625 \nQ 47.90625 63.578125 42.921875 64.890625 \nQ 37.9375 66.21875 33.296875 66.21875 \nQ 25.25 66.21875 20.875 63.09375 \nQ 16.5 59.96875 16.5 54.203125 \nQ 16.5 49.359375 19.40625 46.890625 \nQ 22.3125 44.4375 30.421875 42.921875 \nL 36.375 41.703125 \nQ 47.40625 39.59375 52.65625 34.296875 \nQ 57.90625 29 57.90625 20.125 \nQ 57.90625 9.515625 50.796875 4.046875 \nQ 43.703125 -1.421875 29.984375 -1.421875 \nQ 24.8125 -1.421875 18.96875 -0.25 \nQ 13.140625 0.921875 6.890625 3.21875 \nL 6.890625 13.375 \nQ 12.890625 10.015625 18.65625 8.296875 \nQ 24.421875 6.59375 29.984375 6.59375 \nQ 38.421875 6.59375 43.015625 9.90625 \nQ 47.609375 13.234375 47.609375 19.390625 \nQ 47.609375 24.75 44.3125 27.78125 \nQ 41.015625 30.8125 33.5 32.328125 \nL 27.484375 33.5 \nQ 16.453125 35.6875 11.515625 40.375 \nQ 6.59375 45.0625 6.59375 53.421875 \nQ 6.59375 63.09375 13.40625 68.65625 \nQ 20.21875 74.21875 32.171875 74.21875 \nQ 37.3125 74.21875 42.625 73.28125 \nQ 47.953125 72.359375 53.515625 70.515625 \nz\n\" id=\"DejaVuSans-83\"/>\n     </defs>\n     <g transform=\"translate(769.7625 485.474687)scale(0.1 -0.1)\">\n      <use xlink:href=\"#DejaVuSans-70\"/>\n      <use x=\"52.019531\" xlink:href=\"#DejaVuSans-101\"/>\n      <use x=\"113.542969\" xlink:href=\"#DejaVuSans-97\"/>\n      <use x=\"174.822266\" xlink:href=\"#DejaVuSans-116\"/>\n      <use x=\"214.03125\" xlink:href=\"#DejaVuSans-117\"/>\n      <use x=\"277.410156\" xlink:href=\"#DejaVuSans-114\"/>\n      <use x=\"316.273438\" xlink:href=\"#DejaVuSans-101\"/>\n      <use x=\"377.796875\" xlink:href=\"#DejaVuSans-32\"/>\n      <use x=\"409.583984\" xlink:href=\"#DejaVuSans-73\"/>\n      <use x=\"439.076172\" xlink:href=\"#DejaVuSans-109\"/>\n      <use x=\"536.488281\" xlink:href=\"#DejaVuSans-112\"/>\n      <use x=\"599.964844\" xlink:href=\"#DejaVuSans-111\"/>\n      <use x=\"661.146484\" xlink:href=\"#DejaVuSans-114\"/>\n      <use x=\"702.259766\" xlink:href=\"#DejaVuSans-116\"/>\n      <use x=\"741.46875\" xlink:href=\"#DejaVuSans-97\"/>\n      <use x=\"802.748047\" xlink:href=\"#DejaVuSans-110\"/>\n      <use x=\"866.126953\" xlink:href=\"#DejaVuSans-99\"/>\n      <use x=\"921.107422\" xlink:href=\"#DejaVuSans-101\"/>\n      <use x=\"982.630859\" xlink:href=\"#DejaVuSans-32\"/>\n      <use x=\"1014.417969\" xlink:href=\"#DejaVuSans-83\"/>\n      <use x=\"1077.894531\" xlink:href=\"#DejaVuSans-99\"/>\n      <use x=\"1132.875\" xlink:href=\"#DejaVuSans-111\"/>\n      <use x=\"1194.056641\" xlink:href=\"#DejaVuSans-114\"/>\n      <use x=\"1232.919922\" xlink:href=\"#DejaVuSans-101\"/>\n     </g>\n    </g>\n   </g>\n   <g id=\"matplotlib.axis_2\">\n    <g id=\"ytick_1\">\n     <g id=\"line2d_17\">\n      <path clip-path=\"url(#p307786b5e3)\" d=\"M 499.685937 29.566125 \nL 1169.285938 29.566125 \n\" style=\"fill:none;stroke:#666666;stroke-linecap:square;stroke-opacity:0.2;stroke-width:0.8;\"/>\n     </g>\n     <g id=\"line2d_18\">\n      <defs>\n       <path d=\"M 0 0 \nL -3.5 0 \n\" id=\"m47f8fd080c\" style=\"stroke:#000000;stroke-width:0.8;\"/>\n      </defs>\n      <g>\n       <use style=\"stroke:#000000;stroke-width:0.8;\" x=\"499.685937\" xlink:href=\"#m47f8fd080c\" y=\"29.566125\"/>\n      </g>\n     </g>\n     <g id=\"text_10\">\n      <!-- age -->\n      <defs>\n       <path d=\"M 45.40625 27.984375 \nQ 45.40625 37.75 41.375 43.109375 \nQ 37.359375 48.484375 30.078125 48.484375 \nQ 22.859375 48.484375 18.828125 43.109375 \nQ 14.796875 37.75 14.796875 27.984375 \nQ 14.796875 18.265625 18.828125 12.890625 \nQ 22.859375 7.515625 30.078125 7.515625 \nQ 37.359375 7.515625 41.375 12.890625 \nQ 45.40625 18.265625 45.40625 27.984375 \nz\nM 54.390625 6.78125 \nQ 54.390625 -7.171875 48.1875 -13.984375 \nQ 42 -20.796875 29.203125 -20.796875 \nQ 24.46875 -20.796875 20.265625 -20.09375 \nQ 16.0625 -19.390625 12.109375 -17.921875 \nL 12.109375 -9.1875 \nQ 16.0625 -11.328125 19.921875 -12.34375 \nQ 23.78125 -13.375 27.78125 -13.375 \nQ 36.625 -13.375 41.015625 -8.765625 \nQ 45.40625 -4.15625 45.40625 5.171875 \nL 45.40625 9.625 \nQ 42.625 4.78125 38.28125 2.390625 \nQ 33.9375 0 27.875 0 \nQ 17.828125 0 11.671875 7.65625 \nQ 5.515625 15.328125 5.515625 27.984375 \nQ 5.515625 40.671875 11.671875 48.328125 \nQ 17.828125 56 27.875 56 \nQ 33.9375 56 38.28125 53.609375 \nQ 42.625 51.21875 45.40625 46.390625 \nL 45.40625 54.6875 \nL 54.390625 54.6875 \nz\n\" id=\"DejaVuSans-103\"/>\n      </defs>\n      <g transform=\"translate(474.05625 33.365344)scale(0.1 -0.1)\">\n       <use xlink:href=\"#DejaVuSans-97\"/>\n       <use x=\"61.279297\" xlink:href=\"#DejaVuSans-103\"/>\n       <use x=\"124.755859\" xlink:href=\"#DejaVuSans-101\"/>\n      </g>\n     </g>\n    </g>\n    <g id=\"ytick_2\">\n     <g id=\"line2d_19\">\n      <path clip-path=\"url(#p307786b5e3)\" d=\"M 499.685937 44.062125 \nL 1169.285938 44.062125 \n\" style=\"fill:none;stroke:#666666;stroke-linecap:square;stroke-opacity:0.2;stroke-width:0.8;\"/>\n     </g>\n     <g id=\"line2d_20\">\n      <g>\n       <use style=\"stroke:#000000;stroke-width:0.8;\" x=\"499.685937\" xlink:href=\"#m47f8fd080c\" y=\"44.062125\"/>\n      </g>\n     </g>\n     <g id=\"text_11\">\n      <!-- psu -->\n      <defs>\n       <path d=\"M 44.28125 53.078125 \nL 44.28125 44.578125 \nQ 40.484375 46.53125 36.375 47.5 \nQ 32.28125 48.484375 27.875 48.484375 \nQ 21.1875 48.484375 17.84375 46.4375 \nQ 14.5 44.390625 14.5 40.28125 \nQ 14.5 37.15625 16.890625 35.375 \nQ 19.28125 33.59375 26.515625 31.984375 \nL 29.59375 31.296875 \nQ 39.15625 29.25 43.1875 25.515625 \nQ 47.21875 21.78125 47.21875 15.09375 \nQ 47.21875 7.46875 41.1875 3.015625 \nQ 35.15625 -1.421875 24.609375 -1.421875 \nQ 20.21875 -1.421875 15.453125 -0.5625 \nQ 10.6875 0.296875 5.421875 2 \nL 5.421875 11.28125 \nQ 10.40625 8.6875 15.234375 7.390625 \nQ 20.0625 6.109375 24.8125 6.109375 \nQ 31.15625 6.109375 34.5625 8.28125 \nQ 37.984375 10.453125 37.984375 14.40625 \nQ 37.984375 18.0625 35.515625 20.015625 \nQ 33.0625 21.96875 24.703125 23.78125 \nL 21.578125 24.515625 \nQ 13.234375 26.265625 9.515625 29.90625 \nQ 5.8125 33.546875 5.8125 39.890625 \nQ 5.8125 47.609375 11.28125 51.796875 \nQ 16.75 56 26.8125 56 \nQ 31.78125 56 36.171875 55.265625 \nQ 40.578125 54.546875 44.28125 53.078125 \nz\n\" id=\"DejaVuSans-115\"/>\n      </defs>\n      <g transform=\"translate(474.790625 47.861344)scale(0.1 -0.1)\">\n       <use xlink:href=\"#DejaVuSans-112\"/>\n       <use x=\"63.476562\" xlink:href=\"#DejaVuSans-115\"/>\n       <use x=\"115.576172\" xlink:href=\"#DejaVuSans-117\"/>\n      </g>\n     </g>\n    </g>\n    <g id=\"ytick_3\">\n     <g id=\"line2d_21\">\n      <path clip-path=\"url(#p307786b5e3)\" d=\"M 499.685937 58.558125 \nL 1169.285938 58.558125 \n\" style=\"fill:none;stroke:#666666;stroke-linecap:square;stroke-opacity:0.2;stroke-width:0.8;\"/>\n     </g>\n     <g id=\"line2d_22\">\n      <g>\n       <use style=\"stroke:#000000;stroke-width:0.8;\" x=\"499.685937\" xlink:href=\"#m47f8fd080c\" y=\"58.558125\"/>\n      </g>\n     </g>\n     <g id=\"text_12\">\n      <!-- Education_Grade 12/Standard 10/Form 5/Matric (No Exemption) -->\n      <defs>\n       <path d=\"M 9.8125 72.90625 \nL 55.90625 72.90625 \nL 55.90625 64.59375 \nL 19.671875 64.59375 \nL 19.671875 43.015625 \nL 54.390625 43.015625 \nL 54.390625 34.71875 \nL 19.671875 34.71875 \nL 19.671875 8.296875 \nL 56.78125 8.296875 \nL 56.78125 0 \nL 9.8125 0 \nz\n\" id=\"DejaVuSans-69\"/>\n       <path d=\"M 45.40625 46.390625 \nL 45.40625 75.984375 \nL 54.390625 75.984375 \nL 54.390625 0 \nL 45.40625 0 \nL 45.40625 8.203125 \nQ 42.578125 3.328125 38.25 0.953125 \nQ 33.9375 -1.421875 27.875 -1.421875 \nQ 17.96875 -1.421875 11.734375 6.484375 \nQ 5.515625 14.40625 5.515625 27.296875 \nQ 5.515625 40.1875 11.734375 48.09375 \nQ 17.96875 56 27.875 56 \nQ 33.9375 56 38.25 53.625 \nQ 42.578125 51.265625 45.40625 46.390625 \nz\nM 14.796875 27.296875 \nQ 14.796875 17.390625 18.875 11.75 \nQ 22.953125 6.109375 30.078125 6.109375 \nQ 37.203125 6.109375 41.296875 11.75 \nQ 45.40625 17.390625 45.40625 27.296875 \nQ 45.40625 37.203125 41.296875 42.84375 \nQ 37.203125 48.484375 30.078125 48.484375 \nQ 22.953125 48.484375 18.875 42.84375 \nQ 14.796875 37.203125 14.796875 27.296875 \nz\n\" id=\"DejaVuSans-100\"/>\n       <path d=\"M 9.421875 54.6875 \nL 18.40625 54.6875 \nL 18.40625 0 \nL 9.421875 0 \nz\nM 9.421875 75.984375 \nL 18.40625 75.984375 \nL 18.40625 64.59375 \nL 9.421875 64.59375 \nz\n\" id=\"DejaVuSans-105\"/>\n       <path d=\"M 50.984375 -16.609375 \nL 50.984375 -23.578125 \nL -0.984375 -23.578125 \nL -0.984375 -16.609375 \nz\n\" id=\"DejaVuSans-95\"/>\n       <path d=\"M 59.515625 10.40625 \nL 59.515625 29.984375 \nL 43.40625 29.984375 \nL 43.40625 38.09375 \nL 69.28125 38.09375 \nL 69.28125 6.78125 \nQ 63.578125 2.734375 56.6875 0.65625 \nQ 49.8125 -1.421875 42 -1.421875 \nQ 24.90625 -1.421875 15.25 8.5625 \nQ 5.609375 18.5625 5.609375 36.375 \nQ 5.609375 54.25 15.25 64.234375 \nQ 24.90625 74.21875 42 74.21875 \nQ 49.125 74.21875 55.546875 72.453125 \nQ 61.96875 70.703125 67.390625 67.28125 \nL 67.390625 56.78125 \nQ 61.921875 61.421875 55.765625 63.765625 \nQ 49.609375 66.109375 42.828125 66.109375 \nQ 29.4375 66.109375 22.71875 58.640625 \nQ 16.015625 51.171875 16.015625 36.375 \nQ 16.015625 21.625 22.71875 14.15625 \nQ 29.4375 6.6875 42.828125 6.6875 \nQ 48.046875 6.6875 52.140625 7.59375 \nQ 56.25 8.5 59.515625 10.40625 \nz\n\" id=\"DejaVuSans-71\"/>\n       <path d=\"M 25.390625 72.90625 \nL 33.6875 72.90625 \nL 8.296875 -9.28125 \nL 0 -9.28125 \nz\n\" id=\"DejaVuSans-47\"/>\n       <path d=\"M 9.8125 72.90625 \nL 24.515625 72.90625 \nL 43.109375 23.296875 \nL 61.8125 72.90625 \nL 76.515625 72.90625 \nL 76.515625 0 \nL 66.890625 0 \nL 66.890625 64.015625 \nL 48.09375 14.015625 \nL 38.1875 14.015625 \nL 19.390625 64.015625 \nL 19.390625 0 \nL 9.8125 0 \nz\n\" id=\"DejaVuSans-77\"/>\n       <path d=\"M 31 75.875 \nQ 24.46875 64.65625 21.28125 53.65625 \nQ 18.109375 42.671875 18.109375 31.390625 \nQ 18.109375 20.125 21.3125 9.0625 \nQ 24.515625 -2 31 -13.1875 \nL 23.1875 -13.1875 \nQ 15.875 -1.703125 12.234375 9.375 \nQ 8.59375 20.453125 8.59375 31.390625 \nQ 8.59375 42.28125 12.203125 53.3125 \nQ 15.828125 64.359375 23.1875 75.875 \nz\n\" id=\"DejaVuSans-40\"/>\n       <path d=\"M 9.8125 72.90625 \nL 23.09375 72.90625 \nL 55.421875 11.921875 \nL 55.421875 72.90625 \nL 64.984375 72.90625 \nL 64.984375 0 \nL 51.703125 0 \nL 19.390625 60.984375 \nL 19.390625 0 \nL 9.8125 0 \nz\n\" id=\"DejaVuSans-78\"/>\n       <path d=\"M 54.890625 54.6875 \nL 35.109375 28.078125 \nL 55.90625 0 \nL 45.3125 0 \nL 29.390625 21.484375 \nL 13.484375 0 \nL 2.875 0 \nL 24.125 28.609375 \nL 4.6875 54.6875 \nL 15.28125 54.6875 \nL 29.78125 35.203125 \nL 44.28125 54.6875 \nz\n\" id=\"DejaVuSans-120\"/>\n       <path d=\"M 8.015625 75.875 \nL 15.828125 75.875 \nQ 23.140625 64.359375 26.78125 53.3125 \nQ 30.421875 42.28125 30.421875 31.390625 \nQ 30.421875 20.453125 26.78125 9.375 \nQ 23.140625 -1.703125 15.828125 -13.1875 \nL 8.015625 -13.1875 \nQ 14.5 -2 17.703125 9.0625 \nQ 20.90625 20.125 20.90625 31.390625 \nQ 20.90625 42.671875 17.703125 53.65625 \nQ 14.5 64.65625 8.015625 75.875 \nz\n\" id=\"DejaVuSans-41\"/>\n      </defs>\n      <g transform=\"translate(173.132812 62.357344)scale(0.1 -0.1)\">\n       <use xlink:href=\"#DejaVuSans-69\"/>\n       <use x=\"63.183594\" xlink:href=\"#DejaVuSans-100\"/>\n       <use x=\"126.660156\" xlink:href=\"#DejaVuSans-117\"/>\n       <use x=\"190.039062\" xlink:href=\"#DejaVuSans-99\"/>\n       <use x=\"245.019531\" xlink:href=\"#DejaVuSans-97\"/>\n       <use x=\"306.298828\" xlink:href=\"#DejaVuSans-116\"/>\n       <use x=\"345.507812\" xlink:href=\"#DejaVuSans-105\"/>\n       <use x=\"373.291016\" xlink:href=\"#DejaVuSans-111\"/>\n       <use x=\"434.472656\" xlink:href=\"#DejaVuSans-110\"/>\n       <use x=\"497.851562\" xlink:href=\"#DejaVuSans-95\"/>\n       <use x=\"547.851562\" xlink:href=\"#DejaVuSans-71\"/>\n       <use x=\"625.341797\" xlink:href=\"#DejaVuSans-114\"/>\n       <use x=\"666.455078\" xlink:href=\"#DejaVuSans-97\"/>\n       <use x=\"727.734375\" xlink:href=\"#DejaVuSans-100\"/>\n       <use x=\"791.210938\" xlink:href=\"#DejaVuSans-101\"/>\n       <use x=\"852.734375\" xlink:href=\"#DejaVuSans-32\"/>\n       <use x=\"884.521484\" xlink:href=\"#DejaVuSans-49\"/>\n       <use x=\"948.144531\" xlink:href=\"#DejaVuSans-50\"/>\n       <use x=\"1011.767578\" xlink:href=\"#DejaVuSans-47\"/>\n       <use x=\"1045.458984\" xlink:href=\"#DejaVuSans-83\"/>\n       <use x=\"1108.935547\" xlink:href=\"#DejaVuSans-116\"/>\n       <use x=\"1148.144531\" xlink:href=\"#DejaVuSans-97\"/>\n       <use x=\"1209.423828\" xlink:href=\"#DejaVuSans-110\"/>\n       <use x=\"1272.802734\" xlink:href=\"#DejaVuSans-100\"/>\n       <use x=\"1336.279297\" xlink:href=\"#DejaVuSans-97\"/>\n       <use x=\"1397.558594\" xlink:href=\"#DejaVuSans-114\"/>\n       <use x=\"1436.921875\" xlink:href=\"#DejaVuSans-100\"/>\n       <use x=\"1500.398438\" xlink:href=\"#DejaVuSans-32\"/>\n       <use x=\"1532.185547\" xlink:href=\"#DejaVuSans-49\"/>\n       <use x=\"1595.808594\" xlink:href=\"#DejaVuSans-48\"/>\n       <use x=\"1659.431641\" xlink:href=\"#DejaVuSans-47\"/>\n       <use x=\"1693.123047\" xlink:href=\"#DejaVuSans-70\"/>\n       <use x=\"1747.017578\" xlink:href=\"#DejaVuSans-111\"/>\n       <use x=\"1808.199219\" xlink:href=\"#DejaVuSans-114\"/>\n       <use x=\"1847.5625\" xlink:href=\"#DejaVuSans-109\"/>\n       <use x=\"1944.974609\" xlink:href=\"#DejaVuSans-32\"/>\n       <use x=\"1976.761719\" xlink:href=\"#DejaVuSans-53\"/>\n       <use x=\"2040.384766\" xlink:href=\"#DejaVuSans-47\"/>\n       <use x=\"2074.076172\" xlink:href=\"#DejaVuSans-77\"/>\n       <use x=\"2160.355469\" xlink:href=\"#DejaVuSans-97\"/>\n       <use x=\"2221.634766\" xlink:href=\"#DejaVuSans-116\"/>\n       <use x=\"2260.84375\" xlink:href=\"#DejaVuSans-114\"/>\n       <use x=\"2301.957031\" xlink:href=\"#DejaVuSans-105\"/>\n       <use x=\"2329.740234\" xlink:href=\"#DejaVuSans-99\"/>\n       <use x=\"2384.720703\" xlink:href=\"#DejaVuSans-32\"/>\n       <use x=\"2416.507812\" xlink:href=\"#DejaVuSans-40\"/>\n       <use x=\"2455.521484\" xlink:href=\"#DejaVuSans-78\"/>\n       <use x=\"2530.326172\" xlink:href=\"#DejaVuSans-111\"/>\n       <use x=\"2591.507812\" xlink:href=\"#DejaVuSans-32\"/>\n       <use x=\"2623.294922\" xlink:href=\"#DejaVuSans-69\"/>\n       <use x=\"2686.478516\" xlink:href=\"#DejaVuSans-120\"/>\n       <use x=\"2742.533203\" xlink:href=\"#DejaVuSans-101\"/>\n       <use x=\"2804.056641\" xlink:href=\"#DejaVuSans-109\"/>\n       <use x=\"2901.46875\" xlink:href=\"#DejaVuSans-112\"/>\n       <use x=\"2964.945312\" xlink:href=\"#DejaVuSans-116\"/>\n       <use x=\"3004.154297\" xlink:href=\"#DejaVuSans-105\"/>\n       <use x=\"3031.9375\" xlink:href=\"#DejaVuSans-111\"/>\n       <use x=\"3093.119141\" xlink:href=\"#DejaVuSans-110\"/>\n       <use x=\"3156.498047\" xlink:href=\"#DejaVuSans-41\"/>\n      </g>\n     </g>\n    </g>\n    <g id=\"ytick_4\">\n     <g id=\"line2d_23\">\n      <path clip-path=\"url(#p307786b5e3)\" d=\"M 499.685937 73.054125 \nL 1169.285938 73.054125 \n\" style=\"fill:none;stroke:#666666;stroke-linecap:square;stroke-opacity:0.2;stroke-width:0.8;\"/>\n     </g>\n     <g id=\"line2d_24\">\n      <g>\n       <use style=\"stroke:#000000;stroke-width:0.8;\" x=\"499.685937\" xlink:href=\"#m47f8fd080c\" y=\"73.054125\"/>\n      </g>\n     </g>\n     <g id=\"text_13\">\n      <!-- dwelling_Dwelling/house or brick/concrete block structure on a separate stand or yard or farm -->\n      <defs>\n       <path d=\"M 4.203125 54.6875 \nL 13.1875 54.6875 \nL 24.421875 12.015625 \nL 35.59375 54.6875 \nL 46.1875 54.6875 \nL 57.421875 12.015625 \nL 68.609375 54.6875 \nL 77.59375 54.6875 \nL 63.28125 0 \nL 52.6875 0 \nL 40.921875 44.828125 \nL 29.109375 0 \nL 18.5 0 \nz\n\" id=\"DejaVuSans-119\"/>\n       <path d=\"M 9.421875 75.984375 \nL 18.40625 75.984375 \nL 18.40625 0 \nL 9.421875 0 \nz\n\" id=\"DejaVuSans-108\"/>\n       <path d=\"M 19.671875 64.796875 \nL 19.671875 8.109375 \nL 31.59375 8.109375 \nQ 46.6875 8.109375 53.6875 14.9375 \nQ 60.6875 21.78125 60.6875 36.53125 \nQ 60.6875 51.171875 53.6875 57.984375 \nQ 46.6875 64.796875 31.59375 64.796875 \nz\nM 9.8125 72.90625 \nL 30.078125 72.90625 \nQ 51.265625 72.90625 61.171875 64.09375 \nQ 71.09375 55.28125 71.09375 36.53125 \nQ 71.09375 17.671875 61.125 8.828125 \nQ 51.171875 0 30.078125 0 \nL 9.8125 0 \nz\n\" id=\"DejaVuSans-68\"/>\n       <path d=\"M 54.890625 33.015625 \nL 54.890625 0 \nL 45.90625 0 \nL 45.90625 32.71875 \nQ 45.90625 40.484375 42.875 44.328125 \nQ 39.84375 48.1875 33.796875 48.1875 \nQ 26.515625 48.1875 22.3125 43.546875 \nQ 18.109375 38.921875 18.109375 30.90625 \nL 18.109375 0 \nL 9.078125 0 \nL 9.078125 75.984375 \nL 18.109375 75.984375 \nL 18.109375 46.1875 \nQ 21.34375 51.125 25.703125 53.5625 \nQ 30.078125 56 35.796875 56 \nQ 45.21875 56 50.046875 50.171875 \nQ 54.890625 44.34375 54.890625 33.015625 \nz\n\" id=\"DejaVuSans-104\"/>\n       <path d=\"M 48.6875 27.296875 \nQ 48.6875 37.203125 44.609375 42.84375 \nQ 40.53125 48.484375 33.40625 48.484375 \nQ 26.265625 48.484375 22.1875 42.84375 \nQ 18.109375 37.203125 18.109375 27.296875 \nQ 18.109375 17.390625 22.1875 11.75 \nQ 26.265625 6.109375 33.40625 6.109375 \nQ 40.53125 6.109375 44.609375 11.75 \nQ 48.6875 17.390625 48.6875 27.296875 \nz\nM 18.109375 46.390625 \nQ 20.953125 51.265625 25.265625 53.625 \nQ 29.59375 56 35.59375 56 \nQ 45.5625 56 51.78125 48.09375 \nQ 58.015625 40.1875 58.015625 27.296875 \nQ 58.015625 14.40625 51.78125 6.484375 \nQ 45.5625 -1.421875 35.59375 -1.421875 \nQ 29.59375 -1.421875 25.265625 0.953125 \nQ 20.953125 3.328125 18.109375 8.203125 \nL 18.109375 0 \nL 9.078125 0 \nL 9.078125 75.984375 \nL 18.109375 75.984375 \nz\n\" id=\"DejaVuSans-98\"/>\n       <path d=\"M 9.078125 75.984375 \nL 18.109375 75.984375 \nL 18.109375 31.109375 \nL 44.921875 54.6875 \nL 56.390625 54.6875 \nL 27.390625 29.109375 \nL 57.625 0 \nL 45.90625 0 \nL 18.109375 26.703125 \nL 18.109375 0 \nL 9.078125 0 \nz\n\" id=\"DejaVuSans-107\"/>\n       <path d=\"M 32.171875 -5.078125 \nQ 28.375 -14.84375 24.75 -17.8125 \nQ 21.140625 -20.796875 15.09375 -20.796875 \nL 7.90625 -20.796875 \nL 7.90625 -13.28125 \nL 13.1875 -13.28125 \nQ 16.890625 -13.28125 18.9375 -11.515625 \nQ 21 -9.765625 23.484375 -3.21875 \nL 25.09375 0.875 \nL 2.984375 54.6875 \nL 12.5 54.6875 \nL 29.59375 11.921875 \nL 46.6875 54.6875 \nL 56.203125 54.6875 \nz\n\" id=\"DejaVuSans-121\"/>\n       <path d=\"M 37.109375 75.984375 \nL 37.109375 68.5 \nL 28.515625 68.5 \nQ 23.6875 68.5 21.796875 66.546875 \nQ 19.921875 64.59375 19.921875 59.515625 \nL 19.921875 54.6875 \nL 34.71875 54.6875 \nL 34.71875 47.703125 \nL 19.921875 47.703125 \nL 19.921875 0 \nL 10.890625 0 \nL 10.890625 47.703125 \nL 2.296875 47.703125 \nL 2.296875 54.6875 \nL 10.890625 54.6875 \nL 10.890625 58.5 \nQ 10.890625 67.625 15.140625 71.796875 \nQ 19.390625 75.984375 28.609375 75.984375 \nz\n\" id=\"DejaVuSans-102\"/>\n      </defs>\n      <g transform=\"translate(20.878125 76.853344)scale(0.1 -0.1)\">\n       <use xlink:href=\"#DejaVuSans-100\"/>\n       <use x=\"63.476562\" xlink:href=\"#DejaVuSans-119\"/>\n       <use x=\"145.263672\" xlink:href=\"#DejaVuSans-101\"/>\n       <use x=\"206.787109\" xlink:href=\"#DejaVuSans-108\"/>\n       <use x=\"234.570312\" xlink:href=\"#DejaVuSans-108\"/>\n       <use x=\"262.353516\" xlink:href=\"#DejaVuSans-105\"/>\n       <use x=\"290.136719\" xlink:href=\"#DejaVuSans-110\"/>\n       <use x=\"353.515625\" xlink:href=\"#DejaVuSans-103\"/>\n       <use x=\"416.992188\" xlink:href=\"#DejaVuSans-95\"/>\n       <use x=\"466.992188\" xlink:href=\"#DejaVuSans-68\"/>\n       <use x=\"543.994141\" xlink:href=\"#DejaVuSans-119\"/>\n       <use x=\"625.78125\" xlink:href=\"#DejaVuSans-101\"/>\n       <use x=\"687.304688\" xlink:href=\"#DejaVuSans-108\"/>\n       <use x=\"715.087891\" xlink:href=\"#DejaVuSans-108\"/>\n       <use x=\"742.871094\" xlink:href=\"#DejaVuSans-105\"/>\n       <use x=\"770.654297\" xlink:href=\"#DejaVuSans-110\"/>\n       <use x=\"834.033203\" xlink:href=\"#DejaVuSans-103\"/>\n       <use x=\"897.509766\" xlink:href=\"#DejaVuSans-47\"/>\n       <use x=\"931.201172\" xlink:href=\"#DejaVuSans-104\"/>\n       <use x=\"994.580078\" xlink:href=\"#DejaVuSans-111\"/>\n       <use x=\"1055.761719\" xlink:href=\"#DejaVuSans-117\"/>\n       <use x=\"1119.140625\" xlink:href=\"#DejaVuSans-115\"/>\n       <use x=\"1171.240234\" xlink:href=\"#DejaVuSans-101\"/>\n       <use x=\"1232.763672\" xlink:href=\"#DejaVuSans-32\"/>\n       <use x=\"1264.550781\" xlink:href=\"#DejaVuSans-111\"/>\n       <use x=\"1325.732422\" xlink:href=\"#DejaVuSans-114\"/>\n       <use x=\"1366.845703\" xlink:href=\"#DejaVuSans-32\"/>\n       <use x=\"1398.632812\" xlink:href=\"#DejaVuSans-98\"/>\n       <use x=\"1462.109375\" xlink:href=\"#DejaVuSans-114\"/>\n       <use x=\"1503.222656\" xlink:href=\"#DejaVuSans-105\"/>\n       <use x=\"1531.005859\" xlink:href=\"#DejaVuSans-99\"/>\n       <use x=\"1585.986328\" xlink:href=\"#DejaVuSans-107\"/>\n       <use x=\"1643.896484\" xlink:href=\"#DejaVuSans-47\"/>\n       <use x=\"1677.587891\" xlink:href=\"#DejaVuSans-99\"/>\n       <use x=\"1732.568359\" xlink:href=\"#DejaVuSans-111\"/>\n       <use x=\"1793.75\" xlink:href=\"#DejaVuSans-110\"/>\n       <use x=\"1857.128906\" xlink:href=\"#DejaVuSans-99\"/>\n       <use x=\"1912.109375\" xlink:href=\"#DejaVuSans-114\"/>\n       <use x=\"1950.972656\" xlink:href=\"#DejaVuSans-101\"/>\n       <use x=\"2012.496094\" xlink:href=\"#DejaVuSans-116\"/>\n       <use x=\"2051.705078\" xlink:href=\"#DejaVuSans-101\"/>\n       <use x=\"2113.228516\" xlink:href=\"#DejaVuSans-32\"/>\n       <use x=\"2145.015625\" xlink:href=\"#DejaVuSans-98\"/>\n       <use x=\"2208.492188\" xlink:href=\"#DejaVuSans-108\"/>\n       <use x=\"2236.275391\" xlink:href=\"#DejaVuSans-111\"/>\n       <use x=\"2297.457031\" xlink:href=\"#DejaVuSans-99\"/>\n       <use x=\"2352.4375\" xlink:href=\"#DejaVuSans-107\"/>\n       <use x=\"2410.347656\" xlink:href=\"#DejaVuSans-32\"/>\n       <use x=\"2442.134766\" xlink:href=\"#DejaVuSans-115\"/>\n       <use x=\"2494.234375\" xlink:href=\"#DejaVuSans-116\"/>\n       <use x=\"2533.443359\" xlink:href=\"#DejaVuSans-114\"/>\n       <use x=\"2574.556641\" xlink:href=\"#DejaVuSans-117\"/>\n       <use x=\"2637.935547\" xlink:href=\"#DejaVuSans-99\"/>\n       <use x=\"2692.916016\" xlink:href=\"#DejaVuSans-116\"/>\n       <use x=\"2732.125\" xlink:href=\"#DejaVuSans-117\"/>\n       <use x=\"2795.503906\" xlink:href=\"#DejaVuSans-114\"/>\n       <use x=\"2834.367188\" xlink:href=\"#DejaVuSans-101\"/>\n       <use x=\"2895.890625\" xlink:href=\"#DejaVuSans-32\"/>\n       <use x=\"2927.677734\" xlink:href=\"#DejaVuSans-111\"/>\n       <use x=\"2988.859375\" xlink:href=\"#DejaVuSans-110\"/>\n       <use x=\"3052.238281\" xlink:href=\"#DejaVuSans-32\"/>\n       <use x=\"3084.025391\" xlink:href=\"#DejaVuSans-97\"/>\n       <use x=\"3145.304688\" xlink:href=\"#DejaVuSans-32\"/>\n       <use x=\"3177.091797\" xlink:href=\"#DejaVuSans-115\"/>\n       <use x=\"3229.191406\" xlink:href=\"#DejaVuSans-101\"/>\n       <use x=\"3290.714844\" xlink:href=\"#DejaVuSans-112\"/>\n       <use x=\"3354.191406\" xlink:href=\"#DejaVuSans-97\"/>\n       <use x=\"3415.470703\" xlink:href=\"#DejaVuSans-114\"/>\n       <use x=\"3456.583984\" xlink:href=\"#DejaVuSans-97\"/>\n       <use x=\"3517.863281\" xlink:href=\"#DejaVuSans-116\"/>\n       <use x=\"3557.072266\" xlink:href=\"#DejaVuSans-101\"/>\n       <use x=\"3618.595703\" xlink:href=\"#DejaVuSans-32\"/>\n       <use x=\"3650.382812\" xlink:href=\"#DejaVuSans-115\"/>\n       <use x=\"3702.482422\" xlink:href=\"#DejaVuSans-116\"/>\n       <use x=\"3741.691406\" xlink:href=\"#DejaVuSans-97\"/>\n       <use x=\"3802.970703\" xlink:href=\"#DejaVuSans-110\"/>\n       <use x=\"3866.349609\" xlink:href=\"#DejaVuSans-100\"/>\n       <use x=\"3929.826172\" xlink:href=\"#DejaVuSans-32\"/>\n       <use x=\"3961.613281\" xlink:href=\"#DejaVuSans-111\"/>\n       <use x=\"4022.794922\" xlink:href=\"#DejaVuSans-114\"/>\n       <use x=\"4063.908203\" xlink:href=\"#DejaVuSans-32\"/>\n       <use x=\"4095.695312\" xlink:href=\"#DejaVuSans-121\"/>\n       <use x=\"4154.875\" xlink:href=\"#DejaVuSans-97\"/>\n       <use x=\"4216.154297\" xlink:href=\"#DejaVuSans-114\"/>\n       <use x=\"4255.517578\" xlink:href=\"#DejaVuSans-100\"/>\n       <use x=\"4318.994141\" xlink:href=\"#DejaVuSans-32\"/>\n       <use x=\"4350.78125\" xlink:href=\"#DejaVuSans-111\"/>\n       <use x=\"4411.962891\" xlink:href=\"#DejaVuSans-114\"/>\n       <use x=\"4453.076172\" xlink:href=\"#DejaVuSans-32\"/>\n       <use x=\"4484.863281\" xlink:href=\"#DejaVuSans-102\"/>\n       <use x=\"4520.068359\" xlink:href=\"#DejaVuSans-97\"/>\n       <use x=\"4581.347656\" xlink:href=\"#DejaVuSans-114\"/>\n       <use x=\"4620.710938\" xlink:href=\"#DejaVuSans-109\"/>\n      </g>\n     </g>\n    </g>\n    <g id=\"ytick_5\">\n     <g id=\"line2d_25\">\n      <path clip-path=\"url(#p307786b5e3)\" d=\"M 499.685937 87.550125 \nL 1169.285938 87.550125 \n\" style=\"fill:none;stroke:#666666;stroke-linecap:square;stroke-opacity:0.2;stroke-width:0.8;\"/>\n     </g>\n     <g id=\"line2d_26\">\n      <g>\n       <use style=\"stroke:#000000;stroke-width:0.8;\" x=\"499.685937\" xlink:href=\"#m47f8fd080c\" y=\"87.550125\"/>\n      </g>\n     </g>\n     <g id=\"text_14\">\n      <!-- RTH_Head/acting head -->\n      <defs>\n       <path d=\"M 44.390625 34.1875 \nQ 47.5625 33.109375 50.5625 29.59375 \nQ 53.5625 26.078125 56.59375 19.921875 \nL 66.609375 0 \nL 56 0 \nL 46.6875 18.703125 \nQ 43.0625 26.03125 39.671875 28.421875 \nQ 36.28125 30.8125 30.421875 30.8125 \nL 19.671875 30.8125 \nL 19.671875 0 \nL 9.8125 0 \nL 9.8125 72.90625 \nL 32.078125 72.90625 \nQ 44.578125 72.90625 50.734375 67.671875 \nQ 56.890625 62.453125 56.890625 51.90625 \nQ 56.890625 45.015625 53.6875 40.46875 \nQ 50.484375 35.9375 44.390625 34.1875 \nz\nM 19.671875 64.796875 \nL 19.671875 38.921875 \nL 32.078125 38.921875 \nQ 39.203125 38.921875 42.84375 42.21875 \nQ 46.484375 45.515625 46.484375 51.90625 \nQ 46.484375 58.296875 42.84375 61.546875 \nQ 39.203125 64.796875 32.078125 64.796875 \nz\n\" id=\"DejaVuSans-82\"/>\n       <path d=\"M -0.296875 72.90625 \nL 61.375 72.90625 \nL 61.375 64.59375 \nL 35.5 64.59375 \nL 35.5 0 \nL 25.59375 0 \nL 25.59375 64.59375 \nL -0.296875 64.59375 \nz\n\" id=\"DejaVuSans-84\"/>\n       <path d=\"M 9.8125 72.90625 \nL 19.671875 72.90625 \nL 19.671875 43.015625 \nL 55.515625 43.015625 \nL 55.515625 72.90625 \nL 65.375 72.90625 \nL 65.375 0 \nL 55.515625 0 \nL 55.515625 34.71875 \nL 19.671875 34.71875 \nL 19.671875 0 \nL 9.8125 0 \nz\n\" id=\"DejaVuSans-72\"/>\n      </defs>\n      <g transform=\"translate(379.159375 91.349344)scale(0.1 -0.1)\">\n       <use xlink:href=\"#DejaVuSans-82\"/>\n       <use x=\"62.232422\" xlink:href=\"#DejaVuSans-84\"/>\n       <use x=\"123.316406\" xlink:href=\"#DejaVuSans-72\"/>\n       <use x=\"198.511719\" xlink:href=\"#DejaVuSans-95\"/>\n       <use x=\"248.511719\" xlink:href=\"#DejaVuSans-72\"/>\n       <use x=\"323.707031\" xlink:href=\"#DejaVuSans-101\"/>\n       <use x=\"385.230469\" xlink:href=\"#DejaVuSans-97\"/>\n       <use x=\"446.509766\" xlink:href=\"#DejaVuSans-100\"/>\n       <use x=\"509.986328\" xlink:href=\"#DejaVuSans-47\"/>\n       <use x=\"543.677734\" xlink:href=\"#DejaVuSans-97\"/>\n       <use x=\"604.957031\" xlink:href=\"#DejaVuSans-99\"/>\n       <use x=\"659.9375\" xlink:href=\"#DejaVuSans-116\"/>\n       <use x=\"699.146484\" xlink:href=\"#DejaVuSans-105\"/>\n       <use x=\"726.929688\" xlink:href=\"#DejaVuSans-110\"/>\n       <use x=\"790.308594\" xlink:href=\"#DejaVuSans-103\"/>\n       <use x=\"853.785156\" xlink:href=\"#DejaVuSans-32\"/>\n       <use x=\"885.572266\" xlink:href=\"#DejaVuSans-104\"/>\n       <use x=\"948.951172\" xlink:href=\"#DejaVuSans-101\"/>\n       <use x=\"1010.474609\" xlink:href=\"#DejaVuSans-97\"/>\n       <use x=\"1071.753906\" xlink:href=\"#DejaVuSans-100\"/>\n      </g>\n     </g>\n    </g>\n    <g id=\"ytick_6\">\n     <g id=\"line2d_27\">\n      <path clip-path=\"url(#p307786b5e3)\" d=\"M 499.685937 102.046125 \nL 1169.285938 102.046125 \n\" style=\"fill:none;stroke:#666666;stroke-linecap:square;stroke-opacity:0.2;stroke-width:0.8;\"/>\n     </g>\n     <g id=\"line2d_28\">\n      <g>\n       <use style=\"stroke:#000000;stroke-width:0.8;\" x=\"499.685937\" xlink:href=\"#m47f8fd080c\" y=\"102.046125\"/>\n      </g>\n     </g>\n     <g id=\"text_15\">\n      <!-- marital_st_Single and have never been married/never lived together as husband/wife before -->\n      <defs>\n       <path d=\"M 2.984375 54.6875 \nL 12.5 54.6875 \nL 29.59375 8.796875 \nL 46.6875 54.6875 \nL 56.203125 54.6875 \nL 35.6875 0 \nL 23.484375 0 \nz\n\" id=\"DejaVuSans-118\"/>\n      </defs>\n      <g transform=\"translate(29.590625 105.845344)scale(0.1 -0.1)\">\n       <use xlink:href=\"#DejaVuSans-109\"/>\n       <use x=\"97.412109\" xlink:href=\"#DejaVuSans-97\"/>\n       <use x=\"158.691406\" xlink:href=\"#DejaVuSans-114\"/>\n       <use x=\"199.804688\" xlink:href=\"#DejaVuSans-105\"/>\n       <use x=\"227.587891\" xlink:href=\"#DejaVuSans-116\"/>\n       <use x=\"266.796875\" xlink:href=\"#DejaVuSans-97\"/>\n       <use x=\"328.076172\" xlink:href=\"#DejaVuSans-108\"/>\n       <use x=\"355.859375\" xlink:href=\"#DejaVuSans-95\"/>\n       <use x=\"405.859375\" xlink:href=\"#DejaVuSans-115\"/>\n       <use x=\"457.958984\" xlink:href=\"#DejaVuSans-116\"/>\n       <use x=\"497.167969\" xlink:href=\"#DejaVuSans-95\"/>\n       <use x=\"547.167969\" xlink:href=\"#DejaVuSans-83\"/>\n       <use x=\"610.644531\" xlink:href=\"#DejaVuSans-105\"/>\n       <use x=\"638.427734\" xlink:href=\"#DejaVuSans-110\"/>\n       <use x=\"701.806641\" xlink:href=\"#DejaVuSans-103\"/>\n       <use x=\"765.283203\" xlink:href=\"#DejaVuSans-108\"/>\n       <use x=\"793.066406\" xlink:href=\"#DejaVuSans-101\"/>\n       <use x=\"854.589844\" xlink:href=\"#DejaVuSans-32\"/>\n       <use x=\"886.376953\" xlink:href=\"#DejaVuSans-97\"/>\n       <use x=\"947.65625\" xlink:href=\"#DejaVuSans-110\"/>\n       <use x=\"1011.035156\" xlink:href=\"#DejaVuSans-100\"/>\n       <use x=\"1074.511719\" xlink:href=\"#DejaVuSans-32\"/>\n       <use x=\"1106.298828\" xlink:href=\"#DejaVuSans-104\"/>\n       <use x=\"1169.677734\" xlink:href=\"#DejaVuSans-97\"/>\n       <use x=\"1230.957031\" xlink:href=\"#DejaVuSans-118\"/>\n       <use x=\"1290.136719\" xlink:href=\"#DejaVuSans-101\"/>\n       <use x=\"1351.660156\" xlink:href=\"#DejaVuSans-32\"/>\n       <use x=\"1383.447266\" xlink:href=\"#DejaVuSans-110\"/>\n       <use x=\"1446.826172\" xlink:href=\"#DejaVuSans-101\"/>\n       <use x=\"1508.349609\" xlink:href=\"#DejaVuSans-118\"/>\n       <use x=\"1567.529297\" xlink:href=\"#DejaVuSans-101\"/>\n       <use x=\"1629.052734\" xlink:href=\"#DejaVuSans-114\"/>\n       <use x=\"1670.166016\" xlink:href=\"#DejaVuSans-32\"/>\n       <use x=\"1701.953125\" xlink:href=\"#DejaVuSans-98\"/>\n       <use x=\"1765.429688\" xlink:href=\"#DejaVuSans-101\"/>\n       <use x=\"1826.953125\" xlink:href=\"#DejaVuSans-101\"/>\n       <use x=\"1888.476562\" xlink:href=\"#DejaVuSans-110\"/>\n       <use x=\"1951.855469\" xlink:href=\"#DejaVuSans-32\"/>\n       <use x=\"1983.642578\" xlink:href=\"#DejaVuSans-109\"/>\n       <use x=\"2081.054688\" xlink:href=\"#DejaVuSans-97\"/>\n       <use x=\"2142.333984\" xlink:href=\"#DejaVuSans-114\"/>\n       <use x=\"2181.697266\" xlink:href=\"#DejaVuSans-114\"/>\n       <use x=\"2222.810547\" xlink:href=\"#DejaVuSans-105\"/>\n       <use x=\"2250.59375\" xlink:href=\"#DejaVuSans-101\"/>\n       <use x=\"2312.117188\" xlink:href=\"#DejaVuSans-100\"/>\n       <use x=\"2375.59375\" xlink:href=\"#DejaVuSans-47\"/>\n       <use x=\"2409.285156\" xlink:href=\"#DejaVuSans-110\"/>\n       <use x=\"2472.664062\" xlink:href=\"#DejaVuSans-101\"/>\n       <use x=\"2534.1875\" xlink:href=\"#DejaVuSans-118\"/>\n       <use x=\"2593.367188\" xlink:href=\"#DejaVuSans-101\"/>\n       <use x=\"2654.890625\" xlink:href=\"#DejaVuSans-114\"/>\n       <use x=\"2696.003906\" xlink:href=\"#DejaVuSans-32\"/>\n       <use x=\"2727.791016\" xlink:href=\"#DejaVuSans-108\"/>\n       <use x=\"2755.574219\" xlink:href=\"#DejaVuSans-105\"/>\n       <use x=\"2783.357422\" xlink:href=\"#DejaVuSans-118\"/>\n       <use x=\"2842.537109\" xlink:href=\"#DejaVuSans-101\"/>\n       <use x=\"2904.060547\" xlink:href=\"#DejaVuSans-100\"/>\n       <use x=\"2967.537109\" xlink:href=\"#DejaVuSans-32\"/>\n       <use x=\"2999.324219\" xlink:href=\"#DejaVuSans-116\"/>\n       <use x=\"3038.533203\" xlink:href=\"#DejaVuSans-111\"/>\n       <use x=\"3099.714844\" xlink:href=\"#DejaVuSans-103\"/>\n       <use x=\"3163.191406\" xlink:href=\"#DejaVuSans-101\"/>\n       <use x=\"3224.714844\" xlink:href=\"#DejaVuSans-116\"/>\n       <use x=\"3263.923828\" xlink:href=\"#DejaVuSans-104\"/>\n       <use x=\"3327.302734\" xlink:href=\"#DejaVuSans-101\"/>\n       <use x=\"3388.826172\" xlink:href=\"#DejaVuSans-114\"/>\n       <use x=\"3429.939453\" xlink:href=\"#DejaVuSans-32\"/>\n       <use x=\"3461.726562\" xlink:href=\"#DejaVuSans-97\"/>\n       <use x=\"3523.005859\" xlink:href=\"#DejaVuSans-115\"/>\n       <use x=\"3575.105469\" xlink:href=\"#DejaVuSans-32\"/>\n       <use x=\"3606.892578\" xlink:href=\"#DejaVuSans-104\"/>\n       <use x=\"3670.271484\" xlink:href=\"#DejaVuSans-117\"/>\n       <use x=\"3733.650391\" xlink:href=\"#DejaVuSans-115\"/>\n       <use x=\"3785.75\" xlink:href=\"#DejaVuSans-98\"/>\n       <use x=\"3849.226562\" xlink:href=\"#DejaVuSans-97\"/>\n       <use x=\"3910.505859\" xlink:href=\"#DejaVuSans-110\"/>\n       <use x=\"3973.884766\" xlink:href=\"#DejaVuSans-100\"/>\n       <use x=\"4037.361328\" xlink:href=\"#DejaVuSans-47\"/>\n       <use x=\"4071.052734\" xlink:href=\"#DejaVuSans-119\"/>\n       <use x=\"4152.839844\" xlink:href=\"#DejaVuSans-105\"/>\n       <use x=\"4180.623047\" xlink:href=\"#DejaVuSans-102\"/>\n       <use x=\"4215.828125\" xlink:href=\"#DejaVuSans-101\"/>\n       <use x=\"4277.351562\" xlink:href=\"#DejaVuSans-32\"/>\n       <use x=\"4309.138672\" xlink:href=\"#DejaVuSans-98\"/>\n       <use x=\"4372.615234\" xlink:href=\"#DejaVuSans-101\"/>\n       <use x=\"4434.138672\" xlink:href=\"#DejaVuSans-102\"/>\n       <use x=\"4469.34375\" xlink:href=\"#DejaVuSans-111\"/>\n       <use x=\"4530.525391\" xlink:href=\"#DejaVuSans-114\"/>\n       <use x=\"4569.388672\" xlink:href=\"#DejaVuSans-101\"/>\n      </g>\n     </g>\n    </g>\n    <g id=\"ytick_7\">\n     <g id=\"line2d_29\">\n      <path clip-path=\"url(#p307786b5e3)\" d=\"M 499.685937 116.542125 \nL 1169.285938 116.542125 \n\" style=\"fill:none;stroke:#666666;stroke-linecap:square;stroke-opacity:0.2;stroke-width:0.8;\"/>\n     </g>\n     <g id=\"line2d_30\">\n      <g>\n       <use style=\"stroke:#000000;stroke-width:0.8;\" x=\"499.685937\" xlink:href=\"#m47f8fd080c\" y=\"116.542125\"/>\n      </g>\n     </g>\n     <g id=\"text_16\">\n      <!-- Education_Grade 11/Standard 9/Form 4 -->\n      <defs>\n       <path d=\"M 10.984375 1.515625 \nL 10.984375 10.5 \nQ 14.703125 8.734375 18.5 7.8125 \nQ 22.3125 6.890625 25.984375 6.890625 \nQ 35.75 6.890625 40.890625 13.453125 \nQ 46.046875 20.015625 46.78125 33.40625 \nQ 43.953125 29.203125 39.59375 26.953125 \nQ 35.25 24.703125 29.984375 24.703125 \nQ 19.046875 24.703125 12.671875 31.3125 \nQ 6.296875 37.9375 6.296875 49.421875 \nQ 6.296875 60.640625 12.9375 67.421875 \nQ 19.578125 74.21875 30.609375 74.21875 \nQ 43.265625 74.21875 49.921875 64.515625 \nQ 56.59375 54.828125 56.59375 36.375 \nQ 56.59375 19.140625 48.40625 8.859375 \nQ 40.234375 -1.421875 26.421875 -1.421875 \nQ 22.703125 -1.421875 18.890625 -0.6875 \nQ 15.09375 0.046875 10.984375 1.515625 \nz\nM 30.609375 32.421875 \nQ 37.25 32.421875 41.125 36.953125 \nQ 45.015625 41.5 45.015625 49.421875 \nQ 45.015625 57.28125 41.125 61.84375 \nQ 37.25 66.40625 30.609375 66.40625 \nQ 23.96875 66.40625 20.09375 61.84375 \nQ 16.21875 57.28125 16.21875 49.421875 \nQ 16.21875 41.5 20.09375 36.953125 \nQ 23.96875 32.421875 30.609375 32.421875 \nz\n\" id=\"DejaVuSans-57\"/>\n      </defs>\n      <g transform=\"translate(295.009375 120.341344)scale(0.1 -0.1)\">\n       <use xlink:href=\"#DejaVuSans-69\"/>\n       <use x=\"63.183594\" xlink:href=\"#DejaVuSans-100\"/>\n       <use x=\"126.660156\" xlink:href=\"#DejaVuSans-117\"/>\n       <use x=\"190.039062\" xlink:href=\"#DejaVuSans-99\"/>\n       <use x=\"245.019531\" xlink:href=\"#DejaVuSans-97\"/>\n       <use x=\"306.298828\" xlink:href=\"#DejaVuSans-116\"/>\n       <use x=\"345.507812\" xlink:href=\"#DejaVuSans-105\"/>\n       <use x=\"373.291016\" xlink:href=\"#DejaVuSans-111\"/>\n       <use x=\"434.472656\" xlink:href=\"#DejaVuSans-110\"/>\n       <use x=\"497.851562\" xlink:href=\"#DejaVuSans-95\"/>\n       <use x=\"547.851562\" xlink:href=\"#DejaVuSans-71\"/>\n       <use x=\"625.341797\" xlink:href=\"#DejaVuSans-114\"/>\n       <use x=\"666.455078\" xlink:href=\"#DejaVuSans-97\"/>\n       <use x=\"727.734375\" xlink:href=\"#DejaVuSans-100\"/>\n       <use x=\"791.210938\" xlink:href=\"#DejaVuSans-101\"/>\n       <use x=\"852.734375\" xlink:href=\"#DejaVuSans-32\"/>\n       <use x=\"884.521484\" xlink:href=\"#DejaVuSans-49\"/>\n       <use x=\"948.144531\" xlink:href=\"#DejaVuSans-49\"/>\n       <use x=\"1011.767578\" xlink:href=\"#DejaVuSans-47\"/>\n       <use x=\"1045.458984\" xlink:href=\"#DejaVuSans-83\"/>\n       <use x=\"1108.935547\" xlink:href=\"#DejaVuSans-116\"/>\n       <use x=\"1148.144531\" xlink:href=\"#DejaVuSans-97\"/>\n       <use x=\"1209.423828\" xlink:href=\"#DejaVuSans-110\"/>\n       <use x=\"1272.802734\" xlink:href=\"#DejaVuSans-100\"/>\n       <use x=\"1336.279297\" xlink:href=\"#DejaVuSans-97\"/>\n       <use x=\"1397.558594\" xlink:href=\"#DejaVuSans-114\"/>\n       <use x=\"1436.921875\" xlink:href=\"#DejaVuSans-100\"/>\n       <use x=\"1500.398438\" xlink:href=\"#DejaVuSans-32\"/>\n       <use x=\"1532.185547\" xlink:href=\"#DejaVuSans-57\"/>\n       <use x=\"1595.808594\" xlink:href=\"#DejaVuSans-47\"/>\n       <use x=\"1629.5\" xlink:href=\"#DejaVuSans-70\"/>\n       <use x=\"1683.394531\" xlink:href=\"#DejaVuSans-111\"/>\n       <use x=\"1744.576172\" xlink:href=\"#DejaVuSans-114\"/>\n       <use x=\"1783.939453\" xlink:href=\"#DejaVuSans-109\"/>\n       <use x=\"1881.351562\" xlink:href=\"#DejaVuSans-32\"/>\n       <use x=\"1913.138672\" xlink:href=\"#DejaVuSans-52\"/>\n      </g>\n     </g>\n    </g>\n    <g id=\"ytick_8\">\n     <g id=\"line2d_31\">\n      <path clip-path=\"url(#p307786b5e3)\" d=\"M 499.685937 131.038125 \nL 1169.285938 131.038125 \n\" style=\"fill:none;stroke:#666666;stroke-linecap:square;stroke-opacity:0.2;stroke-width:0.8;\"/>\n     </g>\n     <g id=\"line2d_32\">\n      <g>\n       <use style=\"stroke:#000000;stroke-width:0.8;\" x=\"499.685937\" xlink:href=\"#m47f8fd080c\" y=\"131.038125\"/>\n      </g>\n     </g>\n     <g id=\"text_17\">\n      <!-- Education_Grade 10/Standard 8/Form 3 -->\n      <defs>\n       <path d=\"M 31.78125 34.625 \nQ 24.75 34.625 20.71875 30.859375 \nQ 16.703125 27.09375 16.703125 20.515625 \nQ 16.703125 13.921875 20.71875 10.15625 \nQ 24.75 6.390625 31.78125 6.390625 \nQ 38.8125 6.390625 42.859375 10.171875 \nQ 46.921875 13.96875 46.921875 20.515625 \nQ 46.921875 27.09375 42.890625 30.859375 \nQ 38.875 34.625 31.78125 34.625 \nz\nM 21.921875 38.8125 \nQ 15.578125 40.375 12.03125 44.71875 \nQ 8.5 49.078125 8.5 55.328125 \nQ 8.5 64.0625 14.71875 69.140625 \nQ 20.953125 74.21875 31.78125 74.21875 \nQ 42.671875 74.21875 48.875 69.140625 \nQ 55.078125 64.0625 55.078125 55.328125 \nQ 55.078125 49.078125 51.53125 44.71875 \nQ 48 40.375 41.703125 38.8125 \nQ 48.828125 37.15625 52.796875 32.3125 \nQ 56.78125 27.484375 56.78125 20.515625 \nQ 56.78125 9.90625 50.3125 4.234375 \nQ 43.84375 -1.421875 31.78125 -1.421875 \nQ 19.734375 -1.421875 13.25 4.234375 \nQ 6.78125 9.90625 6.78125 20.515625 \nQ 6.78125 27.484375 10.78125 32.3125 \nQ 14.796875 37.15625 21.921875 38.8125 \nz\nM 18.3125 54.390625 \nQ 18.3125 48.734375 21.84375 45.5625 \nQ 25.390625 42.390625 31.78125 42.390625 \nQ 38.140625 42.390625 41.71875 45.5625 \nQ 45.3125 48.734375 45.3125 54.390625 \nQ 45.3125 60.0625 41.71875 63.234375 \nQ 38.140625 66.40625 31.78125 66.40625 \nQ 25.390625 66.40625 21.84375 63.234375 \nQ 18.3125 60.0625 18.3125 54.390625 \nz\n\" id=\"DejaVuSans-56\"/>\n      </defs>\n      <g transform=\"translate(295.009375 134.837344)scale(0.1 -0.1)\">\n       <use xlink:href=\"#DejaVuSans-69\"/>\n       <use x=\"63.183594\" xlink:href=\"#DejaVuSans-100\"/>\n       <use x=\"126.660156\" xlink:href=\"#DejaVuSans-117\"/>\n       <use x=\"190.039062\" xlink:href=\"#DejaVuSans-99\"/>\n       <use x=\"245.019531\" xlink:href=\"#DejaVuSans-97\"/>\n       <use x=\"306.298828\" xlink:href=\"#DejaVuSans-116\"/>\n       <use x=\"345.507812\" xlink:href=\"#DejaVuSans-105\"/>\n       <use x=\"373.291016\" xlink:href=\"#DejaVuSans-111\"/>\n       <use x=\"434.472656\" xlink:href=\"#DejaVuSans-110\"/>\n       <use x=\"497.851562\" xlink:href=\"#DejaVuSans-95\"/>\n       <use x=\"547.851562\" xlink:href=\"#DejaVuSans-71\"/>\n       <use x=\"625.341797\" xlink:href=\"#DejaVuSans-114\"/>\n       <use x=\"666.455078\" xlink:href=\"#DejaVuSans-97\"/>\n       <use x=\"727.734375\" xlink:href=\"#DejaVuSans-100\"/>\n       <use x=\"791.210938\" xlink:href=\"#DejaVuSans-101\"/>\n       <use x=\"852.734375\" xlink:href=\"#DejaVuSans-32\"/>\n       <use x=\"884.521484\" xlink:href=\"#DejaVuSans-49\"/>\n       <use x=\"948.144531\" xlink:href=\"#DejaVuSans-48\"/>\n       <use x=\"1011.767578\" xlink:href=\"#DejaVuSans-47\"/>\n       <use x=\"1045.458984\" xlink:href=\"#DejaVuSans-83\"/>\n       <use x=\"1108.935547\" xlink:href=\"#DejaVuSans-116\"/>\n       <use x=\"1148.144531\" xlink:href=\"#DejaVuSans-97\"/>\n       <use x=\"1209.423828\" xlink:href=\"#DejaVuSans-110\"/>\n       <use x=\"1272.802734\" xlink:href=\"#DejaVuSans-100\"/>\n       <use x=\"1336.279297\" xlink:href=\"#DejaVuSans-97\"/>\n       <use x=\"1397.558594\" xlink:href=\"#DejaVuSans-114\"/>\n       <use x=\"1436.921875\" xlink:href=\"#DejaVuSans-100\"/>\n       <use x=\"1500.398438\" xlink:href=\"#DejaVuSans-32\"/>\n       <use x=\"1532.185547\" xlink:href=\"#DejaVuSans-56\"/>\n       <use x=\"1595.808594\" xlink:href=\"#DejaVuSans-47\"/>\n       <use x=\"1629.5\" xlink:href=\"#DejaVuSans-70\"/>\n       <use x=\"1683.394531\" xlink:href=\"#DejaVuSans-111\"/>\n       <use x=\"1744.576172\" xlink:href=\"#DejaVuSans-114\"/>\n       <use x=\"1783.939453\" xlink:href=\"#DejaVuSans-109\"/>\n       <use x=\"1881.351562\" xlink:href=\"#DejaVuSans-32\"/>\n       <use x=\"1913.138672\" xlink:href=\"#DejaVuSans-51\"/>\n      </g>\n     </g>\n    </g>\n    <g id=\"ytick_9\">\n     <g id=\"line2d_33\">\n      <path clip-path=\"url(#p307786b5e3)\" d=\"M 499.685937 145.534125 \nL 1169.285938 145.534125 \n\" style=\"fill:none;stroke:#666666;stroke-linecap:square;stroke-opacity:0.2;stroke-width:0.8;\"/>\n     </g>\n     <g id=\"line2d_34\">\n      <g>\n       <use style=\"stroke:#000000;stroke-width:0.8;\" x=\"499.685937\" xlink:href=\"#m47f8fd080c\" y=\"145.534125\"/>\n      </g>\n     </g>\n     <g id=\"text_18\">\n      <!-- RTH_Son/daughter/stepchild/adopted child of person 01 -->\n      <g transform=\"translate(213.40625 149.333344)scale(0.1 -0.1)\">\n       <use xlink:href=\"#DejaVuSans-82\"/>\n       <use x=\"62.232422\" xlink:href=\"#DejaVuSans-84\"/>\n       <use x=\"123.316406\" xlink:href=\"#DejaVuSans-72\"/>\n       <use x=\"198.511719\" xlink:href=\"#DejaVuSans-95\"/>\n       <use x=\"248.511719\" xlink:href=\"#DejaVuSans-83\"/>\n       <use x=\"311.988281\" xlink:href=\"#DejaVuSans-111\"/>\n       <use x=\"373.169922\" xlink:href=\"#DejaVuSans-110\"/>\n       <use x=\"436.548828\" xlink:href=\"#DejaVuSans-47\"/>\n       <use x=\"470.240234\" xlink:href=\"#DejaVuSans-100\"/>\n       <use x=\"533.716797\" xlink:href=\"#DejaVuSans-97\"/>\n       <use x=\"594.996094\" xlink:href=\"#DejaVuSans-117\"/>\n       <use x=\"658.375\" xlink:href=\"#DejaVuSans-103\"/>\n       <use x=\"721.851562\" xlink:href=\"#DejaVuSans-104\"/>\n       <use x=\"785.230469\" xlink:href=\"#DejaVuSans-116\"/>\n       <use x=\"824.439453\" xlink:href=\"#DejaVuSans-101\"/>\n       <use x=\"885.962891\" xlink:href=\"#DejaVuSans-114\"/>\n       <use x=\"927.076172\" xlink:href=\"#DejaVuSans-47\"/>\n       <use x=\"960.767578\" xlink:href=\"#DejaVuSans-115\"/>\n       <use x=\"1012.867188\" xlink:href=\"#DejaVuSans-116\"/>\n       <use x=\"1052.076172\" xlink:href=\"#DejaVuSans-101\"/>\n       <use x=\"1113.599609\" xlink:href=\"#DejaVuSans-112\"/>\n       <use x=\"1177.076172\" xlink:href=\"#DejaVuSans-99\"/>\n       <use x=\"1232.056641\" xlink:href=\"#DejaVuSans-104\"/>\n       <use x=\"1295.435547\" xlink:href=\"#DejaVuSans-105\"/>\n       <use x=\"1323.21875\" xlink:href=\"#DejaVuSans-108\"/>\n       <use x=\"1351.001953\" xlink:href=\"#DejaVuSans-100\"/>\n       <use x=\"1414.478516\" xlink:href=\"#DejaVuSans-47\"/>\n       <use x=\"1448.169922\" xlink:href=\"#DejaVuSans-97\"/>\n       <use x=\"1509.449219\" xlink:href=\"#DejaVuSans-100\"/>\n       <use x=\"1572.925781\" xlink:href=\"#DejaVuSans-111\"/>\n       <use x=\"1634.107422\" xlink:href=\"#DejaVuSans-112\"/>\n       <use x=\"1697.583984\" xlink:href=\"#DejaVuSans-116\"/>\n       <use x=\"1736.792969\" xlink:href=\"#DejaVuSans-101\"/>\n       <use x=\"1798.316406\" xlink:href=\"#DejaVuSans-100\"/>\n       <use x=\"1861.792969\" xlink:href=\"#DejaVuSans-32\"/>\n       <use x=\"1893.580078\" xlink:href=\"#DejaVuSans-99\"/>\n       <use x=\"1948.560547\" xlink:href=\"#DejaVuSans-104\"/>\n       <use x=\"2011.939453\" xlink:href=\"#DejaVuSans-105\"/>\n       <use x=\"2039.722656\" xlink:href=\"#DejaVuSans-108\"/>\n       <use x=\"2067.505859\" xlink:href=\"#DejaVuSans-100\"/>\n       <use x=\"2130.982422\" xlink:href=\"#DejaVuSans-32\"/>\n       <use x=\"2162.769531\" xlink:href=\"#DejaVuSans-111\"/>\n       <use x=\"2223.951172\" xlink:href=\"#DejaVuSans-102\"/>\n       <use x=\"2259.15625\" xlink:href=\"#DejaVuSans-32\"/>\n       <use x=\"2290.943359\" xlink:href=\"#DejaVuSans-112\"/>\n       <use x=\"2354.419922\" xlink:href=\"#DejaVuSans-101\"/>\n       <use x=\"2415.943359\" xlink:href=\"#DejaVuSans-114\"/>\n       <use x=\"2457.056641\" xlink:href=\"#DejaVuSans-115\"/>\n       <use x=\"2509.15625\" xlink:href=\"#DejaVuSans-111\"/>\n       <use x=\"2570.337891\" xlink:href=\"#DejaVuSans-110\"/>\n       <use x=\"2633.716797\" xlink:href=\"#DejaVuSans-32\"/>\n       <use x=\"2665.503906\" xlink:href=\"#DejaVuSans-48\"/>\n       <use x=\"2729.126953\" xlink:href=\"#DejaVuSans-49\"/>\n      </g>\n     </g>\n    </g>\n    <g id=\"ytick_10\">\n     <g id=\"line2d_35\">\n      <path clip-path=\"url(#p307786b5e3)\" d=\"M 499.685937 160.030125 \nL 1169.285938 160.030125 \n\" style=\"fill:none;stroke:#666666;stroke-linecap:square;stroke-opacity:0.2;stroke-width:0.8;\"/>\n     </g>\n     <g id=\"line2d_36\">\n      <g>\n       <use style=\"stroke:#000000;stroke-width:0.8;\" x=\"499.685937\" xlink:href=\"#m47f8fd080c\" y=\"160.030125\"/>\n      </g>\n     </g>\n     <g id=\"text_19\">\n      <!-- marital_st_Married -->\n      <g transform=\"translate(399.889062 163.829344)scale(0.1 -0.1)\">\n       <use xlink:href=\"#DejaVuSans-109\"/>\n       <use x=\"97.412109\" xlink:href=\"#DejaVuSans-97\"/>\n       <use x=\"158.691406\" xlink:href=\"#DejaVuSans-114\"/>\n       <use x=\"199.804688\" xlink:href=\"#DejaVuSans-105\"/>\n       <use x=\"227.587891\" xlink:href=\"#DejaVuSans-116\"/>\n       <use x=\"266.796875\" xlink:href=\"#DejaVuSans-97\"/>\n       <use x=\"328.076172\" xlink:href=\"#DejaVuSans-108\"/>\n       <use x=\"355.859375\" xlink:href=\"#DejaVuSans-95\"/>\n       <use x=\"405.859375\" xlink:href=\"#DejaVuSans-115\"/>\n       <use x=\"457.958984\" xlink:href=\"#DejaVuSans-116\"/>\n       <use x=\"497.167969\" xlink:href=\"#DejaVuSans-95\"/>\n       <use x=\"547.167969\" xlink:href=\"#DejaVuSans-77\"/>\n       <use x=\"633.447266\" xlink:href=\"#DejaVuSans-97\"/>\n       <use x=\"694.726562\" xlink:href=\"#DejaVuSans-114\"/>\n       <use x=\"734.089844\" xlink:href=\"#DejaVuSans-114\"/>\n       <use x=\"775.203125\" xlink:href=\"#DejaVuSans-105\"/>\n       <use x=\"802.986328\" xlink:href=\"#DejaVuSans-101\"/>\n       <use x=\"864.509766\" xlink:href=\"#DejaVuSans-100\"/>\n      </g>\n     </g>\n    </g>\n    <g id=\"ytick_11\">\n     <g id=\"line2d_37\">\n      <path clip-path=\"url(#p307786b5e3)\" d=\"M 499.685937 174.526125 \nL 1169.285938 174.526125 \n\" style=\"fill:none;stroke:#666666;stroke-linecap:square;stroke-opacity:0.2;stroke-width:0.8;\"/>\n     </g>\n     <g id=\"line2d_38\">\n      <g>\n       <use style=\"stroke:#000000;stroke-width:0.8;\" x=\"499.685937\" xlink:href=\"#m47f8fd080c\" y=\"174.526125\"/>\n      </g>\n     </g>\n     <g id=\"text_20\">\n      <!-- marital_st_Widowed -->\n      <defs>\n       <path d=\"M 3.328125 72.90625 \nL 13.28125 72.90625 \nL 28.609375 11.28125 \nL 43.890625 72.90625 \nL 54.984375 72.90625 \nL 70.3125 11.28125 \nL 85.59375 72.90625 \nL 95.609375 72.90625 \nL 77.296875 0 \nL 64.890625 0 \nL 49.515625 63.28125 \nL 33.984375 0 \nL 21.578125 0 \nz\n\" id=\"DejaVuSans-87\"/>\n      </defs>\n      <g transform=\"translate(392.384375 178.325344)scale(0.1 -0.1)\">\n       <use xlink:href=\"#DejaVuSans-109\"/>\n       <use x=\"97.412109\" xlink:href=\"#DejaVuSans-97\"/>\n       <use x=\"158.691406\" xlink:href=\"#DejaVuSans-114\"/>\n       <use x=\"199.804688\" xlink:href=\"#DejaVuSans-105\"/>\n       <use x=\"227.587891\" xlink:href=\"#DejaVuSans-116\"/>\n       <use x=\"266.796875\" xlink:href=\"#DejaVuSans-97\"/>\n       <use x=\"328.076172\" xlink:href=\"#DejaVuSans-108\"/>\n       <use x=\"355.859375\" xlink:href=\"#DejaVuSans-95\"/>\n       <use x=\"405.859375\" xlink:href=\"#DejaVuSans-115\"/>\n       <use x=\"457.958984\" xlink:href=\"#DejaVuSans-116\"/>\n       <use x=\"497.167969\" xlink:href=\"#DejaVuSans-95\"/>\n       <use x=\"547.167969\" xlink:href=\"#DejaVuSans-87\"/>\n       <use x=\"643.794922\" xlink:href=\"#DejaVuSans-105\"/>\n       <use x=\"671.578125\" xlink:href=\"#DejaVuSans-100\"/>\n       <use x=\"735.054688\" xlink:href=\"#DejaVuSans-111\"/>\n       <use x=\"796.236328\" xlink:href=\"#DejaVuSans-119\"/>\n       <use x=\"878.023438\" xlink:href=\"#DejaVuSans-101\"/>\n       <use x=\"939.546875\" xlink:href=\"#DejaVuSans-100\"/>\n      </g>\n     </g>\n    </g>\n    <g id=\"ytick_12\">\n     <g id=\"line2d_39\">\n      <path clip-path=\"url(#p307786b5e3)\" d=\"M 499.685937 189.022125 \nL 1169.285938 189.022125 \n\" style=\"fill:none;stroke:#666666;stroke-linecap:square;stroke-opacity:0.2;stroke-width:0.8;\"/>\n     </g>\n     <g id=\"line2d_40\">\n      <g>\n       <use style=\"stroke:#000000;stroke-width:0.8;\" x=\"499.685937\" xlink:href=\"#m47f8fd080c\" y=\"189.022125\"/>\n      </g>\n     </g>\n     <g id=\"text_21\">\n      <!-- RTH_Husband/wife/partner of person 01 -->\n      <g transform=\"translate(292.951562 192.821344)scale(0.1 -0.1)\">\n       <use xlink:href=\"#DejaVuSans-82\"/>\n       <use x=\"62.232422\" xlink:href=\"#DejaVuSans-84\"/>\n       <use x=\"123.316406\" xlink:href=\"#DejaVuSans-72\"/>\n       <use x=\"198.511719\" xlink:href=\"#DejaVuSans-95\"/>\n       <use x=\"248.511719\" xlink:href=\"#DejaVuSans-72\"/>\n       <use x=\"323.707031\" xlink:href=\"#DejaVuSans-117\"/>\n       <use x=\"387.085938\" xlink:href=\"#DejaVuSans-115\"/>\n       <use x=\"439.185547\" xlink:href=\"#DejaVuSans-98\"/>\n       <use x=\"502.662109\" xlink:href=\"#DejaVuSans-97\"/>\n       <use x=\"563.941406\" xlink:href=\"#DejaVuSans-110\"/>\n       <use x=\"627.320312\" xlink:href=\"#DejaVuSans-100\"/>\n       <use x=\"690.796875\" xlink:href=\"#DejaVuSans-47\"/>\n       <use x=\"724.488281\" xlink:href=\"#DejaVuSans-119\"/>\n       <use x=\"806.275391\" xlink:href=\"#DejaVuSans-105\"/>\n       <use x=\"834.058594\" xlink:href=\"#DejaVuSans-102\"/>\n       <use x=\"869.263672\" xlink:href=\"#DejaVuSans-101\"/>\n       <use x=\"930.787109\" xlink:href=\"#DejaVuSans-47\"/>\n       <use x=\"964.478516\" xlink:href=\"#DejaVuSans-112\"/>\n       <use x=\"1027.955078\" xlink:href=\"#DejaVuSans-97\"/>\n       <use x=\"1089.234375\" xlink:href=\"#DejaVuSans-114\"/>\n       <use x=\"1130.347656\" xlink:href=\"#DejaVuSans-116\"/>\n       <use x=\"1169.556641\" xlink:href=\"#DejaVuSans-110\"/>\n       <use x=\"1232.935547\" xlink:href=\"#DejaVuSans-101\"/>\n       <use x=\"1294.458984\" xlink:href=\"#DejaVuSans-114\"/>\n       <use x=\"1335.572266\" xlink:href=\"#DejaVuSans-32\"/>\n       <use x=\"1367.359375\" xlink:href=\"#DejaVuSans-111\"/>\n       <use x=\"1428.541016\" xlink:href=\"#DejaVuSans-102\"/>\n       <use x=\"1463.746094\" xlink:href=\"#DejaVuSans-32\"/>\n       <use x=\"1495.533203\" xlink:href=\"#DejaVuSans-112\"/>\n       <use x=\"1559.009766\" xlink:href=\"#DejaVuSans-101\"/>\n       <use x=\"1620.533203\" xlink:href=\"#DejaVuSans-114\"/>\n       <use x=\"1661.646484\" xlink:href=\"#DejaVuSans-115\"/>\n       <use x=\"1713.746094\" xlink:href=\"#DejaVuSans-111\"/>\n       <use x=\"1774.927734\" xlink:href=\"#DejaVuSans-110\"/>\n       <use x=\"1838.306641\" xlink:href=\"#DejaVuSans-32\"/>\n       <use x=\"1870.09375\" xlink:href=\"#DejaVuSans-48\"/>\n       <use x=\"1933.716797\" xlink:href=\"#DejaVuSans-49\"/>\n      </g>\n     </g>\n    </g>\n    <g id=\"ytick_13\">\n     <g id=\"line2d_41\">\n      <path clip-path=\"url(#p307786b5e3)\" d=\"M 499.685937 203.518125 \nL 1169.285938 203.518125 \n\" style=\"fill:none;stroke:#666666;stroke-linecap:square;stroke-opacity:0.2;stroke-width:0.8;\"/>\n     </g>\n     <g id=\"line2d_42\">\n      <g>\n       <use style=\"stroke:#000000;stroke-width:0.8;\" x=\"499.685937\" xlink:href=\"#m47f8fd080c\" y=\"203.518125\"/>\n      </g>\n     </g>\n     <g id=\"text_22\">\n      <!-- nature_of_work_Permanent -->\n      <defs>\n       <path d=\"M 19.671875 64.796875 \nL 19.671875 37.40625 \nL 32.078125 37.40625 \nQ 38.96875 37.40625 42.71875 40.96875 \nQ 46.484375 44.53125 46.484375 51.125 \nQ 46.484375 57.671875 42.71875 61.234375 \nQ 38.96875 64.796875 32.078125 64.796875 \nz\nM 9.8125 72.90625 \nL 32.078125 72.90625 \nQ 44.34375 72.90625 50.609375 67.359375 \nQ 56.890625 61.8125 56.890625 51.125 \nQ 56.890625 40.328125 50.609375 34.8125 \nQ 44.34375 29.296875 32.078125 29.296875 \nL 19.671875 29.296875 \nL 19.671875 0 \nL 9.8125 0 \nz\n\" id=\"DejaVuSans-80\"/>\n      </defs>\n      <g transform=\"translate(356.7125 207.317344)scale(0.1 -0.1)\">\n       <use xlink:href=\"#DejaVuSans-110\"/>\n       <use x=\"63.378906\" xlink:href=\"#DejaVuSans-97\"/>\n       <use x=\"124.658203\" xlink:href=\"#DejaVuSans-116\"/>\n       <use x=\"163.867188\" xlink:href=\"#DejaVuSans-117\"/>\n       <use x=\"227.246094\" xlink:href=\"#DejaVuSans-114\"/>\n       <use x=\"266.109375\" xlink:href=\"#DejaVuSans-101\"/>\n       <use x=\"327.632812\" xlink:href=\"#DejaVuSans-95\"/>\n       <use x=\"377.632812\" xlink:href=\"#DejaVuSans-111\"/>\n       <use x=\"438.814453\" xlink:href=\"#DejaVuSans-102\"/>\n       <use x=\"474.019531\" xlink:href=\"#DejaVuSans-95\"/>\n       <use x=\"524.019531\" xlink:href=\"#DejaVuSans-119\"/>\n       <use x=\"605.806641\" xlink:href=\"#DejaVuSans-111\"/>\n       <use x=\"666.988281\" xlink:href=\"#DejaVuSans-114\"/>\n       <use x=\"708.101562\" xlink:href=\"#DejaVuSans-107\"/>\n       <use x=\"766.011719\" xlink:href=\"#DejaVuSans-95\"/>\n       <use x=\"816.011719\" xlink:href=\"#DejaVuSans-80\"/>\n       <use x=\"872.689453\" xlink:href=\"#DejaVuSans-101\"/>\n       <use x=\"934.212891\" xlink:href=\"#DejaVuSans-114\"/>\n       <use x=\"973.576172\" xlink:href=\"#DejaVuSans-109\"/>\n       <use x=\"1070.988281\" xlink:href=\"#DejaVuSans-97\"/>\n       <use x=\"1132.267578\" xlink:href=\"#DejaVuSans-110\"/>\n       <use x=\"1195.646484\" xlink:href=\"#DejaVuSans-101\"/>\n       <use x=\"1257.169922\" xlink:href=\"#DejaVuSans-110\"/>\n       <use x=\"1320.548828\" xlink:href=\"#DejaVuSans-116\"/>\n      </g>\n     </g>\n    </g>\n    <g id=\"ytick_14\">\n     <g id=\"line2d_43\">\n      <path clip-path=\"url(#p307786b5e3)\" d=\"M 499.685937 218.014125 \nL 1169.285938 218.014125 \n\" style=\"fill:none;stroke:#666666;stroke-linecap:square;stroke-opacity:0.2;stroke-width:0.8;\"/>\n     </g>\n     <g id=\"line2d_44\">\n      <g>\n       <use style=\"stroke:#000000;stroke-width:0.8;\" x=\"499.685937\" xlink:href=\"#m47f8fd080c\" y=\"218.014125\"/>\n      </g>\n     </g>\n     <g id=\"text_23\">\n      <!-- Education_Grade 9/Standard 7/Form 2/AET 4 -->\n      <defs>\n       <path d=\"M 34.1875 63.1875 \nL 20.796875 26.90625 \nL 47.609375 26.90625 \nz\nM 28.609375 72.90625 \nL 39.796875 72.90625 \nL 67.578125 0 \nL 57.328125 0 \nL 50.6875 18.703125 \nL 17.828125 18.703125 \nL 11.1875 0 \nL 0.78125 0 \nz\n\" id=\"DejaVuSans-65\"/>\n      </defs>\n      <g transform=\"translate(269.195312 221.813344)scale(0.1 -0.1)\">\n       <use xlink:href=\"#DejaVuSans-69\"/>\n       <use x=\"63.183594\" xlink:href=\"#DejaVuSans-100\"/>\n       <use x=\"126.660156\" xlink:href=\"#DejaVuSans-117\"/>\n       <use x=\"190.039062\" xlink:href=\"#DejaVuSans-99\"/>\n       <use x=\"245.019531\" xlink:href=\"#DejaVuSans-97\"/>\n       <use x=\"306.298828\" xlink:href=\"#DejaVuSans-116\"/>\n       <use x=\"345.507812\" xlink:href=\"#DejaVuSans-105\"/>\n       <use x=\"373.291016\" xlink:href=\"#DejaVuSans-111\"/>\n       <use x=\"434.472656\" xlink:href=\"#DejaVuSans-110\"/>\n       <use x=\"497.851562\" xlink:href=\"#DejaVuSans-95\"/>\n       <use x=\"547.851562\" xlink:href=\"#DejaVuSans-71\"/>\n       <use x=\"625.341797\" xlink:href=\"#DejaVuSans-114\"/>\n       <use x=\"666.455078\" xlink:href=\"#DejaVuSans-97\"/>\n       <use x=\"727.734375\" xlink:href=\"#DejaVuSans-100\"/>\n       <use x=\"791.210938\" xlink:href=\"#DejaVuSans-101\"/>\n       <use x=\"852.734375\" xlink:href=\"#DejaVuSans-32\"/>\n       <use x=\"884.521484\" xlink:href=\"#DejaVuSans-57\"/>\n       <use x=\"948.144531\" xlink:href=\"#DejaVuSans-47\"/>\n       <use x=\"981.835938\" xlink:href=\"#DejaVuSans-83\"/>\n       <use x=\"1045.3125\" xlink:href=\"#DejaVuSans-116\"/>\n       <use x=\"1084.521484\" xlink:href=\"#DejaVuSans-97\"/>\n       <use x=\"1145.800781\" xlink:href=\"#DejaVuSans-110\"/>\n       <use x=\"1209.179688\" xlink:href=\"#DejaVuSans-100\"/>\n       <use x=\"1272.65625\" xlink:href=\"#DejaVuSans-97\"/>\n       <use x=\"1333.935547\" xlink:href=\"#DejaVuSans-114\"/>\n       <use x=\"1373.298828\" xlink:href=\"#DejaVuSans-100\"/>\n       <use x=\"1436.775391\" xlink:href=\"#DejaVuSans-32\"/>\n       <use x=\"1468.5625\" xlink:href=\"#DejaVuSans-55\"/>\n       <use x=\"1532.185547\" xlink:href=\"#DejaVuSans-47\"/>\n       <use x=\"1565.876953\" xlink:href=\"#DejaVuSans-70\"/>\n       <use x=\"1619.771484\" xlink:href=\"#DejaVuSans-111\"/>\n       <use x=\"1680.953125\" xlink:href=\"#DejaVuSans-114\"/>\n       <use x=\"1720.316406\" xlink:href=\"#DejaVuSans-109\"/>\n       <use x=\"1817.728516\" xlink:href=\"#DejaVuSans-32\"/>\n       <use x=\"1849.515625\" xlink:href=\"#DejaVuSans-50\"/>\n       <use x=\"1913.138672\" xlink:href=\"#DejaVuSans-47\"/>\n       <use x=\"1946.830078\" xlink:href=\"#DejaVuSans-65\"/>\n       <use x=\"2015.238281\" xlink:href=\"#DejaVuSans-69\"/>\n       <use x=\"2078.421875\" xlink:href=\"#DejaVuSans-84\"/>\n       <use x=\"2139.505859\" xlink:href=\"#DejaVuSans-32\"/>\n       <use x=\"2171.292969\" xlink:href=\"#DejaVuSans-52\"/>\n      </g>\n     </g>\n    </g>\n    <g id=\"ytick_15\">\n     <g id=\"line2d_45\">\n      <path clip-path=\"url(#p307786b5e3)\" d=\"M 499.685937 232.510125 \nL 1169.285938 232.510125 \n\" style=\"fill:none;stroke:#666666;stroke-linecap:square;stroke-opacity:0.2;stroke-width:0.8;\"/>\n     </g>\n     <g id=\"line2d_46\">\n      <g>\n       <use style=\"stroke:#000000;stroke-width:0.8;\" x=\"499.685937\" xlink:href=\"#m47f8fd080c\" y=\"232.510125\"/>\n      </g>\n     </g>\n     <g id=\"text_24\">\n      <!-- Lang_outside_English -->\n      <defs>\n       <path d=\"M 9.8125 72.90625 \nL 19.671875 72.90625 \nL 19.671875 8.296875 \nL 55.171875 8.296875 \nL 55.171875 0 \nL 9.8125 0 \nz\n\" id=\"DejaVuSans-76\"/>\n      </defs>\n      <g transform=\"translate(385.326562 236.309344)scale(0.1 -0.1)\">\n       <use xlink:href=\"#DejaVuSans-76\"/>\n       <use x=\"55.712891\" xlink:href=\"#DejaVuSans-97\"/>\n       <use x=\"116.992188\" xlink:href=\"#DejaVuSans-110\"/>\n       <use x=\"180.371094\" xlink:href=\"#DejaVuSans-103\"/>\n       <use x=\"243.847656\" xlink:href=\"#DejaVuSans-95\"/>\n       <use x=\"293.847656\" xlink:href=\"#DejaVuSans-111\"/>\n       <use x=\"355.029297\" xlink:href=\"#DejaVuSans-117\"/>\n       <use x=\"418.408203\" xlink:href=\"#DejaVuSans-116\"/>\n       <use x=\"457.617188\" xlink:href=\"#DejaVuSans-115\"/>\n       <use x=\"509.716797\" xlink:href=\"#DejaVuSans-105\"/>\n       <use x=\"537.5\" xlink:href=\"#DejaVuSans-100\"/>\n       <use x=\"600.976562\" xlink:href=\"#DejaVuSans-101\"/>\n       <use x=\"662.5\" xlink:href=\"#DejaVuSans-95\"/>\n       <use x=\"712.5\" xlink:href=\"#DejaVuSans-69\"/>\n       <use x=\"775.683594\" xlink:href=\"#DejaVuSans-110\"/>\n       <use x=\"839.0625\" xlink:href=\"#DejaVuSans-103\"/>\n       <use x=\"902.539062\" xlink:href=\"#DejaVuSans-108\"/>\n       <use x=\"930.322266\" xlink:href=\"#DejaVuSans-105\"/>\n       <use x=\"958.105469\" xlink:href=\"#DejaVuSans-115\"/>\n       <use x=\"1010.205078\" xlink:href=\"#DejaVuSans-104\"/>\n      </g>\n     </g>\n    </g>\n    <g id=\"ytick_16\">\n     <g id=\"line2d_47\">\n      <path clip-path=\"url(#p307786b5e3)\" d=\"M 499.685937 247.006125 \nL 1169.285938 247.006125 \n\" style=\"fill:none;stroke:#666666;stroke-linecap:square;stroke-opacity:0.2;stroke-width:0.8;\"/>\n     </g>\n     <g id=\"line2d_48\">\n      <g>\n       <use style=\"stroke:#000000;stroke-width:0.8;\" x=\"499.685937\" xlink:href=\"#m47f8fd080c\" y=\"247.006125\"/>\n      </g>\n     </g>\n     <g id=\"text_25\">\n      <!-- Education_Grade 8/Standard 6/Form 1 -->\n      <g transform=\"translate(301.371875 250.805344)scale(0.1 -0.1)\">\n       <use xlink:href=\"#DejaVuSans-69\"/>\n       <use x=\"63.183594\" xlink:href=\"#DejaVuSans-100\"/>\n       <use x=\"126.660156\" xlink:href=\"#DejaVuSans-117\"/>\n       <use x=\"190.039062\" xlink:href=\"#DejaVuSans-99\"/>\n       <use x=\"245.019531\" xlink:href=\"#DejaVuSans-97\"/>\n       <use x=\"306.298828\" xlink:href=\"#DejaVuSans-116\"/>\n       <use x=\"345.507812\" xlink:href=\"#DejaVuSans-105\"/>\n       <use x=\"373.291016\" xlink:href=\"#DejaVuSans-111\"/>\n       <use x=\"434.472656\" xlink:href=\"#DejaVuSans-110\"/>\n       <use x=\"497.851562\" xlink:href=\"#DejaVuSans-95\"/>\n       <use x=\"547.851562\" xlink:href=\"#DejaVuSans-71\"/>\n       <use x=\"625.341797\" xlink:href=\"#DejaVuSans-114\"/>\n       <use x=\"666.455078\" xlink:href=\"#DejaVuSans-97\"/>\n       <use x=\"727.734375\" xlink:href=\"#DejaVuSans-100\"/>\n       <use x=\"791.210938\" xlink:href=\"#DejaVuSans-101\"/>\n       <use x=\"852.734375\" xlink:href=\"#DejaVuSans-32\"/>\n       <use x=\"884.521484\" xlink:href=\"#DejaVuSans-56\"/>\n       <use x=\"948.144531\" xlink:href=\"#DejaVuSans-47\"/>\n       <use x=\"981.835938\" xlink:href=\"#DejaVuSans-83\"/>\n       <use x=\"1045.3125\" xlink:href=\"#DejaVuSans-116\"/>\n       <use x=\"1084.521484\" xlink:href=\"#DejaVuSans-97\"/>\n       <use x=\"1145.800781\" xlink:href=\"#DejaVuSans-110\"/>\n       <use x=\"1209.179688\" xlink:href=\"#DejaVuSans-100\"/>\n       <use x=\"1272.65625\" xlink:href=\"#DejaVuSans-97\"/>\n       <use x=\"1333.935547\" xlink:href=\"#DejaVuSans-114\"/>\n       <use x=\"1373.298828\" xlink:href=\"#DejaVuSans-100\"/>\n       <use x=\"1436.775391\" xlink:href=\"#DejaVuSans-32\"/>\n       <use x=\"1468.5625\" xlink:href=\"#DejaVuSans-54\"/>\n       <use x=\"1532.185547\" xlink:href=\"#DejaVuSans-47\"/>\n       <use x=\"1565.876953\" xlink:href=\"#DejaVuSans-70\"/>\n       <use x=\"1619.771484\" xlink:href=\"#DejaVuSans-111\"/>\n       <use x=\"1680.953125\" xlink:href=\"#DejaVuSans-114\"/>\n       <use x=\"1720.316406\" xlink:href=\"#DejaVuSans-109\"/>\n       <use x=\"1817.728516\" xlink:href=\"#DejaVuSans-32\"/>\n       <use x=\"1849.515625\" xlink:href=\"#DejaVuSans-49\"/>\n      </g>\n     </g>\n    </g>\n    <g id=\"ytick_17\">\n     <g id=\"line2d_49\">\n      <path clip-path=\"url(#p307786b5e3)\" d=\"M 499.685937 261.502125 \nL 1169.285938 261.502125 \n\" style=\"fill:none;stroke:#666666;stroke-linecap:square;stroke-opacity:0.2;stroke-width:0.8;\"/>\n     </g>\n     <g id=\"line2d_50\">\n      <g>\n       <use style=\"stroke:#000000;stroke-width:0.8;\" x=\"499.685937\" xlink:href=\"#m47f8fd080c\" y=\"261.502125\"/>\n      </g>\n     </g>\n     <g id=\"text_26\">\n      <!-- marital_st_Living together like husband and wife -->\n      <g transform=\"translate(249.657812 265.301344)scale(0.1 -0.1)\">\n       <use xlink:href=\"#DejaVuSans-109\"/>\n       <use x=\"97.412109\" xlink:href=\"#DejaVuSans-97\"/>\n       <use x=\"158.691406\" xlink:href=\"#DejaVuSans-114\"/>\n       <use x=\"199.804688\" xlink:href=\"#DejaVuSans-105\"/>\n       <use x=\"227.587891\" xlink:href=\"#DejaVuSans-116\"/>\n       <use x=\"266.796875\" xlink:href=\"#DejaVuSans-97\"/>\n       <use x=\"328.076172\" xlink:href=\"#DejaVuSans-108\"/>\n       <use x=\"355.859375\" xlink:href=\"#DejaVuSans-95\"/>\n       <use x=\"405.859375\" xlink:href=\"#DejaVuSans-115\"/>\n       <use x=\"457.958984\" xlink:href=\"#DejaVuSans-116\"/>\n       <use x=\"497.167969\" xlink:href=\"#DejaVuSans-95\"/>\n       <use x=\"547.167969\" xlink:href=\"#DejaVuSans-76\"/>\n       <use x=\"602.880859\" xlink:href=\"#DejaVuSans-105\"/>\n       <use x=\"630.664062\" xlink:href=\"#DejaVuSans-118\"/>\n       <use x=\"689.84375\" xlink:href=\"#DejaVuSans-105\"/>\n       <use x=\"717.626953\" xlink:href=\"#DejaVuSans-110\"/>\n       <use x=\"781.005859\" xlink:href=\"#DejaVuSans-103\"/>\n       <use x=\"844.482422\" xlink:href=\"#DejaVuSans-32\"/>\n       <use x=\"876.269531\" xlink:href=\"#DejaVuSans-116\"/>\n       <use x=\"915.478516\" xlink:href=\"#DejaVuSans-111\"/>\n       <use x=\"976.660156\" xlink:href=\"#DejaVuSans-103\"/>\n       <use x=\"1040.136719\" xlink:href=\"#DejaVuSans-101\"/>\n       <use x=\"1101.660156\" xlink:href=\"#DejaVuSans-116\"/>\n       <use x=\"1140.869141\" xlink:href=\"#DejaVuSans-104\"/>\n       <use x=\"1204.248047\" xlink:href=\"#DejaVuSans-101\"/>\n       <use x=\"1265.771484\" xlink:href=\"#DejaVuSans-114\"/>\n       <use x=\"1306.884766\" xlink:href=\"#DejaVuSans-32\"/>\n       <use x=\"1338.671875\" xlink:href=\"#DejaVuSans-108\"/>\n       <use x=\"1366.455078\" xlink:href=\"#DejaVuSans-105\"/>\n       <use x=\"1394.238281\" xlink:href=\"#DejaVuSans-107\"/>\n       <use x=\"1448.523438\" xlink:href=\"#DejaVuSans-101\"/>\n       <use x=\"1510.046875\" xlink:href=\"#DejaVuSans-32\"/>\n       <use x=\"1541.833984\" xlink:href=\"#DejaVuSans-104\"/>\n       <use x=\"1605.212891\" xlink:href=\"#DejaVuSans-117\"/>\n       <use x=\"1668.591797\" xlink:href=\"#DejaVuSans-115\"/>\n       <use x=\"1720.691406\" xlink:href=\"#DejaVuSans-98\"/>\n       <use x=\"1784.167969\" xlink:href=\"#DejaVuSans-97\"/>\n       <use x=\"1845.447266\" xlink:href=\"#DejaVuSans-110\"/>\n       <use x=\"1908.826172\" xlink:href=\"#DejaVuSans-100\"/>\n       <use x=\"1972.302734\" xlink:href=\"#DejaVuSans-32\"/>\n       <use x=\"2004.089844\" xlink:href=\"#DejaVuSans-97\"/>\n       <use x=\"2065.369141\" xlink:href=\"#DejaVuSans-110\"/>\n       <use x=\"2128.748047\" xlink:href=\"#DejaVuSans-100\"/>\n       <use x=\"2192.224609\" xlink:href=\"#DejaVuSans-32\"/>\n       <use x=\"2224.011719\" xlink:href=\"#DejaVuSans-119\"/>\n       <use x=\"2305.798828\" xlink:href=\"#DejaVuSans-105\"/>\n       <use x=\"2333.582031\" xlink:href=\"#DejaVuSans-102\"/>\n       <use x=\"2368.787109\" xlink:href=\"#DejaVuSans-101\"/>\n      </g>\n     </g>\n    </g>\n    <g id=\"ytick_18\">\n     <g id=\"line2d_51\">\n      <path clip-path=\"url(#p307786b5e3)\" d=\"M 499.685937 275.998125 \nL 1169.285938 275.998125 \n\" style=\"fill:none;stroke:#666666;stroke-linecap:square;stroke-opacity:0.2;stroke-width:0.8;\"/>\n     </g>\n     <g id=\"line2d_52\">\n      <g>\n       <use style=\"stroke:#000000;stroke-width:0.8;\" x=\"499.685937\" xlink:href=\"#m47f8fd080c\" y=\"275.998125\"/>\n      </g>\n     </g>\n     <g id=\"text_27\">\n      <!-- Education_no info -->\n      <g transform=\"translate(403.510937 279.797344)scale(0.1 -0.1)\">\n       <use xlink:href=\"#DejaVuSans-69\"/>\n       <use x=\"63.183594\" xlink:href=\"#DejaVuSans-100\"/>\n       <use x=\"126.660156\" xlink:href=\"#DejaVuSans-117\"/>\n       <use x=\"190.039062\" xlink:href=\"#DejaVuSans-99\"/>\n       <use x=\"245.019531\" xlink:href=\"#DejaVuSans-97\"/>\n       <use x=\"306.298828\" xlink:href=\"#DejaVuSans-116\"/>\n       <use x=\"345.507812\" xlink:href=\"#DejaVuSans-105\"/>\n       <use x=\"373.291016\" xlink:href=\"#DejaVuSans-111\"/>\n       <use x=\"434.472656\" xlink:href=\"#DejaVuSans-110\"/>\n       <use x=\"497.851562\" xlink:href=\"#DejaVuSans-95\"/>\n       <use x=\"547.851562\" xlink:href=\"#DejaVuSans-110\"/>\n       <use x=\"611.230469\" xlink:href=\"#DejaVuSans-111\"/>\n       <use x=\"672.412109\" xlink:href=\"#DejaVuSans-32\"/>\n       <use x=\"704.199219\" xlink:href=\"#DejaVuSans-105\"/>\n       <use x=\"731.982422\" xlink:href=\"#DejaVuSans-110\"/>\n       <use x=\"795.361328\" xlink:href=\"#DejaVuSans-102\"/>\n       <use x=\"830.566406\" xlink:href=\"#DejaVuSans-111\"/>\n      </g>\n     </g>\n    </g>\n    <g id=\"ytick_19\">\n     <g id=\"line2d_53\">\n      <path clip-path=\"url(#p307786b5e3)\" d=\"M 499.685937 290.494125 \nL 1169.285938 290.494125 \n\" style=\"fill:none;stroke:#666666;stroke-linecap:square;stroke-opacity:0.2;stroke-width:0.8;\"/>\n     </g>\n     <g id=\"line2d_54\">\n      <g>\n       <use style=\"stroke:#000000;stroke-width:0.8;\" x=\"499.685937\" xlink:href=\"#m47f8fd080c\" y=\"290.494125\"/>\n      </g>\n     </g>\n     <g id=\"text_28\">\n      <!-- Education_Grade 7/Standard 5/AET 3 -->\n      <g transform=\"translate(307.289062 294.293344)scale(0.1 -0.1)\">\n       <use xlink:href=\"#DejaVuSans-69\"/>\n       <use x=\"63.183594\" xlink:href=\"#DejaVuSans-100\"/>\n       <use x=\"126.660156\" xlink:href=\"#DejaVuSans-117\"/>\n       <use x=\"190.039062\" xlink:href=\"#DejaVuSans-99\"/>\n       <use x=\"245.019531\" xlink:href=\"#DejaVuSans-97\"/>\n       <use x=\"306.298828\" xlink:href=\"#DejaVuSans-116\"/>\n       <use x=\"345.507812\" xlink:href=\"#DejaVuSans-105\"/>\n       <use x=\"373.291016\" xlink:href=\"#DejaVuSans-111\"/>\n       <use x=\"434.472656\" xlink:href=\"#DejaVuSans-110\"/>\n       <use x=\"497.851562\" xlink:href=\"#DejaVuSans-95\"/>\n       <use x=\"547.851562\" xlink:href=\"#DejaVuSans-71\"/>\n       <use x=\"625.341797\" xlink:href=\"#DejaVuSans-114\"/>\n       <use x=\"666.455078\" xlink:href=\"#DejaVuSans-97\"/>\n       <use x=\"727.734375\" xlink:href=\"#DejaVuSans-100\"/>\n       <use x=\"791.210938\" xlink:href=\"#DejaVuSans-101\"/>\n       <use x=\"852.734375\" xlink:href=\"#DejaVuSans-32\"/>\n       <use x=\"884.521484\" xlink:href=\"#DejaVuSans-55\"/>\n       <use x=\"948.144531\" xlink:href=\"#DejaVuSans-47\"/>\n       <use x=\"981.835938\" xlink:href=\"#DejaVuSans-83\"/>\n       <use x=\"1045.3125\" xlink:href=\"#DejaVuSans-116\"/>\n       <use x=\"1084.521484\" xlink:href=\"#DejaVuSans-97\"/>\n       <use x=\"1145.800781\" xlink:href=\"#DejaVuSans-110\"/>\n       <use x=\"1209.179688\" xlink:href=\"#DejaVuSans-100\"/>\n       <use x=\"1272.65625\" xlink:href=\"#DejaVuSans-97\"/>\n       <use x=\"1333.935547\" xlink:href=\"#DejaVuSans-114\"/>\n       <use x=\"1373.298828\" xlink:href=\"#DejaVuSans-100\"/>\n       <use x=\"1436.775391\" xlink:href=\"#DejaVuSans-32\"/>\n       <use x=\"1468.5625\" xlink:href=\"#DejaVuSans-53\"/>\n       <use x=\"1532.185547\" xlink:href=\"#DejaVuSans-47\"/>\n       <use x=\"1565.876953\" xlink:href=\"#DejaVuSans-65\"/>\n       <use x=\"1634.285156\" xlink:href=\"#DejaVuSans-69\"/>\n       <use x=\"1697.46875\" xlink:href=\"#DejaVuSans-84\"/>\n       <use x=\"1758.552734\" xlink:href=\"#DejaVuSans-32\"/>\n       <use x=\"1790.339844\" xlink:href=\"#DejaVuSans-51\"/>\n      </g>\n     </g>\n    </g>\n    <g id=\"ytick_20\">\n     <g id=\"line2d_55\">\n      <path clip-path=\"url(#p307786b5e3)\" d=\"M 499.685937 304.990125 \nL 1169.285938 304.990125 \n\" style=\"fill:none;stroke:#666666;stroke-linecap:square;stroke-opacity:0.2;stroke-width:0.8;\"/>\n     </g>\n     <g id=\"line2d_56\">\n      <g>\n       <use style=\"stroke:#000000;stroke-width:0.8;\" x=\"499.685937\" xlink:href=\"#m47f8fd080c\" y=\"304.990125\"/>\n      </g>\n     </g>\n     <g id=\"text_29\">\n      <!-- RTH_Grandchild/great grandchild of person 01 -->\n      <g transform=\"translate(261.246875 308.789344)scale(0.1 -0.1)\">\n       <use xlink:href=\"#DejaVuSans-82\"/>\n       <use x=\"62.232422\" xlink:href=\"#DejaVuSans-84\"/>\n       <use x=\"123.316406\" xlink:href=\"#DejaVuSans-72\"/>\n       <use x=\"198.511719\" xlink:href=\"#DejaVuSans-95\"/>\n       <use x=\"248.511719\" xlink:href=\"#DejaVuSans-71\"/>\n       <use x=\"326.001953\" xlink:href=\"#DejaVuSans-114\"/>\n       <use x=\"367.115234\" xlink:href=\"#DejaVuSans-97\"/>\n       <use x=\"428.394531\" xlink:href=\"#DejaVuSans-110\"/>\n       <use x=\"491.773438\" xlink:href=\"#DejaVuSans-100\"/>\n       <use x=\"555.25\" xlink:href=\"#DejaVuSans-99\"/>\n       <use x=\"610.230469\" xlink:href=\"#DejaVuSans-104\"/>\n       <use x=\"673.609375\" xlink:href=\"#DejaVuSans-105\"/>\n       <use x=\"701.392578\" xlink:href=\"#DejaVuSans-108\"/>\n       <use x=\"729.175781\" xlink:href=\"#DejaVuSans-100\"/>\n       <use x=\"792.652344\" xlink:href=\"#DejaVuSans-47\"/>\n       <use x=\"826.34375\" xlink:href=\"#DejaVuSans-103\"/>\n       <use x=\"889.820312\" xlink:href=\"#DejaVuSans-114\"/>\n       <use x=\"928.683594\" xlink:href=\"#DejaVuSans-101\"/>\n       <use x=\"990.207031\" xlink:href=\"#DejaVuSans-97\"/>\n       <use x=\"1051.486328\" xlink:href=\"#DejaVuSans-116\"/>\n       <use x=\"1090.695312\" xlink:href=\"#DejaVuSans-32\"/>\n       <use x=\"1122.482422\" xlink:href=\"#DejaVuSans-103\"/>\n       <use x=\"1185.958984\" xlink:href=\"#DejaVuSans-114\"/>\n       <use x=\"1227.072266\" xlink:href=\"#DejaVuSans-97\"/>\n       <use x=\"1288.351562\" xlink:href=\"#DejaVuSans-110\"/>\n       <use x=\"1351.730469\" xlink:href=\"#DejaVuSans-100\"/>\n       <use x=\"1415.207031\" xlink:href=\"#DejaVuSans-99\"/>\n       <use x=\"1470.1875\" xlink:href=\"#DejaVuSans-104\"/>\n       <use x=\"1533.566406\" xlink:href=\"#DejaVuSans-105\"/>\n       <use x=\"1561.349609\" xlink:href=\"#DejaVuSans-108\"/>\n       <use x=\"1589.132812\" xlink:href=\"#DejaVuSans-100\"/>\n       <use x=\"1652.609375\" xlink:href=\"#DejaVuSans-32\"/>\n       <use x=\"1684.396484\" xlink:href=\"#DejaVuSans-111\"/>\n       <use x=\"1745.578125\" xlink:href=\"#DejaVuSans-102\"/>\n       <use x=\"1780.783203\" xlink:href=\"#DejaVuSans-32\"/>\n       <use x=\"1812.570312\" xlink:href=\"#DejaVuSans-112\"/>\n       <use x=\"1876.046875\" xlink:href=\"#DejaVuSans-101\"/>\n       <use x=\"1937.570312\" xlink:href=\"#DejaVuSans-114\"/>\n       <use x=\"1978.683594\" xlink:href=\"#DejaVuSans-115\"/>\n       <use x=\"2030.783203\" xlink:href=\"#DejaVuSans-111\"/>\n       <use x=\"2091.964844\" xlink:href=\"#DejaVuSans-110\"/>\n       <use x=\"2155.34375\" xlink:href=\"#DejaVuSans-32\"/>\n       <use x=\"2187.130859\" xlink:href=\"#DejaVuSans-48\"/>\n       <use x=\"2250.753906\" xlink:href=\"#DejaVuSans-49\"/>\n      </g>\n     </g>\n    </g>\n    <g id=\"ytick_21\">\n     <g id=\"line2d_57\">\n      <path clip-path=\"url(#p307786b5e3)\" d=\"M 499.685937 319.486125 \nL 1169.285938 319.486125 \n\" style=\"fill:none;stroke:#666666;stroke-linecap:square;stroke-opacity:0.2;stroke-width:0.8;\"/>\n     </g>\n     <g id=\"line2d_58\">\n      <g>\n       <use style=\"stroke:#000000;stroke-width:0.8;\" x=\"499.685937\" xlink:href=\"#m47f8fd080c\" y=\"319.486125\"/>\n      </g>\n     </g>\n     <g id=\"text_30\">\n      <!-- dwelling_Flat or apartment in a block of flats -->\n      <g transform=\"translate(269.170312 323.285344)scale(0.1 -0.1)\">\n       <use xlink:href=\"#DejaVuSans-100\"/>\n       <use x=\"63.476562\" xlink:href=\"#DejaVuSans-119\"/>\n       <use x=\"145.263672\" xlink:href=\"#DejaVuSans-101\"/>\n       <use x=\"206.787109\" xlink:href=\"#DejaVuSans-108\"/>\n       <use x=\"234.570312\" xlink:href=\"#DejaVuSans-108\"/>\n       <use x=\"262.353516\" xlink:href=\"#DejaVuSans-105\"/>\n       <use x=\"290.136719\" xlink:href=\"#DejaVuSans-110\"/>\n       <use x=\"353.515625\" xlink:href=\"#DejaVuSans-103\"/>\n       <use x=\"416.992188\" xlink:href=\"#DejaVuSans-95\"/>\n       <use x=\"466.992188\" xlink:href=\"#DejaVuSans-70\"/>\n       <use x=\"524.511719\" xlink:href=\"#DejaVuSans-108\"/>\n       <use x=\"552.294922\" xlink:href=\"#DejaVuSans-97\"/>\n       <use x=\"613.574219\" xlink:href=\"#DejaVuSans-116\"/>\n       <use x=\"652.783203\" xlink:href=\"#DejaVuSans-32\"/>\n       <use x=\"684.570312\" xlink:href=\"#DejaVuSans-111\"/>\n       <use x=\"745.751953\" xlink:href=\"#DejaVuSans-114\"/>\n       <use x=\"786.865234\" xlink:href=\"#DejaVuSans-32\"/>\n       <use x=\"818.652344\" xlink:href=\"#DejaVuSans-97\"/>\n       <use x=\"879.931641\" xlink:href=\"#DejaVuSans-112\"/>\n       <use x=\"943.408203\" xlink:href=\"#DejaVuSans-97\"/>\n       <use x=\"1004.6875\" xlink:href=\"#DejaVuSans-114\"/>\n       <use x=\"1045.800781\" xlink:href=\"#DejaVuSans-116\"/>\n       <use x=\"1085.009766\" xlink:href=\"#DejaVuSans-109\"/>\n       <use x=\"1182.421875\" xlink:href=\"#DejaVuSans-101\"/>\n       <use x=\"1243.945312\" xlink:href=\"#DejaVuSans-110\"/>\n       <use x=\"1307.324219\" xlink:href=\"#DejaVuSans-116\"/>\n       <use x=\"1346.533203\" xlink:href=\"#DejaVuSans-32\"/>\n       <use x=\"1378.320312\" xlink:href=\"#DejaVuSans-105\"/>\n       <use x=\"1406.103516\" xlink:href=\"#DejaVuSans-110\"/>\n       <use x=\"1469.482422\" xlink:href=\"#DejaVuSans-32\"/>\n       <use x=\"1501.269531\" xlink:href=\"#DejaVuSans-97\"/>\n       <use x=\"1562.548828\" xlink:href=\"#DejaVuSans-32\"/>\n       <use x=\"1594.335938\" xlink:href=\"#DejaVuSans-98\"/>\n       <use x=\"1657.8125\" xlink:href=\"#DejaVuSans-108\"/>\n       <use x=\"1685.595703\" xlink:href=\"#DejaVuSans-111\"/>\n       <use x=\"1746.777344\" xlink:href=\"#DejaVuSans-99\"/>\n       <use x=\"1801.757812\" xlink:href=\"#DejaVuSans-107\"/>\n       <use x=\"1859.667969\" xlink:href=\"#DejaVuSans-32\"/>\n       <use x=\"1891.455078\" xlink:href=\"#DejaVuSans-111\"/>\n       <use x=\"1952.636719\" xlink:href=\"#DejaVuSans-102\"/>\n       <use x=\"1987.841797\" xlink:href=\"#DejaVuSans-32\"/>\n       <use x=\"2019.628906\" xlink:href=\"#DejaVuSans-102\"/>\n       <use x=\"2054.833984\" xlink:href=\"#DejaVuSans-108\"/>\n       <use x=\"2082.617188\" xlink:href=\"#DejaVuSans-97\"/>\n       <use x=\"2143.896484\" xlink:href=\"#DejaVuSans-116\"/>\n       <use x=\"2183.105469\" xlink:href=\"#DejaVuSans-115\"/>\n      </g>\n     </g>\n    </g>\n    <g id=\"ytick_22\">\n     <g id=\"line2d_59\">\n      <path clip-path=\"url(#p307786b5e3)\" d=\"M 499.685937 333.982125 \nL 1169.285938 333.982125 \n\" style=\"fill:none;stroke:#666666;stroke-linecap:square;stroke-opacity:0.2;stroke-width:0.8;\"/>\n     </g>\n     <g id=\"line2d_60\">\n      <g>\n       <use style=\"stroke:#000000;stroke-width:0.8;\" x=\"499.685937\" xlink:href=\"#m47f8fd080c\" y=\"333.982125\"/>\n      </g>\n     </g>\n     <g id=\"text_31\">\n      <!-- Lang_inside_IsiZulu -->\n      <defs>\n       <path d=\"M 5.609375 72.90625 \nL 62.890625 72.90625 \nL 62.890625 65.375 \nL 16.796875 8.296875 \nL 64.015625 8.296875 \nL 64.015625 0 \nL 4.5 0 \nL 4.5 7.515625 \nL 50.59375 64.59375 \nL 5.609375 64.59375 \nz\n\" id=\"DejaVuSans-90\"/>\n      </defs>\n      <g transform=\"translate(395.454687 337.781344)scale(0.1 -0.1)\">\n       <use xlink:href=\"#DejaVuSans-76\"/>\n       <use x=\"55.712891\" xlink:href=\"#DejaVuSans-97\"/>\n       <use x=\"116.992188\" xlink:href=\"#DejaVuSans-110\"/>\n       <use x=\"180.371094\" xlink:href=\"#DejaVuSans-103\"/>\n       <use x=\"243.847656\" xlink:href=\"#DejaVuSans-95\"/>\n       <use x=\"293.847656\" xlink:href=\"#DejaVuSans-105\"/>\n       <use x=\"321.630859\" xlink:href=\"#DejaVuSans-110\"/>\n       <use x=\"385.009766\" xlink:href=\"#DejaVuSans-115\"/>\n       <use x=\"437.109375\" xlink:href=\"#DejaVuSans-105\"/>\n       <use x=\"464.892578\" xlink:href=\"#DejaVuSans-100\"/>\n       <use x=\"528.369141\" xlink:href=\"#DejaVuSans-101\"/>\n       <use x=\"589.892578\" xlink:href=\"#DejaVuSans-95\"/>\n       <use x=\"639.892578\" xlink:href=\"#DejaVuSans-73\"/>\n       <use x=\"669.384766\" xlink:href=\"#DejaVuSans-115\"/>\n       <use x=\"721.484375\" xlink:href=\"#DejaVuSans-105\"/>\n       <use x=\"749.267578\" xlink:href=\"#DejaVuSans-90\"/>\n       <use x=\"817.773438\" xlink:href=\"#DejaVuSans-117\"/>\n       <use x=\"881.152344\" xlink:href=\"#DejaVuSans-108\"/>\n       <use x=\"908.935547\" xlink:href=\"#DejaVuSans-117\"/>\n      </g>\n     </g>\n    </g>\n    <g id=\"ytick_23\">\n     <g id=\"line2d_61\">\n      <path clip-path=\"url(#p307786b5e3)\" d=\"M 499.685937 348.478125 \nL 1169.285938 348.478125 \n\" style=\"fill:none;stroke:#666666;stroke-linecap:square;stroke-opacity:0.2;stroke-width:0.8;\"/>\n     </g>\n     <g id=\"line2d_62\">\n      <g>\n       <use style=\"stroke:#000000;stroke-width:0.8;\" x=\"499.685937\" xlink:href=\"#m47f8fd080c\" y=\"348.478125\"/>\n      </g>\n     </g>\n     <g id=\"text_32\">\n      <!-- Lang_outside_IsiZulu -->\n      <g transform=\"translate(388.19375 352.277344)scale(0.1 -0.1)\">\n       <use xlink:href=\"#DejaVuSans-76\"/>\n       <use x=\"55.712891\" xlink:href=\"#DejaVuSans-97\"/>\n       <use x=\"116.992188\" xlink:href=\"#DejaVuSans-110\"/>\n       <use x=\"180.371094\" xlink:href=\"#DejaVuSans-103\"/>\n       <use x=\"243.847656\" xlink:href=\"#DejaVuSans-95\"/>\n       <use x=\"293.847656\" xlink:href=\"#DejaVuSans-111\"/>\n       <use x=\"355.029297\" xlink:href=\"#DejaVuSans-117\"/>\n       <use x=\"418.408203\" xlink:href=\"#DejaVuSans-116\"/>\n       <use x=\"457.617188\" xlink:href=\"#DejaVuSans-115\"/>\n       <use x=\"509.716797\" xlink:href=\"#DejaVuSans-105\"/>\n       <use x=\"537.5\" xlink:href=\"#DejaVuSans-100\"/>\n       <use x=\"600.976562\" xlink:href=\"#DejaVuSans-101\"/>\n       <use x=\"662.5\" xlink:href=\"#DejaVuSans-95\"/>\n       <use x=\"712.5\" xlink:href=\"#DejaVuSans-73\"/>\n       <use x=\"741.992188\" xlink:href=\"#DejaVuSans-115\"/>\n       <use x=\"794.091797\" xlink:href=\"#DejaVuSans-105\"/>\n       <use x=\"821.875\" xlink:href=\"#DejaVuSans-90\"/>\n       <use x=\"890.380859\" xlink:href=\"#DejaVuSans-117\"/>\n       <use x=\"953.759766\" xlink:href=\"#DejaVuSans-108\"/>\n       <use x=\"981.542969\" xlink:href=\"#DejaVuSans-117\"/>\n      </g>\n     </g>\n    </g>\n    <g id=\"ytick_24\">\n     <g id=\"line2d_63\">\n      <path clip-path=\"url(#p307786b5e3)\" d=\"M 499.685937 362.974125 \nL 1169.285938 362.974125 \n\" style=\"fill:none;stroke:#666666;stroke-linecap:square;stroke-opacity:0.2;stroke-width:0.8;\"/>\n     </g>\n     <g id=\"line2d_64\">\n      <g>\n       <use style=\"stroke:#000000;stroke-width:0.8;\" x=\"499.685937\" xlink:href=\"#m47f8fd080c\" y=\"362.974125\"/>\n      </g>\n     </g>\n     <g id=\"text_33\">\n      <!-- metro_code_KZN - Non Metro -->\n      <defs>\n       <path d=\"M 9.8125 72.90625 \nL 19.671875 72.90625 \nL 19.671875 42.09375 \nL 52.390625 72.90625 \nL 65.09375 72.90625 \nL 28.90625 38.921875 \nL 67.671875 0 \nL 54.6875 0 \nL 19.671875 35.109375 \nL 19.671875 0 \nL 9.8125 0 \nz\n\" id=\"DejaVuSans-75\"/>\n       <path d=\"M 4.890625 31.390625 \nL 31.203125 31.390625 \nL 31.203125 23.390625 \nL 4.890625 23.390625 \nz\n\" id=\"DejaVuSans-45\"/>\n      </defs>\n      <g transform=\"translate(346.073437 366.773344)scale(0.1 -0.1)\">\n       <use xlink:href=\"#DejaVuSans-109\"/>\n       <use x=\"97.412109\" xlink:href=\"#DejaVuSans-101\"/>\n       <use x=\"158.935547\" xlink:href=\"#DejaVuSans-116\"/>\n       <use x=\"198.144531\" xlink:href=\"#DejaVuSans-114\"/>\n       <use x=\"237.007812\" xlink:href=\"#DejaVuSans-111\"/>\n       <use x=\"298.189453\" xlink:href=\"#DejaVuSans-95\"/>\n       <use x=\"348.189453\" xlink:href=\"#DejaVuSans-99\"/>\n       <use x=\"403.169922\" xlink:href=\"#DejaVuSans-111\"/>\n       <use x=\"464.351562\" xlink:href=\"#DejaVuSans-100\"/>\n       <use x=\"527.828125\" xlink:href=\"#DejaVuSans-101\"/>\n       <use x=\"589.351562\" xlink:href=\"#DejaVuSans-95\"/>\n       <use x=\"639.351562\" xlink:href=\"#DejaVuSans-75\"/>\n       <use x=\"704.927734\" xlink:href=\"#DejaVuSans-90\"/>\n       <use x=\"773.433594\" xlink:href=\"#DejaVuSans-78\"/>\n       <use x=\"848.238281\" xlink:href=\"#DejaVuSans-32\"/>\n       <use x=\"880.025391\" xlink:href=\"#DejaVuSans-45\"/>\n       <use x=\"916.109375\" xlink:href=\"#DejaVuSans-32\"/>\n       <use x=\"947.896484\" xlink:href=\"#DejaVuSans-78\"/>\n       <use x=\"1022.701172\" xlink:href=\"#DejaVuSans-111\"/>\n       <use x=\"1083.882812\" xlink:href=\"#DejaVuSans-110\"/>\n       <use x=\"1147.261719\" xlink:href=\"#DejaVuSans-32\"/>\n       <use x=\"1179.048828\" xlink:href=\"#DejaVuSans-77\"/>\n       <use x=\"1265.328125\" xlink:href=\"#DejaVuSans-101\"/>\n       <use x=\"1326.851562\" xlink:href=\"#DejaVuSans-116\"/>\n       <use x=\"1366.060547\" xlink:href=\"#DejaVuSans-114\"/>\n       <use x=\"1404.923828\" xlink:href=\"#DejaVuSans-111\"/>\n      </g>\n     </g>\n    </g>\n    <g id=\"ytick_25\">\n     <g id=\"line2d_65\">\n      <path clip-path=\"url(#p307786b5e3)\" d=\"M 499.685937 377.470125 \nL 1169.285938 377.470125 \n\" style=\"fill:none;stroke:#666666;stroke-linecap:square;stroke-opacity:0.2;stroke-width:0.8;\"/>\n     </g>\n     <g id=\"line2d_66\">\n      <g>\n       <use style=\"stroke:#000000;stroke-width:0.8;\" x=\"499.685937\" xlink:href=\"#m47f8fd080c\" y=\"377.470125\"/>\n      </g>\n     </g>\n     <g id=\"text_34\">\n      <!-- RTH_Other relative (e.g. in-laws or aunt/uncle) of person 01 -->\n      <defs>\n       <path d=\"M 39.40625 66.21875 \nQ 28.65625 66.21875 22.328125 58.203125 \nQ 16.015625 50.203125 16.015625 36.375 \nQ 16.015625 22.609375 22.328125 14.59375 \nQ 28.65625 6.59375 39.40625 6.59375 \nQ 50.140625 6.59375 56.421875 14.59375 \nQ 62.703125 22.609375 62.703125 36.375 \nQ 62.703125 50.203125 56.421875 58.203125 \nQ 50.140625 66.21875 39.40625 66.21875 \nz\nM 39.40625 74.21875 \nQ 54.734375 74.21875 63.90625 63.9375 \nQ 73.09375 53.65625 73.09375 36.375 \nQ 73.09375 19.140625 63.90625 8.859375 \nQ 54.734375 -1.421875 39.40625 -1.421875 \nQ 24.03125 -1.421875 14.8125 8.828125 \nQ 5.609375 19.09375 5.609375 36.375 \nQ 5.609375 53.65625 14.8125 63.9375 \nQ 24.03125 74.21875 39.40625 74.21875 \nz\n\" id=\"DejaVuSans-79\"/>\n      </defs>\n      <g transform=\"translate(194.553125 381.269344)scale(0.1 -0.1)\">\n       <use xlink:href=\"#DejaVuSans-82\"/>\n       <use x=\"62.232422\" xlink:href=\"#DejaVuSans-84\"/>\n       <use x=\"123.316406\" xlink:href=\"#DejaVuSans-72\"/>\n       <use x=\"198.511719\" xlink:href=\"#DejaVuSans-95\"/>\n       <use x=\"248.511719\" xlink:href=\"#DejaVuSans-79\"/>\n       <use x=\"327.222656\" xlink:href=\"#DejaVuSans-116\"/>\n       <use x=\"366.431641\" xlink:href=\"#DejaVuSans-104\"/>\n       <use x=\"429.810547\" xlink:href=\"#DejaVuSans-101\"/>\n       <use x=\"491.333984\" xlink:href=\"#DejaVuSans-114\"/>\n       <use x=\"532.447266\" xlink:href=\"#DejaVuSans-32\"/>\n       <use x=\"564.234375\" xlink:href=\"#DejaVuSans-114\"/>\n       <use x=\"603.097656\" xlink:href=\"#DejaVuSans-101\"/>\n       <use x=\"664.621094\" xlink:href=\"#DejaVuSans-108\"/>\n       <use x=\"692.404297\" xlink:href=\"#DejaVuSans-97\"/>\n       <use x=\"753.683594\" xlink:href=\"#DejaVuSans-116\"/>\n       <use x=\"792.892578\" xlink:href=\"#DejaVuSans-105\"/>\n       <use x=\"820.675781\" xlink:href=\"#DejaVuSans-118\"/>\n       <use x=\"879.855469\" xlink:href=\"#DejaVuSans-101\"/>\n       <use x=\"941.378906\" xlink:href=\"#DejaVuSans-32\"/>\n       <use x=\"973.166016\" xlink:href=\"#DejaVuSans-40\"/>\n       <use x=\"1012.179688\" xlink:href=\"#DejaVuSans-101\"/>\n       <use x=\"1073.703125\" xlink:href=\"#DejaVuSans-46\"/>\n       <use x=\"1105.490234\" xlink:href=\"#DejaVuSans-103\"/>\n       <use x=\"1168.966797\" xlink:href=\"#DejaVuSans-46\"/>\n       <use x=\"1200.753906\" xlink:href=\"#DejaVuSans-32\"/>\n       <use x=\"1232.541016\" xlink:href=\"#DejaVuSans-105\"/>\n       <use x=\"1260.324219\" xlink:href=\"#DejaVuSans-110\"/>\n       <use x=\"1323.703125\" xlink:href=\"#DejaVuSans-45\"/>\n       <use x=\"1359.787109\" xlink:href=\"#DejaVuSans-108\"/>\n       <use x=\"1387.570312\" xlink:href=\"#DejaVuSans-97\"/>\n       <use x=\"1448.849609\" xlink:href=\"#DejaVuSans-119\"/>\n       <use x=\"1530.636719\" xlink:href=\"#DejaVuSans-115\"/>\n       <use x=\"1582.736328\" xlink:href=\"#DejaVuSans-32\"/>\n       <use x=\"1614.523438\" xlink:href=\"#DejaVuSans-111\"/>\n       <use x=\"1675.705078\" xlink:href=\"#DejaVuSans-114\"/>\n       <use x=\"1716.818359\" xlink:href=\"#DejaVuSans-32\"/>\n       <use x=\"1748.605469\" xlink:href=\"#DejaVuSans-97\"/>\n       <use x=\"1809.884766\" xlink:href=\"#DejaVuSans-117\"/>\n       <use x=\"1873.263672\" xlink:href=\"#DejaVuSans-110\"/>\n       <use x=\"1936.642578\" xlink:href=\"#DejaVuSans-116\"/>\n       <use x=\"1975.851562\" xlink:href=\"#DejaVuSans-47\"/>\n       <use x=\"2009.542969\" xlink:href=\"#DejaVuSans-117\"/>\n       <use x=\"2072.921875\" xlink:href=\"#DejaVuSans-110\"/>\n       <use x=\"2136.300781\" xlink:href=\"#DejaVuSans-99\"/>\n       <use x=\"2191.28125\" xlink:href=\"#DejaVuSans-108\"/>\n       <use x=\"2219.064453\" xlink:href=\"#DejaVuSans-101\"/>\n       <use x=\"2280.587891\" xlink:href=\"#DejaVuSans-41\"/>\n       <use x=\"2319.601562\" xlink:href=\"#DejaVuSans-32\"/>\n       <use x=\"2351.388672\" xlink:href=\"#DejaVuSans-111\"/>\n       <use x=\"2412.570312\" xlink:href=\"#DejaVuSans-102\"/>\n       <use x=\"2447.775391\" xlink:href=\"#DejaVuSans-32\"/>\n       <use x=\"2479.5625\" xlink:href=\"#DejaVuSans-112\"/>\n       <use x=\"2543.039062\" xlink:href=\"#DejaVuSans-101\"/>\n       <use x=\"2604.5625\" xlink:href=\"#DejaVuSans-114\"/>\n       <use x=\"2645.675781\" xlink:href=\"#DejaVuSans-115\"/>\n       <use x=\"2697.775391\" xlink:href=\"#DejaVuSans-111\"/>\n       <use x=\"2758.957031\" xlink:href=\"#DejaVuSans-110\"/>\n       <use x=\"2822.335938\" xlink:href=\"#DejaVuSans-32\"/>\n       <use x=\"2854.123047\" xlink:href=\"#DejaVuSans-48\"/>\n       <use x=\"2917.746094\" xlink:href=\"#DejaVuSans-49\"/>\n      </g>\n     </g>\n    </g>\n    <g id=\"ytick_26\">\n     <g id=\"line2d_67\">\n      <path clip-path=\"url(#p307786b5e3)\" d=\"M 499.685937 391.966125 \nL 1169.285938 391.966125 \n\" style=\"fill:none;stroke:#666666;stroke-linecap:square;stroke-opacity:0.2;stroke-width:0.8;\"/>\n     </g>\n     <g id=\"line2d_68\">\n      <g>\n       <use style=\"stroke:#000000;stroke-width:0.8;\" x=\"499.685937\" xlink:href=\"#m47f8fd080c\" y=\"391.966125\"/>\n      </g>\n     </g>\n     <g id=\"text_35\">\n      <!-- dwelling_type_Formal -->\n      <g transform=\"translate(384.554687 395.765344)scale(0.1 -0.1)\">\n       <use xlink:href=\"#DejaVuSans-100\"/>\n       <use x=\"63.476562\" xlink:href=\"#DejaVuSans-119\"/>\n       <use x=\"145.263672\" xlink:href=\"#DejaVuSans-101\"/>\n       <use x=\"206.787109\" xlink:href=\"#DejaVuSans-108\"/>\n       <use x=\"234.570312\" xlink:href=\"#DejaVuSans-108\"/>\n       <use x=\"262.353516\" xlink:href=\"#DejaVuSans-105\"/>\n       <use x=\"290.136719\" xlink:href=\"#DejaVuSans-110\"/>\n       <use x=\"353.515625\" xlink:href=\"#DejaVuSans-103\"/>\n       <use x=\"416.992188\" xlink:href=\"#DejaVuSans-95\"/>\n       <use x=\"466.992188\" xlink:href=\"#DejaVuSans-116\"/>\n       <use x=\"506.201172\" xlink:href=\"#DejaVuSans-121\"/>\n       <use x=\"565.380859\" xlink:href=\"#DejaVuSans-112\"/>\n       <use x=\"628.857422\" xlink:href=\"#DejaVuSans-101\"/>\n       <use x=\"690.380859\" xlink:href=\"#DejaVuSans-95\"/>\n       <use x=\"740.380859\" xlink:href=\"#DejaVuSans-70\"/>\n       <use x=\"794.275391\" xlink:href=\"#DejaVuSans-111\"/>\n       <use x=\"855.457031\" xlink:href=\"#DejaVuSans-114\"/>\n       <use x=\"894.820312\" xlink:href=\"#DejaVuSans-109\"/>\n       <use x=\"992.232422\" xlink:href=\"#DejaVuSans-97\"/>\n       <use x=\"1053.511719\" xlink:href=\"#DejaVuSans-108\"/>\n      </g>\n     </g>\n    </g>\n    <g id=\"ytick_27\">\n     <g id=\"line2d_69\">\n      <path clip-path=\"url(#p307786b5e3)\" d=\"M 499.685937 406.462125 \nL 1169.285938 406.462125 \n\" style=\"fill:none;stroke:#666666;stroke-linecap:square;stroke-opacity:0.2;stroke-width:0.8;\"/>\n     </g>\n     <g id=\"line2d_70\">\n      <g>\n       <use style=\"stroke:#000000;stroke-width:0.8;\" x=\"499.685937\" xlink:href=\"#m47f8fd080c\" y=\"406.462125\"/>\n      </g>\n     </g>\n     <g id=\"text_36\">\n      <!-- RTH_Brother/sister/stepbrother/stepsister of person 01 -->\n      <defs>\n       <path d=\"M 19.671875 34.8125 \nL 19.671875 8.109375 \nL 35.5 8.109375 \nQ 43.453125 8.109375 47.28125 11.40625 \nQ 51.125 14.703125 51.125 21.484375 \nQ 51.125 28.328125 47.28125 31.5625 \nQ 43.453125 34.8125 35.5 34.8125 \nz\nM 19.671875 64.796875 \nL 19.671875 42.828125 \nL 34.28125 42.828125 \nQ 41.5 42.828125 45.03125 45.53125 \nQ 48.578125 48.25 48.578125 53.8125 \nQ 48.578125 59.328125 45.03125 62.0625 \nQ 41.5 64.796875 34.28125 64.796875 \nz\nM 9.8125 72.90625 \nL 35.015625 72.90625 \nQ 46.296875 72.90625 52.390625 68.21875 \nQ 58.5 63.53125 58.5 54.890625 \nQ 58.5 48.1875 55.375 44.234375 \nQ 52.25 40.28125 46.1875 39.3125 \nQ 53.46875 37.75 57.5 32.78125 \nQ 61.53125 27.828125 61.53125 20.40625 \nQ 61.53125 10.640625 54.890625 5.3125 \nQ 48.25 0 35.984375 0 \nL 9.8125 0 \nz\n\" id=\"DejaVuSans-66\"/>\n      </defs>\n      <g transform=\"translate(219.264062 410.261344)scale(0.1 -0.1)\">\n       <use xlink:href=\"#DejaVuSans-82\"/>\n       <use x=\"62.232422\" xlink:href=\"#DejaVuSans-84\"/>\n       <use x=\"123.316406\" xlink:href=\"#DejaVuSans-72\"/>\n       <use x=\"198.511719\" xlink:href=\"#DejaVuSans-95\"/>\n       <use x=\"248.511719\" xlink:href=\"#DejaVuSans-66\"/>\n       <use x=\"317.115234\" xlink:href=\"#DejaVuSans-114\"/>\n       <use x=\"355.978516\" xlink:href=\"#DejaVuSans-111\"/>\n       <use x=\"417.160156\" xlink:href=\"#DejaVuSans-116\"/>\n       <use x=\"456.369141\" xlink:href=\"#DejaVuSans-104\"/>\n       <use x=\"519.748047\" xlink:href=\"#DejaVuSans-101\"/>\n       <use x=\"581.271484\" xlink:href=\"#DejaVuSans-114\"/>\n       <use x=\"622.384766\" xlink:href=\"#DejaVuSans-47\"/>\n       <use x=\"656.076172\" xlink:href=\"#DejaVuSans-115\"/>\n       <use x=\"708.175781\" xlink:href=\"#DejaVuSans-105\"/>\n       <use x=\"735.958984\" xlink:href=\"#DejaVuSans-115\"/>\n       <use x=\"788.058594\" xlink:href=\"#DejaVuSans-116\"/>\n       <use x=\"827.267578\" xlink:href=\"#DejaVuSans-101\"/>\n       <use x=\"888.791016\" xlink:href=\"#DejaVuSans-114\"/>\n       <use x=\"929.904297\" xlink:href=\"#DejaVuSans-47\"/>\n       <use x=\"963.595703\" xlink:href=\"#DejaVuSans-115\"/>\n       <use x=\"1015.695312\" xlink:href=\"#DejaVuSans-116\"/>\n       <use x=\"1054.904297\" xlink:href=\"#DejaVuSans-101\"/>\n       <use x=\"1116.427734\" xlink:href=\"#DejaVuSans-112\"/>\n       <use x=\"1179.904297\" xlink:href=\"#DejaVuSans-98\"/>\n       <use x=\"1243.380859\" xlink:href=\"#DejaVuSans-114\"/>\n       <use x=\"1282.244141\" xlink:href=\"#DejaVuSans-111\"/>\n       <use x=\"1343.425781\" xlink:href=\"#DejaVuSans-116\"/>\n       <use x=\"1382.634766\" xlink:href=\"#DejaVuSans-104\"/>\n       <use x=\"1446.013672\" xlink:href=\"#DejaVuSans-101\"/>\n       <use x=\"1507.537109\" xlink:href=\"#DejaVuSans-114\"/>\n       <use x=\"1548.650391\" xlink:href=\"#DejaVuSans-47\"/>\n       <use x=\"1582.341797\" xlink:href=\"#DejaVuSans-115\"/>\n       <use x=\"1634.441406\" xlink:href=\"#DejaVuSans-116\"/>\n       <use x=\"1673.650391\" xlink:href=\"#DejaVuSans-101\"/>\n       <use x=\"1735.173828\" xlink:href=\"#DejaVuSans-112\"/>\n       <use x=\"1798.650391\" xlink:href=\"#DejaVuSans-115\"/>\n       <use x=\"1850.75\" xlink:href=\"#DejaVuSans-105\"/>\n       <use x=\"1878.533203\" xlink:href=\"#DejaVuSans-115\"/>\n       <use x=\"1930.632812\" xlink:href=\"#DejaVuSans-116\"/>\n       <use x=\"1969.841797\" xlink:href=\"#DejaVuSans-101\"/>\n       <use x=\"2031.365234\" xlink:href=\"#DejaVuSans-114\"/>\n       <use x=\"2072.478516\" xlink:href=\"#DejaVuSans-32\"/>\n       <use x=\"2104.265625\" xlink:href=\"#DejaVuSans-111\"/>\n       <use x=\"2165.447266\" xlink:href=\"#DejaVuSans-102\"/>\n       <use x=\"2200.652344\" xlink:href=\"#DejaVuSans-32\"/>\n       <use x=\"2232.439453\" xlink:href=\"#DejaVuSans-112\"/>\n       <use x=\"2295.916016\" xlink:href=\"#DejaVuSans-101\"/>\n       <use x=\"2357.439453\" xlink:href=\"#DejaVuSans-114\"/>\n       <use x=\"2398.552734\" xlink:href=\"#DejaVuSans-115\"/>\n       <use x=\"2450.652344\" xlink:href=\"#DejaVuSans-111\"/>\n       <use x=\"2511.833984\" xlink:href=\"#DejaVuSans-110\"/>\n       <use x=\"2575.212891\" xlink:href=\"#DejaVuSans-32\"/>\n       <use x=\"2607\" xlink:href=\"#DejaVuSans-48\"/>\n       <use x=\"2670.623047\" xlink:href=\"#DejaVuSans-49\"/>\n      </g>\n     </g>\n    </g>\n    <g id=\"ytick_28\">\n     <g id=\"line2d_71\">\n      <path clip-path=\"url(#p307786b5e3)\" d=\"M 499.685937 420.958125 \nL 1169.285938 420.958125 \n\" style=\"fill:none;stroke:#666666;stroke-linecap:square;stroke-opacity:0.2;stroke-width:0.8;\"/>\n     </g>\n     <g id=\"line2d_72\">\n      <g>\n       <use style=\"stroke:#000000;stroke-width:0.8;\" x=\"499.685937\" xlink:href=\"#m47f8fd080c\" y=\"420.958125\"/>\n      </g>\n     </g>\n     <g id=\"text_37\">\n      <!-- province_code_Gauteng -->\n      <g transform=\"translate(372.554687 424.757344)scale(0.1 -0.1)\">\n       <use xlink:href=\"#DejaVuSans-112\"/>\n       <use x=\"63.476562\" xlink:href=\"#DejaVuSans-114\"/>\n       <use x=\"102.339844\" xlink:href=\"#DejaVuSans-111\"/>\n       <use x=\"163.521484\" xlink:href=\"#DejaVuSans-118\"/>\n       <use x=\"222.701172\" xlink:href=\"#DejaVuSans-105\"/>\n       <use x=\"250.484375\" xlink:href=\"#DejaVuSans-110\"/>\n       <use x=\"313.863281\" xlink:href=\"#DejaVuSans-99\"/>\n       <use x=\"368.84375\" xlink:href=\"#DejaVuSans-101\"/>\n       <use x=\"430.367188\" xlink:href=\"#DejaVuSans-95\"/>\n       <use x=\"480.367188\" xlink:href=\"#DejaVuSans-99\"/>\n       <use x=\"535.347656\" xlink:href=\"#DejaVuSans-111\"/>\n       <use x=\"596.529297\" xlink:href=\"#DejaVuSans-100\"/>\n       <use x=\"660.005859\" xlink:href=\"#DejaVuSans-101\"/>\n       <use x=\"721.529297\" xlink:href=\"#DejaVuSans-95\"/>\n       <use x=\"771.529297\" xlink:href=\"#DejaVuSans-71\"/>\n       <use x=\"849.019531\" xlink:href=\"#DejaVuSans-97\"/>\n       <use x=\"910.298828\" xlink:href=\"#DejaVuSans-117\"/>\n       <use x=\"973.677734\" xlink:href=\"#DejaVuSans-116\"/>\n       <use x=\"1012.886719\" xlink:href=\"#DejaVuSans-101\"/>\n       <use x=\"1074.410156\" xlink:href=\"#DejaVuSans-110\"/>\n       <use x=\"1137.789062\" xlink:href=\"#DejaVuSans-103\"/>\n      </g>\n     </g>\n    </g>\n    <g id=\"ytick_29\">\n     <g id=\"line2d_73\">\n      <path clip-path=\"url(#p307786b5e3)\" d=\"M 499.685937 435.454125 \nL 1169.285938 435.454125 \n\" style=\"fill:none;stroke:#666666;stroke-linecap:square;stroke-opacity:0.2;stroke-width:0.8;\"/>\n     </g>\n     <g id=\"line2d_74\">\n      <g>\n       <use style=\"stroke:#000000;stroke-width:0.8;\" x=\"499.685937\" xlink:href=\"#m47f8fd080c\" y=\"435.454125\"/>\n      </g>\n     </g>\n     <g id=\"text_38\">\n      <!-- metro_code_EC - Nelson Mandela Bay -->\n      <defs>\n       <path d=\"M 64.40625 67.28125 \nL 64.40625 56.890625 \nQ 59.421875 61.53125 53.78125 63.8125 \nQ 48.140625 66.109375 41.796875 66.109375 \nQ 29.296875 66.109375 22.65625 58.46875 \nQ 16.015625 50.828125 16.015625 36.375 \nQ 16.015625 21.96875 22.65625 14.328125 \nQ 29.296875 6.6875 41.796875 6.6875 \nQ 48.140625 6.6875 53.78125 8.984375 \nQ 59.421875 11.28125 64.40625 15.921875 \nL 64.40625 5.609375 \nQ 59.234375 2.09375 53.4375 0.328125 \nQ 47.65625 -1.421875 41.21875 -1.421875 \nQ 24.65625 -1.421875 15.125 8.703125 \nQ 5.609375 18.84375 5.609375 36.375 \nQ 5.609375 53.953125 15.125 64.078125 \nQ 24.65625 74.21875 41.21875 74.21875 \nQ 47.75 74.21875 53.53125 72.484375 \nQ 59.328125 70.75 64.40625 67.28125 \nz\n\" id=\"DejaVuSans-67\"/>\n      </defs>\n      <g transform=\"translate(303.639062 439.253344)scale(0.1 -0.1)\">\n       <use xlink:href=\"#DejaVuSans-109\"/>\n       <use x=\"97.412109\" xlink:href=\"#DejaVuSans-101\"/>\n       <use x=\"158.935547\" xlink:href=\"#DejaVuSans-116\"/>\n       <use x=\"198.144531\" xlink:href=\"#DejaVuSans-114\"/>\n       <use x=\"237.007812\" xlink:href=\"#DejaVuSans-111\"/>\n       <use x=\"298.189453\" xlink:href=\"#DejaVuSans-95\"/>\n       <use x=\"348.189453\" xlink:href=\"#DejaVuSans-99\"/>\n       <use x=\"403.169922\" xlink:href=\"#DejaVuSans-111\"/>\n       <use x=\"464.351562\" xlink:href=\"#DejaVuSans-100\"/>\n       <use x=\"527.828125\" xlink:href=\"#DejaVuSans-101\"/>\n       <use x=\"589.351562\" xlink:href=\"#DejaVuSans-95\"/>\n       <use x=\"639.351562\" xlink:href=\"#DejaVuSans-69\"/>\n       <use x=\"702.535156\" xlink:href=\"#DejaVuSans-67\"/>\n       <use x=\"772.359375\" xlink:href=\"#DejaVuSans-32\"/>\n       <use x=\"804.146484\" xlink:href=\"#DejaVuSans-45\"/>\n       <use x=\"840.230469\" xlink:href=\"#DejaVuSans-32\"/>\n       <use x=\"872.017578\" xlink:href=\"#DejaVuSans-78\"/>\n       <use x=\"946.822266\" xlink:href=\"#DejaVuSans-101\"/>\n       <use x=\"1008.345703\" xlink:href=\"#DejaVuSans-108\"/>\n       <use x=\"1036.128906\" xlink:href=\"#DejaVuSans-115\"/>\n       <use x=\"1088.228516\" xlink:href=\"#DejaVuSans-111\"/>\n       <use x=\"1149.410156\" xlink:href=\"#DejaVuSans-110\"/>\n       <use x=\"1212.789062\" xlink:href=\"#DejaVuSans-32\"/>\n       <use x=\"1244.576172\" xlink:href=\"#DejaVuSans-77\"/>\n       <use x=\"1330.855469\" xlink:href=\"#DejaVuSans-97\"/>\n       <use x=\"1392.134766\" xlink:href=\"#DejaVuSans-110\"/>\n       <use x=\"1455.513672\" xlink:href=\"#DejaVuSans-100\"/>\n       <use x=\"1518.990234\" xlink:href=\"#DejaVuSans-101\"/>\n       <use x=\"1580.513672\" xlink:href=\"#DejaVuSans-108\"/>\n       <use x=\"1608.296875\" xlink:href=\"#DejaVuSans-97\"/>\n       <use x=\"1669.576172\" xlink:href=\"#DejaVuSans-32\"/>\n       <use x=\"1701.363281\" xlink:href=\"#DejaVuSans-66\"/>\n       <use x=\"1769.966797\" xlink:href=\"#DejaVuSans-97\"/>\n       <use x=\"1831.246094\" xlink:href=\"#DejaVuSans-121\"/>\n      </g>\n     </g>\n    </g>\n    <g id=\"ytick_30\">\n     <g id=\"line2d_75\">\n      <path clip-path=\"url(#p307786b5e3)\" d=\"M 499.685937 449.950125 \nL 1169.285938 449.950125 \n\" style=\"fill:none;stroke:#666666;stroke-linecap:square;stroke-opacity:0.2;stroke-width:0.8;\"/>\n     </g>\n     <g id=\"line2d_76\">\n      <g>\n       <use style=\"stroke:#000000;stroke-width:0.8;\" x=\"499.685937\" xlink:href=\"#m47f8fd080c\" y=\"449.950125\"/>\n      </g>\n     </g>\n     <g id=\"text_39\">\n      <!-- dwelling_Traditional dwelling/hut/structure made of traditional materials -->\n      <g transform=\"translate(131.326562 453.749344)scale(0.1 -0.1)\">\n       <use xlink:href=\"#DejaVuSans-100\"/>\n       <use x=\"63.476562\" xlink:href=\"#DejaVuSans-119\"/>\n       <use x=\"145.263672\" xlink:href=\"#DejaVuSans-101\"/>\n       <use x=\"206.787109\" xlink:href=\"#DejaVuSans-108\"/>\n       <use x=\"234.570312\" xlink:href=\"#DejaVuSans-108\"/>\n       <use x=\"262.353516\" xlink:href=\"#DejaVuSans-105\"/>\n       <use x=\"290.136719\" xlink:href=\"#DejaVuSans-110\"/>\n       <use x=\"353.515625\" xlink:href=\"#DejaVuSans-103\"/>\n       <use x=\"416.992188\" xlink:href=\"#DejaVuSans-95\"/>\n       <use x=\"466.992188\" xlink:href=\"#DejaVuSans-84\"/>\n       <use x=\"513.326172\" xlink:href=\"#DejaVuSans-114\"/>\n       <use x=\"554.439453\" xlink:href=\"#DejaVuSans-97\"/>\n       <use x=\"615.71875\" xlink:href=\"#DejaVuSans-100\"/>\n       <use x=\"679.195312\" xlink:href=\"#DejaVuSans-105\"/>\n       <use x=\"706.978516\" xlink:href=\"#DejaVuSans-116\"/>\n       <use x=\"746.1875\" xlink:href=\"#DejaVuSans-105\"/>\n       <use x=\"773.970703\" xlink:href=\"#DejaVuSans-111\"/>\n       <use x=\"835.152344\" xlink:href=\"#DejaVuSans-110\"/>\n       <use x=\"898.53125\" xlink:href=\"#DejaVuSans-97\"/>\n       <use x=\"959.810547\" xlink:href=\"#DejaVuSans-108\"/>\n       <use x=\"987.59375\" xlink:href=\"#DejaVuSans-32\"/>\n       <use x=\"1019.380859\" xlink:href=\"#DejaVuSans-100\"/>\n       <use x=\"1082.857422\" xlink:href=\"#DejaVuSans-119\"/>\n       <use x=\"1164.644531\" xlink:href=\"#DejaVuSans-101\"/>\n       <use x=\"1226.167969\" xlink:href=\"#DejaVuSans-108\"/>\n       <use x=\"1253.951172\" xlink:href=\"#DejaVuSans-108\"/>\n       <use x=\"1281.734375\" xlink:href=\"#DejaVuSans-105\"/>\n       <use x=\"1309.517578\" xlink:href=\"#DejaVuSans-110\"/>\n       <use x=\"1372.896484\" xlink:href=\"#DejaVuSans-103\"/>\n       <use x=\"1436.373047\" xlink:href=\"#DejaVuSans-47\"/>\n       <use x=\"1470.064453\" xlink:href=\"#DejaVuSans-104\"/>\n       <use x=\"1533.443359\" xlink:href=\"#DejaVuSans-117\"/>\n       <use x=\"1596.822266\" xlink:href=\"#DejaVuSans-116\"/>\n       <use x=\"1636.03125\" xlink:href=\"#DejaVuSans-47\"/>\n       <use x=\"1669.722656\" xlink:href=\"#DejaVuSans-115\"/>\n       <use x=\"1721.822266\" xlink:href=\"#DejaVuSans-116\"/>\n       <use x=\"1761.03125\" xlink:href=\"#DejaVuSans-114\"/>\n       <use x=\"1802.144531\" xlink:href=\"#DejaVuSans-117\"/>\n       <use x=\"1865.523438\" xlink:href=\"#DejaVuSans-99\"/>\n       <use x=\"1920.503906\" xlink:href=\"#DejaVuSans-116\"/>\n       <use x=\"1959.712891\" xlink:href=\"#DejaVuSans-117\"/>\n       <use x=\"2023.091797\" xlink:href=\"#DejaVuSans-114\"/>\n       <use x=\"2061.955078\" xlink:href=\"#DejaVuSans-101\"/>\n       <use x=\"2123.478516\" xlink:href=\"#DejaVuSans-32\"/>\n       <use x=\"2155.265625\" xlink:href=\"#DejaVuSans-109\"/>\n       <use x=\"2252.677734\" xlink:href=\"#DejaVuSans-97\"/>\n       <use x=\"2313.957031\" xlink:href=\"#DejaVuSans-100\"/>\n       <use x=\"2377.433594\" xlink:href=\"#DejaVuSans-101\"/>\n       <use x=\"2438.957031\" xlink:href=\"#DejaVuSans-32\"/>\n       <use x=\"2470.744141\" xlink:href=\"#DejaVuSans-111\"/>\n       <use x=\"2531.925781\" xlink:href=\"#DejaVuSans-102\"/>\n       <use x=\"2567.130859\" xlink:href=\"#DejaVuSans-32\"/>\n       <use x=\"2598.917969\" xlink:href=\"#DejaVuSans-116\"/>\n       <use x=\"2638.126953\" xlink:href=\"#DejaVuSans-114\"/>\n       <use x=\"2679.240234\" xlink:href=\"#DejaVuSans-97\"/>\n       <use x=\"2740.519531\" xlink:href=\"#DejaVuSans-100\"/>\n       <use x=\"2803.996094\" xlink:href=\"#DejaVuSans-105\"/>\n       <use x=\"2831.779297\" xlink:href=\"#DejaVuSans-116\"/>\n       <use x=\"2870.988281\" xlink:href=\"#DejaVuSans-105\"/>\n       <use x=\"2898.771484\" xlink:href=\"#DejaVuSans-111\"/>\n       <use x=\"2959.953125\" xlink:href=\"#DejaVuSans-110\"/>\n       <use x=\"3023.332031\" xlink:href=\"#DejaVuSans-97\"/>\n       <use x=\"3084.611328\" xlink:href=\"#DejaVuSans-108\"/>\n       <use x=\"3112.394531\" xlink:href=\"#DejaVuSans-32\"/>\n       <use x=\"3144.181641\" xlink:href=\"#DejaVuSans-109\"/>\n       <use x=\"3241.59375\" xlink:href=\"#DejaVuSans-97\"/>\n       <use x=\"3302.873047\" xlink:href=\"#DejaVuSans-116\"/>\n       <use x=\"3342.082031\" xlink:href=\"#DejaVuSans-101\"/>\n       <use x=\"3403.605469\" xlink:href=\"#DejaVuSans-114\"/>\n       <use x=\"3444.71875\" xlink:href=\"#DejaVuSans-105\"/>\n       <use x=\"3472.501953\" xlink:href=\"#DejaVuSans-97\"/>\n       <use x=\"3533.78125\" xlink:href=\"#DejaVuSans-108\"/>\n       <use x=\"3561.564453\" xlink:href=\"#DejaVuSans-115\"/>\n      </g>\n     </g>\n    </g>\n    <g id=\"text_40\">\n     <!-- Features -->\n     <g transform=\"translate(14.798437 261.252656)rotate(-90)scale(0.1 -0.1)\">\n      <use xlink:href=\"#DejaVuSans-70\"/>\n      <use x=\"52.019531\" xlink:href=\"#DejaVuSans-101\"/>\n      <use x=\"113.542969\" xlink:href=\"#DejaVuSans-97\"/>\n      <use x=\"174.822266\" xlink:href=\"#DejaVuSans-116\"/>\n      <use x=\"214.03125\" xlink:href=\"#DejaVuSans-117\"/>\n      <use x=\"277.410156\" xlink:href=\"#DejaVuSans-114\"/>\n      <use x=\"316.273438\" xlink:href=\"#DejaVuSans-101\"/>\n      <use x=\"377.796875\" xlink:href=\"#DejaVuSans-115\"/>\n     </g>\n    </g>\n   </g>\n   <g id=\"line2d_77\">\n    <path clip-path=\"url(#p307786b5e3)\" d=\"M 0 0 \n\" style=\"fill:none;stroke:#424242;stroke-linecap:square;stroke-width:2.7;\"/>\n   </g>\n   <g id=\"line2d_78\">\n    <path clip-path=\"url(#p307786b5e3)\" d=\"M 0 0 \n\" style=\"fill:none;stroke:#424242;stroke-linecap:square;stroke-width:2.7;\"/>\n   </g>\n   <g id=\"line2d_79\">\n    <path clip-path=\"url(#p307786b5e3)\" d=\"M 0 0 \n\" style=\"fill:none;stroke:#424242;stroke-linecap:square;stroke-width:2.7;\"/>\n   </g>\n   <g id=\"line2d_80\">\n    <path clip-path=\"url(#p307786b5e3)\" d=\"M 0 0 \n\" style=\"fill:none;stroke:#424242;stroke-linecap:square;stroke-width:2.7;\"/>\n   </g>\n   <g id=\"line2d_81\">\n    <path clip-path=\"url(#p307786b5e3)\" d=\"M 0 0 \n\" style=\"fill:none;stroke:#424242;stroke-linecap:square;stroke-width:2.7;\"/>\n   </g>\n   <g id=\"line2d_82\">\n    <path clip-path=\"url(#p307786b5e3)\" d=\"M 0 0 \n\" style=\"fill:none;stroke:#424242;stroke-linecap:square;stroke-width:2.7;\"/>\n   </g>\n   <g id=\"line2d_83\">\n    <path clip-path=\"url(#p307786b5e3)\" d=\"M 0 0 \n\" style=\"fill:none;stroke:#424242;stroke-linecap:square;stroke-width:2.7;\"/>\n   </g>\n   <g id=\"line2d_84\">\n    <path clip-path=\"url(#p307786b5e3)\" d=\"M 0 0 \n\" style=\"fill:none;stroke:#424242;stroke-linecap:square;stroke-width:2.7;\"/>\n   </g>\n   <g id=\"line2d_85\">\n    <path clip-path=\"url(#p307786b5e3)\" d=\"M 0 0 \n\" style=\"fill:none;stroke:#424242;stroke-linecap:square;stroke-width:2.7;\"/>\n   </g>\n   <g id=\"line2d_86\">\n    <path clip-path=\"url(#p307786b5e3)\" d=\"M 0 0 \n\" style=\"fill:none;stroke:#424242;stroke-linecap:square;stroke-width:2.7;\"/>\n   </g>\n   <g id=\"line2d_87\">\n    <path clip-path=\"url(#p307786b5e3)\" d=\"M 0 0 \n\" style=\"fill:none;stroke:#424242;stroke-linecap:square;stroke-width:2.7;\"/>\n   </g>\n   <g id=\"line2d_88\">\n    <path clip-path=\"url(#p307786b5e3)\" d=\"M 0 0 \n\" style=\"fill:none;stroke:#424242;stroke-linecap:square;stroke-width:2.7;\"/>\n   </g>\n   <g id=\"line2d_89\">\n    <path clip-path=\"url(#p307786b5e3)\" d=\"M 0 0 \n\" style=\"fill:none;stroke:#424242;stroke-linecap:square;stroke-width:2.7;\"/>\n   </g>\n   <g id=\"line2d_90\">\n    <path clip-path=\"url(#p307786b5e3)\" d=\"M 0 0 \n\" style=\"fill:none;stroke:#424242;stroke-linecap:square;stroke-width:2.7;\"/>\n   </g>\n   <g id=\"line2d_91\">\n    <path clip-path=\"url(#p307786b5e3)\" d=\"M 0 0 \n\" style=\"fill:none;stroke:#424242;stroke-linecap:square;stroke-width:2.7;\"/>\n   </g>\n   <g id=\"line2d_92\">\n    <path clip-path=\"url(#p307786b5e3)\" d=\"M 0 0 \n\" style=\"fill:none;stroke:#424242;stroke-linecap:square;stroke-width:2.7;\"/>\n   </g>\n   <g id=\"line2d_93\">\n    <path clip-path=\"url(#p307786b5e3)\" d=\"M 0 0 \n\" style=\"fill:none;stroke:#424242;stroke-linecap:square;stroke-width:2.7;\"/>\n   </g>\n   <g id=\"line2d_94\">\n    <path clip-path=\"url(#p307786b5e3)\" d=\"M 0 0 \n\" style=\"fill:none;stroke:#424242;stroke-linecap:square;stroke-width:2.7;\"/>\n   </g>\n   <g id=\"line2d_95\">\n    <path clip-path=\"url(#p307786b5e3)\" d=\"M 0 0 \n\" style=\"fill:none;stroke:#424242;stroke-linecap:square;stroke-width:2.7;\"/>\n   </g>\n   <g id=\"line2d_96\">\n    <path clip-path=\"url(#p307786b5e3)\" d=\"M 0 0 \n\" style=\"fill:none;stroke:#424242;stroke-linecap:square;stroke-width:2.7;\"/>\n   </g>\n   <g id=\"line2d_97\">\n    <path clip-path=\"url(#p307786b5e3)\" d=\"M 0 0 \n\" style=\"fill:none;stroke:#424242;stroke-linecap:square;stroke-width:2.7;\"/>\n   </g>\n   <g id=\"line2d_98\">\n    <path clip-path=\"url(#p307786b5e3)\" d=\"M 0 0 \n\" style=\"fill:none;stroke:#424242;stroke-linecap:square;stroke-width:2.7;\"/>\n   </g>\n   <g id=\"line2d_99\">\n    <path clip-path=\"url(#p307786b5e3)\" d=\"M 0 0 \n\" style=\"fill:none;stroke:#424242;stroke-linecap:square;stroke-width:2.7;\"/>\n   </g>\n   <g id=\"line2d_100\">\n    <path clip-path=\"url(#p307786b5e3)\" d=\"M 0 0 \n\" style=\"fill:none;stroke:#424242;stroke-linecap:square;stroke-width:2.7;\"/>\n   </g>\n   <g id=\"line2d_101\">\n    <path clip-path=\"url(#p307786b5e3)\" d=\"M 0 0 \n\" style=\"fill:none;stroke:#424242;stroke-linecap:square;stroke-width:2.7;\"/>\n   </g>\n   <g id=\"line2d_102\">\n    <path clip-path=\"url(#p307786b5e3)\" d=\"M 0 0 \n\" style=\"fill:none;stroke:#424242;stroke-linecap:square;stroke-width:2.7;\"/>\n   </g>\n   <g id=\"line2d_103\">\n    <path clip-path=\"url(#p307786b5e3)\" d=\"M 0 0 \n\" style=\"fill:none;stroke:#424242;stroke-linecap:square;stroke-width:2.7;\"/>\n   </g>\n   <g id=\"line2d_104\">\n    <path clip-path=\"url(#p307786b5e3)\" d=\"M 0 0 \n\" style=\"fill:none;stroke:#424242;stroke-linecap:square;stroke-width:2.7;\"/>\n   </g>\n   <g id=\"line2d_105\">\n    <path clip-path=\"url(#p307786b5e3)\" d=\"M 0 0 \n\" style=\"fill:none;stroke:#424242;stroke-linecap:square;stroke-width:2.7;\"/>\n   </g>\n   <g id=\"line2d_106\">\n    <path clip-path=\"url(#p307786b5e3)\" d=\"M 0 0 \n\" style=\"fill:none;stroke:#424242;stroke-linecap:square;stroke-width:2.7;\"/>\n   </g>\n   <g id=\"patch_33\">\n    <path d=\"M 499.685937 457.198125 \nL 499.685937 22.318125 \n\" style=\"fill:none;stroke:#000000;stroke-linecap:square;stroke-linejoin:miter;stroke-width:0.8;\"/>\n   </g>\n   <g id=\"patch_34\">\n    <path d=\"M 1169.285938 457.198125 \nL 1169.285938 22.318125 \n\" style=\"fill:none;stroke:#000000;stroke-linecap:square;stroke-linejoin:miter;stroke-width:0.8;\"/>\n   </g>\n   <g id=\"patch_35\">\n    <path d=\"M 499.685937 457.198125 \nL 1169.285938 457.198125 \n\" style=\"fill:none;stroke:#000000;stroke-linecap:square;stroke-linejoin:miter;stroke-width:0.8;\"/>\n   </g>\n   <g id=\"patch_36\">\n    <path d=\"M 499.685937 22.318125 \nL 1169.285938 22.318125 \n\" style=\"fill:none;stroke:#000000;stroke-linecap:square;stroke-linejoin:miter;stroke-width:0.8;\"/>\n   </g>\n   <g id=\"text_41\">\n    <!-- Visualizing Important Features -->\n    <defs>\n     <path d=\"M 28.609375 0 \nL 0.78125 72.90625 \nL 11.078125 72.90625 \nL 34.1875 11.53125 \nL 57.328125 72.90625 \nL 67.578125 72.90625 \nL 39.796875 0 \nz\n\" id=\"DejaVuSans-86\"/>\n     <path d=\"M 5.515625 54.6875 \nL 48.1875 54.6875 \nL 48.1875 46.484375 \nL 14.40625 7.171875 \nL 48.1875 7.171875 \nL 48.1875 0 \nL 4.296875 0 \nL 4.296875 8.203125 \nL 38.09375 47.515625 \nL 5.515625 47.515625 \nz\n\" id=\"DejaVuSans-122\"/>\n    </defs>\n    <g transform=\"translate(743.13125 16.318125)scale(0.12 -0.12)\">\n     <use xlink:href=\"#DejaVuSans-86\"/>\n     <use x=\"66.158203\" xlink:href=\"#DejaVuSans-105\"/>\n     <use x=\"93.941406\" xlink:href=\"#DejaVuSans-115\"/>\n     <use x=\"146.041016\" xlink:href=\"#DejaVuSans-117\"/>\n     <use x=\"209.419922\" xlink:href=\"#DejaVuSans-97\"/>\n     <use x=\"270.699219\" xlink:href=\"#DejaVuSans-108\"/>\n     <use x=\"298.482422\" xlink:href=\"#DejaVuSans-105\"/>\n     <use x=\"326.265625\" xlink:href=\"#DejaVuSans-122\"/>\n     <use x=\"378.755859\" xlink:href=\"#DejaVuSans-105\"/>\n     <use x=\"406.539062\" xlink:href=\"#DejaVuSans-110\"/>\n     <use x=\"469.917969\" xlink:href=\"#DejaVuSans-103\"/>\n     <use x=\"533.394531\" xlink:href=\"#DejaVuSans-32\"/>\n     <use x=\"565.181641\" xlink:href=\"#DejaVuSans-73\"/>\n     <use x=\"594.673828\" xlink:href=\"#DejaVuSans-109\"/>\n     <use x=\"692.085938\" xlink:href=\"#DejaVuSans-112\"/>\n     <use x=\"755.5625\" xlink:href=\"#DejaVuSans-111\"/>\n     <use x=\"816.744141\" xlink:href=\"#DejaVuSans-114\"/>\n     <use x=\"857.857422\" xlink:href=\"#DejaVuSans-116\"/>\n     <use x=\"897.066406\" xlink:href=\"#DejaVuSans-97\"/>\n     <use x=\"958.345703\" xlink:href=\"#DejaVuSans-110\"/>\n     <use x=\"1021.724609\" xlink:href=\"#DejaVuSans-116\"/>\n     <use x=\"1060.933594\" xlink:href=\"#DejaVuSans-32\"/>\n     <use x=\"1092.720703\" xlink:href=\"#DejaVuSans-70\"/>\n     <use x=\"1144.740234\" xlink:href=\"#DejaVuSans-101\"/>\n     <use x=\"1206.263672\" xlink:href=\"#DejaVuSans-97\"/>\n     <use x=\"1267.542969\" xlink:href=\"#DejaVuSans-116\"/>\n     <use x=\"1306.751953\" xlink:href=\"#DejaVuSans-117\"/>\n     <use x=\"1370.130859\" xlink:href=\"#DejaVuSans-114\"/>\n     <use x=\"1408.994141\" xlink:href=\"#DejaVuSans-101\"/>\n     <use x=\"1470.517578\" xlink:href=\"#DejaVuSans-115\"/>\n    </g>\n   </g>\n  </g>\n </g>\n <defs>\n  <clipPath id=\"p307786b5e3\">\n   <rect height=\"434.88\" width=\"669.6\" x=\"499.685937\" y=\"22.318125\"/>\n  </clipPath>\n </defs>\n</svg>\n",
      "image/png": "[encoded data removed]"
     },
     "metadata": {
      "needs_background": "light"
     }
    }
   ],
   "source": [
    "import matplotlib.pyplot as plt\n",
    "\n",
    "X_train_rf = X_train_std_df[feature_imp[:30].index]\n",
    "X_test_rf = X_test_std_df[feature_imp[:30].index]\n",
    "plt.figure(figsize=(12,8))\n",
    "sns.barplot(x=feature_imp[0:30], y=feature_imp.index[0:30])\n",
    "plt.xlabel('Feature Importance Score')\n",
    "plt.ylabel('Features')\n",
    "plt.title(\"Visualizing Important Features\")\n",
    "plt.grid(b=False, which='major', color='#666666', linestyle='-', alpha=0.2)\n",
    "plt.show()"
   ]
  },
  {
   "cell_type": "code",
   "execution_count": 43,
   "metadata": {},
   "outputs": [
    {
     "output_type": "stream",
     "name": "stdout",
     "text": [
      "[0. 0. 0. 0. 0.]\n",
      "log_reg: Avg CV Recall on RF Features: 0.0\n",
      "log_reg: Recall w/RF features on test data 0.0:\n",
      "              precision    recall  f1-score   support\n",
      "\n",
      "         0.0       0.92      1.00      0.96      2129\n",
      "         1.0       0.00      0.00      0.00       192\n",
      "\n",
      "    accuracy                           0.92      2321\n",
      "   macro avg       0.46      0.50      0.48      2321\n",
      "weighted avg       0.84      0.92      0.88      2321\n",
      "\n",
      "[[2129    0]\n",
      " [ 192    0]]\n",
      "-------------------------------------------------------\n",
      "/Library/Frameworks/Python.framework/Versions/3.7/lib/python3.7/site-packages/sklearn/metrics/_classification.py:1245: UndefinedMetricWarning: Precision and F-score are ill-defined and being set to 0.0 in labels with no predicted samples. Use `zero_division` parameter to control this behavior.\n",
      "  _warn_prf(average, modifier, msg_start, len(result))\n",
      "/Library/Frameworks/Python.framework/Versions/3.7/lib/python3.7/site-packages/sklearn/metrics/_classification.py:1245: UndefinedMetricWarning: Precision and F-score are ill-defined and being set to 0.0 in labels with no predicted samples. Use `zero_division` parameter to control this behavior.\n",
      "  _warn_prf(average, modifier, msg_start, len(result))\n",
      "/Library/Frameworks/Python.framework/Versions/3.7/lib/python3.7/site-packages/sklearn/metrics/_classification.py:1245: UndefinedMetricWarning: Precision and F-score are ill-defined and being set to 0.0 in labels with no predicted samples. Use `zero_division` parameter to control this behavior.\n",
      "  _warn_prf(average, modifier, msg_start, len(result))\n",
      "[0.         0.         0.01204819 0.         0.        ]\n",
      "rf_classifer: Avg CV Recall on RF Features: 0.002\n",
      "rf_classifer: Recall w/RF features on test data 0.005:\n",
      "              precision    recall  f1-score   support\n",
      "\n",
      "         0.0       0.92      1.00      0.96      2129\n",
      "         1.0       0.11      0.01      0.01       192\n",
      "\n",
      "    accuracy                           0.91      2321\n",
      "   macro avg       0.51      0.50      0.48      2321\n",
      "weighted avg       0.85      0.91      0.88      2321\n",
      "\n",
      "[[2121    8]\n",
      " [ 191    1]]\n",
      "-------------------------------------------------------\n",
      "[0.14457831 0.15662651 0.24096386 0.23170732 0.29268293]\n",
      "bayes: Avg CV Recall on RF Features: 0.213\n",
      "bayes: Recall w/RF features on test data 0.24:\n",
      "              precision    recall  f1-score   support\n",
      "\n",
      "         0.0       0.93      0.87      0.90      2129\n",
      "         1.0       0.14      0.24      0.18       192\n",
      "\n",
      "    accuracy                           0.82      2321\n",
      "   macro avg       0.54      0.56      0.54      2321\n",
      "weighted avg       0.86      0.82      0.84      2321\n",
      "\n",
      "[[1856  273]\n",
      " [ 146   46]]\n",
      "-------------------------------------------------------\n",
      "[0.01204819 0.01204819 0.         0.         0.01219512]\n",
      "gbc: Avg CV Recall on RF Features: 0.007\n",
      "gbc: Recall w/RF features on test data 0.0:\n",
      "              precision    recall  f1-score   support\n",
      "\n",
      "         0.0       0.92      1.00      0.96      2129\n",
      "         1.0       0.00      0.00      0.00       192\n",
      "\n",
      "    accuracy                           0.92      2321\n",
      "   macro avg       0.46      0.50      0.48      2321\n",
      "weighted avg       0.84      0.92      0.88      2321\n",
      "\n",
      "[[2126    3]\n",
      " [ 192    0]]\n",
      "-------------------------------------------------------\n"
     ]
    }
   ],
   "source": [
    "models = []\n",
    "models.append(('log_reg', LogisticRegression(max_iter=10000, random_state=42)))\n",
    "models.append(('rf_classifer', RandomForestClassifier(random_state=42)))\n",
    "models.append(('bayes', GaussianNB()))\n",
    "models.append(('gbc', GradientBoostingClassifier()))\n",
    "model2_train = []\n",
    "model2_test = []\n",
    "for name, classifier in models:\n",
    "    scores = cross_val_score(classifier, X_train_rf, y_train, cv=5, scoring='recall')\n",
    "    model2_train.append(scores.mean().round(3))\n",
    "    print(scores)\n",
    "    print('{}: Avg CV Recall on RF Features: {}'.format(name, scores.mean().round(3)))\n",
    "    \n",
    "    classifier.fit(X_train_rf, y_train)\n",
    "    y_preds = classifier.predict(X_test_rf)\n",
    "    test_recall = recall_score(y_test, y_preds, average='binary')\n",
    "    test_class = classification_report(y_test, y_preds)\n",
    "    cnf_matrix = confusion_matrix(y_test, y_preds)\n",
    "    model2_test.append(test_recall.round(3))\n",
    "    print('{}: Recall w/RF features on test data {}:'.format(name, test_recall.round(3)))\n",
    "    print(test_class)\n",
    "    print(cnf_matrix)\n",
    "    print('-------------------------------------------------------')\n"
   ]
  },
  {
   "cell_type": "code",
   "execution_count": 45,
   "metadata": {},
   "outputs": [],
   "source": [
    "from sklearn.model_selection import StratifiedKFold"
   ]
  },
  {
   "cell_type": "code",
   "execution_count": 46,
   "metadata": {},
   "outputs": [
    {
     "output_type": "stream",
     "name": "stdout",
     "text": [
      "[0.5060241  0.68674699 0.57831325 0.59756098 0.53658537]\n",
      "log_reg: Avg CV Recall w/RF Reatures: 0.581\n",
      "log_reg: Recall w/RF on test data 0.594:\n",
      "              precision    recall  f1-score   support\n",
      "\n",
      "         0.0       0.94      0.57      0.71      2129\n",
      "         1.0       0.11      0.59      0.19       192\n",
      "\n",
      "    accuracy                           0.57      2321\n",
      "   macro avg       0.53      0.58      0.45      2321\n",
      "weighted avg       0.87      0.57      0.67      2321\n",
      "\n",
      "[[1216  913]\n",
      " [  78  114]]\n",
      "-------------------------------------------------------\n",
      "[0.02409639 0.06024096 0.02409639 0.07317073 0.04878049]\n",
      "rf_classifer: Avg CV Recall w/RF Reatures: 0.046\n",
      "rf_classifer: Recall w/RF on test data 0.057:\n",
      "              precision    recall  f1-score   support\n",
      "\n",
      "         0.0       0.92      0.97      0.94      2129\n",
      "         1.0       0.13      0.06      0.08       192\n",
      "\n",
      "    accuracy                           0.89      2321\n",
      "   macro avg       0.52      0.51      0.51      2321\n",
      "weighted avg       0.85      0.89      0.87      2321\n",
      "\n",
      "[[2055   74]\n",
      " [ 181   11]]\n",
      "-------------------------------------------------------\n",
      "[0.60240964 0.75903614 0.69879518 0.7195122  0.70731707]\n",
      "bayes: Avg CV Recall w/RF Reatures: 0.697\n",
      "bayes: Recall w/RF on test data 0.703:\n",
      "              precision    recall  f1-score   support\n",
      "\n",
      "         0.0       0.94      0.44      0.60      2129\n",
      "         1.0       0.10      0.70      0.18       192\n",
      "\n",
      "    accuracy                           0.46      2321\n",
      "   macro avg       0.52      0.57      0.39      2321\n",
      "weighted avg       0.87      0.46      0.56      2321\n",
      "\n",
      "[[ 927 1202]\n",
      " [  57  135]]\n",
      "-------------------------------------------------------\n",
      "[0.10843373 0.08433735 0.07228916 0.08536585 0.1097561 ]\n",
      "gbc: Avg CV Recall w/RF Reatures: 0.092\n",
      "gbc: Recall w/RF on test data 0.115:\n",
      "              precision    recall  f1-score   support\n",
      "\n",
      "         0.0       0.92      0.94      0.93      2129\n",
      "         1.0       0.16      0.11      0.13       192\n",
      "\n",
      "    accuracy                           0.88      2321\n",
      "   macro avg       0.54      0.53      0.53      2321\n",
      "weighted avg       0.86      0.88      0.87      2321\n",
      "\n",
      "[[2010  119]\n",
      " [ 170   22]]\n",
      "-------------------------------------------------------\n"
     ]
    }
   ],
   "source": [
    "X_train_rf_sm, y_train_sm = sm.fit_resample(X_train_rf, y_train)\n",
    "models = []\n",
    "models.append(('log_reg', LogisticRegression(max_iter=10000, random_state=42)))\n",
    "models.append(('rf_classifer', RandomForestClassifier(random_state=42)))\n",
    "models.append(('bayes', GaussianNB()))\n",
    "models.append(('gbc', GradientBoostingClassifier()))\n",
    "sm = SMOTE(sampling_strategy='auto', k_neighbors=5, random_state=42)\n",
    "skf = StratifiedKFold(n_splits=5)\n",
    "model3_train = []\n",
    "model3_test = []\n",
    "for name, classifier in models:\n",
    "    pipeline = make_pipeline(sm, classifier)\n",
    "    scores = cross_val_score(pipeline, X_train_rf, y_train, cv=skf, scoring='recall')\n",
    "    model3_train.append(scores.mean().round(3))\n",
    "    print(scores)\n",
    "    print('{}: Avg CV Recall w/RF Reatures: {}'.format(name, scores.mean().round(3)))\n",
    "    \n",
    "    classifier.fit(X_train_rf_sm, y_train_sm)\n",
    "    y_preds = classifier.predict(X_test_rf)\n",
    "    test_recall = recall_score(y_test, y_preds, average='binary')\n",
    "    test_class = classification_report(y_test, y_preds)\n",
    "    cnf_matrix = confusion_matrix(y_test, y_preds)\n",
    "    model3_test.append(test_recall.round(3))\n",
    "    print('{}: Recall w/RF on test data {}:'.format(name, test_recall.round(3)))\n",
    "    print(test_class)\n",
    "    print(cnf_matrix)\n",
    "    print('-------------------------------------------------------')"
   ]
  },
  {
   "cell_type": "code",
   "execution_count": null,
   "metadata": {},
   "outputs": [],
   "source": []
  },
  {
   "cell_type": "code",
   "execution_count": null,
   "metadata": {},
   "outputs": [],
   "source": [
    "clf = LogisticRegression( solver='lbfgs').fit(x, target)\n",
    "\n",
    "y_pred = cls.predict_proba(x_test)"
   ]
  },
  {
   "cell_type": "code",
   "execution_count": null,
   "metadata": {},
   "outputs": [],
   "source": [
    "y_pred = y_pred[:,1]"
   ]
  },
  {
   "cell_type": "code",
   "execution_count": null,
   "metadata": {},
   "outputs": [],
   "source": [
    "test_pred = (1 - y_pred)\n",
    "test_pred"
   ]
  },
  {
   "cell_type": "code",
   "execution_count": null,
   "metadata": {},
   "outputs": [],
   "source": [
    "cls = RandomForestClassifier()\n",
    "cls.fit(train[Features], target)"
   ]
  },
  {
   "cell_type": "code",
   "execution_count": null,
   "metadata": {},
   "outputs": [],
   "source": [
    "rf_pred_y = cls.predict_proba(test[Features])"
   ]
  },
  {
   "cell_type": "code",
   "execution_count": null,
   "metadata": {},
   "outputs": [],
   "source": [
    "rf_pred_y = rf_pred_y[:,1]"
   ]
  },
  {
   "cell_type": "code",
   "execution_count": null,
   "metadata": {},
   "outputs": [],
   "source": [
    "from sklearn.preprocessing import *\n",
    "from sklearn.pipeline import Pipeline\n",
    "from sklearn.linear_model import LinearRegression\n",
    "\n",
    "pol = PolynomialFeatures(degree = 2)\n",
    "print(pol)\n",
    "\n",
    "lin_reg = LinearRegression()\n",
    "pip = Pipeline([(\"polynomial Feature\", pol),(\"linear_Regression\", lin_reg)])\n",
    "\n",
    "p_fit = pip.fit(train[Features], target)\n",
    "p_predict = pip.predict_proba(test[Features])"
   ]
  },
  {
   "cell_type": "code",
   "execution_count": null,
   "metadata": {},
   "outputs": [],
   "source": []
  },
  {
   "cell_type": "code",
   "execution_count": null,
   "metadata": {},
   "outputs": [],
   "source": [
    "p_predict"
   ]
  },
  {
   "cell_type": "code",
   "execution_count": null,
   "metadata": {},
   "outputs": [],
   "source": [
    "sub_df['target'] = rf_pred_y\n",
    "sub_df.to_csv('submission_rf.csv', index = False)"
   ]
  },
  {
   "cell_type": "code",
   "execution_count": null,
   "metadata": {},
   "outputs": [],
   "source": [
    "sub_df['target'] = y_pred\n",
    "sub_df.to_csv('submission_lr.csv', index = False)"
   ]
  },
  {
   "cell_type": "code",
   "execution_count": null,
   "metadata": {},
   "outputs": [],
   "source": [
    "\n"
   ]
  },
  {
   "source": [
    "# Cat boost\n"
   ],
   "cell_type": "markdown",
   "metadata": {}
  },
  {
   "cell_type": "code",
   "execution_count": 311,
   "metadata": {},
   "outputs": [],
   "source": [
    "train_copy = train_df"
   ]
  },
  {
   "cell_type": "code",
   "execution_count": 312,
   "metadata": {},
   "outputs": [],
   "source": [
    "test_copy = test_df"
   ]
  },
  {
   "cell_type": "code",
   "execution_count": 313,
   "metadata": {},
   "outputs": [],
   "source": [
    "data_copy = pd.concat([train_copy, test_copy])"
   ]
  },
  {
   "cell_type": "code",
   "execution_count": 314,
   "metadata": {},
   "outputs": [],
   "source": [
    "data_copy.replace(no_info, 'no info', inplace = True)"
   ]
  },
  {
   "cell_type": "code",
   "execution_count": 315,
   "metadata": {},
   "outputs": [],
   "source": [
    "\n",
    "replace_colums=['dwelling',\n",
    " 'dwelling_type',\n",
    " 'nationality',\n",
    " 'RTH',\n",
    " 'marital_st',\n",
    " 'Lang_inside',\n",
    " 'Lang_outside',\n",
    " 'lw_work',\n",
    " 'help_on_household']\n",
    "\n",
    "for column in replace_colums:\n",
    "     data_copy[column].replace(no_info, data_copy[column].mode()[0], inplace = True)\n",
    "\n"
   ]
  },
  {
   "cell_type": "code",
   "execution_count": 316,
   "metadata": {},
   "outputs": [],
   "source": [
    "\n",
    "train_copy_x = data_copy[:len(train_copy)]\n",
    "test_copy_x = data_copy[len(train_copy):]"
   ]
  },
  {
   "cell_type": "code",
   "execution_count": 317,
   "metadata": {},
   "outputs": [
    {
     "output_type": "execute_result",
     "data": {
      "text/plain": [
       "['ID',\n",
       " 'gender',\n",
       " 'race',\n",
       " 'dwelling',\n",
       " 'dwelling_type',\n",
       " 'province_code',\n",
       " 'metro_code',\n",
       " 'nationality',\n",
       " 'RTH',\n",
       " 'marital_st',\n",
       " 'Lang_inside',\n",
       " 'Lang_outside',\n",
       " 'Education',\n",
       " 'lw_work',\n",
       " 'lw_business',\n",
       " 'help_on_household',\n",
       " 'job_or_business',\n",
       " 'nature_of_work']"
      ]
     },
     "metadata": {},
     "execution_count": 317
    }
   ],
   "source": [
    "col_copy = train_copy.select_dtypes(include='object').columns.to_list()\n",
    "col_copy"
   ]
  },
  {
   "cell_type": "code",
   "execution_count": 318,
   "metadata": {},
   "outputs": [],
   "source": [
    "from sklearn.metrics import accuracy_score\n",
    "import random\n",
    "\n",
    "from sklearn.preprocessing import LabelEncoder\n",
    "from catboost import CatBoostClassifier ,Pool\n",
    "from sklearn.model_selection import train_test_split"
   ]
  },
  {
   "cell_type": "code",
   "execution_count": 342,
   "metadata": {},
   "outputs": [],
   "source": [
    "class CFG :\n",
    "  catboost_params = {'loss_function':'Logloss', 'eval_metric':'AUC', 'learning_rate' :0.05,'iterations':10000,'random_seed':0,\n",
    "                     'use_best_model':True,'verbose':100,'early_stopping_rounds':50,\n",
    "                     }\n",
    "  catfs    = ['gender',\n",
    " 'race',\n",
    " 'dwelling',\n",
    " 'dwelling_type',\n",
    " 'province_code',\n",
    " 'metro_code',\n",
    " 'nationality',\n",
    " 'RTH',\n",
    " 'marital_st',\n",
    " 'Lang_inside',\n",
    " 'Lang_outside',\n",
    " 'Education',\n",
    " 'lw_work',\n",
    " 'lw_business',\n",
    " 'help_on_household',\n",
    " 'job_or_business',\n",
    " 'nature_of_work']\n",
    "  to_drop  = ['ID', 'target']\n",
    "  tts_seed = 3031 \n",
    "  tts_ts   = 0.2"
   ]
  },
  {
   "cell_type": "code",
   "execution_count": 343,
   "metadata": {},
   "outputs": [],
   "source": [
    "\n",
    "def seed_env(seed = 0):\n",
    "  '''SEED The envierment'''\n",
    "  random.seed(seed)\n",
    "  np.random.seed(seed)"
   ]
  },
  {
   "cell_type": "code",
   "execution_count": 344,
   "metadata": {},
   "outputs": [
    {
     "output_type": "execute_result",
     "data": {
      "text/plain": [
       "19"
      ]
     },
     "metadata": {},
     "execution_count": 344
    }
   ],
   "source": [
    "features = [x for x in train_copy_x.columns if x not in CFG.to_drop]\n",
    "len(features)"
   ]
  },
  {
   "cell_type": "code",
   "execution_count": 345,
   "metadata": {},
   "outputs": [
    {
     "output_type": "execute_result",
     "data": {
      "text/plain": [
       "ID                   object\n",
       "gender               object\n",
       "age                   int64\n",
       "race                 object\n",
       "dwelling             object\n",
       "dwelling_type        object\n",
       "province_code        object\n",
       "metro_code           object\n",
       "psu                   int64\n",
       "nationality          object\n",
       "RTH                  object\n",
       "marital_st           object\n",
       "Lang_inside          object\n",
       "Lang_outside         object\n",
       "Education            object\n",
       "lw_work              object\n",
       "lw_business          object\n",
       "help_on_household    object\n",
       "job_or_business      object\n",
       "nature_of_work       object\n",
       "target                int64\n",
       "dtype: object"
      ]
     },
     "metadata": {},
     "execution_count": 345
    }
   ],
   "source": [
    "train_df.dtypes"
   ]
  },
  {
   "cell_type": "code",
   "execution_count": 346,
   "metadata": {},
   "outputs": [],
   "source": [
    "X = train_copy_x[features]\n",
    "y = train_copy_x.target\n",
    "X_train, X_test, y_train, y_test = train_test_split(X, y,test_size = CFG.tts_ts,random_state=CFG.tts_seed,stratify=y)"
   ]
  },
  {
   "cell_type": "code",
   "execution_count": 347,
   "metadata": {},
   "outputs": [
    {
     "output_type": "execute_result",
     "data": {
      "text/plain": [
       "gender               object\n",
       "age                   int64\n",
       "race                 object\n",
       "dwelling             object\n",
       "dwelling_type        object\n",
       "province_code        object\n",
       "metro_code           object\n",
       "psu                   int64\n",
       "nationality          object\n",
       "RTH                  object\n",
       "marital_st           object\n",
       "Lang_inside          object\n",
       "Lang_outside         object\n",
       "Education            object\n",
       "lw_work              object\n",
       "lw_business          object\n",
       "help_on_household    object\n",
       "job_or_business      object\n",
       "nature_of_work       object\n",
       "dtype: object"
      ]
     },
     "metadata": {},
     "execution_count": 347
    }
   ],
   "source": [
    "X.dtypes\n"
   ]
  },
  {
   "cell_type": "code",
   "execution_count": 348,
   "metadata": {},
   "outputs": [],
   "source": [
    "def Catboost(X_train, X_test, y_train, y_test,categorical_features) :\n",
    "  seed_env()\n",
    "\n",
    "  model = CatBoostClassifier(**CFG.catboost_params)\n",
    "  model.fit(Pool(X_train,y_train,cat_features = categorical_features),\n",
    "            eval_set = Pool(X_test,y_test,cat_features = categorical_features),\n",
    "            early_stopping_rounds=200)\n",
    "  \n",
    "  pred = model.predict_proba(X_test)\n",
    "  return pred , model"
   ]
  },
  {
   "cell_type": "code",
   "execution_count": 349,
   "metadata": {},
   "outputs": [
    {
     "output_type": "stream",
     "name": "stdout",
     "text": [
      "0:\ttest: 0.5660346\tbest: 0.5660346 (0)\ttotal: 53.8ms\tremaining: 8m 58s\n",
      "100:\ttest: 0.6485055\tbest: 0.6485055 (100)\ttotal: 2.17s\tremaining: 3m 33s\n",
      "200:\ttest: 0.6534659\tbest: 0.6540103 (197)\ttotal: 4.92s\tremaining: 3m 59s\n",
      "300:\ttest: 0.6561242\tbest: 0.6584640 (237)\ttotal: 7.54s\tremaining: 4m 2s\n",
      "400:\ttest: 0.6465625\tbest: 0.6584640 (237)\ttotal: 10.5s\tremaining: 4m 10s\n",
      "Stopped by overfitting detector  (200 iterations wait)\n",
      "\n",
      "bestTest = 0.6584639798\n",
      "bestIteration = 237\n",
      "\n",
      "Shrink model to first 238 iterations.\n"
     ]
    }
   ],
   "source": [
    "_ , model = Catboost(X_train, X_test, y_train, y_test,CFG.catfs)"
   ]
  },
  {
   "cell_type": "code",
   "execution_count": 350,
   "metadata": {},
   "outputs": [],
   "source": [
    "y_pred = model.predict_proba(test_copy_x[features])"
   ]
  },
  {
   "cell_type": "code",
   "execution_count": 351,
   "metadata": {},
   "outputs": [],
   "source": [
    "y_pred_cat = y_pred[:,1]"
   ]
  },
  {
   "cell_type": "code",
   "execution_count": 352,
   "metadata": {},
   "outputs": [],
   "source": [
    "sub_df['target'] = y_pred_cat\n",
    "sub_df.to_csv('submission_cat.csv', index = False)"
   ]
  },
  {
   "cell_type": "code",
   "execution_count": null,
   "metadata": {},
   "outputs": [],
   "source": []
  },
  {
   "cell_type": "code",
   "execution_count": null,
   "metadata": {},
   "outputs": [],
   "source": []
  },
  {
   "cell_type": "code",
   "execution_count": 367,
   "metadata": {},
   "outputs": [
    {
     "output_type": "stream",
     "name": "stdout",
     "text": [
      "fold n°0\n",
      "[18:16:35] WARNING: /Users/travis/build/dmlc/xgboost/src/learner.cc:541: \n",
      "Parameters: { silent } might not be used.\n",
      "\n",
      "  This may not be accurate due to some parameters are only used in language bindings but\n",
      "  passed down to XGBoost core.  Or some parameters are not used but slip through this\n",
      "  verification. Please open an issue if you find above cases.\n",
      "\n",
      "\n",
      "[0]\ttrain-auc:0.50000\tvalid-auc:0.50000\n",
      "[100]\ttrain-auc:0.63532\tvalid-auc:0.63169\n",
      "[200]\ttrain-auc:0.65651\tvalid-auc:0.65478\n",
      "[300]\ttrain-auc:0.67105\tvalid-auc:0.65947\n",
      "[400]\ttrain-auc:0.67514\tvalid-auc:0.65840\n",
      "[500]\ttrain-auc:0.67673\tvalid-auc:0.65895\n",
      "[600]\ttrain-auc:0.67800\tvalid-auc:0.65916\n",
      "[700]\ttrain-auc:0.67911\tvalid-auc:0.66025\n",
      "[800]\ttrain-auc:0.68003\tvalid-auc:0.66059\n",
      "[900]\ttrain-auc:0.68161\tvalid-auc:0.66008\n",
      "[1000]\ttrain-auc:0.68336\tvalid-auc:0.66003\n",
      "[1100]\ttrain-auc:0.68545\tvalid-auc:0.66040\n",
      "[1200]\ttrain-auc:0.68733\tvalid-auc:0.66028\n",
      "[1247]\ttrain-auc:0.68852\tvalid-auc:0.66005\n"
     ]
    },
    {
     "output_type": "error",
     "ename": "AttributeError",
     "evalue": "'Booster' object has no attribute 'predict_proba'",
     "traceback": [
      "\u001b[0;31m---------------------------------------------------------------------------\u001b[0m",
      "\u001b[0;31mAttributeError\u001b[0m                            Traceback (most recent call last)",
      "\u001b[0;32m<ipython-input-367-788563b3df5a>\u001b[0m in \u001b[0;36m<module>\u001b[0;34m\u001b[0m\n\u001b[1;32m     26\u001b[0m     \u001b[0moof_xgb\u001b[0m\u001b[0;34m[\u001b[0m\u001b[0mval_idx\u001b[0m\u001b[0;34m]\u001b[0m \u001b[0;34m=\u001b[0m \u001b[0mclf\u001b[0m\u001b[0;34m.\u001b[0m\u001b[0mpredict\u001b[0m\u001b[0;34m(\u001b[0m\u001b[0mval_data\u001b[0m\u001b[0;34m)\u001b[0m\u001b[0;34m\u001b[0m\u001b[0;34m\u001b[0m\u001b[0m\n\u001b[1;32m     27\u001b[0m \u001b[0;34m\u001b[0m\u001b[0m\n\u001b[0;32m---> 28\u001b[0;31m     \u001b[0mpredictions_xgb\u001b[0m \u001b[0;34m+=\u001b[0m \u001b[0mclf\u001b[0m\u001b[0;34m.\u001b[0m\u001b[0mpredict_proba\u001b[0m\u001b[0;34m(\u001b[0m\u001b[0mxgb\u001b[0m\u001b[0;34m.\u001b[0m\u001b[0mDMatrix\u001b[0m\u001b[0;34m(\u001b[0m\u001b[0mtest\u001b[0m\u001b[0;34m[\u001b[0m\u001b[0mfeatures\u001b[0m\u001b[0;34m]\u001b[0m\u001b[0;34m)\u001b[0m\u001b[0;34m)\u001b[0m \u001b[0;34m/\u001b[0m \u001b[0mfolds\u001b[0m\u001b[0;34m.\u001b[0m\u001b[0mn_splits\u001b[0m\u001b[0;34m\u001b[0m\u001b[0;34m\u001b[0m\u001b[0m\n\u001b[0m\u001b[1;32m     29\u001b[0m \u001b[0;34m\u001b[0m\u001b[0m\n\u001b[1;32m     30\u001b[0m \u001b[0mprint\u001b[0m\u001b[0;34m(\u001b[0m\u001b[0;34m\"CV score: {:<8.5f}\"\u001b[0m\u001b[0;34m.\u001b[0m\u001b[0mformat\u001b[0m\u001b[0;34m(\u001b[0m\u001b[0mmean_squared_error\u001b[0m\u001b[0;34m(\u001b[0m\u001b[0moof_xgb\u001b[0m\u001b[0;34m,\u001b[0m \u001b[0mtarget\u001b[0m\u001b[0;34m)\u001b[0m\u001b[0;34m**\u001b[0m\u001b[0;36m0.5\u001b[0m\u001b[0;34m)\u001b[0m\u001b[0;34m)\u001b[0m\u001b[0;34m\u001b[0m\u001b[0;34m\u001b[0m\u001b[0m\n",
      "\u001b[0;31mAttributeError\u001b[0m: 'Booster' object has no attribute 'predict_proba'"
     ]
    }
   ],
   "source": [
    "from sklearn.model_selection import KFold\n",
    "import time\n",
    "import xgboost as xgb\n",
    "\n",
    "param = {'min_child_weight': 50, 'eta': 0.005, 'colsample_bytree': 0.8, 'max_depth': 7,\n",
    "            'subsample': 0.75, 'lambda': 2, 'nthread': -1,  'silent': 1, 'gamma' : 0,\n",
    "            'eval_metric': 'auc', 'objective': 'binary:logitraw'}    \n",
    "\n",
    "features = [x for x in train.columns if x not in ['ID', 'target']]\n",
    "target = train['target']\n",
    "\n",
    "folds = KFold(n_splits = 5, shuffle = True, random_state = 15)\n",
    "oof_xgb = np.zeros(len(train))\n",
    "predictions_xgb = np.zeros(len(test))\n",
    "start = time.time()\n",
    "feature_importance_df = pd.DataFrame()\n",
    "\n",
    "for fold_, (trn_idx, val_idx) in enumerate(folds.split(train_copy_x.values, target.values)):\n",
    "    print(\"fold n°{}\".format(fold_))\n",
    "    trn_data = xgb.DMatrix(train.iloc[trn_idx][features], label=target.iloc[trn_idx])\n",
    "    val_data = xgb.DMatrix(train.iloc[val_idx][features], label=target.iloc[val_idx])\n",
    "    test_data = xgb.DMatrix(test[features].values)\n",
    "\n",
    "    num_round = 20000\n",
    "    clf = xgb.train(param, trn_data, num_round, [(trn_data, 'train'), (val_data, 'valid')], verbose_eval=100, early_stopping_rounds = 500)\n",
    "    oof_xgb[val_idx] = clf.predict(val_data)\n",
    "\n",
    "    predictions_xgb += clf.predict_proba(xgb.DMatrix(test[features])) / folds.n_splits\n",
    "    \n",
    "print(\"CV score: {:<8.5f}\".format(mean_squared_error(oof_xgb, target)**0.5))"
   ]
  },
  {
   "cell_type": "code",
   "execution_count": 370,
   "metadata": {},
   "outputs": [],
   "source": [
    "features = [x for x in train.columns if x not in ['ID', 'target']]\n",
    "target = train['target']"
   ]
  },
  {
   "cell_type": "code",
   "execution_count": null,
   "metadata": {},
   "outputs": [],
   "source": []
  },
  {
   "cell_type": "code",
   "execution_count": 380,
   "metadata": {
    "tags": []
   },
   "outputs": [
    {
     "output_type": "stream",
     "name": "stdout",
     "text": [
      "ata_backend\n",
      "    feature_names, feature_types)\n",
      "  File \"/Library/Frameworks/Python.framework/Versions/3.7/lib/python3.7/site-packages/xgboost/data.py\", line 243, in _from_pandas_df\n",
      "    data, enable_categorical, feature_names, feature_types)\n",
      "  File \"/Library/Frameworks/Python.framework/Versions/3.7/lib/python3.7/site-packages/xgboost/data.py\", line 207, in _transform_pandas_df\n",
      "    raise ValueError(msg + ', '.join(bad_fields))\n",
      "ValueError: DataFrame.dtypes for data must be int, float, bool or categorical.  When\n",
      "                categorical type is supplied, DMatrix parameter\n",
      "                `enable_categorical` must be set to `True`.gender, race, dwelling, dwelling_type, province_code, metro_code, nationality, RTH, marital_st, Lang_inside, Lang_outside, Education, lw_work, lw_business, help_on_household, job_or_business, nature_of_work\n",
      "\n",
      "  FitFailedWarning)\n",
      "/Library/Frameworks/Python.framework/Versions/3.7/lib/python3.7/site-packages/xgboost/sklearn.py:888: UserWarning: The use of label encoder in XGBClassifier is deprecated and will be removed in a future release. To remove this warning, do the following: 1) Pass option use_label_encoder=False when constructing XGBClassifier object; and 2) Encode your labels (y) as integers starting with 0, i.e. 0, 1, 2, ..., [num_class - 1].\n",
      "  warnings.warn(label_encoder_deprecation_msg, UserWarning)\n",
      "/Library/Frameworks/Python.framework/Versions/3.7/lib/python3.7/site-packages/sklearn/model_selection/_validation.py:614: FitFailedWarning: Estimator fit failed. The score on this train-test partition for these parameters will be set to nan. Details: \n",
      "Traceback (most recent call last):\n",
      "  File \"/Library/Frameworks/Python.framework/Versions/3.7/lib/python3.7/site-packages/sklearn/model_selection/_validation.py\", line 593, in _fit_and_score\n",
      "    estimator.fit(X_train, y_train, **fit_params)\n",
      "  File \"/Library/Frameworks/Python.framework/Versions/3.7/lib/python3.7/site-packages/xgboost/core.py\", line 422, in inner_f\n",
      "    return f(**kwargs)\n",
      "  File \"/Library/Frameworks/Python.framework/Versions/3.7/lib/python3.7/site-packages/xgboost/sklearn.py\", line 907, in fit\n",
      "    eval_group=None, label_transform=label_transform)\n",
      "  File \"/Library/Frameworks/Python.framework/Versions/3.7/lib/python3.7/site-packages/xgboost/sklearn.py\", line 267, in _wrap_evaluation_matrices\n",
      "    missing=self.missing, nthread=self.n_jobs)\n",
      "  File \"/Library/Frameworks/Python.framework/Versions/3.7/lib/python3.7/site-packages/xgboost/core.py\", line 505, in __init__\n",
      "    enable_categorical=enable_categorical)\n",
      "  File \"/Library/Frameworks/Python.framework/Versions/3.7/lib/python3.7/site-packages/xgboost/data.py\", line 540, in dispatch_data_backend\n",
      "    feature_names, feature_types)\n",
      "  File \"/Library/Frameworks/Python.framework/Versions/3.7/lib/python3.7/site-packages/xgboost/data.py\", line 243, in _from_pandas_df\n",
      "    data, enable_categorical, feature_names, feature_types)\n",
      "  File \"/Library/Frameworks/Python.framework/Versions/3.7/lib/python3.7/site-packages/xgboost/data.py\", line 207, in _transform_pandas_df\n",
      "    raise ValueError(msg + ', '.join(bad_fields))\n",
      "ValueError: DataFrame.dtypes for data must be int, float, bool or categorical.  When\n",
      "                categorical type is supplied, DMatrix parameter\n",
      "                `enable_categorical` must be set to `True`.gender, race, dwelling, dwelling_type, province_code, metro_code, nationality, RTH, marital_st, Lang_inside, Lang_outside, Education, lw_work, lw_business, help_on_household, job_or_business, nature_of_work\n",
      "\n",
      "  FitFailedWarning)\n",
      "/Library/Frameworks/Python.framework/Versions/3.7/lib/python3.7/site-packages/xgboost/sklearn.py:888: UserWarning: The use of label encoder in XGBClassifier is deprecated and will be removed in a future release. To remove this warning, do the following: 1) Pass option use_label_encoder=False when constructing XGBClassifier object; and 2) Encode your labels (y) as integers starting with 0, i.e. 0, 1, 2, ..., [num_class - 1].\n",
      "  warnings.warn(label_encoder_deprecation_msg, UserWarning)\n",
      "/Library/Frameworks/Python.framework/Versions/3.7/lib/python3.7/site-packages/sklearn/model_selection/_validation.py:614: FitFailedWarning: Estimator fit failed. The score on this train-test partition for these parameters will be set to nan. Details: \n",
      "Traceback (most recent call last):\n",
      "  File \"/Library/Frameworks/Python.framework/Versions/3.7/lib/python3.7/site-packages/sklearn/model_selection/_validation.py\", line 593, in _fit_and_score\n",
      "    estimator.fit(X_train, y_train, **fit_params)\n",
      "  File \"/Library/Frameworks/Python.framework/Versions/3.7/lib/python3.7/site-packages/xgboost/core.py\", line 422, in inner_f\n",
      "    return f(**kwargs)\n",
      "  File \"/Library/Frameworks/Python.framework/Versions/3.7/lib/python3.7/site-packages/xgboost/sklearn.py\", line 907, in fit\n",
      "    eval_group=None, label_transform=label_transform)\n",
      "  File \"/Library/Frameworks/Python.framework/Versions/3.7/lib/python3.7/site-packages/xgboost/sklearn.py\", line 267, in _wrap_evaluation_matrices\n",
      "    missing=self.missing, nthread=self.n_jobs)\n",
      "  File \"/Library/Frameworks/Python.framework/Versions/3.7/lib/python3.7/site-packages/xgboost/core.py\", line 505, in __init__\n",
      "    enable_categorical=enable_categorical)\n",
      "  File \"/Library/Frameworks/Python.framework/Versions/3.7/lib/python3.7/site-packages/xgboost/data.py\", line 540, in dispatch_data_backend\n",
      "    feature_names, feature_types)\n",
      "  File \"/Library/Frameworks/Python.framework/Versions/3.7/lib/python3.7/site-packages/xgboost/data.py\", line 243, in _from_pandas_df\n",
      "    data, enable_categorical, feature_names, feature_types)\n",
      "  File \"/Library/Frameworks/Python.framework/Versions/3.7/lib/python3.7/site-packages/xgboost/data.py\", line 207, in _transform_pandas_df\n",
      "    raise ValueError(msg + ', '.join(bad_fields))\n",
      "ValueError: DataFrame.dtypes for data must be int, float, bool or categorical.  When\n",
      "                categorical type is supplied, DMatrix parameter\n",
      "                `enable_categorical` must be set to `True`.gender, race, dwelling, dwelling_type, province_code, metro_code, nationality, RTH, marital_st, Lang_inside, Lang_outside, Education, lw_work, lw_business, help_on_household, job_or_business, nature_of_work\n",
      "\n",
      "  FitFailedWarning)\n",
      "/Library/Frameworks/Python.framework/Versions/3.7/lib/python3.7/site-packages/xgboost/sklearn.py:888: UserWarning: The use of label encoder in XGBClassifier is deprecated and will be removed in a future release. To remove this warning, do the following: 1) Pass option use_label_encoder=False when constructing XGBClassifier object; and 2) Encode your labels (y) as integers starting with 0, i.e. 0, 1, 2, ..., [num_class - 1].\n",
      "  warnings.warn(label_encoder_deprecation_msg, UserWarning)\n",
      "/Library/Frameworks/Python.framework/Versions/3.7/lib/python3.7/site-packages/sklearn/model_selection/_validation.py:614: FitFailedWarning: Estimator fit failed. The score on this train-test partition for these parameters will be set to nan. Details: \n",
      "Traceback (most recent call last):\n",
      "  File \"/Library/Frameworks/Python.framework/Versions/3.7/lib/python3.7/site-packages/sklearn/model_selection/_validation.py\", line 593, in _fit_and_score\n",
      "    estimator.fit(X_train, y_train, **fit_params)\n",
      "  File \"/Library/Frameworks/Python.framework/Versions/3.7/lib/python3.7/site-packages/xgboost/core.py\", line 422, in inner_f\n",
      "    return f(**kwargs)\n",
      "  File \"/Library/Frameworks/Python.framework/Versions/3.7/lib/python3.7/site-packages/xgboost/sklearn.py\", line 907, in fit\n",
      "    eval_group=None, label_transform=label_transform)\n",
      "  File \"/Library/Frameworks/Python.framework/Versions/3.7/lib/python3.7/site-packages/xgboost/sklearn.py\", line 267, in _wrap_evaluation_matrices\n",
      "    missing=self.missing, nthread=self.n_jobs)\n",
      "  File \"/Library/Frameworks/Python.framework/Versions/3.7/lib/python3.7/site-packages/xgboost/core.py\", line 505, in __init__\n",
      "    enable_categorical=enable_categorical)\n",
      "  File \"/Library/Frameworks/Python.framework/Versions/3.7/lib/python3.7/site-packages/xgboost/data.py\", line 540, in dispatch_data_backend\n",
      "    feature_names, feature_types)\n",
      "  File \"/Library/Frameworks/Python.framework/Versions/3.7/lib/python3.7/site-packages/xgboost/data.py\", line 243, in _from_pandas_df\n",
      "    data, enable_categorical, feature_names, feature_types)\n",
      "  File \"/Library/Frameworks/Python.framework/Versions/3.7/lib/python3.7/site-packages/xgboost/data.py\", line 207, in _transform_pandas_df\n",
      "    raise ValueError(msg + ', '.join(bad_fields))\n",
      "ValueError: DataFrame.dtypes for data must be int, float, bool or categorical.  When\n",
      "                categorical type is supplied, DMatrix parameter\n",
      "                `enable_categorical` must be set to `True`.gender, race, dwelling, dwelling_type, province_code, metro_code, nationality, RTH, marital_st, Lang_inside, Lang_outside, Education, lw_work, lw_business, help_on_household, job_or_business, nature_of_work\n",
      "\n",
      "  FitFailedWarning)\n",
      "/Library/Frameworks/Python.framework/Versions/3.7/lib/python3.7/site-packages/xgboost/sklearn.py:888: UserWarning: The use of label encoder in XGBClassifier is deprecated and will be removed in a future release. To remove this warning, do the following: 1) Pass option use_label_encoder=False when constructing XGBClassifier object; and 2) Encode your labels (y) as integers starting with 0, i.e. 0, 1, 2, ..., [num_class - 1].\n",
      "  warnings.warn(label_encoder_deprecation_msg, UserWarning)\n",
      "/Library/Frameworks/Python.framework/Versions/3.7/lib/python3.7/site-packages/sklearn/model_selection/_validation.py:614: FitFailedWarning: Estimator fit failed. The score on this train-test partition for these parameters will be set to nan. Details: \n",
      "Traceback (most recent call last):\n",
      "  File \"/Library/Frameworks/Python.framework/Versions/3.7/lib/python3.7/site-packages/sklearn/model_selection/_validation.py\", line 593, in _fit_and_score\n",
      "    estimator.fit(X_train, y_train, **fit_params)\n",
      "  File \"/Library/Frameworks/Python.framework/Versions/3.7/lib/python3.7/site-packages/xgboost/core.py\", line 422, in inner_f\n",
      "    return f(**kwargs)\n",
      "  File \"/Library/Frameworks/Python.framework/Versions/3.7/lib/python3.7/site-packages/xgboost/sklearn.py\", line 907, in fit\n",
      "    eval_group=None, label_transform=label_transform)\n",
      "  File \"/Library/Frameworks/Python.framework/Versions/3.7/lib/python3.7/site-packages/xgboost/sklearn.py\", line 267, in _wrap_evaluation_matrices\n",
      "    missing=self.missing, nthread=self.n_jobs)\n",
      "  File \"/Library/Frameworks/Python.framework/Versions/3.7/lib/python3.7/site-packages/xgboost/core.py\", line 505, in __init__\n",
      "    enable_categorical=enable_categorical)\n",
      "  File \"/Library/Frameworks/Python.framework/Versions/3.7/lib/python3.7/site-packages/xgboost/data.py\", line 540, in dispatch_data_backend\n",
      "    feature_names, feature_types)\n",
      "  File \"/Library/Frameworks/Python.framework/Versions/3.7/lib/python3.7/site-packages/xgboost/data.py\", line 243, in _from_pandas_df\n",
      "    data, enable_categorical, feature_names, feature_types)\n",
      "  File \"/Library/Frameworks/Python.framework/Versions/3.7/lib/python3.7/site-packages/xgboost/data.py\", line 207, in _transform_pandas_df\n",
      "    raise ValueError(msg + ', '.join(bad_fields))\n",
      "ValueError: DataFrame.dtypes for data must be int, float, bool or categorical.  When\n",
      "                categorical type is supplied, DMatrix parameter\n",
      "                `enable_categorical` must be set to `True`.gender, race, dwelling, dwelling_type, province_code, metro_code, nationality, RTH, marital_st, Lang_inside, Lang_outside, Education, lw_work, lw_business, help_on_household, job_or_business, nature_of_work\n",
      "\n",
      "  FitFailedWarning)\n",
      "/Library/Frameworks/Python.framework/Versions/3.7/lib/python3.7/site-packages/xgboost/sklearn.py:888: UserWarning: The use of label encoder in XGBClassifier is deprecated and will be removed in a future release. To remove this warning, do the following: 1) Pass option use_label_encoder=False when constructing XGBClassifier object; and 2) Encode your labels (y) as integers starting with 0, i.e. 0, 1, 2, ..., [num_class - 1].\n",
      "  warnings.warn(label_encoder_deprecation_msg, UserWarning)\n",
      "/Library/Frameworks/Python.framework/Versions/3.7/lib/python3.7/site-packages/sklearn/model_selection/_validation.py:614: FitFailedWarning: Estimator fit failed. The score on this train-test partition for these parameters will be set to nan. Details: \n",
      "Traceback (most recent call last):\n",
      "  File \"/Library/Frameworks/Python.framework/Versions/3.7/lib/python3.7/site-packages/sklearn/model_selection/_validation.py\", line 593, in _fit_and_score\n",
      "    estimator.fit(X_train, y_train, **fit_params)\n",
      "  File \"/Library/Frameworks/Python.framework/Versions/3.7/lib/python3.7/site-packages/xgboost/core.py\", line 422, in inner_f\n",
      "    return f(**kwargs)\n",
      "  File \"/Library/Frameworks/Python.framework/Versions/3.7/lib/python3.7/site-packages/xgboost/sklearn.py\", line 907, in fit\n",
      "    eval_group=None, label_transform=label_transform)\n",
      "  File \"/Library/Frameworks/Python.framework/Versions/3.7/lib/python3.7/site-packages/xgboost/sklearn.py\", line 267, in _wrap_evaluation_matrices\n",
      "    missing=self.missing, nthread=self.n_jobs)\n",
      "  File \"/Library/Frameworks/Python.framework/Versions/3.7/lib/python3.7/site-packages/xgboost/core.py\", line 505, in __init__\n",
      "    enable_categorical=enable_categorical)\n",
      "  File \"/Library/Frameworks/Python.framework/Versions/3.7/lib/python3.7/site-packages/xgboost/data.py\", line 540, in dispatch_data_backend\n",
      "    feature_names, feature_types)\n",
      "  File \"/Library/Frameworks/Python.framework/Versions/3.7/lib/python3.7/site-packages/xgboost/data.py\", line 243, in _from_pandas_df\n",
      "    data, enable_categorical, feature_names, feature_types)\n",
      "  File \"/Library/Frameworks/Python.framework/Versions/3.7/lib/python3.7/site-packages/xgboost/data.py\", line 207, in _transform_pandas_df\n",
      "    raise ValueError(msg + ', '.join(bad_fields))\n",
      "ValueError: DataFrame.dtypes for data must be int, float, bool or categorical.  When\n",
      "                categorical type is supplied, DMatrix parameter\n",
      "                `enable_categorical` must be set to `True`.gender, race, dwelling, dwelling_type, province_code, metro_code, nationality, RTH, marital_st, Lang_inside, Lang_outside, Education, lw_work, lw_business, help_on_household, job_or_business, nature_of_work\n",
      "\n",
      "  FitFailedWarning)\n",
      "/Library/Frameworks/Python.framework/Versions/3.7/lib/python3.7/site-packages/xgboost/sklearn.py:888: UserWarning: The use of label encoder in XGBClassifier is deprecated and will be removed in a future release. To remove this warning, do the following: 1) Pass option use_label_encoder=False when constructing XGBClassifier object; and 2) Encode your labels (y) as integers starting with 0, i.e. 0, 1, 2, ..., [num_class - 1].\n",
      "  warnings.warn(label_encoder_deprecation_msg, UserWarning)\n",
      "/Library/Frameworks/Python.framework/Versions/3.7/lib/python3.7/site-packages/sklearn/model_selection/_validation.py:614: FitFailedWarning: Estimator fit failed. The score on this train-test partition for these parameters will be set to nan. Details: \n",
      "Traceback (most recent call last):\n",
      "  File \"/Library/Frameworks/Python.framework/Versions/3.7/lib/python3.7/site-packages/sklearn/model_selection/_validation.py\", line 593, in _fit_and_score\n",
      "    estimator.fit(X_train, y_train, **fit_params)\n",
      "  File \"/Library/Frameworks/Python.framework/Versions/3.7/lib/python3.7/site-packages/xgboost/core.py\", line 422, in inner_f\n",
      "    return f(**kwargs)\n",
      "  File \"/Library/Frameworks/Python.framework/Versions/3.7/lib/python3.7/site-packages/xgboost/sklearn.py\", line 907, in fit\n",
      "    eval_group=None, label_transform=label_transform)\n",
      "  File \"/Library/Frameworks/Python.framework/Versions/3.7/lib/python3.7/site-packages/xgboost/sklearn.py\", line 267, in _wrap_evaluation_matrices\n",
      "    missing=self.missing, nthread=self.n_jobs)\n",
      "  File \"/Library/Frameworks/Python.framework/Versions/3.7/lib/python3.7/site-packages/xgboost/core.py\", line 505, in __init__\n",
      "    enable_categorical=enable_categorical)\n",
      "  File \"/Library/Frameworks/Python.framework/Versions/3.7/lib/python3.7/site-packages/xgboost/data.py\", line 540, in dispatch_data_backend\n",
      "    feature_names, feature_types)\n",
      "  File \"/Library/Frameworks/Python.framework/Versions/3.7/lib/python3.7/site-packages/xgboost/data.py\", line 243, in _from_pandas_df\n",
      "    data, enable_categorical, feature_names, feature_types)\n",
      "  File \"/Library/Frameworks/Python.framework/Versions/3.7/lib/python3.7/site-packages/xgboost/data.py\", line 207, in _transform_pandas_df\n",
      "    raise ValueError(msg + ', '.join(bad_fields))\n",
      "ValueError: DataFrame.dtypes for data must be int, float, bool or categorical.  When\n",
      "                categorical type is supplied, DMatrix parameter\n",
      "                `enable_categorical` must be set to `True`.gender, race, dwelling, dwelling_type, province_code, metro_code, nationality, RTH, marital_st, Lang_inside, Lang_outside, Education, lw_work, lw_business, help_on_household, job_or_business, nature_of_work\n",
      "\n",
      "  FitFailedWarning)\n",
      "/Library/Frameworks/Python.framework/Versions/3.7/lib/python3.7/site-packages/xgboost/sklearn.py:888: UserWarning: The use of label encoder in XGBClassifier is deprecated and will be removed in a future release. To remove this warning, do the following: 1) Pass option use_label_encoder=False when constructing XGBClassifier object; and 2) Encode your labels (y) as integers starting with 0, i.e. 0, 1, 2, ..., [num_class - 1].\n",
      "  warnings.warn(label_encoder_deprecation_msg, UserWarning)\n",
      "/Library/Frameworks/Python.framework/Versions/3.7/lib/python3.7/site-packages/sklearn/model_selection/_validation.py:614: FitFailedWarning: Estimator fit failed. The score on this train-test partition for these parameters will be set to nan. Details: \n",
      "Traceback (most recent call last):\n",
      "  File \"/Library/Frameworks/Python.framework/Versions/3.7/lib/python3.7/site-packages/sklearn/model_selection/_validation.py\", line 593, in _fit_and_score\n",
      "    estimator.fit(X_train, y_train, **fit_params)\n",
      "  File \"/Library/Frameworks/Python.framework/Versions/3.7/lib/python3.7/site-packages/xgboost/core.py\", line 422, in inner_f\n",
      "    return f(**kwargs)\n",
      "  File \"/Library/Frameworks/Python.framework/Versions/3.7/lib/python3.7/site-packages/xgboost/sklearn.py\", line 907, in fit\n",
      "    eval_group=None, label_transform=label_transform)\n",
      "  File \"/Library/Frameworks/Python.framework/Versions/3.7/lib/python3.7/site-packages/xgboost/sklearn.py\", line 267, in _wrap_evaluation_matrices\n",
      "    missing=self.missing, nthread=self.n_jobs)\n",
      "  File \"/Library/Frameworks/Python.framework/Versions/3.7/lib/python3.7/site-packages/xgboost/core.py\", line 505, in __init__\n",
      "    enable_categorical=enable_categorical)\n",
      "  File \"/Library/Frameworks/Python.framework/Versions/3.7/lib/python3.7/site-packages/xgboost/data.py\", line 540, in dispatch_data_backend\n",
      "    feature_names, feature_types)\n",
      "  File \"/Library/Frameworks/Python.framework/Versions/3.7/lib/python3.7/site-packages/xgboost/data.py\", line 243, in _from_pandas_df\n",
      "    data, enable_categorical, feature_names, feature_types)\n",
      "  File \"/Library/Frameworks/Python.framework/Versions/3.7/lib/python3.7/site-packages/xgboost/data.py\", line 207, in _transform_pandas_df\n",
      "    raise ValueError(msg + ', '.join(bad_fields))\n",
      "ValueError: DataFrame.dtypes for data must be int, float, bool or categorical.  When\n",
      "                categorical type is supplied, DMatrix parameter\n",
      "                `enable_categorical` must be set to `True`.gender, race, dwelling, dwelling_type, province_code, metro_code, nationality, RTH, marital_st, Lang_inside, Lang_outside, Education, lw_work, lw_business, help_on_household, job_or_business, nature_of_work\n",
      "\n",
      "  FitFailedWarning)\n",
      "/Library/Frameworks/Python.framework/Versions/3.7/lib/python3.7/site-packages/sklearn/model_selection/_search.py:921: UserWarning: One or more of the test scores are non-finite: [nan nan nan nan nan nan nan nan nan nan nan nan nan nan nan nan nan nan\n",
      " nan nan nan nan nan nan nan nan nan nan nan nan nan nan nan nan nan nan\n",
      " nan nan nan nan nan nan nan nan nan nan nan nan nan nan nan nan nan nan\n",
      " nan nan nan nan nan nan nan nan nan nan nan nan nan nan nan nan nan nan\n",
      " nan nan nan nan nan nan nan nan nan]\n",
      "  category=UserWarning\n"
     ]
    },
    {
     "output_type": "error",
     "ename": "ValueError",
     "evalue": "DataFrame.dtypes for data must be int, float, bool or categorical.  When\n                categorical type is supplied, DMatrix parameter\n                `enable_categorical` must be set to `True`.gender, race, dwelling, dwelling_type, province_code, metro_code, nationality, RTH, marital_st, Lang_inside, Lang_outside, Education, lw_work, lw_business, help_on_household, job_or_business, nature_of_work",
     "traceback": [
      "\u001b[0;31m---------------------------------------------------------------------------\u001b[0m",
      "\u001b[0;31mValueError\u001b[0m                                Traceback (most recent call last)",
      "\u001b[0;32m<ipython-input-380-4819bfa54f0f>\u001b[0m in \u001b[0;36m<module>\u001b[0;34m\u001b[0m\n\u001b[1;32m     13\u001b[0m \u001b[0mgrid_search\u001b[0m \u001b[0;34m=\u001b[0m \u001b[0mGridSearchCV\u001b[0m\u001b[0;34m(\u001b[0m\u001b[0mxgb_clf\u001b[0m\u001b[0;34m,\u001b[0m \u001b[0mparam_grid\u001b[0m\u001b[0;34m=\u001b[0m\u001b[0mxgb_params\u001b[0m\u001b[0;34m,\u001b[0m \u001b[0mscoring\u001b[0m\u001b[0;34m=\u001b[0m\u001b[0;34m'accuracy'\u001b[0m\u001b[0;34m,\u001b[0m \u001b[0mcv\u001b[0m\u001b[0;34m=\u001b[0m\u001b[0;36m4\u001b[0m\u001b[0;34m,\u001b[0m \u001b[0mverbose\u001b[0m\u001b[0;34m=\u001b[0m\u001b[0;36m1\u001b[0m\u001b[0;34m)\u001b[0m\u001b[0;34m\u001b[0m\u001b[0;34m\u001b[0m\u001b[0m\n\u001b[1;32m     14\u001b[0m \u001b[0;34m\u001b[0m\u001b[0m\n\u001b[0;32m---> 15\u001b[0;31m \u001b[0mgrid_search\u001b[0m\u001b[0;34m.\u001b[0m\u001b[0mfit\u001b[0m\u001b[0;34m(\u001b[0m\u001b[0mX_train\u001b[0m\u001b[0;34m,\u001b[0m \u001b[0my_train\u001b[0m\u001b[0;34m)\u001b[0m\u001b[0;34m.\u001b[0m\u001b[0mfit\u001b[0m\u001b[0;34m(\u001b[0m\u001b[0mtrain\u001b[0m\u001b[0;34m[\u001b[0m\u001b[0mfeatures\u001b[0m\u001b[0;34m]\u001b[0m\u001b[0;34m,\u001b[0m \u001b[0mtarget\u001b[0m\u001b[0;34m,\u001b[0m \u001b[0menable_categorical\u001b[0m\u001b[0;34m=\u001b[0m\u001b[0;32mTrue\u001b[0m\u001b[0;34m)\u001b[0m\u001b[0;34m\u001b[0m\u001b[0;34m\u001b[0m\u001b[0m\n\u001b[0m\u001b[1;32m     16\u001b[0m \u001b[0;34m\u001b[0m\u001b[0m\n",
      "\u001b[0;32m/Library/Frameworks/Python.framework/Versions/3.7/lib/python3.7/site-packages/sklearn/utils/validation.py\u001b[0m in \u001b[0;36minner_f\u001b[0;34m(*args, **kwargs)\u001b[0m\n\u001b[1;32m     61\u001b[0m             \u001b[0mextra_args\u001b[0m \u001b[0;34m=\u001b[0m \u001b[0mlen\u001b[0m\u001b[0;34m(\u001b[0m\u001b[0margs\u001b[0m\u001b[0;34m)\u001b[0m \u001b[0;34m-\u001b[0m \u001b[0mlen\u001b[0m\u001b[0;34m(\u001b[0m\u001b[0mall_args\u001b[0m\u001b[0;34m)\u001b[0m\u001b[0;34m\u001b[0m\u001b[0;34m\u001b[0m\u001b[0m\n\u001b[1;32m     62\u001b[0m             \u001b[0;32mif\u001b[0m \u001b[0mextra_args\u001b[0m \u001b[0;34m<=\u001b[0m \u001b[0;36m0\u001b[0m\u001b[0;34m:\u001b[0m\u001b[0;34m\u001b[0m\u001b[0;34m\u001b[0m\u001b[0m\n\u001b[0;32m---> 63\u001b[0;31m                 \u001b[0;32mreturn\u001b[0m \u001b[0mf\u001b[0m\u001b[0;34m(\u001b[0m\u001b[0;34m*\u001b[0m\u001b[0margs\u001b[0m\u001b[0;34m,\u001b[0m \u001b[0;34m**\u001b[0m\u001b[0mkwargs\u001b[0m\u001b[0;34m)\u001b[0m\u001b[0;34m\u001b[0m\u001b[0;34m\u001b[0m\u001b[0m\n\u001b[0m\u001b[1;32m     64\u001b[0m \u001b[0;34m\u001b[0m\u001b[0m\n\u001b[1;32m     65\u001b[0m             \u001b[0;31m# extra_args > 0\u001b[0m\u001b[0;34m\u001b[0m\u001b[0;34m\u001b[0m\u001b[0;34m\u001b[0m\u001b[0m\n",
      "\u001b[0;32m/Library/Frameworks/Python.framework/Versions/3.7/lib/python3.7/site-packages/sklearn/model_selection/_search.py\u001b[0m in \u001b[0;36mfit\u001b[0;34m(self, X, y, groups, **fit_params)\u001b[0m\n\u001b[1;32m    878\u001b[0m             \u001b[0mrefit_start_time\u001b[0m \u001b[0;34m=\u001b[0m \u001b[0mtime\u001b[0m\u001b[0;34m.\u001b[0m\u001b[0mtime\u001b[0m\u001b[0;34m(\u001b[0m\u001b[0;34m)\u001b[0m\u001b[0;34m\u001b[0m\u001b[0;34m\u001b[0m\u001b[0m\n\u001b[1;32m    879\u001b[0m             \u001b[0;32mif\u001b[0m \u001b[0my\u001b[0m \u001b[0;32mis\u001b[0m \u001b[0;32mnot\u001b[0m \u001b[0;32mNone\u001b[0m\u001b[0;34m:\u001b[0m\u001b[0;34m\u001b[0m\u001b[0;34m\u001b[0m\u001b[0m\n\u001b[0;32m--> 880\u001b[0;31m                 \u001b[0mself\u001b[0m\u001b[0;34m.\u001b[0m\u001b[0mbest_estimator_\u001b[0m\u001b[0;34m.\u001b[0m\u001b[0mfit\u001b[0m\u001b[0;34m(\u001b[0m\u001b[0mX\u001b[0m\u001b[0;34m,\u001b[0m \u001b[0my\u001b[0m\u001b[0;34m,\u001b[0m \u001b[0;34m**\u001b[0m\u001b[0mfit_params\u001b[0m\u001b[0;34m)\u001b[0m\u001b[0;34m\u001b[0m\u001b[0;34m\u001b[0m\u001b[0m\n\u001b[0m\u001b[1;32m    881\u001b[0m             \u001b[0;32melse\u001b[0m\u001b[0;34m:\u001b[0m\u001b[0;34m\u001b[0m\u001b[0;34m\u001b[0m\u001b[0m\n\u001b[1;32m    882\u001b[0m                 \u001b[0mself\u001b[0m\u001b[0;34m.\u001b[0m\u001b[0mbest_estimator_\u001b[0m\u001b[0;34m.\u001b[0m\u001b[0mfit\u001b[0m\u001b[0;34m(\u001b[0m\u001b[0mX\u001b[0m\u001b[0;34m,\u001b[0m \u001b[0;34m**\u001b[0m\u001b[0mfit_params\u001b[0m\u001b[0;34m)\u001b[0m\u001b[0;34m\u001b[0m\u001b[0;34m\u001b[0m\u001b[0m\n",
      "\u001b[0;32m/Library/Frameworks/Python.framework/Versions/3.7/lib/python3.7/site-packages/xgboost/core.py\u001b[0m in \u001b[0;36minner_f\u001b[0;34m(*args, **kwargs)\u001b[0m\n\u001b[1;32m    420\u001b[0m         \u001b[0;32mfor\u001b[0m \u001b[0mk\u001b[0m\u001b[0;34m,\u001b[0m \u001b[0marg\u001b[0m \u001b[0;32min\u001b[0m \u001b[0mzip\u001b[0m\u001b[0;34m(\u001b[0m\u001b[0msig\u001b[0m\u001b[0;34m.\u001b[0m\u001b[0mparameters\u001b[0m\u001b[0;34m,\u001b[0m \u001b[0margs\u001b[0m\u001b[0;34m)\u001b[0m\u001b[0;34m:\u001b[0m\u001b[0;34m\u001b[0m\u001b[0;34m\u001b[0m\u001b[0m\n\u001b[1;32m    421\u001b[0m             \u001b[0mkwargs\u001b[0m\u001b[0;34m[\u001b[0m\u001b[0mk\u001b[0m\u001b[0;34m]\u001b[0m \u001b[0;34m=\u001b[0m \u001b[0marg\u001b[0m\u001b[0;34m\u001b[0m\u001b[0;34m\u001b[0m\u001b[0m\n\u001b[0;32m--> 422\u001b[0;31m         \u001b[0;32mreturn\u001b[0m \u001b[0mf\u001b[0m\u001b[0;34m(\u001b[0m\u001b[0;34m**\u001b[0m\u001b[0mkwargs\u001b[0m\u001b[0;34m)\u001b[0m\u001b[0;34m\u001b[0m\u001b[0;34m\u001b[0m\u001b[0m\n\u001b[0m\u001b[1;32m    423\u001b[0m \u001b[0;34m\u001b[0m\u001b[0m\n\u001b[1;32m    424\u001b[0m     \u001b[0;32mreturn\u001b[0m \u001b[0minner_f\u001b[0m\u001b[0;34m\u001b[0m\u001b[0;34m\u001b[0m\u001b[0m\n",
      "\u001b[0;32m/Library/Frameworks/Python.framework/Versions/3.7/lib/python3.7/site-packages/xgboost/sklearn.py\u001b[0m in \u001b[0;36mfit\u001b[0;34m(self, X, y, sample_weight, base_margin, eval_set, eval_metric, early_stopping_rounds, verbose, xgb_model, sample_weight_eval_set, feature_weights, callbacks)\u001b[0m\n\u001b[1;32m    905\u001b[0m             \u001b[0mfeature_weights\u001b[0m\u001b[0;34m=\u001b[0m\u001b[0mfeature_weights\u001b[0m\u001b[0;34m,\u001b[0m\u001b[0;34m\u001b[0m\u001b[0;34m\u001b[0m\u001b[0m\n\u001b[1;32m    906\u001b[0m             \u001b[0meval_set\u001b[0m\u001b[0;34m=\u001b[0m\u001b[0meval_set\u001b[0m\u001b[0;34m,\u001b[0m \u001b[0msample_weight_eval_set\u001b[0m\u001b[0;34m=\u001b[0m\u001b[0msample_weight_eval_set\u001b[0m\u001b[0;34m,\u001b[0m\u001b[0;34m\u001b[0m\u001b[0;34m\u001b[0m\u001b[0m\n\u001b[0;32m--> 907\u001b[0;31m             eval_group=None, label_transform=label_transform)\n\u001b[0m\u001b[1;32m    908\u001b[0m \u001b[0;34m\u001b[0m\u001b[0m\n\u001b[1;32m    909\u001b[0m         self._Booster = train(xgb_options, train_dmatrix,\n",
      "\u001b[0;32m/Library/Frameworks/Python.framework/Versions/3.7/lib/python3.7/site-packages/xgboost/sklearn.py\u001b[0m in \u001b[0;36m_wrap_evaluation_matrices\u001b[0;34m(self, X, y, group, sample_weight, base_margin, feature_weights, eval_set, sample_weight_eval_set, eval_group, label_transform)\u001b[0m\n\u001b[1;32m    265\u001b[0m         train_dmatrix = DMatrix(data=X, label=y, weight=sample_weight,\n\u001b[1;32m    266\u001b[0m                                 \u001b[0mbase_margin\u001b[0m\u001b[0;34m=\u001b[0m\u001b[0mbase_margin\u001b[0m\u001b[0;34m,\u001b[0m\u001b[0;34m\u001b[0m\u001b[0;34m\u001b[0m\u001b[0m\n\u001b[0;32m--> 267\u001b[0;31m                                 missing=self.missing, nthread=self.n_jobs)\n\u001b[0m\u001b[1;32m    268\u001b[0m         \u001b[0mtrain_dmatrix\u001b[0m\u001b[0;34m.\u001b[0m\u001b[0mset_info\u001b[0m\u001b[0;34m(\u001b[0m\u001b[0mfeature_weights\u001b[0m\u001b[0;34m=\u001b[0m\u001b[0mfeature_weights\u001b[0m\u001b[0;34m,\u001b[0m \u001b[0mgroup\u001b[0m\u001b[0;34m=\u001b[0m\u001b[0mgroup\u001b[0m\u001b[0;34m)\u001b[0m\u001b[0;34m\u001b[0m\u001b[0;34m\u001b[0m\u001b[0m\n\u001b[1;32m    269\u001b[0m \u001b[0;34m\u001b[0m\u001b[0m\n",
      "\u001b[0;32m/Library/Frameworks/Python.framework/Versions/3.7/lib/python3.7/site-packages/xgboost/core.py\u001b[0m in \u001b[0;36m__init__\u001b[0;34m(self, data, label, weight, base_margin, missing, silent, feature_names, feature_types, nthread, enable_categorical)\u001b[0m\n\u001b[1;32m    503\u001b[0m             \u001b[0mfeature_names\u001b[0m\u001b[0;34m=\u001b[0m\u001b[0mfeature_names\u001b[0m\u001b[0;34m,\u001b[0m\u001b[0;34m\u001b[0m\u001b[0;34m\u001b[0m\u001b[0m\n\u001b[1;32m    504\u001b[0m             \u001b[0mfeature_types\u001b[0m\u001b[0;34m=\u001b[0m\u001b[0mfeature_types\u001b[0m\u001b[0;34m,\u001b[0m\u001b[0;34m\u001b[0m\u001b[0;34m\u001b[0m\u001b[0m\n\u001b[0;32m--> 505\u001b[0;31m             enable_categorical=enable_categorical)\n\u001b[0m\u001b[1;32m    506\u001b[0m         \u001b[0;32massert\u001b[0m \u001b[0mhandle\u001b[0m \u001b[0;32mis\u001b[0m \u001b[0;32mnot\u001b[0m \u001b[0;32mNone\u001b[0m\u001b[0;34m\u001b[0m\u001b[0;34m\u001b[0m\u001b[0m\n\u001b[1;32m    507\u001b[0m         \u001b[0mself\u001b[0m\u001b[0;34m.\u001b[0m\u001b[0mhandle\u001b[0m \u001b[0;34m=\u001b[0m \u001b[0mhandle\u001b[0m\u001b[0;34m\u001b[0m\u001b[0;34m\u001b[0m\u001b[0m\n",
      "\u001b[0;32m/Library/Frameworks/Python.framework/Versions/3.7/lib/python3.7/site-packages/xgboost/data.py\u001b[0m in \u001b[0;36mdispatch_data_backend\u001b[0;34m(data, missing, threads, feature_names, feature_types, enable_categorical)\u001b[0m\n\u001b[1;32m    538\u001b[0m     \u001b[0;32mif\u001b[0m \u001b[0m_is_pandas_df\u001b[0m\u001b[0;34m(\u001b[0m\u001b[0mdata\u001b[0m\u001b[0;34m)\u001b[0m\u001b[0;34m:\u001b[0m\u001b[0;34m\u001b[0m\u001b[0;34m\u001b[0m\u001b[0m\n\u001b[1;32m    539\u001b[0m         return _from_pandas_df(data, enable_categorical, missing, threads,\n\u001b[0;32m--> 540\u001b[0;31m                                feature_names, feature_types)\n\u001b[0m\u001b[1;32m    541\u001b[0m     \u001b[0;32mif\u001b[0m \u001b[0m_is_pandas_series\u001b[0m\u001b[0;34m(\u001b[0m\u001b[0mdata\u001b[0m\u001b[0;34m)\u001b[0m\u001b[0;34m:\u001b[0m\u001b[0;34m\u001b[0m\u001b[0;34m\u001b[0m\u001b[0m\n\u001b[1;32m    542\u001b[0m         return _from_pandas_series(data, missing, threads, feature_names,\n",
      "\u001b[0;32m/Library/Frameworks/Python.framework/Versions/3.7/lib/python3.7/site-packages/xgboost/data.py\u001b[0m in \u001b[0;36m_from_pandas_df\u001b[0;34m(data, enable_categorical, missing, nthread, feature_names, feature_types)\u001b[0m\n\u001b[1;32m    241\u001b[0m                     feature_names, feature_types):\n\u001b[1;32m    242\u001b[0m     data, feature_names, feature_types = _transform_pandas_df(\n\u001b[0;32m--> 243\u001b[0;31m         data, enable_categorical, feature_names, feature_types)\n\u001b[0m\u001b[1;32m    244\u001b[0m     return _from_numpy_array(data, missing, nthread, feature_names,\n\u001b[1;32m    245\u001b[0m                              feature_types)\n",
      "\u001b[0;32m/Library/Frameworks/Python.framework/Versions/3.7/lib/python3.7/site-packages/xgboost/data.py\u001b[0m in \u001b[0;36m_transform_pandas_df\u001b[0;34m(data, enable_categorical, feature_names, feature_types, meta, meta_type)\u001b[0m\n\u001b[1;32m    205\u001b[0m                 \u001b[0mcategorical\u001b[0m \u001b[0mtype\u001b[0m \u001b[0;32mis\u001b[0m \u001b[0msupplied\u001b[0m\u001b[0;34m,\u001b[0m \u001b[0mDMatrix\u001b[0m \u001b[0mparameter\u001b[0m\u001b[0;34m\u001b[0m\u001b[0;34m\u001b[0m\u001b[0m\n\u001b[1;32m    206\u001b[0m                 `enable_categorical` must be set to `True`.\"\"\"\n\u001b[0;32m--> 207\u001b[0;31m         \u001b[0;32mraise\u001b[0m \u001b[0mValueError\u001b[0m\u001b[0;34m(\u001b[0m\u001b[0mmsg\u001b[0m \u001b[0;34m+\u001b[0m \u001b[0;34m', '\u001b[0m\u001b[0;34m.\u001b[0m\u001b[0mjoin\u001b[0m\u001b[0;34m(\u001b[0m\u001b[0mbad_fields\u001b[0m\u001b[0;34m)\u001b[0m\u001b[0;34m)\u001b[0m\u001b[0;34m\u001b[0m\u001b[0;34m\u001b[0m\u001b[0m\n\u001b[0m\u001b[1;32m    208\u001b[0m \u001b[0;34m\u001b[0m\u001b[0m\n\u001b[1;32m    209\u001b[0m     \u001b[0;32mif\u001b[0m \u001b[0mfeature_names\u001b[0m \u001b[0;32mis\u001b[0m \u001b[0;32mNone\u001b[0m \u001b[0;32mand\u001b[0m \u001b[0mmeta\u001b[0m \u001b[0;32mis\u001b[0m \u001b[0;32mNone\u001b[0m\u001b[0;34m:\u001b[0m\u001b[0;34m\u001b[0m\u001b[0;34m\u001b[0m\u001b[0m\n",
      "\u001b[0;31mValueError\u001b[0m: DataFrame.dtypes for data must be int, float, bool or categorical.  When\n                categorical type is supplied, DMatrix parameter\n                `enable_categorical` must be set to `True`.gender, race, dwelling, dwelling_type, province_code, metro_code, nationality, RTH, marital_st, Lang_inside, Lang_outside, Education, lw_work, lw_business, help_on_household, job_or_business, nature_of_work"
     ]
    }
   ],
   "source": [
    "xgb_params = {\n",
    "        'maxdepth':[8],\n",
    "        'objective':['multi:softmax'],\n",
    "        'n_estimators':[600, 900, 1200],\n",
    "        'gamma':[0, .1, .2],\n",
    "        'lambda':[.5, 1, 3],\n",
    "        'alpha':[.5, 1, 2],\n",
    "        'num_class':[3],\n",
    "        #Other parameters\n",
    "             }\n",
    "\n",
    "xgb_clf = xgb.XGBClassifier()\n",
    "grid_search = GridSearchCV(xgb_clf, param_grid=xgb_params, scoring='accuracy', cv=4, verbose=1)\n",
    "\n",
    "grid_search.fit(train[features], target)\n",
    "\n"
   ]
  },
  {
   "cell_type": "code",
   "execution_count": null,
   "metadata": {},
   "outputs": [],
   "source": [
    "y_pred_xgb = grid_search.predict_proba(test)"
   ]
  },
  {
   "cell_type": "code",
   "execution_count": 376,
   "metadata": {},
   "outputs": [],
   "source": [
    "sub_df['target'] = xgb_y\n",
    "sub_df.to_csv('submission_xgb.csv', index = False)"
   ]
  },
  {
   "cell_type": "code",
   "execution_count": null,
   "metadata": {},
   "outputs": [],
   "source": []
  }
 ]
}