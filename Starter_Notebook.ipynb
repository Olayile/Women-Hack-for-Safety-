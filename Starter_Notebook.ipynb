{
 "cells": [
  {
   "cell_type": "code",
   "execution_count": 1,
   "id": "intense-plastic",
   "metadata": {},
   "outputs": [],
   "source": [
    "import pandas as pd\n",
    "import seaborn as sns\n",
    "\n",
    "from sklearn.model_selection import train_test_split\n",
    "from sklearn.linear_model import LogisticRegression\n",
    "from sklearn.ensemble import RandomForestClassifier\n",
    "from sklearn.metrics import accuracy_score,  mean_squared_error, f1_score, roc_auc_score\n",
    "\n",
    "from sklearn.preprocessing import LabelEncoder\n",
    "\n",
    "label = LabelEncoder()"
   ]
  },
  {
   "cell_type": "markdown",
   "id": "incredible-recipient",
   "metadata": {},
   "source": [
    "##### Data loading and Preparation"
   ]
  },
  {
   "cell_type": "code",
   "execution_count": 2,
   "id": "respected-guinea",
   "metadata": {},
   "outputs": [],
   "source": [
    "train_df = pd.read_csv(\"Train.csv\")"
   ]
  },
  {
   "cell_type": "code",
   "execution_count": 3,
   "id": "opposed-installation",
   "metadata": {},
   "outputs": [
    {
     "output_type": "execute_result",
     "data": {
      "text/plain": [
       "(7736, 21)"
      ]
     },
     "metadata": {},
     "execution_count": 3
    }
   ],
   "source": [
    "train_df.shape"
   ]
  },
  {
   "cell_type": "code",
   "execution_count": 4,
   "id": "raised-tourist",
   "metadata": {},
   "outputs": [
    {
     "output_type": "execute_result",
     "data": {
      "text/plain": [
       "            ID  gender  age           race  \\\n",
       "0  ID_00008683  Female   20  Black African   \n",
       "1  ID_00061163  Female   42  Black African   \n",
       "2  ID_00071403  Female   86  Black African   \n",
       "3  ID_00077803  Female   20  Black African   \n",
       "4  ID_00086763  Female   26  Black African   \n",
       "\n",
       "                                            dwelling dwelling_type  \\\n",
       "0  Dwelling/house or brick/concrete block structu...        Formal   \n",
       "1  Dwelling/house or brick/concrete block structu...        Formal   \n",
       "2  Dwelling/house or brick/concrete block structu...        Formal   \n",
       "3        Town house (semi-detached house in complex)        Formal   \n",
       "4        Town house (semi-detached house in complex)        Formal   \n",
       "\n",
       "   province_code                 metro_code       psu   nationality  ...  \\\n",
       "0     North West             NW - Non Metro  66710095  South Africa  ...   \n",
       "1        Limpopo             LP - Non Metro  98510279  South Africa  ...   \n",
       "2   Eastern Cape             EC - Non Metro  29210321  South Africa  ...   \n",
       "3  KwaZulu-Natal            KZN - eThekwini  59913860  South Africa  ...   \n",
       "4        Gauteng  GP - City of Johannesburg  79813828  South Africa  ...   \n",
       "\n",
       "                                          marital_st Lang_inside Lang_outside  \\\n",
       "0  Single and have never been married/never lived...    Xitsonga     Setswana   \n",
       "1              Living together like husband and wife      Sepedi       Sepedi   \n",
       "2                                            Widowed    IsiXhosa     IsiXhosa   \n",
       "3  Single and have never been married/never lived...     IsiZulu      IsiZulu   \n",
       "4  Single and have never been married/never lived...    Setswana      English   \n",
       "\n",
       "                                           Education lw_work lw_business  \\\n",
       "0                         Grade 11/Standard 9/Form 4      No          No   \n",
       "1  Grade 12/Standard 10/Form 5/Matric (No Exemption)     Yes          No   \n",
       "2                                        Unspecified      No          No   \n",
       "3  Grade 12/Standard 10/Form 5/Matric (No Exemption)      No          No   \n",
       "4  Grade 12/Standard 10/Form 5/Matric (No Exemption)      No          No   \n",
       "\n",
       "  help_on_household job_or_business  nature_of_work target  \n",
       "0                No              No  Not applicable      0  \n",
       "1                No  Not applicable       Permanent      0  \n",
       "2                No              No  Not applicable      0  \n",
       "3                No              No  Not applicable      0  \n",
       "4                No              No  Not applicable      0  \n",
       "\n",
       "[5 rows x 21 columns]"
      ],
      "text/html": "<div>\n<style scoped>\n    .dataframe tbody tr th:only-of-type {\n        vertical-align: middle;\n    }\n\n    .dataframe tbody tr th {\n        vertical-align: top;\n    }\n\n    .dataframe thead th {\n        text-align: right;\n    }\n</style>\n<table border=\"1\" class=\"dataframe\">\n  <thead>\n    <tr style=\"text-align: right;\">\n      <th></th>\n      <th>ID</th>\n      <th>gender</th>\n      <th>age</th>\n      <th>race</th>\n      <th>dwelling</th>\n      <th>dwelling_type</th>\n      <th>province_code</th>\n      <th>metro_code</th>\n      <th>psu</th>\n      <th>nationality</th>\n      <th>...</th>\n      <th>marital_st</th>\n      <th>Lang_inside</th>\n      <th>Lang_outside</th>\n      <th>Education</th>\n      <th>lw_work</th>\n      <th>lw_business</th>\n      <th>help_on_household</th>\n      <th>job_or_business</th>\n      <th>nature_of_work</th>\n      <th>target</th>\n    </tr>\n  </thead>\n  <tbody>\n    <tr>\n      <th>0</th>\n      <td>ID_00008683</td>\n      <td>Female</td>\n      <td>20</td>\n      <td>Black African</td>\n      <td>Dwelling/house or brick/concrete block structu...</td>\n      <td>Formal</td>\n      <td>North West</td>\n      <td>NW - Non Metro</td>\n      <td>66710095</td>\n      <td>South Africa</td>\n      <td>...</td>\n      <td>Single and have never been married/never lived...</td>\n      <td>Xitsonga</td>\n      <td>Setswana</td>\n      <td>Grade 11/Standard 9/Form 4</td>\n      <td>No</td>\n      <td>No</td>\n      <td>No</td>\n      <td>No</td>\n      <td>Not applicable</td>\n      <td>0</td>\n    </tr>\n    <tr>\n      <th>1</th>\n      <td>ID_00061163</td>\n      <td>Female</td>\n      <td>42</td>\n      <td>Black African</td>\n      <td>Dwelling/house or brick/concrete block structu...</td>\n      <td>Formal</td>\n      <td>Limpopo</td>\n      <td>LP - Non Metro</td>\n      <td>98510279</td>\n      <td>South Africa</td>\n      <td>...</td>\n      <td>Living together like husband and wife</td>\n      <td>Sepedi</td>\n      <td>Sepedi</td>\n      <td>Grade 12/Standard 10/Form 5/Matric (No Exemption)</td>\n      <td>Yes</td>\n      <td>No</td>\n      <td>No</td>\n      <td>Not applicable</td>\n      <td>Permanent</td>\n      <td>0</td>\n    </tr>\n    <tr>\n      <th>2</th>\n      <td>ID_00071403</td>\n      <td>Female</td>\n      <td>86</td>\n      <td>Black African</td>\n      <td>Dwelling/house or brick/concrete block structu...</td>\n      <td>Formal</td>\n      <td>Eastern Cape</td>\n      <td>EC - Non Metro</td>\n      <td>29210321</td>\n      <td>South Africa</td>\n      <td>...</td>\n      <td>Widowed</td>\n      <td>IsiXhosa</td>\n      <td>IsiXhosa</td>\n      <td>Unspecified</td>\n      <td>No</td>\n      <td>No</td>\n      <td>No</td>\n      <td>No</td>\n      <td>Not applicable</td>\n      <td>0</td>\n    </tr>\n    <tr>\n      <th>3</th>\n      <td>ID_00077803</td>\n      <td>Female</td>\n      <td>20</td>\n      <td>Black African</td>\n      <td>Town house (semi-detached house in complex)</td>\n      <td>Formal</td>\n      <td>KwaZulu-Natal</td>\n      <td>KZN - eThekwini</td>\n      <td>59913860</td>\n      <td>South Africa</td>\n      <td>...</td>\n      <td>Single and have never been married/never lived...</td>\n      <td>IsiZulu</td>\n      <td>IsiZulu</td>\n      <td>Grade 12/Standard 10/Form 5/Matric (No Exemption)</td>\n      <td>No</td>\n      <td>No</td>\n      <td>No</td>\n      <td>No</td>\n      <td>Not applicable</td>\n      <td>0</td>\n    </tr>\n    <tr>\n      <th>4</th>\n      <td>ID_00086763</td>\n      <td>Female</td>\n      <td>26</td>\n      <td>Black African</td>\n      <td>Town house (semi-detached house in complex)</td>\n      <td>Formal</td>\n      <td>Gauteng</td>\n      <td>GP - City of Johannesburg</td>\n      <td>79813828</td>\n      <td>South Africa</td>\n      <td>...</td>\n      <td>Single and have never been married/never lived...</td>\n      <td>Setswana</td>\n      <td>English</td>\n      <td>Grade 12/Standard 10/Form 5/Matric (No Exemption)</td>\n      <td>No</td>\n      <td>No</td>\n      <td>No</td>\n      <td>No</td>\n      <td>Not applicable</td>\n      <td>0</td>\n    </tr>\n  </tbody>\n</table>\n<p>5 rows × 21 columns</p>\n</div>"
     },
     "metadata": {},
     "execution_count": 4
    }
   ],
   "source": [
    "train_df.head()"
   ]
  },
  {
   "cell_type": "code",
   "execution_count": 5,
   "id": "listed-honduras",
   "metadata": {},
   "outputs": [
    {
     "output_type": "execute_result",
     "data": {
      "text/plain": [
       "Index(['ID', 'gender', 'age', 'race', 'dwelling', 'dwelling_type',\n",
       "       'province_code', 'metro_code', 'psu', 'nationality', 'RTH',\n",
       "       'marital_st', 'Lang_inside', 'Lang_outside', 'Education', 'lw_work',\n",
       "       'lw_business', 'help_on_household', 'job_or_business', 'nature_of_work',\n",
       "       'target'],\n",
       "      dtype='object')"
      ]
     },
     "metadata": {},
     "execution_count": 5
    }
   ],
   "source": [
    "train_df.columns"
   ]
  },
  {
   "cell_type": "markdown",
   "id": "exclusive-discount",
   "metadata": {},
   "source": [
    "#### Data Visualisation"
   ]
  },
  {
   "cell_type": "code",
   "execution_count": 6,
   "id": "fourth-balloon",
   "metadata": {},
   "outputs": [
    {
     "output_type": "stream",
     "name": "stderr",
     "text": [
      "/Library/Frameworks/Python.framework/Versions/3.7/lib/python3.7/site-packages/seaborn/_decorators.py:43: FutureWarning: Pass the following variable as a keyword arg: x. From version 0.12, the only valid positional argument will be `data`, and passing other arguments without an explicit keyword will result in an error or misinterpretation.\n  FutureWarning\n"
     ]
    },
    {
     "output_type": "execute_result",
     "data": {
      "text/plain": [
       "<matplotlib.axes._subplots.AxesSubplot at 0x11eb56a50>"
      ]
     },
     "metadata": {},
     "execution_count": 6
    },
    {
     "output_type": "display_data",
     "data": {
      "text/plain": "<Figure size 432x288 with 1 Axes>",
      "image/svg+xml": "<?xml version=\"1.0\" encoding=\"utf-8\" standalone=\"no\"?>\n<!DOCTYPE svg PUBLIC \"-//W3C//DTD SVG 1.1//EN\"\n  \"http://www.w3.org/Graphics/SVG/1.1/DTD/svg11.dtd\">\n<!-- Created with matplotlib (https://matplotlib.org/) -->\n<svg height=\"262.19625pt\" version=\"1.1\" viewBox=\"0 0 395.328125 262.19625\" width=\"395.328125pt\" xmlns=\"http://www.w3.org/2000/svg\" xmlns:xlink=\"http://www.w3.org/1999/xlink\">\n <defs>\n  <style type=\"text/css\">\n*{stroke-linecap:butt;stroke-linejoin:round;}\n  </style>\n </defs>\n <g id=\"figure_1\">\n  <g id=\"patch_1\">\n   <path d=\"M 0 262.19625 \nL 395.328125 262.19625 \nL 395.328125 0 \nL 0 0 \nz\n\" style=\"fill:none;\"/>\n  </g>\n  <g id=\"axes_1\">\n   <g id=\"patch_2\">\n    <path d=\"M 53.328125 224.64 \nL 388.128125 224.64 \nL 388.128125 7.2 \nL 53.328125 7.2 \nz\n\" style=\"fill:#ffffff;\"/>\n   </g>\n   <g id=\"patch_3\">\n    <path clip-path=\"url(#p6fda166a1f)\" d=\"M 70.068125 224.64 \nL 203.988125 224.64 \nL 203.988125 17.554286 \nL 70.068125 17.554286 \nz\n\" style=\"fill:#3274a1;\"/>\n   </g>\n   <g id=\"patch_4\">\n    <path clip-path=\"url(#p6fda166a1f)\" d=\"M 237.468125 224.64 \nL 371.388125 224.64 \nL 371.388125 207.070675 \nL 237.468125 207.070675 \nz\n\" style=\"fill:#e1812c;\"/>\n   </g>\n   <g id=\"matplotlib.axis_1\">\n    <g id=\"xtick_1\">\n     <g id=\"line2d_1\">\n      <defs>\n       <path d=\"M 0 0 \nL 0 3.5 \n\" id=\"m90fb3891b7\" style=\"stroke:#000000;stroke-width:0.8;\"/>\n      </defs>\n      <g>\n       <use style=\"stroke:#000000;stroke-width:0.8;\" x=\"137.028125\" xlink:href=\"#m90fb3891b7\" y=\"224.64\"/>\n      </g>\n     </g>\n     <g id=\"text_1\">\n      <!-- 0 -->\n      <defs>\n       <path d=\"M 31.78125 66.40625 \nQ 24.171875 66.40625 20.328125 58.90625 \nQ 16.5 51.421875 16.5 36.375 \nQ 16.5 21.390625 20.328125 13.890625 \nQ 24.171875 6.390625 31.78125 6.390625 \nQ 39.453125 6.390625 43.28125 13.890625 \nQ 47.125 21.390625 47.125 36.375 \nQ 47.125 51.421875 43.28125 58.90625 \nQ 39.453125 66.40625 31.78125 66.40625 \nz\nM 31.78125 74.21875 \nQ 44.046875 74.21875 50.515625 64.515625 \nQ 56.984375 54.828125 56.984375 36.375 \nQ 56.984375 17.96875 50.515625 8.265625 \nQ 44.046875 -1.421875 31.78125 -1.421875 \nQ 19.53125 -1.421875 13.0625 8.265625 \nQ 6.59375 17.96875 6.59375 36.375 \nQ 6.59375 54.828125 13.0625 64.515625 \nQ 19.53125 74.21875 31.78125 74.21875 \nz\n\" id=\"DejaVuSans-48\"/>\n      </defs>\n      <g transform=\"translate(133.846875 239.238438)scale(0.1 -0.1)\">\n       <use xlink:href=\"#DejaVuSans-48\"/>\n      </g>\n     </g>\n    </g>\n    <g id=\"xtick_2\">\n     <g id=\"line2d_2\">\n      <g>\n       <use style=\"stroke:#000000;stroke-width:0.8;\" x=\"304.428125\" xlink:href=\"#m90fb3891b7\" y=\"224.64\"/>\n      </g>\n     </g>\n     <g id=\"text_2\">\n      <!-- 1 -->\n      <defs>\n       <path d=\"M 12.40625 8.296875 \nL 28.515625 8.296875 \nL 28.515625 63.921875 \nL 10.984375 60.40625 \nL 10.984375 69.390625 \nL 28.421875 72.90625 \nL 38.28125 72.90625 \nL 38.28125 8.296875 \nL 54.390625 8.296875 \nL 54.390625 0 \nL 12.40625 0 \nz\n\" id=\"DejaVuSans-49\"/>\n      </defs>\n      <g transform=\"translate(301.246875 239.238438)scale(0.1 -0.1)\">\n       <use xlink:href=\"#DejaVuSans-49\"/>\n      </g>\n     </g>\n    </g>\n    <g id=\"text_3\">\n     <!-- target -->\n     <defs>\n      <path d=\"M 18.3125 70.21875 \nL 18.3125 54.6875 \nL 36.8125 54.6875 \nL 36.8125 47.703125 \nL 18.3125 47.703125 \nL 18.3125 18.015625 \nQ 18.3125 11.328125 20.140625 9.421875 \nQ 21.96875 7.515625 27.59375 7.515625 \nL 36.8125 7.515625 \nL 36.8125 0 \nL 27.59375 0 \nQ 17.1875 0 13.234375 3.875 \nQ 9.28125 7.765625 9.28125 18.015625 \nL 9.28125 47.703125 \nL 2.6875 47.703125 \nL 2.6875 54.6875 \nL 9.28125 54.6875 \nL 9.28125 70.21875 \nz\n\" id=\"DejaVuSans-116\"/>\n      <path d=\"M 34.28125 27.484375 \nQ 23.390625 27.484375 19.1875 25 \nQ 14.984375 22.515625 14.984375 16.5 \nQ 14.984375 11.71875 18.140625 8.90625 \nQ 21.296875 6.109375 26.703125 6.109375 \nQ 34.1875 6.109375 38.703125 11.40625 \nQ 43.21875 16.703125 43.21875 25.484375 \nL 43.21875 27.484375 \nz\nM 52.203125 31.203125 \nL 52.203125 0 \nL 43.21875 0 \nL 43.21875 8.296875 \nQ 40.140625 3.328125 35.546875 0.953125 \nQ 30.953125 -1.421875 24.3125 -1.421875 \nQ 15.921875 -1.421875 10.953125 3.296875 \nQ 6 8.015625 6 15.921875 \nQ 6 25.140625 12.171875 29.828125 \nQ 18.359375 34.515625 30.609375 34.515625 \nL 43.21875 34.515625 \nL 43.21875 35.40625 \nQ 43.21875 41.609375 39.140625 45 \nQ 35.0625 48.390625 27.6875 48.390625 \nQ 23 48.390625 18.546875 47.265625 \nQ 14.109375 46.140625 10.015625 43.890625 \nL 10.015625 52.203125 \nQ 14.9375 54.109375 19.578125 55.046875 \nQ 24.21875 56 28.609375 56 \nQ 40.484375 56 46.34375 49.84375 \nQ 52.203125 43.703125 52.203125 31.203125 \nz\n\" id=\"DejaVuSans-97\"/>\n      <path d=\"M 41.109375 46.296875 \nQ 39.59375 47.171875 37.8125 47.578125 \nQ 36.03125 48 33.890625 48 \nQ 26.265625 48 22.1875 43.046875 \nQ 18.109375 38.09375 18.109375 28.8125 \nL 18.109375 0 \nL 9.078125 0 \nL 9.078125 54.6875 \nL 18.109375 54.6875 \nL 18.109375 46.1875 \nQ 20.953125 51.171875 25.484375 53.578125 \nQ 30.03125 56 36.53125 56 \nQ 37.453125 56 38.578125 55.875 \nQ 39.703125 55.765625 41.0625 55.515625 \nz\n\" id=\"DejaVuSans-114\"/>\n      <path d=\"M 45.40625 27.984375 \nQ 45.40625 37.75 41.375 43.109375 \nQ 37.359375 48.484375 30.078125 48.484375 \nQ 22.859375 48.484375 18.828125 43.109375 \nQ 14.796875 37.75 14.796875 27.984375 \nQ 14.796875 18.265625 18.828125 12.890625 \nQ 22.859375 7.515625 30.078125 7.515625 \nQ 37.359375 7.515625 41.375 12.890625 \nQ 45.40625 18.265625 45.40625 27.984375 \nz\nM 54.390625 6.78125 \nQ 54.390625 -7.171875 48.1875 -13.984375 \nQ 42 -20.796875 29.203125 -20.796875 \nQ 24.46875 -20.796875 20.265625 -20.09375 \nQ 16.0625 -19.390625 12.109375 -17.921875 \nL 12.109375 -9.1875 \nQ 16.0625 -11.328125 19.921875 -12.34375 \nQ 23.78125 -13.375 27.78125 -13.375 \nQ 36.625 -13.375 41.015625 -8.765625 \nQ 45.40625 -4.15625 45.40625 5.171875 \nL 45.40625 9.625 \nQ 42.625 4.78125 38.28125 2.390625 \nQ 33.9375 0 27.875 0 \nQ 17.828125 0 11.671875 7.65625 \nQ 5.515625 15.328125 5.515625 27.984375 \nQ 5.515625 40.671875 11.671875 48.328125 \nQ 17.828125 56 27.875 56 \nQ 33.9375 56 38.28125 53.609375 \nQ 42.625 51.21875 45.40625 46.390625 \nL 45.40625 54.6875 \nL 54.390625 54.6875 \nz\n\" id=\"DejaVuSans-103\"/>\n      <path d=\"M 56.203125 29.59375 \nL 56.203125 25.203125 \nL 14.890625 25.203125 \nQ 15.484375 15.921875 20.484375 11.0625 \nQ 25.484375 6.203125 34.421875 6.203125 \nQ 39.59375 6.203125 44.453125 7.46875 \nQ 49.3125 8.734375 54.109375 11.28125 \nL 54.109375 2.78125 \nQ 49.265625 0.734375 44.1875 -0.34375 \nQ 39.109375 -1.421875 33.890625 -1.421875 \nQ 20.796875 -1.421875 13.15625 6.1875 \nQ 5.515625 13.8125 5.515625 26.8125 \nQ 5.515625 40.234375 12.765625 48.109375 \nQ 20.015625 56 32.328125 56 \nQ 43.359375 56 49.78125 48.890625 \nQ 56.203125 41.796875 56.203125 29.59375 \nz\nM 47.21875 32.234375 \nQ 47.125 39.59375 43.09375 43.984375 \nQ 39.0625 48.390625 32.421875 48.390625 \nQ 24.90625 48.390625 20.390625 44.140625 \nQ 15.875 39.890625 15.1875 32.171875 \nz\n\" id=\"DejaVuSans-101\"/>\n     </defs>\n     <g transform=\"translate(205.525 252.916563)scale(0.1 -0.1)\">\n      <use xlink:href=\"#DejaVuSans-116\"/>\n      <use x=\"39.208984\" xlink:href=\"#DejaVuSans-97\"/>\n      <use x=\"100.488281\" xlink:href=\"#DejaVuSans-114\"/>\n      <use x=\"139.851562\" xlink:href=\"#DejaVuSans-103\"/>\n      <use x=\"203.328125\" xlink:href=\"#DejaVuSans-101\"/>\n      <use x=\"264.851562\" xlink:href=\"#DejaVuSans-116\"/>\n     </g>\n    </g>\n   </g>\n   <g id=\"matplotlib.axis_2\">\n    <g id=\"ytick_1\">\n     <g id=\"line2d_3\">\n      <defs>\n       <path d=\"M 0 0 \nL -3.5 0 \n\" id=\"me4be2ac2c1\" style=\"stroke:#000000;stroke-width:0.8;\"/>\n      </defs>\n      <g>\n       <use style=\"stroke:#000000;stroke-width:0.8;\" x=\"53.328125\" xlink:href=\"#me4be2ac2c1\" y=\"224.64\"/>\n      </g>\n     </g>\n     <g id=\"text_4\">\n      <!-- 0 -->\n      <g transform=\"translate(39.965625 228.439219)scale(0.1 -0.1)\">\n       <use xlink:href=\"#DejaVuSans-48\"/>\n      </g>\n     </g>\n    </g>\n    <g id=\"ytick_2\">\n     <g id=\"line2d_4\">\n      <g>\n       <use style=\"stroke:#000000;stroke-width:0.8;\" x=\"53.328125\" xlink:href=\"#me4be2ac2c1\" y=\"195.599793\"/>\n      </g>\n     </g>\n     <g id=\"text_5\">\n      <!-- 1000 -->\n      <g transform=\"translate(20.878125 199.399012)scale(0.1 -0.1)\">\n       <use xlink:href=\"#DejaVuSans-49\"/>\n       <use x=\"63.623047\" xlink:href=\"#DejaVuSans-48\"/>\n       <use x=\"127.246094\" xlink:href=\"#DejaVuSans-48\"/>\n       <use x=\"190.869141\" xlink:href=\"#DejaVuSans-48\"/>\n      </g>\n     </g>\n    </g>\n    <g id=\"ytick_3\">\n     <g id=\"line2d_5\">\n      <g>\n       <use style=\"stroke:#000000;stroke-width:0.8;\" x=\"53.328125\" xlink:href=\"#me4be2ac2c1\" y=\"166.559587\"/>\n      </g>\n     </g>\n     <g id=\"text_6\">\n      <!-- 2000 -->\n      <defs>\n       <path d=\"M 19.1875 8.296875 \nL 53.609375 8.296875 \nL 53.609375 0 \nL 7.328125 0 \nL 7.328125 8.296875 \nQ 12.9375 14.109375 22.625 23.890625 \nQ 32.328125 33.6875 34.8125 36.53125 \nQ 39.546875 41.84375 41.421875 45.53125 \nQ 43.3125 49.21875 43.3125 52.78125 \nQ 43.3125 58.59375 39.234375 62.25 \nQ 35.15625 65.921875 28.609375 65.921875 \nQ 23.96875 65.921875 18.8125 64.3125 \nQ 13.671875 62.703125 7.8125 59.421875 \nL 7.8125 69.390625 \nQ 13.765625 71.78125 18.9375 73 \nQ 24.125 74.21875 28.421875 74.21875 \nQ 39.75 74.21875 46.484375 68.546875 \nQ 53.21875 62.890625 53.21875 53.421875 \nQ 53.21875 48.921875 51.53125 44.890625 \nQ 49.859375 40.875 45.40625 35.40625 \nQ 44.1875 33.984375 37.640625 27.21875 \nQ 31.109375 20.453125 19.1875 8.296875 \nz\n\" id=\"DejaVuSans-50\"/>\n      </defs>\n      <g transform=\"translate(20.878125 170.358805)scale(0.1 -0.1)\">\n       <use xlink:href=\"#DejaVuSans-50\"/>\n       <use x=\"63.623047\" xlink:href=\"#DejaVuSans-48\"/>\n       <use x=\"127.246094\" xlink:href=\"#DejaVuSans-48\"/>\n       <use x=\"190.869141\" xlink:href=\"#DejaVuSans-48\"/>\n      </g>\n     </g>\n    </g>\n    <g id=\"ytick_4\">\n     <g id=\"line2d_6\">\n      <g>\n       <use style=\"stroke:#000000;stroke-width:0.8;\" x=\"53.328125\" xlink:href=\"#me4be2ac2c1\" y=\"137.51938\"/>\n      </g>\n     </g>\n     <g id=\"text_7\">\n      <!-- 3000 -->\n      <defs>\n       <path d=\"M 40.578125 39.3125 \nQ 47.65625 37.796875 51.625 33 \nQ 55.609375 28.21875 55.609375 21.1875 \nQ 55.609375 10.40625 48.1875 4.484375 \nQ 40.765625 -1.421875 27.09375 -1.421875 \nQ 22.515625 -1.421875 17.65625 -0.515625 \nQ 12.796875 0.390625 7.625 2.203125 \nL 7.625 11.71875 \nQ 11.71875 9.328125 16.59375 8.109375 \nQ 21.484375 6.890625 26.8125 6.890625 \nQ 36.078125 6.890625 40.9375 10.546875 \nQ 45.796875 14.203125 45.796875 21.1875 \nQ 45.796875 27.640625 41.28125 31.265625 \nQ 36.765625 34.90625 28.71875 34.90625 \nL 20.21875 34.90625 \nL 20.21875 43.015625 \nL 29.109375 43.015625 \nQ 36.375 43.015625 40.234375 45.921875 \nQ 44.09375 48.828125 44.09375 54.296875 \nQ 44.09375 59.90625 40.109375 62.90625 \nQ 36.140625 65.921875 28.71875 65.921875 \nQ 24.65625 65.921875 20.015625 65.03125 \nQ 15.375 64.15625 9.8125 62.3125 \nL 9.8125 71.09375 \nQ 15.4375 72.65625 20.34375 73.4375 \nQ 25.25 74.21875 29.59375 74.21875 \nQ 40.828125 74.21875 47.359375 69.109375 \nQ 53.90625 64.015625 53.90625 55.328125 \nQ 53.90625 49.265625 50.4375 45.09375 \nQ 46.96875 40.921875 40.578125 39.3125 \nz\n\" id=\"DejaVuSans-51\"/>\n      </defs>\n      <g transform=\"translate(20.878125 141.318599)scale(0.1 -0.1)\">\n       <use xlink:href=\"#DejaVuSans-51\"/>\n       <use x=\"63.623047\" xlink:href=\"#DejaVuSans-48\"/>\n       <use x=\"127.246094\" xlink:href=\"#DejaVuSans-48\"/>\n       <use x=\"190.869141\" xlink:href=\"#DejaVuSans-48\"/>\n      </g>\n     </g>\n    </g>\n    <g id=\"ytick_5\">\n     <g id=\"line2d_7\">\n      <g>\n       <use style=\"stroke:#000000;stroke-width:0.8;\" x=\"53.328125\" xlink:href=\"#me4be2ac2c1\" y=\"108.479173\"/>\n      </g>\n     </g>\n     <g id=\"text_8\">\n      <!-- 4000 -->\n      <defs>\n       <path d=\"M 37.796875 64.3125 \nL 12.890625 25.390625 \nL 37.796875 25.390625 \nz\nM 35.203125 72.90625 \nL 47.609375 72.90625 \nL 47.609375 25.390625 \nL 58.015625 25.390625 \nL 58.015625 17.1875 \nL 47.609375 17.1875 \nL 47.609375 0 \nL 37.796875 0 \nL 37.796875 17.1875 \nL 4.890625 17.1875 \nL 4.890625 26.703125 \nz\n\" id=\"DejaVuSans-52\"/>\n      </defs>\n      <g transform=\"translate(20.878125 112.278392)scale(0.1 -0.1)\">\n       <use xlink:href=\"#DejaVuSans-52\"/>\n       <use x=\"63.623047\" xlink:href=\"#DejaVuSans-48\"/>\n       <use x=\"127.246094\" xlink:href=\"#DejaVuSans-48\"/>\n       <use x=\"190.869141\" xlink:href=\"#DejaVuSans-48\"/>\n      </g>\n     </g>\n    </g>\n    <g id=\"ytick_6\">\n     <g id=\"line2d_8\">\n      <g>\n       <use style=\"stroke:#000000;stroke-width:0.8;\" x=\"53.328125\" xlink:href=\"#me4be2ac2c1\" y=\"79.438966\"/>\n      </g>\n     </g>\n     <g id=\"text_9\">\n      <!-- 5000 -->\n      <defs>\n       <path d=\"M 10.796875 72.90625 \nL 49.515625 72.90625 \nL 49.515625 64.59375 \nL 19.828125 64.59375 \nL 19.828125 46.734375 \nQ 21.96875 47.46875 24.109375 47.828125 \nQ 26.265625 48.1875 28.421875 48.1875 \nQ 40.625 48.1875 47.75 41.5 \nQ 54.890625 34.8125 54.890625 23.390625 \nQ 54.890625 11.625 47.5625 5.09375 \nQ 40.234375 -1.421875 26.90625 -1.421875 \nQ 22.3125 -1.421875 17.546875 -0.640625 \nQ 12.796875 0.140625 7.71875 1.703125 \nL 7.71875 11.625 \nQ 12.109375 9.234375 16.796875 8.0625 \nQ 21.484375 6.890625 26.703125 6.890625 \nQ 35.15625 6.890625 40.078125 11.328125 \nQ 45.015625 15.765625 45.015625 23.390625 \nQ 45.015625 31 40.078125 35.4375 \nQ 35.15625 39.890625 26.703125 39.890625 \nQ 22.75 39.890625 18.8125 39.015625 \nQ 14.890625 38.140625 10.796875 36.28125 \nz\n\" id=\"DejaVuSans-53\"/>\n      </defs>\n      <g transform=\"translate(20.878125 83.238185)scale(0.1 -0.1)\">\n       <use xlink:href=\"#DejaVuSans-53\"/>\n       <use x=\"63.623047\" xlink:href=\"#DejaVuSans-48\"/>\n       <use x=\"127.246094\" xlink:href=\"#DejaVuSans-48\"/>\n       <use x=\"190.869141\" xlink:href=\"#DejaVuSans-48\"/>\n      </g>\n     </g>\n    </g>\n    <g id=\"ytick_7\">\n     <g id=\"line2d_9\">\n      <g>\n       <use style=\"stroke:#000000;stroke-width:0.8;\" x=\"53.328125\" xlink:href=\"#me4be2ac2c1\" y=\"50.39876\"/>\n      </g>\n     </g>\n     <g id=\"text_10\">\n      <!-- 6000 -->\n      <defs>\n       <path d=\"M 33.015625 40.375 \nQ 26.375 40.375 22.484375 35.828125 \nQ 18.609375 31.296875 18.609375 23.390625 \nQ 18.609375 15.53125 22.484375 10.953125 \nQ 26.375 6.390625 33.015625 6.390625 \nQ 39.65625 6.390625 43.53125 10.953125 \nQ 47.40625 15.53125 47.40625 23.390625 \nQ 47.40625 31.296875 43.53125 35.828125 \nQ 39.65625 40.375 33.015625 40.375 \nz\nM 52.59375 71.296875 \nL 52.59375 62.3125 \nQ 48.875 64.0625 45.09375 64.984375 \nQ 41.3125 65.921875 37.59375 65.921875 \nQ 27.828125 65.921875 22.671875 59.328125 \nQ 17.53125 52.734375 16.796875 39.40625 \nQ 19.671875 43.65625 24.015625 45.921875 \nQ 28.375 48.1875 33.59375 48.1875 \nQ 44.578125 48.1875 50.953125 41.515625 \nQ 57.328125 34.859375 57.328125 23.390625 \nQ 57.328125 12.15625 50.6875 5.359375 \nQ 44.046875 -1.421875 33.015625 -1.421875 \nQ 20.359375 -1.421875 13.671875 8.265625 \nQ 6.984375 17.96875 6.984375 36.375 \nQ 6.984375 53.65625 15.1875 63.9375 \nQ 23.390625 74.21875 37.203125 74.21875 \nQ 40.921875 74.21875 44.703125 73.484375 \nQ 48.484375 72.75 52.59375 71.296875 \nz\n\" id=\"DejaVuSans-54\"/>\n      </defs>\n      <g transform=\"translate(20.878125 54.197978)scale(0.1 -0.1)\">\n       <use xlink:href=\"#DejaVuSans-54\"/>\n       <use x=\"63.623047\" xlink:href=\"#DejaVuSans-48\"/>\n       <use x=\"127.246094\" xlink:href=\"#DejaVuSans-48\"/>\n       <use x=\"190.869141\" xlink:href=\"#DejaVuSans-48\"/>\n      </g>\n     </g>\n    </g>\n    <g id=\"ytick_8\">\n     <g id=\"line2d_10\">\n      <g>\n       <use style=\"stroke:#000000;stroke-width:0.8;\" x=\"53.328125\" xlink:href=\"#me4be2ac2c1\" y=\"21.358553\"/>\n      </g>\n     </g>\n     <g id=\"text_11\">\n      <!-- 7000 -->\n      <defs>\n       <path d=\"M 8.203125 72.90625 \nL 55.078125 72.90625 \nL 55.078125 68.703125 \nL 28.609375 0 \nL 18.3125 0 \nL 43.21875 64.59375 \nL 8.203125 64.59375 \nz\n\" id=\"DejaVuSans-55\"/>\n      </defs>\n      <g transform=\"translate(20.878125 25.157772)scale(0.1 -0.1)\">\n       <use xlink:href=\"#DejaVuSans-55\"/>\n       <use x=\"63.623047\" xlink:href=\"#DejaVuSans-48\"/>\n       <use x=\"127.246094\" xlink:href=\"#DejaVuSans-48\"/>\n       <use x=\"190.869141\" xlink:href=\"#DejaVuSans-48\"/>\n      </g>\n     </g>\n    </g>\n    <g id=\"text_12\">\n     <!-- count -->\n     <defs>\n      <path d=\"M 48.78125 52.59375 \nL 48.78125 44.1875 \nQ 44.96875 46.296875 41.140625 47.34375 \nQ 37.3125 48.390625 33.40625 48.390625 \nQ 24.65625 48.390625 19.8125 42.84375 \nQ 14.984375 37.3125 14.984375 27.296875 \nQ 14.984375 17.28125 19.8125 11.734375 \nQ 24.65625 6.203125 33.40625 6.203125 \nQ 37.3125 6.203125 41.140625 7.25 \nQ 44.96875 8.296875 48.78125 10.40625 \nL 48.78125 2.09375 \nQ 45.015625 0.34375 40.984375 -0.53125 \nQ 36.96875 -1.421875 32.421875 -1.421875 \nQ 20.0625 -1.421875 12.78125 6.34375 \nQ 5.515625 14.109375 5.515625 27.296875 \nQ 5.515625 40.671875 12.859375 48.328125 \nQ 20.21875 56 33.015625 56 \nQ 37.15625 56 41.109375 55.140625 \nQ 45.0625 54.296875 48.78125 52.59375 \nz\n\" id=\"DejaVuSans-99\"/>\n      <path d=\"M 30.609375 48.390625 \nQ 23.390625 48.390625 19.1875 42.75 \nQ 14.984375 37.109375 14.984375 27.296875 \nQ 14.984375 17.484375 19.15625 11.84375 \nQ 23.34375 6.203125 30.609375 6.203125 \nQ 37.796875 6.203125 41.984375 11.859375 \nQ 46.1875 17.53125 46.1875 27.296875 \nQ 46.1875 37.015625 41.984375 42.703125 \nQ 37.796875 48.390625 30.609375 48.390625 \nz\nM 30.609375 56 \nQ 42.328125 56 49.015625 48.375 \nQ 55.71875 40.765625 55.71875 27.296875 \nQ 55.71875 13.875 49.015625 6.21875 \nQ 42.328125 -1.421875 30.609375 -1.421875 \nQ 18.84375 -1.421875 12.171875 6.21875 \nQ 5.515625 13.875 5.515625 27.296875 \nQ 5.515625 40.765625 12.171875 48.375 \nQ 18.84375 56 30.609375 56 \nz\n\" id=\"DejaVuSans-111\"/>\n      <path d=\"M 8.5 21.578125 \nL 8.5 54.6875 \nL 17.484375 54.6875 \nL 17.484375 21.921875 \nQ 17.484375 14.15625 20.5 10.265625 \nQ 23.53125 6.390625 29.59375 6.390625 \nQ 36.859375 6.390625 41.078125 11.03125 \nQ 45.3125 15.671875 45.3125 23.6875 \nL 45.3125 54.6875 \nL 54.296875 54.6875 \nL 54.296875 0 \nL 45.3125 0 \nL 45.3125 8.40625 \nQ 42.046875 3.421875 37.71875 1 \nQ 33.40625 -1.421875 27.6875 -1.421875 \nQ 18.265625 -1.421875 13.375 4.4375 \nQ 8.5 10.296875 8.5 21.578125 \nz\nM 31.109375 56 \nz\n\" id=\"DejaVuSans-117\"/>\n      <path d=\"M 54.890625 33.015625 \nL 54.890625 0 \nL 45.90625 0 \nL 45.90625 32.71875 \nQ 45.90625 40.484375 42.875 44.328125 \nQ 39.84375 48.1875 33.796875 48.1875 \nQ 26.515625 48.1875 22.3125 43.546875 \nQ 18.109375 38.921875 18.109375 30.90625 \nL 18.109375 0 \nL 9.078125 0 \nL 9.078125 54.6875 \nL 18.109375 54.6875 \nL 18.109375 46.1875 \nQ 21.34375 51.125 25.703125 53.5625 \nQ 30.078125 56 35.796875 56 \nQ 45.21875 56 50.046875 50.171875 \nQ 54.890625 44.34375 54.890625 33.015625 \nz\n\" id=\"DejaVuSans-110\"/>\n     </defs>\n     <g transform=\"translate(14.798438 130.02625)rotate(-90)scale(0.1 -0.1)\">\n      <use xlink:href=\"#DejaVuSans-99\"/>\n      <use x=\"54.980469\" xlink:href=\"#DejaVuSans-111\"/>\n      <use x=\"116.162109\" xlink:href=\"#DejaVuSans-117\"/>\n      <use x=\"179.541016\" xlink:href=\"#DejaVuSans-110\"/>\n      <use x=\"242.919922\" xlink:href=\"#DejaVuSans-116\"/>\n     </g>\n    </g>\n   </g>\n   <g id=\"patch_5\">\n    <path d=\"M 53.328125 224.64 \nL 53.328125 7.2 \n\" style=\"fill:none;stroke:#000000;stroke-linecap:square;stroke-linejoin:miter;stroke-width:0.8;\"/>\n   </g>\n   <g id=\"patch_6\">\n    <path d=\"M 388.128125 224.64 \nL 388.128125 7.2 \n\" style=\"fill:none;stroke:#000000;stroke-linecap:square;stroke-linejoin:miter;stroke-width:0.8;\"/>\n   </g>\n   <g id=\"patch_7\">\n    <path d=\"M 53.328125 224.64 \nL 388.128125 224.64 \n\" style=\"fill:none;stroke:#000000;stroke-linecap:square;stroke-linejoin:miter;stroke-width:0.8;\"/>\n   </g>\n   <g id=\"patch_8\">\n    <path d=\"M 53.328125 7.2 \nL 388.128125 7.2 \n\" style=\"fill:none;stroke:#000000;stroke-linecap:square;stroke-linejoin:miter;stroke-width:0.8;\"/>\n   </g>\n  </g>\n </g>\n <defs>\n  <clipPath id=\"p6fda166a1f\">\n   <rect height=\"217.44\" width=\"334.8\" x=\"53.328125\" y=\"7.2\"/>\n  </clipPath>\n </defs>\n</svg>\n",
      "image/png": "[encoded data removed]"
     },
     "metadata": {
      "needs_background": "light"
     }
    }
   ],
   "source": [
    "sns.countplot(train_df[\"target\"])"
   ]
  },
  {
   "cell_type": "markdown",
   "id": "banned-commerce",
   "metadata": {},
   "source": [
    "- Try to create more visualisation from the other columns, what is the level of education of individual in the dataset.\n",
    "- What about coorelation of other columns to the target."
   ]
  },
  {
   "cell_type": "markdown",
   "id": "chubby-subcommittee",
   "metadata": {},
   "source": [
    "##### Handling Categorical columns\n",
    "- There are various way of encoding categorical columns. In the case below we're using label encoding \n",
    "<https://scikit-learn.org/stable/modules/generated/sklearn.preprocessing.LabelEncoder.html>.\n",
    "- Find out other ways of encoding categorical columns, like one hot encoding - which one works better on this case."
   ]
  },
  {
   "cell_type": "code",
   "execution_count": 7,
   "id": "conservative-telling",
   "metadata": {},
   "outputs": [],
   "source": [
    "train_df['gender'] = label.fit_transform(train_df['gender'])\n",
    "train_df['race'] = label.fit_transform(train_df['race'])\n",
    "train_df['dwelling'] = label.fit_transform(train_df['dwelling'])\n",
    "train_df['dwelling_type'] = label.fit_transform(train_df['dwelling_type'])\n",
    "train_df['province_code'] = label.fit_transform(train_df['province_code'])\n",
    "train_df['metro_code'] = label.fit_transform(train_df['metro_code'])\n",
    "train_df['nationality'] = label.fit_transform(train_df['nationality'])\n",
    "train_df['RTH'] = label.fit_transform(train_df['RTH'])\n",
    "train_df['marital_st'] = label.fit_transform(train_df['marital_st'])\n",
    "train_df['Lang_inside'] = label.fit_transform(train_df['Lang_inside'])\n",
    "train_df['Lang_outside'] = label.fit_transform(train_df['Lang_outside'])\n",
    "train_df['Education'] = label.fit_transform(train_df['Education'])\n",
    "train_df['lw_work'] = label.fit_transform(train_df['lw_work'])\n",
    "train_df['lw_business'] = label.fit_transform(train_df['lw_business'])\n",
    "train_df['help_on_household'] = label.fit_transform(train_df['help_on_household'])\n",
    "train_df['job_or_business'] = label.fit_transform(train_df['job_or_business'])\n",
    "train_df['nature_of_work'] = label.fit_transform(train_df['nature_of_work'])\n",
    "\n"
   ]
  },
  {
   "cell_type": "code",
   "execution_count": 8,
   "id": "occupied-harbor",
   "metadata": {},
   "outputs": [
    {
     "output_type": "execute_result",
     "data": {
      "text/plain": [
       "            ID  gender  age  race  dwelling  dwelling_type  province_code  \\\n",
       "0  ID_00008683       0   20     0         2              0              6   \n",
       "1  ID_00061163       0   42     0         2              0              4   \n",
       "2  ID_00071403       0   86     0         2              0              0   \n",
       "3  ID_00077803       0   20     0        10              0              3   \n",
       "4  ID_00086763       0   26     0        10              0              2   \n",
       "\n",
       "   metro_code       psu  nationality  ...  marital_st  Lang_inside  \\\n",
       "0          14  66710095            1  ...           4           14   \n",
       "1          11  98510279            1  ...           1            7   \n",
       "2           2  29210321            1  ...           7            3   \n",
       "3          10  59913860            1  ...           4            4   \n",
       "4           5  79813828            1  ...           4            9   \n",
       "\n",
       "   Lang_outside  Education  lw_work  lw_business  help_on_household  \\\n",
       "0             9          9        1            1                  1   \n",
       "1             7         11        3            1                  1   \n",
       "2             3         32        1            1                  1   \n",
       "3             4         11        1            1                  1   \n",
       "4             1         11        1            1                  1   \n",
       "\n",
       "   job_or_business  nature_of_work  target  \n",
       "0                1               3       0  \n",
       "1                2               4       0  \n",
       "2                1               3       0  \n",
       "3                1               3       0  \n",
       "4                1               3       0  \n",
       "\n",
       "[5 rows x 21 columns]"
      ],
      "text/html": "<div>\n<style scoped>\n    .dataframe tbody tr th:only-of-type {\n        vertical-align: middle;\n    }\n\n    .dataframe tbody tr th {\n        vertical-align: top;\n    }\n\n    .dataframe thead th {\n        text-align: right;\n    }\n</style>\n<table border=\"1\" class=\"dataframe\">\n  <thead>\n    <tr style=\"text-align: right;\">\n      <th></th>\n      <th>ID</th>\n      <th>gender</th>\n      <th>age</th>\n      <th>race</th>\n      <th>dwelling</th>\n      <th>dwelling_type</th>\n      <th>province_code</th>\n      <th>metro_code</th>\n      <th>psu</th>\n      <th>nationality</th>\n      <th>...</th>\n      <th>marital_st</th>\n      <th>Lang_inside</th>\n      <th>Lang_outside</th>\n      <th>Education</th>\n      <th>lw_work</th>\n      <th>lw_business</th>\n      <th>help_on_household</th>\n      <th>job_or_business</th>\n      <th>nature_of_work</th>\n      <th>target</th>\n    </tr>\n  </thead>\n  <tbody>\n    <tr>\n      <th>0</th>\n      <td>ID_00008683</td>\n      <td>0</td>\n      <td>20</td>\n      <td>0</td>\n      <td>2</td>\n      <td>0</td>\n      <td>6</td>\n      <td>14</td>\n      <td>66710095</td>\n      <td>1</td>\n      <td>...</td>\n      <td>4</td>\n      <td>14</td>\n      <td>9</td>\n      <td>9</td>\n      <td>1</td>\n      <td>1</td>\n      <td>1</td>\n      <td>1</td>\n      <td>3</td>\n      <td>0</td>\n    </tr>\n    <tr>\n      <th>1</th>\n      <td>ID_00061163</td>\n      <td>0</td>\n      <td>42</td>\n      <td>0</td>\n      <td>2</td>\n      <td>0</td>\n      <td>4</td>\n      <td>11</td>\n      <td>98510279</td>\n      <td>1</td>\n      <td>...</td>\n      <td>1</td>\n      <td>7</td>\n      <td>7</td>\n      <td>11</td>\n      <td>3</td>\n      <td>1</td>\n      <td>1</td>\n      <td>2</td>\n      <td>4</td>\n      <td>0</td>\n    </tr>\n    <tr>\n      <th>2</th>\n      <td>ID_00071403</td>\n      <td>0</td>\n      <td>86</td>\n      <td>0</td>\n      <td>2</td>\n      <td>0</td>\n      <td>0</td>\n      <td>2</td>\n      <td>29210321</td>\n      <td>1</td>\n      <td>...</td>\n      <td>7</td>\n      <td>3</td>\n      <td>3</td>\n      <td>32</td>\n      <td>1</td>\n      <td>1</td>\n      <td>1</td>\n      <td>1</td>\n      <td>3</td>\n      <td>0</td>\n    </tr>\n    <tr>\n      <th>3</th>\n      <td>ID_00077803</td>\n      <td>0</td>\n      <td>20</td>\n      <td>0</td>\n      <td>10</td>\n      <td>0</td>\n      <td>3</td>\n      <td>10</td>\n      <td>59913860</td>\n      <td>1</td>\n      <td>...</td>\n      <td>4</td>\n      <td>4</td>\n      <td>4</td>\n      <td>11</td>\n      <td>1</td>\n      <td>1</td>\n      <td>1</td>\n      <td>1</td>\n      <td>3</td>\n      <td>0</td>\n    </tr>\n    <tr>\n      <th>4</th>\n      <td>ID_00086763</td>\n      <td>0</td>\n      <td>26</td>\n      <td>0</td>\n      <td>10</td>\n      <td>0</td>\n      <td>2</td>\n      <td>5</td>\n      <td>79813828</td>\n      <td>1</td>\n      <td>...</td>\n      <td>4</td>\n      <td>9</td>\n      <td>1</td>\n      <td>11</td>\n      <td>1</td>\n      <td>1</td>\n      <td>1</td>\n      <td>1</td>\n      <td>3</td>\n      <td>0</td>\n    </tr>\n  </tbody>\n</table>\n<p>5 rows × 21 columns</p>\n</div>"
     },
     "metadata": {},
     "execution_count": 8
    }
   ],
   "source": [
    "train_df.head()"
   ]
  },
  {
   "cell_type": "code",
   "execution_count": 9,
   "id": "thorough-virgin",
   "metadata": {},
   "outputs": [
    {
     "output_type": "execute_result",
     "data": {
      "text/plain": [
       "array([8, 7, 1, 4, 5, 0, 2, 6, 3, 9])"
      ]
     },
     "metadata": {},
     "execution_count": 9
    }
   ],
   "source": [
    "train_df.RTH.unique()"
   ]
  },
  {
   "cell_type": "code",
   "execution_count": 10,
   "id": "comprehensive-alabama",
   "metadata": {},
   "outputs": [
    {
     "output_type": "execute_result",
     "data": {
      "text/plain": [
       "98710543"
      ]
     },
     "metadata": {},
     "execution_count": 10
    }
   ],
   "source": [
    "train_df.psu.max()"
   ]
  },
  {
   "cell_type": "markdown",
   "id": "magnetic-nomination",
   "metadata": {},
   "source": [
    "##### Spliting the data\n",
    "- It's always advisable to set aside some data for validating how your model performs. They are various methods of cross validation. In this case we use train-test split module from sklearn.\n",
    "\n",
    "- Try other methods of cross-validation, Kfold, Stratified Fold, etc."
   ]
  },
  {
   "cell_type": "code",
   "execution_count": 11,
   "id": "improving-thompson",
   "metadata": {},
   "outputs": [
    {
     "output_type": "execute_result",
     "data": {
      "text/plain": [
       "102"
      ]
     },
     "metadata": {},
     "execution_count": 11
    }
   ],
   "source": [
    "train_df.age.max()"
   ]
  },
  {
   "cell_type": "code",
   "execution_count": 12,
   "id": "double-christianity",
   "metadata": {},
   "outputs": [],
   "source": [
    "# spliting the data, 70% train set and 30% val set\n",
    "train_set, val_set = train_test_split(train_df,\n",
    "                               test_size=0.30, random_state=2)"
   ]
  },
  {
   "cell_type": "code",
   "execution_count": 13,
   "id": "increased-logic",
   "metadata": {},
   "outputs": [
    {
     "output_type": "execute_result",
     "data": {
      "text/plain": [
       "(5415, 21)"
      ]
     },
     "metadata": {},
     "execution_count": 13
    }
   ],
   "source": [
    "train_set.shape"
   ]
  },
  {
   "cell_type": "code",
   "execution_count": 14,
   "id": "norwegian-daily",
   "metadata": {},
   "outputs": [
    {
     "output_type": "execute_result",
     "data": {
      "text/plain": [
       "(2321, 21)"
      ]
     },
     "metadata": {},
     "execution_count": 14
    }
   ],
   "source": [
    "val_set.shape"
   ]
  },
  {
   "cell_type": "code",
   "execution_count": 15,
   "id": "falling-gardening",
   "metadata": {},
   "outputs": [],
   "source": [
    "X_train_set = train_set.drop([\"target\", \"ID\"], axis=1) # feature columns\n",
    "y_train_set = train_set[\"target\"] # the label/target column"
   ]
  },
  {
   "cell_type": "markdown",
   "id": "binding-coast",
   "metadata": {},
   "source": [
    "##### Model\n",
    "- Create a binary classifier model for training purposes.\n",
    "- Using simple RandomForest Classifier"
   ]
  },
  {
   "cell_type": "code",
   "execution_count": 16,
   "id": "centered-reproduction",
   "metadata": {},
   "outputs": [
    {
     "output_type": "execute_result",
     "data": {
      "text/plain": [
       "RandomForestClassifier()"
      ]
     },
     "metadata": {},
     "execution_count": 16
    }
   ],
   "source": [
    "cls = RandomForestClassifier()\n",
    "cls.fit(X_train_set, y_train_set)"
   ]
  },
  {
   "cell_type": "code",
   "execution_count": 17,
   "id": "abroad-rover",
   "metadata": {},
   "outputs": [
    {
     "output_type": "execute_result",
     "data": {
      "text/plain": [
       "['model.joblib']"
      ]
     },
     "metadata": {},
     "execution_count": 17
    }
   ],
   "source": [
    "# export to \n",
    "import sklearn.externals\n",
    "import joblib\n",
    "\n",
    "joblib.dump(cls, 'model.joblib')"
   ]
  },
  {
   "cell_type": "markdown",
   "id": "physical-occasion",
   "metadata": {},
   "source": [
    "###### 1. validation set\n",
    "- let's see how our classifier performs on the validation dataset"
   ]
  },
  {
   "cell_type": "code",
   "execution_count": 18,
   "id": "median-match",
   "metadata": {},
   "outputs": [],
   "source": [
    "X_val_set = val_set.drop([\"target\", \"ID\"], axis=1)\n",
    "y_val_set = val_set[\"target\"]"
   ]
  },
  {
   "cell_type": "code",
   "execution_count": 19,
   "id": "careful-brake",
   "metadata": {},
   "outputs": [],
   "source": [
    "y_pred = cls.predict(X_val_set)"
   ]
  },
  {
   "cell_type": "markdown",
   "id": "governing-retrieval",
   "metadata": {},
   "source": [
    "###### 2. Error metric\n",
    " - f1 score is the error metric for this competition.\n",
    " - **f1 score** -  "
   ]
  },
  {
   "cell_type": "code",
   "execution_count": 20,
   "id": "arctic-velvet",
   "metadata": {},
   "outputs": [
    {
     "output_type": "execute_result",
     "data": {
      "text/plain": [
       "0.01111111111111111"
      ]
     },
     "metadata": {},
     "execution_count": 20
    }
   ],
   "source": [
    "f1_score(y_val_set, y_pred)"
   ]
  },
  {
   "cell_type": "markdown",
   "id": "prompt-survival",
   "metadata": {},
   "source": [
    "-We have an **f1 score of 0.0294**. Think of other ways to improve the scores like;\n",
    "         \n",
    "  - generate more features\n",
    "  - drop the column that are least important, like gender in this case since we're only dealing with female crime data\n",
    "  - try different classifier models, e.g k-Nearest Neighbor(KNN) classifier, Support Vector Machines, catboost classifier etc"
   ]
  },
  {
   "cell_type": "markdown",
   "id": "intellectual-prospect",
   "metadata": {},
   "source": [
    "#### Submission\n",
    "\n",
    "- generating a sumission file "
   ]
  },
  {
   "cell_type": "markdown",
   "id": "answering-insulation",
   "metadata": {},
   "source": [
    "###### 1. load the test data\n",
    "\n",
    "- Do the same preprocessing performed on the training data"
   ]
  },
  {
   "cell_type": "code",
   "execution_count": 21,
   "id": "major-tattoo",
   "metadata": {},
   "outputs": [],
   "source": [
    "test_df = pd.read_csv(\"Test.csv\")\n",
    "\n",
    "# preprocessing\n",
    "test_df['gender'] = label.fit_transform(test_df['gender'])\n",
    "test_df['race'] = label.fit_transform(test_df['race'])\n",
    "\n",
    "# preprocess all the othe columns as well\n",
    "test_df['dwelling'] = label.fit_transform(test_df['dwelling'])\n",
    "test_df['dwelling_type'] = label.fit_transform(test_df['dwelling_type'])\n",
    "test_df['province_code'] = label.fit_transform(test_df['province_code'])\n",
    "test_df['metro_code'] = label.fit_transform(test_df['metro_code'])\n",
    "test_df['nationality'] = label.fit_transform(test_df['nationality'])\n",
    "test_df['RTH'] = label.fit_transform(test_df['RTH'])\n",
    "test_df['marital_st'] = label.fit_transform(test_df['marital_st'])\n",
    "test_df['Lang_inside'] = label.fit_transform(test_df['Lang_inside'])\n",
    "test_df['Lang_outside'] = label.fit_transform(test_df['Lang_outside'])\n",
    "test_df['Education'] = label.fit_transform(test_df['Education'])\n",
    "test_df['lw_work'] = label.fit_transform(test_df['lw_work'])\n",
    "test_df['lw_business'] = label.fit_transform(test_df['lw_business'])\n",
    "test_df['help_on_household'] = label.fit_transform(test_df['help_on_household'])\n",
    "test_df['job_or_business'] = label.fit_transform(test_df['job_or_business'])\n",
    "test_df['nature_of_work'] = label.fit_transform(test_df['nature_of_work'])"
   ]
  },
  {
   "cell_type": "code",
   "execution_count": 22,
   "id": "realistic-statement",
   "metadata": {},
   "outputs": [
    {
     "output_type": "execute_result",
     "data": {
      "text/plain": [
       "            ID  gender  age  race  dwelling  dwelling_type  province_code  \\\n",
       "0  ID_00241643       0   23     1         1              0              7   \n",
       "1  ID_00312043       0   64     0         1              0              4   \n",
       "2  ID_00345323       0   18     0        11              2              0   \n",
       "3  ID_00369643       0   19     0         1              0              5   \n",
       "4  ID_00381163       0   24     0         1              0              5   \n",
       "\n",
       "   metro_code       psu  nationality  RTH  marital_st  Lang_inside  \\\n",
       "0          13  36410104            1    4           4            0   \n",
       "1          11  97410477            1    4           7            0   \n",
       "2           0  26011572            1    8           4            3   \n",
       "3          12  87710674            1    8           4           12   \n",
       "4          12  87411106            1    4           4            9   \n",
       "\n",
       "   Lang_outside  Education  lw_work  lw_business  help_on_household  \\\n",
       "0             0          8        3            0                  0   \n",
       "1             0         11        1            0                  0   \n",
       "2             3          9        1            0                  0   \n",
       "3             7         11        1            0                  0   \n",
       "4            10          9        1            0                  0   \n",
       "\n",
       "   job_or_business  nature_of_work  \n",
       "0                1               4  \n",
       "1                0               3  \n",
       "2                0               3  \n",
       "3                0               3  \n",
       "4                0               3  "
      ],
      "text/html": "<div>\n<style scoped>\n    .dataframe tbody tr th:only-of-type {\n        vertical-align: middle;\n    }\n\n    .dataframe tbody tr th {\n        vertical-align: top;\n    }\n\n    .dataframe thead th {\n        text-align: right;\n    }\n</style>\n<table border=\"1\" class=\"dataframe\">\n  <thead>\n    <tr style=\"text-align: right;\">\n      <th></th>\n      <th>ID</th>\n      <th>gender</th>\n      <th>age</th>\n      <th>race</th>\n      <th>dwelling</th>\n      <th>dwelling_type</th>\n      <th>province_code</th>\n      <th>metro_code</th>\n      <th>psu</th>\n      <th>nationality</th>\n      <th>RTH</th>\n      <th>marital_st</th>\n      <th>Lang_inside</th>\n      <th>Lang_outside</th>\n      <th>Education</th>\n      <th>lw_work</th>\n      <th>lw_business</th>\n      <th>help_on_household</th>\n      <th>job_or_business</th>\n      <th>nature_of_work</th>\n    </tr>\n  </thead>\n  <tbody>\n    <tr>\n      <th>0</th>\n      <td>ID_00241643</td>\n      <td>0</td>\n      <td>23</td>\n      <td>1</td>\n      <td>1</td>\n      <td>0</td>\n      <td>7</td>\n      <td>13</td>\n      <td>36410104</td>\n      <td>1</td>\n      <td>4</td>\n      <td>4</td>\n      <td>0</td>\n      <td>0</td>\n      <td>8</td>\n      <td>3</td>\n      <td>0</td>\n      <td>0</td>\n      <td>1</td>\n      <td>4</td>\n    </tr>\n    <tr>\n      <th>1</th>\n      <td>ID_00312043</td>\n      <td>0</td>\n      <td>64</td>\n      <td>0</td>\n      <td>1</td>\n      <td>0</td>\n      <td>4</td>\n      <td>11</td>\n      <td>97410477</td>\n      <td>1</td>\n      <td>4</td>\n      <td>7</td>\n      <td>0</td>\n      <td>0</td>\n      <td>11</td>\n      <td>1</td>\n      <td>0</td>\n      <td>0</td>\n      <td>0</td>\n      <td>3</td>\n    </tr>\n    <tr>\n      <th>2</th>\n      <td>ID_00345323</td>\n      <td>0</td>\n      <td>18</td>\n      <td>0</td>\n      <td>11</td>\n      <td>2</td>\n      <td>0</td>\n      <td>0</td>\n      <td>26011572</td>\n      <td>1</td>\n      <td>8</td>\n      <td>4</td>\n      <td>3</td>\n      <td>3</td>\n      <td>9</td>\n      <td>1</td>\n      <td>0</td>\n      <td>0</td>\n      <td>0</td>\n      <td>3</td>\n    </tr>\n    <tr>\n      <th>3</th>\n      <td>ID_00369643</td>\n      <td>0</td>\n      <td>19</td>\n      <td>0</td>\n      <td>1</td>\n      <td>0</td>\n      <td>5</td>\n      <td>12</td>\n      <td>87710674</td>\n      <td>1</td>\n      <td>8</td>\n      <td>4</td>\n      <td>12</td>\n      <td>7</td>\n      <td>11</td>\n      <td>1</td>\n      <td>0</td>\n      <td>0</td>\n      <td>0</td>\n      <td>3</td>\n    </tr>\n    <tr>\n      <th>4</th>\n      <td>ID_00381163</td>\n      <td>0</td>\n      <td>24</td>\n      <td>0</td>\n      <td>1</td>\n      <td>0</td>\n      <td>5</td>\n      <td>12</td>\n      <td>87411106</td>\n      <td>1</td>\n      <td>4</td>\n      <td>4</td>\n      <td>9</td>\n      <td>10</td>\n      <td>9</td>\n      <td>1</td>\n      <td>0</td>\n      <td>0</td>\n      <td>0</td>\n      <td>3</td>\n    </tr>\n  </tbody>\n</table>\n</div>"
     },
     "metadata": {},
     "execution_count": 22
    }
   ],
   "source": [
    "test_df.head()"
   ]
  },
  {
   "cell_type": "code",
   "execution_count": 26,
   "id": "flying-credit",
   "metadata": {},
   "outputs": [],
   "source": [
    "### predict on the test data\n",
    "test_ = test_df.drop([\"ID\"], axis=1)\n",
    "test_predictions = cls.predict_proba(test_)[:,1]\n",
    "submission_df = pd.DataFrame()\n",
    "submission_df[\"ID\"] = test_df[\"ID\"]\n",
    "submission_df[\"target\"] = test_predictions\n",
    "# file\n",
    "submission_df.to_csv(\"submission.csv\", index=False)"
   ]
  },
  {
   "cell_type": "code",
   "execution_count": 24,
   "id": "illegal-shore",
   "metadata": {},
   "outputs": [
    {
     "output_type": "execute_result",
     "data": {
      "text/plain": [
       "array([0, 0, 0, ..., 0, 0, 0])"
      ]
     },
     "metadata": {},
     "execution_count": 24
    }
   ],
   "source": [
    "test_predictions"
   ]
  },
  {
   "cell_type": "code",
   "execution_count": null,
   "id": "geological-screw",
   "metadata": {},
   "outputs": [],
   "source": []
  }
 ],
 "metadata": {
  "kernelspec": {
   "display_name": "Python 3",
   "language": "python",
   "name": "python3"
  },
  "language_info": {
   "codemirror_mode": {
    "name": "ipython",
    "version": 3
   },
   "file_extension": ".py",
   "mimetype": "text/x-python",
   "name": "python",
   "nbconvert_exporter": "python",
   "pygments_lexer": "ipython3",
   "version": "3.7.4-final"
  }
 },
 "nbformat": 4,
 "nbformat_minor": 5
}